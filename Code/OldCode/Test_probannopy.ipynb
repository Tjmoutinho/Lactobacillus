{
 "cells": [
  {
   "cell_type": "code",
   "execution_count": 2,
   "metadata": {},
   "outputs": [],
   "source": [
    "### Test Probannopy"
   ]
  },
  {
   "cell_type": "code",
   "execution_count": 1,
   "metadata": {},
   "outputs": [
    {
     "name": "stdout",
     "output_type": "stream",
     "text": [
      "['', '/home/tjmoutinho/.local/lib/python2.7/site-packages/mackinac-0.8.3-py2.7.egg', '/home/tjmoutinho/.local/lib/python2.7/site-packages/chardet-3.0.4-py2.7.egg', '/home/tjmoutinho/.local/lib/python2.7/site-packages/enum34-1.1.6-py2.7.egg', '/home/tjmoutinho/.local/lib/python2.7/site-packages/idna-2.6-py2.7.egg', '/home/tjmoutinho/.local/lib/python2.7/site-packages/requests-2.18.4-py2.7.egg', '/home/tjmoutinho/.local/lib/python2.7/site-packages/urllib3-1.22-py2.7.egg', '/home/tjmoutinho/.local/lib/python2.7/site-packages/docloud-1.0.257-py2.7.egg', '/home/tjmoutinho/.local/lib/python2.7/site-packages/futures-3.1.1-py2.7.egg', '/home/tjmoutinho/probannopy/probanno', '/usr/lib/python2.7', '/usr/lib/python2.7/plat-x86_64-linux-gnu', '/usr/lib/python2.7/lib-tk', '/usr/lib/python2.7/lib-old', '/usr/lib/python2.7/lib-dynload', '/home/tjmoutinho/.local/lib/python2.7/site-packages', '/usr/local/lib/python2.7/dist-packages', '/usr/lib/python2.7/dist-packages', '/home/tjmoutinho/.local/lib/python2.7/site-packages/IPython/extensions', '/home/tjmoutinho/.ipython']\n"
     ]
    }
   ],
   "source": [
    "import sys\n",
    "print(sys.path)\n",
    "# sys.path.append('~/probannopy/probanno')\n",
    "import probanno"
   ]
  },
  {
   "cell_type": "code",
   "execution_count": 3,
   "metadata": {},
   "outputs": [
    {
     "name": "stdout",
     "output_type": "stream",
     "text": [
      "Config File:  /home/tjmoutinho/probannopy/probanno/deploy.cfg\n",
      "Config Items:  ['ProbAnno-Standalone']\n"
     ]
    },
    {
     "ename": "BlastError",
     "evalue": "Failed to run \"~/probannopy/probanno/usearch10.0.240_i86linux32\": No such file or directory",
     "output_type": "error",
     "traceback": [
      "\u001b[0;31m---------------------------------------------------------------------------\u001b[0m",
      "\u001b[0;31mBlastError\u001b[0m                                Traceback (most recent call last)",
      "\u001b[0;32m<ipython-input-3-3ba3edd63ded>\u001b[0m in \u001b[0;36m<module>\u001b[0;34m()\u001b[0m\n\u001b[0;32m----> 1\u001b[0;31m \u001b[0mprobanno\u001b[0m\u001b[0;34m.\u001b[0m\u001b[0mgenerate_reaction_probabilities\u001b[0m\u001b[0;34m(\u001b[0m\u001b[0;34m'../fastas/1002365.5.faa'\u001b[0m\u001b[0;34m,\u001b[0m \u001b[0;34m'../Data/GramPositive.json'\u001b[0m\u001b[0;34m,\u001b[0m \u001b[0mgenome_id\u001b[0m\u001b[0;34m=\u001b[0m\u001b[0;34m'1002365.5'\u001b[0m\u001b[0;34m)\u001b[0m\u001b[0;34m\u001b[0m\u001b[0m\n\u001b[0m",
      "\u001b[0;32m/home/tjmoutinho/probannopy/probanno/probanno.pyc\u001b[0m in \u001b[0;36mgenerate_reaction_probabilities\u001b[0;34m(fasta_file, template_model_file, genome_id)\u001b[0m\n\u001b[1;32m     76\u001b[0m \u001b[0;34m\u001b[0m\u001b[0m\n\u001b[1;32m     77\u001b[0m         \u001b[0;31m# Run blast using the fasta file.\u001b[0m\u001b[0;34m\u001b[0m\u001b[0;34m\u001b[0m\u001b[0m\n\u001b[0;32m---> 78\u001b[0;31m         \u001b[0mblast_result_file\u001b[0m \u001b[0;34m=\u001b[0m \u001b[0mworker\u001b[0m\u001b[0;34m.\u001b[0m\u001b[0mrunBlast\u001b[0m\u001b[0;34m(\u001b[0m\u001b[0mfasta_file\u001b[0m\u001b[0;34m)\u001b[0m\u001b[0;34m\u001b[0m\u001b[0m\n\u001b[0m\u001b[1;32m     79\u001b[0m \u001b[0;34m\u001b[0m\u001b[0m\n\u001b[1;32m     80\u001b[0m         \u001b[0;31m# Calculate roleset probabilities.\u001b[0m\u001b[0;34m\u001b[0m\u001b[0;34m\u001b[0m\u001b[0m\n",
      "\u001b[0;32m/home/tjmoutinho/probannopy/probanno/lib/ProbAnnotationWorker.pyc\u001b[0m in \u001b[0;36mrunBlast\u001b[0;34m(self, queryFile)\u001b[0m\n\u001b[1;32m    163\u001b[0m         \u001b[0;32mexcept\u001b[0m \u001b[0mOSError\u001b[0m \u001b[0;32mas\u001b[0m \u001b[0me\u001b[0m\u001b[0;34m:\u001b[0m\u001b[0;34m\u001b[0m\u001b[0m\n\u001b[1;32m    164\u001b[0m             \u001b[0mmessage\u001b[0m \u001b[0;34m=\u001b[0m \u001b[0;34m'Failed to run \"%s\": %s'\u001b[0m \u001b[0;34m%\u001b[0m\u001b[0;34m(\u001b[0m\u001b[0margs\u001b[0m\u001b[0;34m[\u001b[0m\u001b[0;36m0\u001b[0m\u001b[0;34m]\u001b[0m\u001b[0;34m,\u001b[0m \u001b[0me\u001b[0m\u001b[0;34m.\u001b[0m\u001b[0mstrerror\u001b[0m\u001b[0;34m)\u001b[0m\u001b[0;34m\u001b[0m\u001b[0m\n\u001b[0;32m--> 165\u001b[0;31m             \u001b[0;32mraise\u001b[0m \u001b[0mBlastError\u001b[0m\u001b[0;34m(\u001b[0m\u001b[0mmessage\u001b[0m\u001b[0;34m)\u001b[0m\u001b[0;34m\u001b[0m\u001b[0m\n\u001b[0m\u001b[1;32m    166\u001b[0m         \u001b[0mself\u001b[0m\u001b[0;34m.\u001b[0m\u001b[0m_log\u001b[0m\u001b[0;34m(\u001b[0m\u001b[0mlogging\u001b[0m\u001b[0;34m.\u001b[0m\u001b[0mINFO\u001b[0m\u001b[0;34m,\u001b[0m \u001b[0;34m'Finished protein search'\u001b[0m\u001b[0;34m)\u001b[0m\u001b[0;34m\u001b[0m\u001b[0m\n\u001b[1;32m    167\u001b[0m \u001b[0;34m\u001b[0m\u001b[0m\n",
      "\u001b[0;31mBlastError\u001b[0m: Failed to run \"~/probannopy/probanno/usearch10.0.240_i86linux32\": No such file or directory"
     ]
    }
   ],
   "source": [
    "probanno.generate_reaction_probabilities('../fastas/1002365.5.faa', '../Data/GramPositive.json', genome_id='1002365.5')"
   ]
  },
  {
   "cell_type": "code",
   "execution_count": null,
   "metadata": {},
   "outputs": [],
   "source": []
  }
 ],
 "metadata": {
  "kernelspec": {
   "display_name": "Python 2",
   "language": "python",
   "name": "python2"
  },
  "language_info": {
   "codemirror_mode": {
    "name": "ipython",
    "version": 2
   },
   "file_extension": ".py",
   "mimetype": "text/x-python",
   "name": "python",
   "nbconvert_exporter": "python",
   "pygments_lexer": "ipython2",
   "version": "2.7.12"
  }
 },
 "nbformat": 4,
 "nbformat_minor": 2
}
