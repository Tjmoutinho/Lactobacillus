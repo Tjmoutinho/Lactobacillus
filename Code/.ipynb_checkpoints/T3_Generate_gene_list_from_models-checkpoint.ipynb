{
 "cells": [
  {
   "cell_type": "code",
   "execution_count": 1,
   "metadata": {},
   "outputs": [],
   "source": [
    "import cobra\n",
    "import glob\n",
    "import pickle\n",
    "import os\n",
    "import re\n",
    "import json"
   ]
  },
  {
   "cell_type": "code",
   "execution_count": 2,
   "metadata": {},
   "outputs": [],
   "source": [
    "# Read in model_path names\n",
    "model_paths = glob.glob('/home/bneubert/Lactobacillus/gap_models/*.xml')"
   ]
  },
  {
   "cell_type": "code",
   "execution_count": 4,
   "metadata": {},
   "outputs": [],
   "source": [
    "#model_paths\n",
    "#model_x = cobra.io.read_sbml_model(model_paths[1])"
   ]
  },
  {
   "cell_type": "code",
   "execution_count": 5,
   "metadata": {},
   "outputs": [],
   "source": [
    "# takes a list of patric_id's(list of lists, first list is by genome, second by feature) and uses the feature file \n",
    "# to pull out the pgfam_id\n",
    "# outputs a dictionary with patric_ids linked to their pgfam_ids\n",
    "def pgfam_finder(feature_master):\n",
    "    \n",
    "    output = {}\n",
    "    # create blank dictionary of keys for every genomic feature in the input list\n",
    "    for genome_id in feature_master:\n",
    "        for id in genome_id:\n",
    "            output[id] = ''\n",
    "\n",
    "    # create regular expression to identify the genome id from the patric id of the genomic feature\n",
    "    test = re.compile('(\\d+)\\.\\d+\\.')\n",
    "    \n",
    "    # variables used for % complete calculation\n",
    "    total = len(feature_master) \n",
    "    count = 0.0\n",
    "    prev = -1\n",
    "    \n",
    "    # find associated protein families for every genomic feature within the models\n",
    "    # start cycle through first genome\n",
    "    for genome_id in feature_master:\n",
    "        # open feature file via associated genome through regular expression\n",
    "        temp = pickle.load(open('/home/bneubert/Lactobacillus/features/'+ test.match(genome_id[1]).group()+'feats'))\n",
    "        # cycle through features in this genome\n",
    "        for feature_id in genome_id:\n",
    "            # check every feature in the feature file for this feature to find associated protein family\n",
    "            for i in range(0,len(temp)):\n",
    "                \n",
    "                if(('fig|'+str(feature_id)) == str(temp[i]['patric_id'])):  \n",
    "                        # if this has a protein family associated with it, add this to the dict\n",
    "                        if('pgfam_id' in temp[i].keys()):\n",
    "                            # only ever single family values so can use dict mapping string to string\n",
    "                            output[str(feature_id)] = str(temp[i]['pgfam_id'])\n",
    "                        # if there is not an associated protein family, then add a blank string\n",
    "                        else:\n",
    "                            output[str(feature_id)] = ''\n",
    "        count += 1\n",
    "        # if we have changed by a percentage point then update the status\n",
    "        if (int(count/total*100) > prev):\n",
    "            prev = int(count/total*100)\n",
    "            print(\"Status: \"+str(prev)+\"% complete finding protein families\")\n",
    "    \n",
    "    return output"
   ]
  },
  {
   "cell_type": "code",
   "execution_count": 6,
   "metadata": {},
   "outputs": [
    {
     "name": "stdout",
     "output_type": "stream",
     "text": [
      "Status: 0% complete finding genes present in models\n",
      "Status: 1% complete finding genes present in models\n",
      "Status: 2% complete finding genes present in models\n",
      "Status: 3% complete finding genes present in models\n",
      "Status: 4% complete finding genes present in models\n",
      "Status: 5% complete finding genes present in models\n",
      "Status: 6% complete finding genes present in models\n",
      "Status: 7% complete finding genes present in models\n",
      "Status: 8% complete finding genes present in models\n",
      "Status: 9% complete finding genes present in models\n",
      "Status: 10% complete finding genes present in models\n",
      "Status: 11% complete finding genes present in models\n",
      "Status: 12% complete finding genes present in models\n",
      "Status: 13% complete finding genes present in models\n",
      "Status: 14% complete finding genes present in models\n",
      "Status: 15% complete finding genes present in models\n",
      "Status: 16% complete finding genes present in models\n",
      "Status: 17% complete finding genes present in models\n",
      "Status: 18% complete finding genes present in models\n",
      "Status: 19% complete finding genes present in models\n",
      "Status: 20% complete finding genes present in models\n",
      "Status: 21% complete finding genes present in models\n",
      "Status: 22% complete finding genes present in models\n",
      "Status: 23% complete finding genes present in models\n",
      "Status: 24% complete finding genes present in models\n",
      "Status: 25% complete finding genes present in models\n",
      "Status: 26% complete finding genes present in models\n",
      "Status: 27% complete finding genes present in models\n",
      "Status: 28% complete finding genes present in models\n",
      "Status: 29% complete finding genes present in models\n",
      "Status: 30% complete finding genes present in models\n",
      "Status: 31% complete finding genes present in models\n",
      "Status: 32% complete finding genes present in models\n",
      "Status: 33% complete finding genes present in models\n",
      "Status: 34% complete finding genes present in models\n",
      "Status: 35% complete finding genes present in models\n",
      "Status: 36% complete finding genes present in models\n",
      "Status: 37% complete finding genes present in models\n",
      "Status: 38% complete finding genes present in models\n",
      "Status: 39% complete finding genes present in models\n",
      "Status: 40% complete finding genes present in models\n",
      "Status: 41% complete finding genes present in models\n",
      "Status: 42% complete finding genes present in models\n",
      "Status: 43% complete finding genes present in models\n",
      "Status: 44% complete finding genes present in models\n",
      "Status: 45% complete finding genes present in models\n",
      "Status: 46% complete finding genes present in models\n",
      "Status: 47% complete finding genes present in models\n",
      "Status: 48% complete finding genes present in models\n",
      "Status: 49% complete finding genes present in models\n",
      "Status: 50% complete finding genes present in models\n",
      "Status: 51% complete finding genes present in models\n",
      "Status: 52% complete finding genes present in models\n",
      "Status: 53% complete finding genes present in models\n",
      "Status: 54% complete finding genes present in models\n",
      "Status: 55% complete finding genes present in models\n",
      "Status: 56% complete finding genes present in models\n",
      "Status: 57% complete finding genes present in models\n",
      "Status: 58% complete finding genes present in models\n",
      "Status: 59% complete finding genes present in models\n",
      "Status: 60% complete finding genes present in models\n",
      "Status: 61% complete finding genes present in models\n",
      "Status: 62% complete finding genes present in models\n",
      "Status: 63% complete finding genes present in models\n",
      "Status: 64% complete finding genes present in models\n",
      "Status: 65% complete finding genes present in models\n",
      "Status: 66% complete finding genes present in models\n",
      "Status: 67% complete finding genes present in models\n",
      "Status: 68% complete finding genes present in models\n",
      "Status: 69% complete finding genes present in models\n",
      "Status: 70% complete finding genes present in models\n",
      "Status: 71% complete finding genes present in models\n",
      "Status: 72% complete finding genes present in models\n",
      "Status: 73% complete finding genes present in models\n",
      "Status: 74% complete finding genes present in models\n",
      "Status: 75% complete finding genes present in models\n",
      "Status: 76% complete finding genes present in models\n",
      "Status: 77% complete finding genes present in models\n",
      "Status: 78% complete finding genes present in models\n",
      "Status: 79% complete finding genes present in models\n",
      "Status: 80% complete finding genes present in models\n",
      "Status: 81% complete finding genes present in models\n",
      "Status: 82% complete finding genes present in models\n",
      "Status: 83% complete finding genes present in models\n",
      "Status: 84% complete finding genes present in models\n",
      "Status: 85% complete finding genes present in models\n",
      "Status: 86% complete finding genes present in models\n",
      "Status: 87% complete finding genes present in models\n",
      "Status: 88% complete finding genes present in models\n",
      "Status: 89% complete finding genes present in models\n",
      "Status: 90% complete finding genes present in models\n",
      "Status: 91% complete finding genes present in models\n",
      "Status: 92% complete finding genes present in models\n",
      "Status: 93% complete finding genes present in models\n",
      "Status: 94% complete finding genes present in models\n",
      "Status: 95% complete finding genes present in models\n",
      "Status: 96% complete finding genes present in models\n",
      "Status: 97% complete finding genes present in models\n",
      "Status: 98% complete finding genes present in models\n",
      "Status: 99% complete finding genes present in models\n",
      "Status: 100% complete finding genes present in models\n",
      "Status: 0% complete finding protein families\n",
      "Status: 1% complete finding protein families\n",
      "Status: 2% complete finding protein families\n",
      "Status: 3% complete finding protein families\n",
      "Status: 4% complete finding protein families\n",
      "Status: 5% complete finding protein families\n",
      "Status: 6% complete finding protein families\n",
      "Status: 7% complete finding protein families\n",
      "Status: 8% complete finding protein families\n",
      "Status: 9% complete finding protein families\n",
      "Status: 10% complete finding protein families\n",
      "Status: 11% complete finding protein families\n",
      "Status: 12% complete finding protein families\n",
      "Status: 13% complete finding protein families\n",
      "Status: 14% complete finding protein families\n",
      "Status: 15% complete finding protein families\n",
      "Status: 16% complete finding protein families\n",
      "Status: 17% complete finding protein families\n",
      "Status: 18% complete finding protein families\n",
      "Status: 19% complete finding protein families\n",
      "Status: 20% complete finding protein families\n",
      "Status: 21% complete finding protein families\n",
      "Status: 22% complete finding protein families\n",
      "Status: 23% complete finding protein families\n",
      "Status: 24% complete finding protein families\n",
      "Status: 25% complete finding protein families\n",
      "Status: 26% complete finding protein families\n",
      "Status: 27% complete finding protein families\n",
      "Status: 28% complete finding protein families\n",
      "Status: 29% complete finding protein families\n",
      "Status: 30% complete finding protein families\n",
      "Status: 31% complete finding protein families\n",
      "Status: 32% complete finding protein families\n",
      "Status: 33% complete finding protein families\n",
      "Status: 34% complete finding protein families\n",
      "Status: 35% complete finding protein families\n",
      "Status: 36% complete finding protein families\n",
      "Status: 37% complete finding protein families\n",
      "Status: 38% complete finding protein families\n",
      "Status: 39% complete finding protein families\n",
      "Status: 40% complete finding protein families\n",
      "Status: 41% complete finding protein families\n",
      "Status: 42% complete finding protein families\n",
      "Status: 43% complete finding protein families\n",
      "Status: 44% complete finding protein families\n",
      "Status: 45% complete finding protein families\n",
      "Status: 46% complete finding protein families\n",
      "Status: 47% complete finding protein families\n",
      "Status: 48% complete finding protein families\n",
      "Status: 49% complete finding protein families\n",
      "Status: 50% complete finding protein families\n",
      "Status: 51% complete finding protein families\n",
      "Status: 52% complete finding protein families\n",
      "Status: 53% complete finding protein families\n",
      "Status: 54% complete finding protein families\n",
      "Status: 55% complete finding protein families\n",
      "Status: 56% complete finding protein families\n",
      "Status: 57% complete finding protein families\n",
      "Status: 58% complete finding protein families\n",
      "Status: 59% complete finding protein families\n",
      "Status: 60% complete finding protein families\n",
      "Status: 61% complete finding protein families\n",
      "Status: 62% complete finding protein families\n"
     ]
    },
    {
     "name": "stdout",
     "output_type": "stream",
     "text": [
      "Status: 63% complete finding protein families\n",
      "Status: 64% complete finding protein families\n",
      "Status: 65% complete finding protein families\n",
      "Status: 66% complete finding protein families\n",
      "Status: 67% complete finding protein families\n",
      "Status: 68% complete finding protein families\n",
      "Status: 69% complete finding protein families\n",
      "Status: 70% complete finding protein families\n",
      "Status: 71% complete finding protein families\n",
      "Status: 72% complete finding protein families\n",
      "Status: 73% complete finding protein families\n",
      "Status: 74% complete finding protein families\n",
      "Status: 75% complete finding protein families\n",
      "Status: 76% complete finding protein families\n",
      "Status: 77% complete finding protein families\n",
      "Status: 78% complete finding protein families\n",
      "Status: 79% complete finding protein families\n",
      "Status: 80% complete finding protein families\n",
      "Status: 81% complete finding protein families\n",
      "Status: 82% complete finding protein families\n",
      "Status: 83% complete finding protein families\n",
      "Status: 84% complete finding protein families\n",
      "Status: 85% complete finding protein families\n",
      "Status: 86% complete finding protein families\n",
      "Status: 87% complete finding protein families\n",
      "Status: 88% complete finding protein families\n",
      "Status: 89% complete finding protein families\n",
      "Status: 90% complete finding protein families\n",
      "Status: 91% complete finding protein families\n",
      "Status: 92% complete finding protein families\n",
      "Status: 93% complete finding protein families\n",
      "Status: 94% complete finding protein families\n",
      "Status: 95% complete finding protein families\n",
      "Status: 96% complete finding protein families\n",
      "Status: 97% complete finding protein families\n",
      "Status: 98% complete finding protein families\n",
      "Status: 99% complete finding protein families\n",
      "Status: 100% complete finding protein families\n"
     ]
    }
   ],
   "source": [
    "total_genes = []\n",
    "counter = 0.0\n",
    "prev = -1\n",
    "total = len(model_paths)\n",
    "# create a list of all the genes within the models\n",
    "# list of lists, initial list by genome and inner list is full of features within that genome\n",
    "for model_path in model_paths:\n",
    "    model_x = cobra.io.read_sbml_model(model_path)\n",
    "    temp = []\n",
    "    for gene in model_x.genes:\n",
    "        temp.append(gene.id)\n",
    "    total_genes.append(temp)\n",
    "    counter += 1\n",
    "    # if the status has changed by a percentage point then update status\n",
    "    if (int(counter/total*100) > prev):\n",
    "        prev = int(counter/total*100)\n",
    "        print(\"Status: \"+str(prev)+\"% complete finding genes present in models\")\n",
    "#     use this  to test a smaller portion the models\n",
    "#     if( counter is 5):\n",
    "#         break\n",
    "\n",
    "# run function for genes within the models\n",
    "total_families = pgfam_finder(total_genes)  "
   ]
  },
  {
   "cell_type": "code",
   "execution_count": 8,
   "metadata": {},
   "outputs": [],
   "source": [
    "#total_families"
   ]
  },
  {
   "cell_type": "code",
   "execution_count": 11,
   "metadata": {},
   "outputs": [
    {
     "data": {
      "text/plain": [
       "811608"
      ]
     },
     "execution_count": 11,
     "metadata": {},
     "output_type": "execute_result"
    }
   ],
   "source": [
    "len(total_families)"
   ]
  },
  {
   "cell_type": "code",
   "execution_count": 12,
   "metadata": {},
   "outputs": [
    {
     "name": "stdout",
     "output_type": "stream",
     "text": [
      "Feature id: rast, Family id: \n",
      "Feature id: rast|0.CDS.1, Family id: \n",
      "Feature id: 0.CDS.1, Family id: \n"
     ]
    }
   ],
   "source": [
    "# perhaps add genome name in future?? any other worthwhile information from the original pickle objects?\n",
    "counter = 0\n",
    "new_total = []\n",
    "test = re.compile('(\\d+)\\.\\d+')\n",
    "\n",
    "# for every feature in the model features list, change its format to the same as the .features files output by mackinac\n",
    "# so that processing does not need to be changed \n",
    "for feature, family in total_families.items():\n",
    "    temp = {}\n",
    "    pattern = test.match(feature)\n",
    "    if(pattern is not None ):\n",
    "        temp[unicode('patric_id')] = unicode('fig|'+feature)\n",
    "        temp[unicode('genome_id')] = unicode(pattern.group())\n",
    "        temp[unicode('pgfam_id')] = unicode(family)\n",
    "        new_total.append(temp)\n",
    "    else: \n",
    "        print(\"Feature id: \"+ str(feature)+\", Family id: \"+str(family))\n",
    "\n",
    "    counter += 1\n",
    "#     if (counter is 3):\n",
    "#         break"
   ]
  },
  {
   "cell_type": "code",
   "execution_count": 13,
   "metadata": {},
   "outputs": [
    {
     "data": {
      "text/plain": [
       "811605"
      ]
     },
     "execution_count": 13,
     "metadata": {},
     "output_type": "execute_result"
    }
   ],
   "source": [
    "len(new_total)"
   ]
  },
  {
   "cell_type": "code",
   "execution_count": 14,
   "metadata": {},
   "outputs": [],
   "source": [
    "file_name = \"/home/bneubert/Lactobacillus/Data/model.features\""
   ]
  },
  {
   "cell_type": "code",
   "execution_count": 15,
   "metadata": {},
   "outputs": [],
   "source": [
    "new_list = sorted(new_total,key=lambda k: k[unicode('genome_id')])"
   ]
  },
  {
   "cell_type": "code",
   "execution_count": 21,
   "metadata": {},
   "outputs": [],
   "source": [
    "#new_list"
   ]
  },
  {
   "cell_type": "code",
   "execution_count": 17,
   "metadata": {},
   "outputs": [
    {
     "data": {
      "text/plain": [
       "[<Gene 1579.60.peg.21 at 0x7f0d2278be10>,\n",
       " <Gene 1579.60.peg.16 at 0x7f0d2278bf10>,\n",
       " <Gene 1579.60.peg.11 at 0x7f0d2278b5d0>]"
      ]
     },
     "execution_count": 17,
     "metadata": {},
     "output_type": "execute_result"
    }
   ],
   "source": [
    "test_model = cobra.io.read_sbml_model('/home/bneubert/Lactobacillus/gap_models/1579.60.xml')\n",
    "test_model.genes"
   ]
  },
  {
   "cell_type": "code",
   "execution_count": 23,
   "metadata": {},
   "outputs": [
    {
     "data": {
      "text/plain": [
       "[239406, 239407, 239408]"
      ]
     },
     "execution_count": 23,
     "metadata": {},
     "output_type": "execute_result"
    }
   ],
   "source": [
    "# identify indices with bad model to remove\n",
    "to_remove = []\n",
    "index = 0\n",
    "\n",
    "for feature in new_list:\n",
    "    if(feature[unicode('genome_id')] == unicode('1579.60')):\n",
    "        to_remove.append(index)\n",
    "    \n",
    "    index += 1\n",
    "to_remove"
   ]
  },
  {
   "cell_type": "code",
   "execution_count": 24,
   "metadata": {},
   "outputs": [
    {
     "data": {
      "text/plain": [
       "811602"
      ]
     },
     "execution_count": 24,
     "metadata": {},
     "output_type": "execute_result"
    }
   ],
   "source": [
    "# remove bad model\n",
    "del new_list[239406:239409]\n",
    "len(new_list)"
   ]
  },
  {
   "cell_type": "code",
   "execution_count": 25,
   "metadata": {},
   "outputs": [
    {
     "data": {
      "text/plain": [
       "[]"
      ]
     },
     "execution_count": 25,
     "metadata": {},
     "output_type": "execute_result"
    }
   ],
   "source": [
    "# double check that the bad model was removed\n",
    "to_remove = []\n",
    "index = 0\n",
    "\n",
    "for feature in new_list:\n",
    "    if(feature[unicode('genome_id')] == unicode('1579.60')):\n",
    "        to_remove.append(index)\n",
    "    \n",
    "    index += 1\n",
    "to_remove"
   ]
  },
  {
   "cell_type": "code",
   "execution_count": 27,
   "metadata": {},
   "outputs": [],
   "source": [
    "# save feature file as json with bad model removed\n",
    "json.dump(new_list, open(file_name, \"wb\"))"
   ]
  },
  {
   "cell_type": "code",
   "execution_count": null,
   "metadata": {},
   "outputs": [],
   "source": []
  }
 ],
 "metadata": {
  "kernelspec": {
   "display_name": "Mackinac_Python27",
   "language": "python",
   "name": "mackinac_python27"
  },
  "language_info": {
   "codemirror_mode": {
    "name": "ipython",
    "version": 2
   },
   "file_extension": ".py",
   "mimetype": "text/x-python",
   "name": "python",
   "nbconvert_exporter": "python",
   "pygments_lexer": "ipython2",
   "version": "2.7.12"
  }
 },
 "nbformat": 4,
 "nbformat_minor": 2
}
