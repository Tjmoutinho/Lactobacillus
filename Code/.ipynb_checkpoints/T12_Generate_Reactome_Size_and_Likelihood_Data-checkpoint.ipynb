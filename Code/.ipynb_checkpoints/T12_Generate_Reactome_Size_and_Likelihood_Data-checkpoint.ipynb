{
 "cells": [
  {
   "cell_type": "code",
   "execution_count": 1,
   "metadata": {},
   "outputs": [],
   "source": [
    "import pickle\n",
    "import numpy as np\n",
    "import matplotlib.pyplot as plt\n",
    "import glob\n",
    "import time\n",
    "import sys\n",
    "import cobra"
   ]
  },
  {
   "cell_type": "code",
   "execution_count": 4,
   "metadata": {},
   "outputs": [
    {
     "name": "stdout",
     "output_type": "stream",
     "text": [
      "2059.0seconds to complete\n"
     ]
    }
   ],
   "source": [
    "# Create TSV for mean/median genome likelihood values\n",
    "t = time.time()\n",
    "\n",
    "# genome_ids = glob.glob('../metabolic_output/*.data')\n",
    "# genome_ids = [x.replace(\"../metabolic_output/\",\"\").replace(\".data\",\"\") for x in genome_ids]\n",
    "genome_ids = pickle.load(open(\"../Data/Filtered_lacto_genome_ids.data\", \"rb\"))\n",
    "\n",
    "# sys.stdout.write('Loading in model...')\n",
    "\n",
    "output_file = '../Data/genome_likelihoods.tsv'\n",
    "\n",
    "output_file = open(output_file, 'w')\n",
    "header = 'genomes\\t' + 'mean\\t' + 'median\\n'\n",
    "output_file.write(header)\n",
    "\n",
    "for genome_id in genome_ids:\n",
    "    try:\n",
    "        model = cobra.io.read_sbml_model('../gap_models/'+ genome_id +'.xml')\n",
    "        likelihoods = pickle.load(open('../likelihoods/'+ genome_id +'.probs'))\n",
    "        model.reactions.get_by_id('rxn05319_c').name = \"Water transport\"\n",
    "        model.reactions.get_by_id('rxn05319_c').bounds = (-1000., 1000.)\n",
    "        ### Set Up Model: remove low likelihood reactions\n",
    "        low_like_model = []\n",
    "        for rxn in model.reactions:\n",
    "            if rxn.id.startswith('rxn'):\n",
    "                try:\n",
    "                    if likelihoods[rxn.id] <= 0.1:\n",
    "                        low_like_model.append(rxn.id)\n",
    "                except:\n",
    "                    pass\n",
    "        model_rxns_to_remove = [model.reactions.get_by_id(rxn) for rxn in low_like_model]\n",
    "        model.remove_reactions(model_rxns_to_remove)\n",
    "        # Generate list of likelihoods for all reactions in model\n",
    "        model_rxn_likes = []\n",
    "        for rxn in model.reactions:\n",
    "            try:\n",
    "                model_rxn_likes.append(likelihoods[rxn.id])\n",
    "            except:\n",
    "                pass\n",
    "        # Write info to tsv file\n",
    "        output_file.write(genome_id + '\\t')\n",
    "        output_file.write(str(np.mean(model_rxn_likes)) + '\\t')\n",
    "        output_file.write(str(np.median(model_rxn_likes)) + '\\n')\n",
    "    except:\n",
    "        continue\n",
    "\n",
    "print(str(round(time.time() - t)) + 'seconds to complete')"
   ]
  },
  {
   "cell_type": "code",
   "execution_count": 5,
   "metadata": {},
   "outputs": [
    {
     "name": "stdout",
     "output_type": "stream",
     "text": [
      "2080.0seconds to complete\n"
     ]
    }
   ],
   "source": [
    "# Create TSV for genome size\n",
    "t = time.time()\n",
    "\n",
    "# genome_ids = glob.glob('../metabolic_output/*.data')\n",
    "# genome_ids = [x.replace(\"../metabolic_output/\",\"\").replace(\".data\",\"\") for x in genome_ids]\n",
    "genome_ids = pickle.load(open(\"../Data/Filtered_lacto_genome_ids.data\", \"rb\"))\n",
    "\n",
    "# sys.stdout.write('Loading in model...')\n",
    "\n",
    "output_file = '../Data/genome_sizes.tsv'  \n",
    "\n",
    "output_file = open(output_file, 'w')\n",
    "header = 'genomes\\t' + 'size\\t' + 'placeholder\\n'\n",
    "output_file.write(header)\n",
    "\n",
    "for genome_id in genome_ids:\n",
    "    try:\n",
    "        model = cobra.io.read_sbml_model('../gap_models/'+ genome_id +'.xml')\n",
    "        likelihoods = pickle.load(open('../likelihoods/'+ genome_id +'.probs'))\n",
    "        model.reactions.get_by_id('rxn05319_c').name = \"Water transport\"\n",
    "        model.reactions.get_by_id('rxn05319_c').bounds = (-1000., 1000.)\n",
    "        ### Set Up Model: remove low likelihood reactions\n",
    "        low_like_model = []\n",
    "        for rxn in model.reactions:\n",
    "            if rxn.id.startswith('rxn'):\n",
    "                try:\n",
    "                    if likelihoods[rxn.id] <= 0.1:\n",
    "                        low_like_model.append(rxn.id)\n",
    "                except:\n",
    "                    pass\n",
    "        model_rxns_to_remove = [model.reactions.get_by_id(rxn) for rxn in low_like_model]\n",
    "        model.remove_reactions(model_rxns_to_remove)\n",
    "\n",
    "        # Write info to tsv file\n",
    "        output_file.write(genome_id + '\\t')\n",
    "        output_file.write(str(len(model.reactions)) + '\\t')\n",
    "        output_file.write('0\\n')\n",
    "    except:\n",
    "        continue\n",
    "\n",
    "print(str(round(time.time() - t)) + 'seconds to complete')"
   ]
  },
  {
   "cell_type": "code",
   "execution_count": 32,
   "metadata": {},
   "outputs": [
    {
     "name": "stdout",
     "output_type": "stream",
     "text": [
      "21.0seconds to complete\n"
     ]
    }
   ],
   "source": [
    "# Stats by reaction\n",
    "t = time.time()\n",
    "genome_ids = pickle.load(open(\"../Data/Filtered_lacto_genome_ids.data\", \"rb\"))\n",
    "\n",
    "output_file = '../Data/reaction_likelihoods_all_genomes.tsv'  \n",
    "\n",
    "output_file = open(output_file, 'w')\n",
    "likelihoods = pickle.load(open('../likelihoods_py3/'+ genome_ids[0] +'.probs'))\n",
    "rxn_list = likelihoods.keys()\n",
    "\n",
    "header = 'genome_id\\t'\n",
    "for n in range(0,len(likelihoods.keys())):\n",
    "    header = header + str(likelihoods.keys()[n]) + '\\t'\n",
    "header = header + 'placeholder\\n'\n",
    "output_file.write(header)\n",
    "\n",
    "for genome_id in genome_ids:\n",
    "    if not genome_id == '1590.482':\n",
    "        likelihoods = pickle.load(open('../likelihoods_py3/'+ genome_id +'.probs'))\n",
    "        output_file.write(genome_id + '\\t')\n",
    "        for rxn in rxn_list:\n",
    "            output_file.write(str(likelihoods[rxn]) + '\\t')\n",
    "        output_file.write('0\\n')\n",
    "\n",
    "print(str(round(time.time() - t)) + 'seconds to complete')"
   ]
  },
  {
   "cell_type": "code",
   "execution_count": 30,
   "metadata": {},
   "outputs": [],
   "source": [
    "# one genome does not have reaction likelihoods\n",
    "for genome_id in genome_ids:\n",
    "    if not genome_id == '1590.482':\n",
    "        try:\n",
    "            likelihoods = pickle.load(open('../likelihoods_py3/'+ genome_id +'.probs'))\n",
    "        except:\n",
    "            print(genome_id)"
   ]
  },
  {
   "cell_type": "code",
   "execution_count": null,
   "metadata": {},
   "outputs": [],
   "source": [
    "# Look into reactions with greatest median values to find examples to use\n",
    "\n",
    "# load universal model\n",
    "# read ../Data/reaction_medians.csv\n",
    "# print list of reaction names and reaction median likelihoods\n",
    "# "
   ]
  },
  {
   "cell_type": "code",
   "execution_count": null,
   "metadata": {},
   "outputs": [],
   "source": [
    "\n",
    "\n",
    "\n",
    "\n",
    "\n",
    "\n",
    "\n",
    "\n",
    "\n",
    "\n",
    "\n",
    "\n",
    "\n",
    "\n",
    "\n",
    "\n",
    "\n",
    "\n",
    "\n",
    "\n",
    "\n",
    "\n",
    "\n",
    "\n",
    "\n",
    "\n",
    "\n",
    "\n",
    "\n",
    "\n",
    "\n",
    "\n",
    "\n",
    "\n",
    "\n",
    "\n",
    "\n",
    "\n",
    "\n",
    "\n",
    "\n",
    "\n",
    "\n"
   ]
  }
 ],
 "metadata": {
  "kernelspec": {
   "display_name": "Python 2",
   "language": "python",
   "name": "python2"
  },
  "language_info": {
   "codemirror_mode": {
    "name": "ipython",
    "version": 2
   },
   "file_extension": ".py",
   "mimetype": "text/x-python",
   "name": "python",
   "nbconvert_exporter": "python",
   "pygments_lexer": "ipython2",
   "version": "2.7.12"
  }
 },
 "nbformat": 4,
 "nbformat_minor": 2
}
