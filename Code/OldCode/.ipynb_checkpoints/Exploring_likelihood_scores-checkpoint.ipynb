{
 "cells": [
  {
   "cell_type": "code",
   "execution_count": 2,
   "metadata": {},
   "outputs": [],
   "source": [
    "from __future__ import print_function\n",
    "\n",
    "import cobra\n",
    "import cobra.test\n",
    "# import mackinac\n",
    "import numpy as np\n",
    "import csv\n",
    "import glob\n",
    "import pickle\n",
    "import pandas as pd\n",
    "import time\n",
    "import sys\n",
    "from collections import defaultdict\n",
    "from cobra.flux_analysis import gapfill\n",
    "from cobra.flux_analysis import pfba\n",
    "\n",
    "# Set default logger to python logger to avoid warnings given when adding reactions and/or metaboites \n",
    "# because \"cobra.core.model\" doesn't innately have a logger.\n",
    "import logging\n",
    "logging.basicConfig()\n",
    "logger = logging.getLogger('logger')"
   ]
  },
  {
   "cell_type": "code",
   "execution_count": null,
   "metadata": {},
   "outputs": [],
   "source": [
    "genome_id = '220668.9'\n",
    "model = cobra.io.read_sbml_model('../gap_models/'+ genome_id +'.xml')\n",
    "likelihoods = pickle.load(open('../likelihoods/'+ genome_id +'.probs'))\n",
    "universal = cobra.io.load_json_model(\"../Data/GramPosUni.json\")\n",
    "\n",
    "# Ensure free water exhange\n",
    "model.reactions.get_by_id('rxn05319_c').name = \"Water transport\"\n",
    "model.reactions.get_by_id('rxn05319_c').bounds = (-1000., 1000.)"
   ]
  },
  {
   "cell_type": "code",
   "execution_count": null,
   "metadata": {},
   "outputs": [],
   "source": [
    "all_likes = []\n",
    "passed_rxns = []\n",
    "zero_rxn_likelihood = []\n",
    "non_zero_rxn_likelihood = []\n",
    "counter = 0\n",
    "pass_counter = 0\n",
    "for rxn in model.reactions:\n",
    "    if rxn.id.startswith('rxn'):\n",
    "        try:\n",
    "            all_likes.append(likelihoods[rxn.id])\n",
    "            if likelihoods[rxn.id] < 0.01:\n",
    "                zero_rxn_likelihood.append(rxn.id)\n",
    "                print(rxn.name)\n",
    "            elif likelihoods[rxn.id] > 0.0:\n",
    "                non_zero_rxn_likelihood.append(rxn.id)\n",
    "            counter += 1\n",
    "        except:\n",
    "            passed_rxns.append(rxn.id)\n",
    "            pass_counter += 1\n",
    "            pass\n",
    "global_avg = np.mean(all_likes)\n",
    "\n",
    "print(global_avg)\n",
    "print(counter)\n",
    "print(pass_counter)"
   ]
  },
  {
   "cell_type": "code",
   "execution_count": null,
   "metadata": {},
   "outputs": [],
   "source": [
    "len(non_zero_rxn_likelihood)"
   ]
  },
  {
   "cell_type": "code",
   "execution_count": null,
   "metadata": {},
   "outputs": [],
   "source": [
    "# How many reactions have a probability score?\n",
    "\n",
    "universal_non_zero = []\n",
    "missing = []\n",
    "for rxn in universal.reactions:\n",
    "    if rxn.id.startswith('rxn'):\n",
    "        try:\n",
    "            if likelihoods[rxn.id] > 0.0:\n",
    "                universal_non_zero.append(rxn.id)\n",
    "        except:\n",
    "            missing.append(rxn.id)\n",
    "print(len(universal_non_zero))\n",
    "print(len(missing))"
   ]
  },
  {
   "cell_type": "code",
   "execution_count": null,
   "metadata": {},
   "outputs": [],
   "source": [
    "# What is the avg likelihood of all of these? \n",
    "all_likelihoods = []\n",
    "high_likelihoods =[]\n",
    "rxn_ids = [reaction.id for reaction in model.reactions]\n",
    "\n",
    "for rxn in universal_non_zero:\n",
    "    all_likelihoods.append(likelihoods[rxn])\n",
    "    if likelihoods[rxn] > 0.6 and rxn not in rxn_ids:\n",
    "        high_likelihoods.append(rxn)\n",
    "avg_like = np.mean(all_likelihoods)\n",
    "avg_like\n",
    "print(len(high_likelihoods))"
   ]
  },
  {
   "cell_type": "code",
   "execution_count": null,
   "metadata": {},
   "outputs": [],
   "source": [
    "high_likelihoods"
   ]
  },
  {
   "cell_type": "code",
   "execution_count": null,
   "metadata": {},
   "outputs": [],
   "source": [
    "import matplotlib.pyplot as plt\n",
    "plt.hist(all_likelihoods, bins=100)\n",
    "plt.title(\"Histogram with 100 bins\")\n",
    "plt"
   ]
  },
  {
   "cell_type": "code",
   "execution_count": null,
   "metadata": {},
   "outputs": [],
   "source": [
    "# Average adjustments by adding high-likelihood reactions to model\n",
    "high_likelihoods =[]\n",
    "rxn_ids = [reaction.id for reaction in model.reactions]\n",
    "lowest_like = 0.6\n",
    "\n",
    "for rxn in universal_non_zero:\n",
    "    if likelihoods[rxn] > lowest_like and rxn not in rxn_ids:\n",
    "        high_likelihoods.append(rxn)\n",
    "\n",
    "missing = []\n",
    "old_model = []\n",
    "for rxn in rxn_ids:\n",
    "    if rxn.startswith('rxn'):\n",
    "        try:\n",
    "            old_model.append(likelihoods[rxn])\n",
    "        except:\n",
    "            missing.append(rxn)\n",
    "            pass\n",
    "avg_like = np.mean(old_model)\n",
    "print(avg_like)\n",
    "\n",
    "new_model = []\n",
    "for rxn in high_likelihoods:\n",
    "    new_model.append(likelihoods[rxn])\n",
    "for rxn in rxn_ids:\n",
    "    try:\n",
    "        new_model.append(likelihoods[rxn])\n",
    "    except:\n",
    "        pass\n",
    "avg_like = np.mean(new_model)\n",
    "print(avg_like)"
   ]
  },
  {
   "cell_type": "code",
   "execution_count": null,
   "metadata": {},
   "outputs": [],
   "source": [
    "print(likelihoods.data['rxn00786_c']['gpr'])\n",
    "print(likelihoods.data['rxn00786_c']['probability'])\n",
    "print(likelihoods.data['rxn00786_c']['complexes'])"
   ]
  },
  {
   "cell_type": "code",
   "execution_count": null,
   "metadata": {},
   "outputs": [],
   "source": [
    "likelihoods.data['rxn00783_c']"
   ]
  },
  {
   "cell_type": "code",
   "execution_count": null,
   "metadata": {},
   "outputs": [],
   "source": [
    "model.reactions.get_by_id('rxn00786_c').gene_reaction_rule"
   ]
  },
  {
   "cell_type": "code",
   "execution_count": null,
   "metadata": {},
   "outputs": [],
   "source": [
    "# Are there reactions that have a zero likelihood in the model that \n",
    "# are not in the universal reaction bag?\n",
    "rxn_ids = [reaction.id for reaction in model.reactions]\n",
    "missing = []\n",
    "old_model = []\n",
    "rxn_id_zero_like = []\n",
    "for rxn in rxn_ids:\n",
    "    if rxn.startswith('rxn'):\n",
    "        try:\n",
    "            old_model.append(likelihoods[rxn])\n",
    "            if likelihoods[rxn] == 0.0:\n",
    "                rxn_id_zero_like.append(rxn)\n",
    "        except:\n",
    "            missing.append(rxn)\n",
    "            pass\n",
    "len(rxn_id_zero_like)\n",
    "\n",
    "missing_rxns = []\n",
    "for rxn in rxn_id_zero_like:\n",
    "    if rxn not in [reaction.id for reaction in universal.reactions]:\n",
    "        missing_rxns.append(rxn)\n",
    "len(missing_rxns)\n",
    "\n",
    "# No"
   ]
  },
  {
   "cell_type": "code",
   "execution_count": null,
   "metadata": {},
   "outputs": [],
   "source": [
    "rxn_objs = []\n",
    "for rxn in rxn_id_zero_like:\n",
    "#     print(model.reactions.get_by_id(rxn).gene_reaction_rule)\n",
    "    rxn_objs.append(model.reactions.get_by_id(rxn))\n",
    "    \n",
    "# overlap_rxns = [rxn.id for rxn in model.reactions if rxn.id in [x.id for x in universal.reactions]]\n",
    "model.reactions.get_by_id(rxn_id_zero_like[0])"
   ]
  },
  {
   "cell_type": "code",
   "execution_count": null,
   "metadata": {},
   "outputs": [],
   "source": [
    "# Shouldn't have gpr\n",
    "universal = cobra.io.load_json_model(\"../Data/GramPosUni.json\")\n",
    "universal.reactions.get_by_id(rxn_id_zero_like[0])"
   ]
  },
  {
   "cell_type": "code",
   "execution_count": null,
   "metadata": {},
   "outputs": [],
   "source": [
    "# Shouldn't be present\n",
    "universal.remove_reactions(rxn_id_zero_like)\n",
    "universal.reactions.get_by_id(rxn_id_zero_like[0])"
   ]
  },
  {
   "cell_type": "code",
   "execution_count": null,
   "metadata": {},
   "outputs": [],
   "source": [
    "# Should have same gpr as reaction object from model above (it does)\n",
    "universal.add_reactions(rxn_objs)\n",
    "universal.reactions.get_by_id(rxn_id_zero_like[0])"
   ]
  },
  {
   "cell_type": "code",
   "execution_count": null,
   "metadata": {},
   "outputs": [],
   "source": [
    "# Final version to implement in other script\n",
    "\n",
    "# rxn_ids = [reaction.id for reaction in model.reactions]\n",
    "# rxn_id_zero_like = []\n",
    "# for rxn in rxn_ids:\n",
    "#     if rxn.startswith('rxn'):\n",
    "#         try:\n",
    "#             if likelihoods[rxn] == 0.0:\n",
    "#                 rxn_id_zero_like.append(rxn)\n",
    "#         except:\n",
    "#             pass\n",
    "# rxn_objs = []\n",
    "# for rxn in rxn_id_zero_like:\n",
    "#     rxn_objs.append(model.reactions.get_by_id(rxn))\n",
    "# universal.remove_reactions(rxn_id_zero_like)\n",
    "# universal.add_reactions(rxn_objs)\n",
    "# model.remove_reactions(rxn_id_zero_like)"
   ]
  },
  {
   "cell_type": "code",
   "execution_count": null,
   "metadata": {},
   "outputs": [],
   "source": [
    "# How many reactions in the model have a non-zero likelihood and are missing a GPR?\n",
    "rxn_ids = [reaction.id for reaction in universal.reactions]\n",
    "rxns_of_interest = []\n",
    "for rxn in rxn_ids:\n",
    "    if rxn.startswith('rxn'):\n",
    "        try:\n",
    "             if likelihoods[rxn] > 0.0:\n",
    "#             if model.reactions.get_by_id(rxn).gene_reaction_rule == '':\n",
    "                if likelihoods.data[rxn]['gpr'] != '':\n",
    "                    rxns_of_interest.append(rxn)\n",
    "        except:\n",
    "            pass\n",
    "\n",
    "len(set(rxns_of_interest))\n",
    "\n",
    "# n = 803\n",
    "        \n",
    "# print(likelihoods.data[rxn_ids[n]]['gpr'])\n",
    "# print(likelihoods.data[rxn_ids[n]]['gpr'] != '')\n",
    "\n",
    "# print(model.reactions.get_by_id(rxn_ids[n]).gene_reaction_rule)\n",
    "# print(model.reactions.get_by_id(rxn_ids[n]).gene_reaction_rule == '')\n"
   ]
  },
  {
   "cell_type": "code",
   "execution_count": null,
   "metadata": {},
   "outputs": [],
   "source": [
    "rxn_ids = [reaction.id for reaction in model.reactions]\n",
    "rxn_total = []\n",
    "for rxn in rxn_ids:\n",
    "    if rxn.startswith('rxn'):\n",
    "        rxn_total.append(rxn)\n",
    "\n",
    "len(set(rxn_total))"
   ]
  },
  {
   "cell_type": "code",
   "execution_count": null,
   "metadata": {},
   "outputs": [],
   "source": [
    "# How many reactions have a likelihood but are not included in the model already?\n",
    "c = set(rxns_of_interest).difference(set(rxn_total))\n",
    "\n",
    "len(c)"
   ]
  },
  {
   "cell_type": "code",
   "execution_count": null,
   "metadata": {},
   "outputs": [],
   "source": [
    "met_ids = [met.id for met in model.metabolites]\n",
    "\n",
    "len(met_ids)"
   ]
  },
  {
   "cell_type": "code",
   "execution_count": null,
   "metadata": {},
   "outputs": [],
   "source": [
    "all_mets = []\n",
    "\n",
    "aa = 'cpd00117_c'\n",
    "\n",
    "for met in universal.metabolites:\n",
    "    if (met.id.endswith('_c')) & (met.id != aa):\n",
    "        all_mets.append(met.id)\n",
    "len(all_mets)"
   ]
  },
  {
   "cell_type": "code",
   "execution_count": null,
   "metadata": {},
   "outputs": [],
   "source": [
    "all_mets"
   ]
  },
  {
   "cell_type": "code",
   "execution_count": null,
   "metadata": {},
   "outputs": [],
   "source": [
    "c = set(met_ids).difference(set(met_ids_uni))\n",
    "\n",
    "len(c)"
   ]
  },
  {
   "cell_type": "code",
   "execution_count": 22,
   "metadata": {},
   "outputs": [
    {
     "name": "stdout",
     "output_type": "stream",
     "text": [
      "\n"
     ]
    }
   ],
   "source": [
    "genome_id = '220668.9'\n",
    "model = cobra.io.read_sbml_model('../gap_models/'+ genome_id +'.xml')\n",
    "likelihoods = pickle.load(open('../likelihoods/'+ genome_id +'.probs'))\n",
    "universal = cobra.io.load_json_model(\"../Data/GramPosUni.json\")\n",
    "# How many reactions have gprs in the universal model?\n",
    "\n",
    "for rxn in universal.reactions[0:1]:\n",
    "    print(rxn.gene_reaction_rule)\n"
   ]
  },
  {
   "cell_type": "code",
   "execution_count": 20,
   "metadata": {},
   "outputs": [
    {
     "name": "stdout",
     "output_type": "stream",
     "text": [
      "\n"
     ]
    }
   ],
   "source": [
    "print(universal.reactions[0].gene_reaction_rule)"
   ]
  },
  {
   "cell_type": "code",
   "execution_count": 99,
   "metadata": {},
   "outputs": [],
   "source": [
    "# Identify transport reactions (for any number compartments)\n",
    "def findDiffusionRxns(model):\n",
    "    transporters = []\n",
    "    compartments = set(list(model.compartments))\n",
    "    if len(compartments) == 1:\n",
    "        raise Exception('Model only has one compartment!')\n",
    "    \n",
    "    for reaction in model.reactions:\n",
    "        reactant_baseID = set([x.id.split('_')[0] for x in reaction.reactants])\n",
    "        product_baseID = set([x.id.split('_')[0] for x in reaction.products])\n",
    "        if len(reaction.metabolites) == 2 and reactant_baseID == product_baseID:\n",
    "            transporters.append(reaction.id)\n",
    "\n",
    "    return(transporters)"
   ]
  },
  {
   "cell_type": "code",
   "execution_count": 110,
   "metadata": {},
   "outputs": [
    {
     "data": {
      "text/html": [
       "\n",
       "        <table>\n",
       "            <tr>\n",
       "                <td><strong>Reaction identifier</strong></td><td>rxn00594_c</td>\n",
       "            </tr><tr>\n",
       "                <td><strong>Name</strong></td><td>Anthranilate,NADH:oxygen oxidoreductase (1,2-hydroxylating, deaminating, decarboxylating)</td>\n",
       "            </tr><tr>\n",
       "                <td><strong>Memory address</strong></td>\n",
       "                <td>0x07fd348d85e90</td>\n",
       "            </tr><tr>\n",
       "                <td><strong>Stoichiometry</strong></td>\n",
       "                <td>\n",
       "                    <p style='text-align:right'>cpd00004_c + cpd00007_c + 3.0 cpd00067_c + cpd00093_c <=> cpd00003_c + cpd00011_c + cpd00013_c + cpd00077_c</p>\n",
       "                    <p style='text-align:right'>NADH + O2 + 3.0 H+ + Anthranilate <=> NAD + CO2 + NH3 + Catechol</p>\n",
       "                </td>\n",
       "            </tr><tr>\n",
       "                <td><strong>GPR</strong></td><td>Temp_GPR</td>\n",
       "            </tr><tr>\n",
       "                <td><strong>Lower bound</strong></td><td>-1000.0</td>\n",
       "            </tr><tr>\n",
       "                <td><strong>Upper bound</strong></td><td>1000.0</td>\n",
       "            </tr>\n",
       "        </table>\n",
       "        "
      ],
      "text/plain": [
       "<Reaction rxn00594_c at 0x7fd348d85e90>"
      ]
     },
     "execution_count": 110,
     "metadata": {},
     "output_type": "execute_result"
    }
   ],
   "source": [
    "# Remove all reactions with zero likelihood and insert them into universal with GPRs\n",
    "# Also add GPRs for reactions with non-zero likelihood to Universal model\n",
    "\n",
    "genome_id = '220668.9'\n",
    "model = cobra.io.read_sbml_model('../gap_models/'+ genome_id +'.xml')\n",
    "likelihoods = pickle.load(open('../likelihoods/'+ genome_id +'.probs'))\n",
    "universal = cobra.io.load_json_model(\"../Data/GramPosUni.json\")\n",
    "\n",
    "# Ensure free water exchange\n",
    "model.reactions.get_by_id('rxn05319_c').name = \"Water transport\"\n",
    "model.reactions.get_by_id('rxn05319_c').bounds = (-1000., 1000.)\n",
    "\n",
    "# Remove 0-likelihood reactions from model and move to universal\n",
    "rxn_ids = [reaction.id for reaction in model.reactions]\n",
    "rxn_id_zero_like = []\n",
    "for rxn in rxn_ids:\n",
    "    if rxn.startswith('rxn'):\n",
    "        try:\n",
    "            if likelihoods[rxn] == 0.0:\n",
    "                rxn_id_zero_like.append(rxn)\n",
    "        except:\n",
    "            pass\n",
    "\n",
    "rxn_objs = []\n",
    "for rxn in rxn_id_zero_like:\n",
    "    rxn_objs.append(model.reactions.get_by_id(rxn))\n",
    "\n",
    "model.remove_reactions(rxn_objs)\n",
    "universal.remove_reactions(rxn_id_zero_like)\n",
    "universal.add_reactions(rxn_objs)\n",
    "\n",
    "# Add GPRs from likelihood dict to universal reactions that are still missing them\n",
    "rxn_ids = [reaction.id for reaction in universal.reactions]\n",
    "rxns_to_fix = []\n",
    "for rxn in rxn_ids:\n",
    "    if rxn.startswith('rxn'):\n",
    "        try: # This catches all of the reactions that have no likelihood value.\n",
    "            if likelihoods[rxn] > 0.0:\n",
    "                if universal.reactions.get_by_id(rxn).gene_reaction_rule == '':\n",
    "                    if likelihoods.data[rxn]['gpr'] != '':\n",
    "                        rxns_to_fix.append(rxn)\n",
    "                        universal.reactions.get_by_id(rxn).gene_reaction_rule = likelihoods.data[rxn]['gpr']\n",
    "        except:\n",
    "            pass\n",
    "\n",
    "# Spontaneous diffusion based reactions\n",
    "diff_rxns = findDiffusionRxns(universal)\n",
    "\n",
    "# Add dummy GPRs to rest of the reactions that should have genes so pFBA treats them all the same.\n",
    "rxns_with_tempGPR = []\n",
    "for rxn in universal.reactions:\n",
    "    if rxn.id.startswith('rxn') and rxn.id not in diff_rxns and rxn.gene_reaction_rule == '':\n",
    "        universal.reactions.get_by_id(rxn.id).gene_reaction_rule = 'Temp_GPR'\n",
    "        rxns_with_tempGPR.append(rxn.id)\n"
   ]
  },
  {
   "cell_type": "code",
   "execution_count": 47,
   "metadata": {},
   "outputs": [
    {
     "name": "stdout",
     "output_type": "stream",
     "text": [
      "11\n"
     ]
    }
   ],
   "source": [
    "# How many reactions in the model don't have a reaction likelihood at all?\n",
    "genome_id = '220668.9'\n",
    "model = cobra.io.read_sbml_model('../gap_models/'+ genome_id +'.xml')\n",
    "likelihoods = pickle.load(open('../likelihoods/'+ genome_id +'.probs'))\n",
    "\n",
    "rxn_ids = [reaction.id for reaction in model.reactions]\n",
    "rxn_id_no_like = []\n",
    "for rxn in rxn_ids:\n",
    "    if rxn.startswith('rxn'):\n",
    "        try:\n",
    "            likelihoods[rxn]\n",
    "        except:\n",
    "            rxn_id_no_like.append(rxn)\n",
    "            pass\n",
    "print(len(rxn_id_no_like))"
   ]
  },
  {
   "cell_type": "code",
   "execution_count": 48,
   "metadata": {},
   "outputs": [
    {
     "data": {
      "text/plain": [
       "['rxn02374_c',\n",
       " 'rxn05319_c',\n",
       " 'rxn04457_c',\n",
       " 'rxn02916_c',\n",
       " 'rxn03012_c',\n",
       " 'rxn10571_c',\n",
       " 'rxn04132_c',\n",
       " 'rxn05195_c',\n",
       " 'rxn05468_c',\n",
       " 'rxn04133_c',\n",
       " 'rxn05467_c']"
      ]
     },
     "execution_count": 48,
     "metadata": {},
     "output_type": "execute_result"
    }
   ],
   "source": [
    "rxn_id_no_like"
   ]
  },
  {
   "cell_type": "code",
   "execution_count": 70,
   "metadata": {},
   "outputs": [],
   "source": []
  },
  {
   "cell_type": "code",
   "execution_count": 71,
   "metadata": {},
   "outputs": [],
   "source": [
    "# Find diffusion reactions in universal model\n",
    "universal = cobra.io.load_json_model(\"../Data/GramPosUni.json\")\n",
    "\n",
    "transporters = findDiffusionRxns(universal)"
   ]
  },
  {
   "cell_type": "code",
   "execution_count": 98,
   "metadata": {},
   "outputs": [
    {
     "data": {
      "text/html": [
       "\n",
       "        <table>\n",
       "            <tr>\n",
       "                <td><strong>Reaction identifier</strong></td><td>rxn11326_c</td>\n",
       "            </tr><tr>\n",
       "                <td><strong>Name</strong></td><td>4-aminobutyrate transport via diffusion (extracellular to periplasm)</td>\n",
       "            </tr><tr>\n",
       "                <td><strong>Memory address</strong></td>\n",
       "                <td>0x07fd3536b2a90</td>\n",
       "            </tr><tr>\n",
       "                <td><strong>Stoichiometry</strong></td>\n",
       "                <td>\n",
       "                    <p style='text-align:right'>cpd00281_c <=> cpd00281_e</p>\n",
       "                    <p style='text-align:right'>GABA <=> GABA</p>\n",
       "                </td>\n",
       "            </tr><tr>\n",
       "                <td><strong>GPR</strong></td><td></td>\n",
       "            </tr><tr>\n",
       "                <td><strong>Lower bound</strong></td><td>-1000.0</td>\n",
       "            </tr><tr>\n",
       "                <td><strong>Upper bound</strong></td><td>1000.0</td>\n",
       "            </tr>\n",
       "        </table>\n",
       "        "
      ],
      "text/plain": [
       "<Reaction rxn11326_c at 0x7fd3536b2a90>"
      ]
     },
     "execution_count": 98,
     "metadata": {},
     "output_type": "execute_result"
    }
   ],
   "source": [
    "universal.reactions.get_by_id(transporters[218])"
   ]
  },
  {
   "cell_type": "code",
   "execution_count": null,
   "metadata": {},
   "outputs": [],
   "source": [
    "# Find transporters that don't use ATP\n",
    "universal = cobra.io.load_json_model(\"../Data/GramPosUni.json\")\n",
    "transporters = findTransports(universal)\n",
    "rxns_to_remove = []\n",
    "for rxn_id in transporters:\n",
    "    mets = universal.reactions.get_by_id(str(rxn_id)).metabolites\n",
    "    for met in mets:\n",
    "        if met.id == 'cpd00002_c':\n",
    "            rxns_to_remove.append(rxn_id)\n",
    "nonATP_transporters = set(transporters).difference(set(rxns_to_remove))\n",
    "len(nonATP_transporters)"
   ]
  },
  {
   "cell_type": "code",
   "execution_count": null,
   "metadata": {},
   "outputs": [],
   "source": [
    "def quantumGapFill(model, universal=None, objective='bio1', lb=0.05):\n",
    "    \n",
    "    # Grab overlapping reaction IDs from original model and replace in universal bag\n",
    "    # Resets flux penalties for those reactions\n",
    "    overlap_rxns = [rxn.id for rxn in model.reactions if rxn.id in [x.id for x in universal.reactions]]\n",
    "    universal.remove_reactions(overlap_rxns)\n",
    "    universal.add_reactions(list(model.reactions))\n",
    "    \n",
    "    # Set new objective and lower bound\n",
    "    universal.reactions.get_by_id('biomass').lower_bound = lb\n",
    "    universal.objective = universal.reactions.get_by_id('biomass')\n",
    "    \n",
    "    # Optimize and retreive new reactions\n",
    "    solution = universal.optimize()\n",
    "    solution = solution.fluxes.to_frame()\n",
    "    active = solution.loc[(abs(solution['fluxes'])) > 1e-6]\n",
    "    active = [str(x) for x in list(active.index)]\n",
    "    rxns_to_be_added = [universal.reactions.get_by_id(rxn) for rxn in active if not rxn in [x.id for x in model.reactions]]\n",
    "    \n",
    "    # Add new rections to original model\n",
    "    model.add_reactions(rxns_to_be_added)\n",
    "    \n",
    "    return model\n",
    "\n",
    "# Identify transport reactions (for any number compartments)\n",
    "def findTransports(model):\n",
    "    transporters = []\n",
    "    compartments = set(list(model.compartments))\n",
    "    if len(compartments) == 1:\n",
    "        raise Exception('Model only has one compartment!')\n",
    "    \n",
    "    for reaction in model.reactions:\n",
    "        \n",
    "        reactant_compartments = set([x.compartment for x in reaction.reactants])\n",
    "        product_compartments = set([x.compartment for x in reaction.products])\n",
    "        reactant_baseID = set([x.id.split('_')[0] for x in reaction.reactants])\n",
    "        product_baseID = set([x.id.split('_')[0] for x in reaction.products])\n",
    "        \n",
    "        if reactant_compartments == product_compartments and reactant_baseID != product_baseID:\n",
    "            continue\n",
    "        elif bool(compartments & reactant_compartments) == True and bool(compartments & product_compartments) == True:\n",
    "            transporters.append(reaction.id)\n",
    "        \n",
    "    return(transporters)   \n",
    "\n",
    "def missingRxns(model, extracellular=['e','Extracellular']):\n",
    "\n",
    "    transporters = set(findTransports(model))\n",
    "    exchanges = set([x.id for x in model.exchanges])\n",
    "    \n",
    "    missing_exchanges = []\n",
    "    missing_transports = []\n",
    "    \n",
    "    for metabolite in model.metabolites:\n",
    "        if not metabolite.compartment in extracellular or metabolite.id.split('_')[1] != 'e':\n",
    "            continue\n",
    "\n",
    "        curr_rxns = set([x.id for x in list(metabolite.reactions)])\n",
    "        \n",
    "        if bool(curr_rxns & transporters) == False:\n",
    "            missing_transports.append(metabolite.id)\n",
    "        if bool(curr_rxns & exchanges) == False:\n",
    "            missing_exchanges.append(metabolite.id)\n",
    "    \n",
    "    if len(missing_transports) != 0:\n",
    "        print(str(len(missing_transports)) + ' extracellular metabolites are missing transport reactions')\n",
    "    if len(missing_exchanges) != 0:\n",
    "        print(str(len(missing_exchanges)) + ' extracellular metabolites are missing exchange reactions')\n",
    "        \n",
    "    return missing_transports, missing_exchanges"
   ]
  },
  {
   "cell_type": "code",
   "execution_count": null,
   "metadata": {},
   "outputs": [],
   "source": []
  },
  {
   "cell_type": "code",
   "execution_count": null,
   "metadata": {},
   "outputs": [],
   "source": [
    "\n",
    "\n",
    "\n",
    "\n",
    "\n",
    "\n",
    "\n",
    "\n",
    "\n",
    "\n",
    "\n",
    "\n",
    "\n",
    "\n",
    "\n",
    "\n",
    "\n",
    "\n",
    "\n",
    "\n",
    "\n",
    "\n",
    "\n",
    "\n",
    "\n",
    "\n",
    "\n",
    "\n",
    "\n",
    "\n",
    "\n",
    "\n",
    "\n",
    "\n",
    "\n",
    "\n",
    "\n",
    "\n",
    "\n",
    "\n",
    "\n",
    "\n",
    "\n",
    "\n",
    "\n",
    "\n",
    "\n",
    "\n",
    "\n",
    "\n",
    "\n",
    "\n"
   ]
  }
 ],
 "metadata": {
  "kernelspec": {
   "display_name": "Python 2",
   "language": "python",
   "name": "python2"
  },
  "language_info": {
   "codemirror_mode": {
    "name": "ipython",
    "version": 2
   },
   "file_extension": ".py",
   "mimetype": "text/x-python",
   "name": "python",
   "nbconvert_exporter": "python",
   "pygments_lexer": "ipython2",
   "version": "2.7.12"
  }
 },
 "nbformat": 4,
 "nbformat_minor": 2
}
