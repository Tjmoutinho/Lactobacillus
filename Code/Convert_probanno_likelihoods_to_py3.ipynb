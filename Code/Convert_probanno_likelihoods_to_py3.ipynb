{
 "cells": [
  {
   "cell_type": "code",
   "execution_count": 1,
   "metadata": {},
   "outputs": [],
   "source": [
    "import glob\n",
    "import pickle\n",
    "import probanno\n",
    "import cobra"
   ]
  },
  {
   "cell_type": "code",
   "execution_count": 2,
   "metadata": {},
   "outputs": [],
   "source": [
    "universal = cobra.io.load_json_model(\"../Data/GramPosUni.json\")\n",
    "rxn_ids = [x.id for x in universal.reactions]"
   ]
  },
  {
   "cell_type": "code",
   "execution_count": 3,
   "metadata": {},
   "outputs": [],
   "source": [
    "# Get IDs for original Prob files\n",
    "original_files = glob.glob('../likelihoods/*.probs')\n",
    "genome_ids = [x.replace(\"../likelihoods/\",\"\").replace(\".probs\",\"\") for x in original_files]\n",
    "# Get IDs for existing Prob files\n",
    "existing_files = glob.glob('../likelihoods_py3/*.probs')\n",
    "existing_prob_py3s = [x.replace(\"../likelihoods_py3/\",\"\").replace(\".probs\",\"\") for x in existing_files]"
   ]
  },
  {
   "cell_type": "code",
   "execution_count": 4,
   "metadata": {},
   "outputs": [],
   "source": [
    "likelihoods = pickle.load(open('../likelihoods/'+ genome_ids[0] +'.probs'))\n",
    "rxn_ids_w_probs = []\n",
    "for rxn_id in rxn_ids:\n",
    "    try:\n",
    "        likelihoods[rxn_id]\n",
    "        rxn_ids_w_probs.append(rxn_id)\n",
    "    except:\n",
    "        pass"
   ]
  },
  {
   "cell_type": "code",
   "execution_count": 5,
   "metadata": {},
   "outputs": [
    {
     "data": {
      "text/plain": [
       "6161"
      ]
     },
     "execution_count": 5,
     "metadata": {},
     "output_type": "execute_result"
    }
   ],
   "source": [
    "len(rxn_ids_w_probs)"
   ]
  },
  {
   "cell_type": "code",
   "execution_count": 6,
   "metadata": {},
   "outputs": [],
   "source": [
    "for genome_id in genome_ids:\n",
    "    if not genome_id in existing_prob_py3s:\n",
    "        try:\n",
    "            likelihoods = pickle.load(open('../likelihoods/'+ genome_id +'.probs'))\n",
    "            likelihoods_py3 = {}\n",
    "            for rxn_id in rxn_ids_w_probs:\n",
    "                try:\n",
    "                    likelihoods_py3[rxn_id] = likelihoods[rxn_id]\n",
    "                except:\n",
    "                    pass\n",
    "            pickle.dump(likelihoods_py3, open('../likelihoods_py3/'+ genome_id +'.probs', \"wb\"))\n",
    "        except: \n",
    "            pass"
   ]
  },
  {
   "cell_type": "code",
   "execution_count": 7,
   "metadata": {},
   "outputs": [
    {
     "data": {
      "text/plain": [
       "0.0"
      ]
     },
     "execution_count": 7,
     "metadata": {},
     "output_type": "execute_result"
    }
   ],
   "source": [
    "likelihoods_py3[rxn_id]"
   ]
  }
 ],
 "metadata": {
  "kernelspec": {
   "display_name": "Python 2",
   "language": "python",
   "name": "python2"
  },
  "language_info": {
   "codemirror_mode": {
    "name": "ipython",
    "version": 2
   },
   "file_extension": ".py",
   "mimetype": "text/x-python",
   "name": "python",
   "nbconvert_exporter": "python",
   "pygments_lexer": "ipython2",
   "version": "2.7.12"
  }
 },
 "nbformat": 4,
 "nbformat_minor": 2
}
