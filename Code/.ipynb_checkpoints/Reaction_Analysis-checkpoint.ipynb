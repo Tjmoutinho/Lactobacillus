{
 "cells": [
  {
   "cell_type": "code",
   "execution_count": 1,
   "metadata": {},
   "outputs": [],
   "source": [
    "# imports for later usage\n",
    "import os#\n",
    "import plotly#\n",
    "import plotly.graph_objs as go#\n",
    "import cobra\n",
    "import glob\n",
    "import re  "
   ]
  },
  {
   "cell_type": "code",
   "execution_count": 2,
   "metadata": {},
   "outputs": [],
   "source": [
    "# Read in model_path names\n",
    "model_paths = glob.glob('/home/bneubert/Lactobacillus/gap_models/*.xml')\n"
   ]
  },
  {
   "cell_type": "code",
   "execution_count": 3,
   "metadata": {},
   "outputs": [
    {
     "name": "stdout",
     "output_type": "stream",
     "text": [
      "1507\n",
      "1506\n"
     ]
    }
   ],
   "source": [
    "# Remove bad model\n",
    "print(len(model_paths))\n",
    "model_paths.remove(\"/home/bneubert/Lactobacillus/gap_models/1579.60.xml\")\n",
    "# make sure the bad model was removed\n",
    "print(len(model_paths))"
   ]
  },
  {
   "cell_type": "code",
   "execution_count": 5,
   "metadata": {},
   "outputs": [],
   "source": [
    "model_x = cobra.io.read_sbml_model(model_paths[1])"
   ]
  },
  {
   "cell_type": "code",
   "execution_count": 10,
   "metadata": {},
   "outputs": [
    {
     "data": {
      "text/plain": [
       "'rxn00390_c'"
      ]
     },
     "execution_count": 10,
     "metadata": {},
     "output_type": "execute_result"
    }
   ],
   "source": [
    "model_x.reactions[1].id"
   ]
  },
  {
   "cell_type": "code",
   "execution_count": 11,
   "metadata": {},
   "outputs": [
    {
     "name": "stdout",
     "output_type": "stream",
     "text": [
      "1002365.5\n"
     ]
    }
   ],
   "source": [
    "print(seq.match(model_paths[1].replace('/home/bneubert/Lactobacillus/gap_models/','')).group())# genome id to use"
   ]
  },
  {
   "cell_type": "code",
   "execution_count": 10,
   "metadata": {},
   "outputs": [],
   "source": [
    "seq = re.compile('(\\d+)\\.\\d+')"
   ]
  },
  {
   "cell_type": "code",
   "execution_count": 12,
   "metadata": {},
   "outputs": [],
   "source": [
    "counter = 0\n",
    "model_reactions = [] # going to be full set of reactions\n",
    "for name in model_paths:\n",
    "    # open up the next model\n",
    "    model_x = cobra.io.read_sbml_model(name)\n",
    "    \n",
    "    # find genome_id for this model\n",
    "    genome_id = seq.match(name.replace('/home/bneubert/Lactobacillus/gap_models/','')).group()\n",
    "    \n",
    "    # cycle through the model's reactions\n",
    "    for reaction in model_x.reactions:\n",
    "        temp_dict = {}\n",
    "        \n",
    "        # add genome id to dict\n",
    "        temp_dict['genome_id'] = genome_id\n",
    "        \n",
    "        # add reaction id to dict\n",
    "        temp_dict['reaction_id'] = reaction.id\n",
    "    \n",
    "        # add reaction dict to the model reactions list\n",
    "        model_reactions.append(temp_dict)\n",
    "        \n",
    "        \n",
    "    \n",
    "    \n",
    "#     # limiter, remove when done testing\n",
    "#     if(counter is 10):\n",
    "#         break\n",
    "#     counter += 1\n",
    "    "
   ]
  },
  {
   "cell_type": "code",
   "execution_count": 13,
   "metadata": {},
   "outputs": [],
   "source": [
    "#model_reactions"
   ]
  },
  {
   "cell_type": "code",
   "execution_count": 14,
   "metadata": {},
   "outputs": [],
   "source": [
    "full_reactions = [] \n",
    "core_reactions = []\n",
    "full_reaction_sizes = []\n",
    "core_reactions_sizes = []\n",
    "model_sizes = []\n",
    "processed_models = []\n",
    "temp_core_reactions = []\n",
    "current_reactions = []\n",
    "modelDict = {} \n",
    "second = True # boolean used to delineate first and second genome's addition, becomes false on third genome\n",
    "reactionDict = {} # will contain all unique cross-genus families and their associated strains\n",
    "#accessoryGenome = {}"
   ]
  },
  {
   "cell_type": "code",
   "execution_count": 15,
   "metadata": {},
   "outputs": [],
   "source": [
    "# NOTE: analysis assumes the genomic features are grouped together by their genomic id since they were read in by feature files\n",
    "\n",
    "\n",
    "for feature in model_reactions:\n",
    "    \n",
    "    \n",
    "    # if the genome is new add genome to processed genomes\n",
    "    if(feature['genome_id'] not in processed_models):\n",
    "        # if we just switched to a new genome then\n",
    "        # add the new pangenome and core genome sizes to their lists\n",
    "        # also update core genome\n",
    "        \n",
    "        if(len(processed_models) > 0):\n",
    "            full_reaction_sizes.append(len(full_reactions))\n",
    "            model_sizes.append(len(current_reactions))\n",
    "            if not second:\n",
    "                # new coregenome is simply the previous temp coregenome\n",
    "                core_reactions = list(temp_core_reactions)\n",
    "            else:\n",
    "                # no longer second\n",
    "                second = False\n",
    "            core_reactions_sizes.append(len(core_reactions))\n",
    "            temp_core_reactions = []\n",
    "            \n",
    "\n",
    "        # add new genome to processed list\n",
    "        processed_models.append(feature['genome_id'])\n",
    "        \n",
    "        #add new genome as a key in the genome dict\n",
    "        modelDict[feature['genome_id']] = {}\n",
    "        \n",
    "        # reset current features\n",
    "        current_reactions = []\n",
    "      \n",
    "    # if the gene family has not been accounted for in the current genome's features, add it\n",
    "    if(feature['reaction_id'] not in current_reactions):\n",
    "        current_reactions.append(feature['reaction_id'])\n",
    "    \n",
    "    # if gene family has not been accounted for then add to pangenome\n",
    "    if(feature['reaction_id'] not in full_reactions):\n",
    "        full_reactions.append(feature['reaction_id'])\n",
    "    \n",
    "    # if first runthrough then the core genes are all genes in the first\n",
    "    # genome, these are used as a baseline for future comparisons   \n",
    "    if (len(processed_models) is 1):\n",
    "        # also make sure this family has not already been accounted for\n",
    "        if(feature['reaction_id'] not in core_reactions):\n",
    "            core_reactions.append(feature['reaction_id'])\n",
    "    \n",
    "    # if we already have a core genome, the present feature is in the core genome of the past strains, and not already added\n",
    "    # then include this feature in the next core genome\n",
    "    elif((feature['reaction_id'] in core_reactions) and (feature['reaction_id'] not in temp_core_reactions)):\n",
    "        temp_core_reactions.append(feature['reaction_id'])\n",
    "\n",
    "        \n",
    "    # update the genome dictionary\n",
    "    if (feature['reaction_id'] not in modelDict[feature['genome_id']]):\n",
    "        modelDict[feature['genome_id']][feature['reaction_id']] = 1\n",
    "    else:\n",
    "        modelDict[feature['genome_id']][feature['reaction_id']] += 1\n",
    "        \n",
    "    # if the cross genus family has not been accounted for then add it to the family dictionary\n",
    "    if feature['reaction_id'] not in reactionDict:\n",
    "        reactionDict[feature['reaction_id']] = [feature['genome_id']]\n",
    "    # if the cross genus family has been accounted for, but the strain it came from has not been accounted for, update the\n",
    "    # key's list\n",
    "    elif feature['genome_id'] not in reactionDict[feature['reaction_id']]:\n",
    "        reactionDict[feature['reaction_id']].append(feature['genome_id'])\n",
    "        \n",
    "        \n",
    "# make sure to add the last genome processed to have final pangenome and coregenome sizes\n",
    "full_reaction_sizes.append(full_reactions.__len__())\n",
    "core_reactions = list(temp_core_reactions)\n",
    "core_reactions_sizes.append(core_reactions.__len__())\n",
    "model_sizes.append(len(current_reactions))"
   ]
  },
  {
   "cell_type": "code",
   "execution_count": 77,
   "metadata": {},
   "outputs": [
    {
     "data": {
      "text/plain": [
       "1469"
      ]
     },
     "execution_count": 77,
     "metadata": {},
     "output_type": "execute_result"
    }
   ],
   "source": [
    "# total number of reactions\n",
    "len(full_reactions)"
   ]
  },
  {
   "cell_type": "code",
   "execution_count": 17,
   "metadata": {},
   "outputs": [
    {
     "data": {
      "text/plain": [
       "38"
      ]
     },
     "execution_count": 17,
     "metadata": {},
     "output_type": "execute_result"
    }
   ],
   "source": [
    "# number of reactions present in all models\n",
    "len(core_reactions)"
   ]
  },
  {
   "cell_type": "code",
   "execution_count": 20,
   "metadata": {},
   "outputs": [
    {
     "data": {
      "text/plain": [
       "884"
      ]
     },
     "execution_count": 20,
     "metadata": {},
     "output_type": "execute_result"
    }
   ],
   "source": [
    "# average number of reactions in a model\n",
    "sum(model_sizes)/len(model_sizes)"
   ]
  },
  {
   "cell_type": "code",
   "execution_count": null,
   "metadata": {},
   "outputs": [],
   "source": []
  },
  {
   "cell_type": "code",
   "execution_count": 1,
   "metadata": {},
   "outputs": [
    {
     "ename": "NameError",
     "evalue": "name 'plotly' is not defined",
     "output_type": "error",
     "traceback": [
      "\u001b[0;31m---------------------------------------------------------------------------\u001b[0m",
      "\u001b[0;31mNameError\u001b[0m                                 Traceback (most recent call last)",
      "\u001b[0;32m<ipython-input-1-f08cec553dcd>\u001b[0m in \u001b[0;36m<module>\u001b[0;34m()\u001b[0m\n\u001b[0;32m----> 1\u001b[0;31m \u001b[0mplotly\u001b[0m\u001b[0;34m.\u001b[0m\u001b[0moffline\u001b[0m\u001b[0;34m.\u001b[0m\u001b[0minit_notebook_mode\u001b[0m\u001b[0;34m(\u001b[0m\u001b[0mconnected\u001b[0m\u001b[0;34m=\u001b[0m\u001b[0mTrue\u001b[0m\u001b[0;34m)\u001b[0m\u001b[0;34m\u001b[0m\u001b[0m\n\u001b[0m\u001b[1;32m      2\u001b[0m \u001b[0;34m\u001b[0m\u001b[0m\n\u001b[1;32m      3\u001b[0m trace1 = go.Scatter(\n\u001b[1;32m      4\u001b[0m     \u001b[0mx\u001b[0m \u001b[0;34m=\u001b[0m \u001b[0mlist\u001b[0m\u001b[0;34m(\u001b[0m\u001b[0mrange\u001b[0m\u001b[0;34m(\u001b[0m\u001b[0;36m1\u001b[0m\u001b[0;34m,\u001b[0m\u001b[0;36m1507\u001b[0m\u001b[0;34m)\u001b[0m\u001b[0;34m)\u001b[0m\u001b[0;34m,\u001b[0m\u001b[0;34m\u001b[0m\u001b[0m\n\u001b[1;32m      5\u001b[0m     \u001b[0my\u001b[0m \u001b[0;34m=\u001b[0m \u001b[0mcoregenome_sizes\u001b[0m\u001b[0;34m,\u001b[0m\u001b[0;34m\u001b[0m\u001b[0m\n",
      "\u001b[0;31mNameError\u001b[0m: name 'plotly' is not defined"
     ]
    }
   ],
   "source": [
    "plotly.offline.init_notebook_mode(connected=True)\n",
    "\n",
    "trace1 = go.Scatter(\n",
    "    x = list(range(1,1507)),\n",
    "    y = core_reactions_sizes,\n",
    "    mode = 'lines',\n",
    "    name = 'core genome'\n",
    ")\n",
    "trace2 = go.Scatter(\n",
    "    x = list(range(1,1507)),\n",
    "    y = full_reaction_sizes,\n",
    "    mode = 'lines',\n",
    "    name = 'pan genome'\n",
    ")\n",
    "trace3 = go.Scatter(\n",
    "    x = list(range(1,1507)),\n",
    "    y = model_sizes,\n",
    "    mode = 'lines',\n",
    "    name = 'added genome'\n",
    ")\n",
    "data = [trace1, trace2,trace3]\n",
    "\n",
    "layout = dict(title = 'Lactobacillus Reaction Analysis',\n",
    "              xaxis = dict(title = 'Number of Models Added'),\n",
    "              yaxis = dict(title = 'Number of Unique Reactions'),\n",
    "              )\n",
    "\n",
    "fig = dict(data=data, layout=layout)\n",
    "\n",
    "plotly.offline.iplot(fig, filename='/home/bneubert/Lactobacillus/Results/reaction-line.html')"
   ]
  },
  {
   "cell_type": "code",
   "execution_count": null,
   "metadata": {},
   "outputs": [],
   "source": []
  }
 ],
 "metadata": {
  "kernelspec": {
   "display_name": "Python 2",
   "language": "python",
   "name": "python2"
  },
  "language_info": {
   "codemirror_mode": {
    "name": "ipython",
    "version": 2
   },
   "file_extension": ".py",
   "mimetype": "text/x-python",
   "name": "python",
   "nbconvert_exporter": "python",
   "pygments_lexer": "ipython2",
   "version": "2.7.12"
  }
 },
 "nbformat": 4,
 "nbformat_minor": 2
}
