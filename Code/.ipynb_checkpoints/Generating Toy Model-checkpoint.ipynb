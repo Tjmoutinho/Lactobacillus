{
 "cells": [
  {
   "cell_type": "code",
   "execution_count": 1,
   "metadata": {},
   "outputs": [
    {
     "name": "stdout",
     "output_type": "stream",
     "text": [
      "Exception reporting mode: Verbose\n"
     ]
    }
   ],
   "source": [
    "# Import libraries - REQUIRES pip version 9.0.3\n",
    "import pandas\n",
    "import os\n",
    "from os.path import join\n",
    "import sys\n",
    "\n",
    "# Using Cobrapy 0.13.0\n",
    "import cobra\n",
    "import cobra.test\n",
    "from cobra import Model\n",
    "from cobra import Metabolite\n",
    "from cobra import Reaction\n",
    "from cobra.io import write_sbml_model\n",
    "\n",
    "# Estabish handler for logger\n",
    "import logging\n",
    "logging.basicConfig()\n",
    "logger = logging.getLogger('logger')\n",
    "\n",
    "# Verbose exception printing\n",
    "%xmode"
   ]
  },
  {
   "cell_type": "code",
   "execution_count": 2,
   "metadata": {},
   "outputs": [],
   "source": [
    "# Initialize model\n",
    "toy = Model('toy_model')"
   ]
  },
  {
   "cell_type": "code",
   "execution_count": 3,
   "metadata": {},
   "outputs": [],
   "source": [
    "# Define reactions and metabolites\n",
    "\n",
    "cpdA_e = Metabolite(\n",
    "    'cpdA_e',\n",
    "    name='compound A',\n",
    "    compartment='e')\n",
    "cpdA_c = Metabolite(\n",
    "    'cpdA_c',\n",
    "    name='compound A',\n",
    "    compartment='c')\n",
    "\n",
    "rxn1 = Reaction('rxn1')\n",
    "rxn1.name = 'Transport'\n",
    "rxn1.gene_reaction_rule = 'gene1'\n",
    "rxn1.lower_bound = 0. \n",
    "rxn1.upper_bound = 1000.  \n",
    "rxn1.add_metabolites({\n",
    "    cpdA_e: -1.0,\n",
    "    cpdA_c: 1.0\n",
    "})\n",
    "\n",
    "cpdB_c = Metabolite(\n",
    "    'cpdB_c',\n",
    "    name='compound B',\n",
    "    compartment='c')\n",
    "\n",
    "rxn2 = Reaction('rxn2')\n",
    "rxn2.name = 'Metabolite conversion 1'\n",
    "rxn2.gene_reaction_rule = 'gene2'\n",
    "rxn2.lower_bound = -1000. \n",
    "rxn2.upper_bound = 1000.  \n",
    "rxn2.add_metabolites({\n",
    "    cpdA_c: -1.0,\n",
    "    cpdB_c: 1.0\n",
    "})\n",
    "\n",
    "cpdC_c = Metabolite(\n",
    "    'cpdC_c',\n",
    "    name='compound C',\n",
    "    compartment='c')\n",
    "\n",
    "rxn3 = Reaction('rxn3')\n",
    "rxn3.name = 'Metabolite conversion 2'\n",
    "rxn3.gene_reaction_rule = 'gene3'\n",
    "rxn3.lower_bound = 0. \n",
    "rxn3.upper_bound = 1000.  \n",
    "rxn3.add_metabolites({\n",
    "    cpdB_c: -1.0,\n",
    "    cpdC_c: 1.0\n",
    "})\n",
    "\n",
    "cpdD_c = Metabolite(\n",
    "    'cpdD_c',\n",
    "    name='compound D',\n",
    "    compartment='c')\n",
    "\n",
    "rxn4 = Reaction('rxn4')\n",
    "rxn4.name = 'Metabolite conversion 3'\n",
    "rxn4.gene_reaction_rule = 'gene4'\n",
    "rxn4.lower_bound = 0. \n",
    "rxn4.upper_bound = 1000.  \n",
    "rxn4.add_metabolites({\n",
    "    cpdC_c: -1.0,\n",
    "    cpdD_c: 1.0\n",
    "})\n",
    "\n",
    "cpdE_c = Metabolite(\n",
    "    'cpdE_c',\n",
    "    name='compound E',\n",
    "    compartment='c')\n",
    "\n",
    "rxn5 = Reaction('rxn5')\n",
    "rxn5.name = 'Metabolite conversion 4'\n",
    "rxn5.gene_reaction_rule = 'gene5'\n",
    "rxn5.lower_bound = 0. \n",
    "rxn5.upper_bound = 1000.  \n",
    "rxn5.add_metabolites({\n",
    "    cpdC_c: -1.0,\n",
    "    cpdE_c: 1.0\n",
    "})\n",
    "\n",
    "rxn6 = Reaction('rxn6')\n",
    "rxn6.name = 'Metabolite conversion 5'\n",
    "rxn6.lower_bound = 0. \n",
    "rxn6.upper_bound = 1000.  \n",
    "rxn6.add_metabolites({\n",
    "    cpdE_c: -1.0,\n",
    "    cpdD_c: 1.0\n",
    "})\n",
    "\n",
    "biomass_cpd = Metabolite(\n",
    "    'biomass_cpd',\n",
    "    name='Biomass',\n",
    "    compartment='c')\n",
    "\n",
    "biomass_rxn = Reaction('biomass_rxn')\n",
    "biomass_rxn.name = 'Biomass reaction'\n",
    "biomass_rxn.lower_bound = 0. \n",
    "biomass_rxn.upper_bound = 1000.  \n",
    "biomass_rxn.add_metabolites({\n",
    "    cpdD_c: -1.0,\n",
    "    biomass_cpd: 1.0\n",
    "})\n",
    "\n",
    "toy.add_reactions([rxn1,rxn2,rxn3,rxn4,rxn5,rxn6,biomass_rxn])\n"
   ]
  },
  {
   "cell_type": "code",
   "execution_count": 4,
   "metadata": {},
   "outputs": [
    {
     "data": {
      "text/html": [
       "\n",
       "        <table>\n",
       "            <tr>\n",
       "                <td><strong>Reaction identifier</strong></td><td>DM_biomass_cpd</td>\n",
       "            </tr><tr>\n",
       "                <td><strong>Name</strong></td><td>Biomass demand</td>\n",
       "            </tr><tr>\n",
       "                <td><strong>Memory address</strong></td>\n",
       "                <td>0x07f8f79007a90</td>\n",
       "            </tr><tr>\n",
       "                <td><strong>Stoichiometry</strong></td>\n",
       "                <td>\n",
       "                    <p style='text-align:right'>biomass_cpd --> </p>\n",
       "                    <p style='text-align:right'>Biomass --> </p>\n",
       "                </td>\n",
       "            </tr><tr>\n",
       "                <td><strong>GPR</strong></td><td></td>\n",
       "            </tr><tr>\n",
       "                <td><strong>Lower bound</strong></td><td>0</td>\n",
       "            </tr><tr>\n",
       "                <td><strong>Upper bound</strong></td><td>1000.0</td>\n",
       "            </tr>\n",
       "        </table>\n",
       "        "
      ],
      "text/plain": [
       "<Reaction DM_biomass_cpd at 0x7f8f79007a90>"
      ]
     },
     "execution_count": 4,
     "metadata": {},
     "output_type": "execute_result"
    }
   ],
   "source": [
    "# Add input and output exchanges\n",
    "toy.add_boundary(cpdA_e, type='exchange', reaction_id='EX_cpdA_e', lb=-1000.0, ub=1000.0)\n",
    "toy.add_boundary(biomass_cpd, type='demand', reaction_id='EX_biomass', lb=None, ub=1000.0)"
   ]
  },
  {
   "cell_type": "code",
   "execution_count": 5,
   "metadata": {},
   "outputs": [],
   "source": [
    "#toy.objective = 'biomass_rxn'"
   ]
  },
  {
   "cell_type": "code",
   "execution_count": 6,
   "metadata": {},
   "outputs": [
    {
     "data": {
      "text/html": [
       "\n",
       "        <table>\n",
       "            <tr>\n",
       "                <td><strong>Name</strong></td>\n",
       "                <td>toy_model</td>\n",
       "            </tr><tr>\n",
       "                <td><strong>Memory address</strong></td>\n",
       "                <td>0x07fe3b0a39210</td>\n",
       "            </tr><tr>\n",
       "                <td><strong>Number of metabolites</strong></td>\n",
       "                <td>7</td>\n",
       "            </tr><tr>\n",
       "                <td><strong>Number of reactions</strong></td>\n",
       "                <td>9</td>\n",
       "            </tr><tr>\n",
       "                <td><strong>Objective expression</strong></td>\n",
       "                <td>-1.0*biomass_rxn_reverse_1a99c + 1.0*biomass_rxn</td>\n",
       "            </tr><tr>\n",
       "                <td><strong>Compartments</strong></td>\n",
       "                <td>c, e</td>\n",
       "            </tr>\n",
       "          </table>"
      ],
      "text/plain": [
       "<Model toy_model at 0x7fe3b0a39210>"
      ]
     },
     "execution_count": 6,
     "metadata": {},
     "output_type": "execute_result"
    }
   ],
   "source": [
    "toy"
   ]
  },
  {
   "cell_type": "code",
   "execution_count": 5,
   "metadata": {},
   "outputs": [],
   "source": [
    "# Write to an SBML for later use\n",
    "cobra.io.write_sbml_model(toy, 'data/toy_model.sbml')"
   ]
  }
 ],
 "metadata": {
  "kernelspec": {
   "display_name": "Python 2",
   "language": "python",
   "name": "python2"
  },
  "language_info": {
   "codemirror_mode": {
    "name": "ipython",
    "version": 2
   },
   "file_extension": ".py",
   "mimetype": "text/x-python",
   "name": "python",
   "nbconvert_exporter": "python",
   "pygments_lexer": "ipython2",
   "version": "2.7.12"
  }
 },
 "nbformat": 4,
 "nbformat_minor": 2
}
