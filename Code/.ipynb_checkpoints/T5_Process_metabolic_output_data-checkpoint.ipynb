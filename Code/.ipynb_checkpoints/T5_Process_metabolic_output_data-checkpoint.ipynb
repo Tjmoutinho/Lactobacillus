{
 "cells": [
  {
   "cell_type": "code",
   "execution_count": 1,
   "metadata": {},
   "outputs": [],
   "source": [
    "import pickle\n",
    "# import plotly#\n",
    "# import plotly.graph_objs as go#\n",
    "import numpy as np\n",
    "import matplotlib.pyplot as plt"
   ]
  },
  {
   "cell_type": "code",
   "execution_count": 2,
   "metadata": {},
   "outputs": [],
   "source": [
    "genome_id = '220668.9'\n",
    "file_name = \"../metabolic_output/%s.data\" % (genome_id)\n",
    "total_dataset_dict = pickle.load(open(file_name, \"rb\"))"
   ]
  },
  {
   "cell_type": "code",
   "execution_count": 3,
   "metadata": {},
   "outputs": [],
   "source": [
    "# total_dataset_dict"
   ]
  },
  {
   "cell_type": "code",
   "execution_count": 4,
   "metadata": {},
   "outputs": [
    {
     "data": {
      "text/plain": [
       "{'Carbon': ['Palmitate', 'cpd00214'],\n",
       " 'Model_ID': '220668.9',\n",
       " 'Nitrogen': ['NH3', 'cpd00013'],\n",
       " 'active_rxns':                     fluxes\n",
       " rxn00179_c      500.000000\n",
       " rxn02374_c      500.000000\n",
       " rxn05319_c      500.000000\n",
       " rxn00612_c     1000.000000\n",
       " rxn05466_c      500.000000\n",
       " rxn10113_c      166.666667\n",
       " rxn10122_c      166.666667\n",
       " rxn00611_c    -1000.000000\n",
       " rxn10042_c      500.000000\n",
       " rxn00184_c     -500.000000\n",
       " rxn02373_c      500.000000\n",
       " rxn05468_c     -500.000000\n",
       " rxn00929_c     -500.000000\n",
       " rxn05467_c     -500.000000\n",
       " EX_cpd00067_e -1000.000000\n",
       " EX_cpd00001_e   500.000000\n",
       " EX_cpd00013_e  -500.000000\n",
       " EX_cpd00007_e   500.000000\n",
       " EX_cpd00011_e   500.000000\n",
       " EX_cpd00137_e  -500.000000\n",
       " DM_cpd00129_c   500.000000\n",
       " rxn13771_c     -583.333333\n",
       " rxn10946_c     -500.000000\n",
       " rxn00973_c      500.000000\n",
       " rxn00505_c      500.000000,\n",
       " 'avg_path_like': 0.568976858004819,\n",
       " 'demands': [],\n",
       " 'gap_avg_like': 0.0,\n",
       " 'gaps_filled': {u'rxn00505_c', u'rxn00973_c', u'rxn10946_c', u'rxn13771_c'},\n",
       " 'gaps_w_flux': [['rxn00973_c', 0.0], ['rxn00505_c', 0.0]],\n",
       " 'mets_added': {'cpd00260_c'},\n",
       " 'objective': 'L-Proline',\n",
       " 'opt_after': 500.0000000000009,\n",
       " 'opt_before': 0.0,\n",
       " 'path_avg_like': 0.6827722296057829,\n",
       " 'path_w_flux': [['rxn00179_c', 0.737071802475877],\n",
       "  ['rxn00612_c', 0.7484405309001277],\n",
       "  ['rxn05466_c', 0.6537482407428824],\n",
       "  ['rxn10113_c', 0.9930266647154689],\n",
       "  ['rxn10122_c', 0.1179088482915993],\n",
       "  ['rxn00611_c', 0.7484405309001277],\n",
       "  ['rxn10042_c', 0.6189340413235531],\n",
       "  ['rxn00184_c', 0.7336237270826534],\n",
       "  ['rxn02373_c', 0.7299713274281023],\n",
       "  ['rxn00929_c', 0.7465565821974371]],\n",
       " 'reactions_w_flux': [['rxn00179_c', 0.737071802475877],\n",
       "  ['rxn00612_c', 0.7484405309001277],\n",
       "  ['rxn05466_c', 0.6537482407428824],\n",
       "  ['rxn10113_c', 0.9930266647154689],\n",
       "  ['rxn10122_c', 0.1179088482915993],\n",
       "  ['rxn00611_c', 0.7484405309001277],\n",
       "  ['rxn10042_c', 0.6189340413235531],\n",
       "  ['rxn00184_c', 0.7336237270826534],\n",
       "  ['rxn02373_c', 0.7299713274281023],\n",
       "  ['rxn00929_c', 0.7465565821974371],\n",
       "  ['rxn00973_c', 0.0],\n",
       "  ['rxn00505_c', 0.0]]}"
      ]
     },
     "execution_count": 4,
     "metadata": {},
     "output_type": "execute_result"
    }
   ],
   "source": [
    "total_dataset_dict['220668.9:20.0.18']"
   ]
  },
  {
   "cell_type": "code",
   "execution_count": 5,
   "metadata": {},
   "outputs": [],
   "source": [
    "whole_path_avg = []\n",
    "gap_avg = []\n",
    "orig_rxn_avg = []\n",
    "num_gaps_filled = []\n",
    "num_mets_added = []\n",
    "num_rxn_w_flux = []\n",
    "num_demands = []\n",
    "\n",
    "for carb_ind in list(range(0,27)):\n",
    "    for prod_ind in list(range(0,36)):\n",
    "        ID = str(genome_id + ':' + str(carb_ind) + '.0.' + str(prod_ind))\n",
    "        whole_path_avg.append(total_dataset_dict[ID]['avg_path_like'])\n",
    "        gap_avg.append(total_dataset_dict[ID]['gap_avg_like'])\n",
    "        orig_rxn_avg.append(total_dataset_dict[ID]['path_avg_like'])\n",
    "        num_gaps_filled.append(len(total_dataset_dict[ID]['gaps_filled']))\n",
    "        num_mets_added.append(len(total_dataset_dict[ID]['mets_added']))\n",
    "        num_rxn_w_flux.append(len(total_dataset_dict[ID]['reactions_w_flux']))\n",
    "        num_demands.append(len(total_dataset_dict[ID]['demands']))\n"
   ]
  },
  {
   "cell_type": "code",
   "execution_count": 24,
   "metadata": {},
   "outputs": [
    {
     "name": "stdout",
     "output_type": "stream",
     "text": [
      "220668.9:0.0.32\n",
      "nan: 220668.9:1.0.26\n",
      "220668.9:1.0.32\n",
      "nan: 220668.9:2.0.26\n",
      "220668.9:2.0.32\n",
      "220668.9:3.0.32\n",
      "220668.9:4.0.32\n",
      "220668.9:5.0.32\n",
      "220668.9:6.0.32\n",
      "220668.9:7.0.32\n",
      "220668.9:8.0.32\n",
      "220668.9:9.0.32\n",
      "220668.9:10.0.32\n",
      "220668.9:11.0.32\n",
      "220668.9:12.0.32\n",
      "220668.9:13.0.32\n",
      "nan: 220668.9:14.0.26\n",
      "220668.9:14.0.32\n",
      "220668.9:15.0.32\n",
      "220668.9:16.0.32\n",
      "220668.9:17.0.32\n",
      "220668.9:18.0.32\n",
      "220668.9:19.0.32\n",
      "220668.9:20.0.32\n",
      "nan: 220668.9:21.0.26\n",
      "nan: 220668.9:21.0.30\n",
      "220668.9:21.0.32\n",
      "220668.9:22.0.32\n",
      "220668.9:23.0.32\n",
      "nan: 220668.9:24.0.26\n",
      "220668.9:24.0.32\n",
      "nan: 220668.9:25.0.26\n",
      "220668.9:25.0.32\n",
      "nan: 220668.9:26.0.26\n",
      "220668.9:26.0.32\n"
     ]
    }
   ],
   "source": [
    "# Which conditions result in: nan?\n",
    "for carb_ind in list(range(0,27)):\n",
    "    for prod_ind in list(range(0,36)):\n",
    "        ID = str(genome_id + ':' + str(carb_ind) + '.0.' + str(prod_ind))\n",
    "        try:\n",
    "            round(total_dataset_dict[ID]['avg_path_like'], 3)\n",
    "            if np.isnan(total_dataset_dict[ID]['avg_path_like']):\n",
    "                print('nan: ' + ID)\n",
    "            elif total_dataset_dict[ID]['opt_after'] < 1.0:\n",
    "                print('zero: ' + ID)\n",
    "        except:\n",
    "            print(ID)\n",
    "            pass\n"
   ]
  },
  {
   "cell_type": "code",
   "execution_count": 22,
   "metadata": {},
   "outputs": [
    {
     "data": {
      "text/plain": [
       "{'Carbon': ['Amylotriose', 'cpd01262'],\n",
       " 'Model_ID': '220668.9',\n",
       " 'Nitrogen': ['NH3', 'cpd00013'],\n",
       " 'active_rxns':                fluxes\n",
       " rxn00022_c      400.0\n",
       " rxn04082_c    -1000.0\n",
       " rxn00225_c     -150.0\n",
       " rxn00148_c     -200.0\n",
       " rxn00781_c      200.0\n",
       " rxn05319_c     -800.0\n",
       " rxn00171_c     -650.0\n",
       " rxn00506_c      650.0\n",
       " rxn05500_c    -1000.0\n",
       " rxn01292_c    -1000.0\n",
       " rxn02380_c      200.0\n",
       " rxn00499_c     -200.0\n",
       " rxn01169_c      200.0\n",
       " rxn01100_c     -200.0\n",
       " rxn00173_c     -650.0\n",
       " rxn01116_c      600.0\n",
       " rxn01763_c    -1000.0\n",
       " rxn05746_c      400.0\n",
       " rxn01106_c     -200.0\n",
       " rxn10042_c       50.0\n",
       " rxn00548_c      600.0\n",
       " rxn05602_c     -200.0\n",
       " rxn01333_c     -600.0\n",
       " rxn00459_c      200.0\n",
       " rxn01187_c      200.0\n",
       " rxn00216_c     1000.0\n",
       " rxn00558_c     1000.0\n",
       " rxn01200_c      600.0\n",
       " rxn01171_c      200.0\n",
       " EX_cpd00067_e  1000.0\n",
       " EX_cpd00001_e  -800.0\n",
       " EX_cpd00224_e  1000.0\n",
       " EX_cpd00159_e   200.0\n",
       " EX_cpd01262_e  -400.0\n",
       " DM_cpd00029_c   800.0\n",
       " rxn05608_c      400.0\n",
       " rxn00777_c      600.0,\n",
       " 'avg_path_like': 0.5828582326086976,\n",
       " 'demands': [],\n",
       " 'gap_avg_like': 0.5101964849372886,\n",
       " 'gaps_filled': {u'rxn00777_c', u'rxn05608_c'},\n",
       " 'gaps_w_flux': [['rxn05608_c', 0.22901533245257005],\n",
       "  ['rxn00777_c', 0.7913776374220073]],\n",
       " 'mets_added': set(),\n",
       " 'objective': 'Acetate',\n",
       " 'opt_after': 799.9999999999977,\n",
       " 'opt_before': 0.0,\n",
       " 'path_avg_like': 0.5880483574423697,\n",
       " 'path_w_flux': [['rxn00022_c', 0.4931770333104928],\n",
       "  ['rxn04082_c', 0.743772609547454],\n",
       "  ['rxn00225_c', 0.7081615561511267],\n",
       "  ['rxn00148_c', 0.7321378826037916],\n",
       "  ['rxn00781_c', 0.5191220214505604],\n",
       "  ['rxn00171_c', 0.5965507016970588],\n",
       "  ['rxn00506_c', 0.39737340535002535],\n",
       "  ['rxn05500_c', 0.6356445256659282],\n",
       "  ['rxn01292_c', 0.7509517121843206],\n",
       "  ['rxn02380_c', 0.13632578864588127],\n",
       "  ['rxn00499_c', 0.8302829270557739],\n",
       "  ['rxn01169_c', 0.4759403048212528],\n",
       "  ['rxn01100_c', 0.5916669155435752],\n",
       "  ['rxn00173_c', 0.7297596125397976],\n",
       "  ['rxn01116_c', 0.7331256660930605],\n",
       "  ['rxn01763_c', 0.9794649761940855],\n",
       "  ['rxn05746_c', 0.25899563128423353],\n",
       "  ['rxn01106_c', 0.2510839990368638],\n",
       "  ['rxn10042_c', 0.6189340413235531],\n",
       "  ['rxn00548_c', 0.7603672794410494],\n",
       "  ['rxn05602_c', 0.7777435465715274],\n",
       "  ['rxn01333_c', 0.8979633240378723],\n",
       "  ['rxn00459_c', 0.5819488983073209],\n",
       "  ['rxn01187_c', 0.7603672794410494],\n",
       "  ['rxn00216_c', 0.4759403048212528],\n",
       "  ['rxn00558_c', 0.13632578864588127],\n",
       "  ['rxn01200_c', 0.2340700358459846],\n",
       "  ['rxn01171_c', 0.6581562407755815]],\n",
       " 'reactions_w_flux': [['rxn00022_c', 0.4931770333104928],\n",
       "  ['rxn04082_c', 0.743772609547454],\n",
       "  ['rxn00225_c', 0.7081615561511267],\n",
       "  ['rxn00148_c', 0.7321378826037916],\n",
       "  ['rxn00781_c', 0.5191220214505604],\n",
       "  ['rxn00171_c', 0.5965507016970588],\n",
       "  ['rxn00506_c', 0.39737340535002535],\n",
       "  ['rxn05500_c', 0.6356445256659282],\n",
       "  ['rxn01292_c', 0.7509517121843206],\n",
       "  ['rxn02380_c', 0.13632578864588127],\n",
       "  ['rxn00499_c', 0.8302829270557739],\n",
       "  ['rxn01169_c', 0.4759403048212528],\n",
       "  ['rxn01100_c', 0.5916669155435752],\n",
       "  ['rxn00173_c', 0.7297596125397976],\n",
       "  ['rxn01116_c', 0.7331256660930605],\n",
       "  ['rxn01763_c', 0.9794649761940855],\n",
       "  ['rxn05746_c', 0.25899563128423353],\n",
       "  ['rxn01106_c', 0.2510839990368638],\n",
       "  ['rxn10042_c', 0.6189340413235531],\n",
       "  ['rxn00548_c', 0.7603672794410494],\n",
       "  ['rxn05602_c', 0.7777435465715274],\n",
       "  ['rxn01333_c', 0.8979633240378723],\n",
       "  ['rxn00459_c', 0.5819488983073209],\n",
       "  ['rxn01187_c', 0.7603672794410494],\n",
       "  ['rxn00216_c', 0.4759403048212528],\n",
       "  ['rxn00558_c', 0.13632578864588127],\n",
       "  ['rxn01200_c', 0.2340700358459846],\n",
       "  ['rxn01171_c', 0.6581562407755815],\n",
       "  ['rxn05608_c', 0.22901533245257005],\n",
       "  ['rxn00777_c', 0.7913776374220073]]}"
      ]
     },
     "execution_count": 22,
     "metadata": {},
     "output_type": "execute_result"
    }
   ],
   "source": [
    "# Remove acetate from products.\n",
    "total_dataset_dict['220668.9:3.0.26']"
   ]
  },
  {
   "cell_type": "code",
   "execution_count": 18,
   "metadata": {},
   "outputs": [
    {
     "data": {
      "text/plain": [
       "{'Carbon': ['Propionate', 'cpd00141'],\n",
       " 'Model_ID': '220668.9',\n",
       " 'Nitrogen': ['NH3', 'cpd00013'],\n",
       " 'active_rxns':                fluxes\n",
       " EX_cpd00141_e -1000.0\n",
       " DM_cpd00141_c  1000.0\n",
       " rxn10836_c    -1000.0,\n",
       " 'avg_path_like': nan,\n",
       " 'demands': [],\n",
       " 'gap_avg_like': nan,\n",
       " 'gaps_filled': {u'rxn10836_c'},\n",
       " 'gaps_w_flux': [],\n",
       " 'mets_added': set(),\n",
       " 'objective': 'Propionate',\n",
       " 'opt_after': 1000.0000000000001,\n",
       " 'opt_before': 0.0,\n",
       " 'path_avg_like': nan,\n",
       " 'path_w_flux': [],\n",
       " 'reactions_w_flux': []}"
      ]
     },
     "execution_count": 18,
     "metadata": {},
     "output_type": "execute_result"
    }
   ],
   "source": [
    "# Fix propionate. Remove from carbon sources? \n",
    "total_dataset_dict['220668.9:21.0.30']"
   ]
  },
  {
   "cell_type": "code",
   "execution_count": 21,
   "metadata": {},
   "outputs": [
    {
     "data": {
      "text/plain": [
       "{'Carbon': ['hexadecenoate', 'cpd15237'],\n",
       " 'Model_ID': '220668.9',\n",
       " 'Nitrogen': ['NH3', 'cpd00013'],\n",
       " 'active_rxns': 'Failed to gapfill',\n",
       " 'avg_path_like': 'Failed to gapfill',\n",
       " 'demands': 'Failed to gapfill',\n",
       " 'gap_avg_like': 'Failed to gapfill',\n",
       " 'gaps_filled': 'Failed to gapfill',\n",
       " 'gaps_w_flux': 'Failed to gapfill',\n",
       " 'mets_added': 'Failed to gapfill',\n",
       " 'objective': 'Valerate',\n",
       " 'opt_after': 'Failed to gapfill',\n",
       " 'opt_before': 'Failed to gapfill',\n",
       " 'path_avg_like': 'Failed to gapfill',\n",
       " 'path_w_flux': 'Failed to gapfill',\n",
       " 'reactions_w_flux': 'Failed to gapfill'}"
      ]
     },
     "execution_count": 21,
     "metadata": {},
     "output_type": "execute_result"
    }
   ],
   "source": [
    "# Remove valerate? \n",
    "total_dataset_dict['220668.9:27.0.32']"
   ]
  },
  {
   "cell_type": "code",
   "execution_count": 36,
   "metadata": {},
   "outputs": [
    {
     "data": {
      "image/png": "[encoded data removed]",
      "text/plain": [
       "<Figure size 432x288 with 1 Axes>"
      ]
     },
     "metadata": {},
     "output_type": "display_data"
    }
   ],
   "source": [
    "whole_path_avg_new = []\n",
    "for i in whole_path_avg:\n",
    "    try:\n",
    "        i_new = round(i, 3)\n",
    "        if ~np.isnan(i):\n",
    "            whole_path_avg_new.append(i_new)\n",
    "    except:\n",
    "#         print(i)\n",
    "        pass\n",
    "\n",
    "plt.hist(whole_path_avg_new, bins='auto')  #\n",
    "plt.title(\"Avg like of whole path\")\n",
    "plt.show()"
   ]
  },
  {
   "cell_type": "code",
   "execution_count": 7,
   "metadata": {},
   "outputs": [
    {
     "data": {
      "image/png": "[encoded data removed]",
      "text/plain": [
       "<Figure size 432x288 with 1 Axes>"
      ]
     },
     "metadata": {},
     "output_type": "display_data"
    }
   ],
   "source": [
    "gap_avg_new = []\n",
    "for i in gap_avg:\n",
    "    try:\n",
    "        i_new = round(i, 3)\n",
    "        if ~np.isnan(i):\n",
    "            gap_avg_new.append(i_new)\n",
    "    except:\n",
    "#         print(i)\n",
    "        pass\n",
    "\n",
    "plt.hist(gap_avg_new, bins='auto')  #\n",
    "plt.title(\"Avg like of gaps added\")\n",
    "plt.show()"
   ]
  },
  {
   "cell_type": "code",
   "execution_count": 25,
   "metadata": {},
   "outputs": [
    {
     "data": {
      "image/png": "[encoded data removed]",
      "text/plain": [
       "<Figure size 432x288 with 1 Axes>"
      ]
     },
     "metadata": {},
     "output_type": "display_data"
    }
   ],
   "source": [
    "orig_rxn_avg_new = []\n",
    "for i in orig_rxn_avg:\n",
    "    try:\n",
    "        i_new = round(i, 3)\n",
    "        if ~np.isnan(i):\n",
    "            orig_rxn_avg_new.append(i_new)\n",
    "    except:\n",
    "#         print(i)\n",
    "        pass\n",
    "\n",
    "plt.hist(orig_rxn_avg_new, bins='auto')  #\n",
    "plt.title(\"Ave Like of reactions with flux originally in model\")\n",
    "plt.show()"
   ]
  },
  {
   "cell_type": "code",
   "execution_count": 9,
   "metadata": {},
   "outputs": [
    {
     "data": {
      "image/png": "[encoded data removed]",
      "text/plain": [
       "<Figure size 432x288 with 1 Axes>"
      ]
     },
     "metadata": {},
     "output_type": "display_data"
    }
   ],
   "source": [
    "plt.hist(num_gaps_filled, bins='auto')  #\n",
    "plt.title(\"Number of Gaps Filled\")\n",
    "plt.show()"
   ]
  },
  {
   "cell_type": "code",
   "execution_count": 10,
   "metadata": {},
   "outputs": [
    {
     "data": {
      "image/png": "[encoded data removed]",
      "text/plain": [
       "<Figure size 432x288 with 1 Axes>"
      ]
     },
     "metadata": {},
     "output_type": "display_data"
    }
   ],
   "source": [
    "plt.hist(num_mets_added, bins='auto')  #\n",
    "plt.title(\"Number of Metabolites Added\")\n",
    "plt.show()"
   ]
  },
  {
   "cell_type": "code",
   "execution_count": 11,
   "metadata": {},
   "outputs": [
    {
     "data": {
      "image/png": "[encoded data removed]",
      "text/plain": [
       "<Figure size 432x288 with 1 Axes>"
      ]
     },
     "metadata": {},
     "output_type": "display_data"
    }
   ],
   "source": [
    "plt.hist(num_rxn_w_flux, bins='auto')  #\n",
    "plt.title(\"Number of reactions that carry flux\")\n",
    "plt.show()"
   ]
  },
  {
   "cell_type": "code",
   "execution_count": 12,
   "metadata": {},
   "outputs": [
    {
     "data": {
      "image/png": "[encoded data removed]",
      "text/plain": [
       "<Figure size 432x288 with 1 Axes>"
      ]
     },
     "metadata": {},
     "output_type": "display_data"
    }
   ],
   "source": [
    "plt.hist(num_demands, bins=list(range(0,18)))  #\n",
    "plt.title(\"Number of demands used\")\n",
    "plt.show()"
   ]
  },
  {
   "cell_type": "code",
   "execution_count": 27,
   "metadata": {},
   "outputs": [
    {
     "data": {
      "image/png": "[encoded data removed]",
      "text/plain": [
       "<Figure size 432x288 with 1 Axes>"
      ]
     },
     "metadata": {},
     "output_type": "display_data"
    }
   ],
   "source": [
    "# Scatter of \n",
    "whole_path_avg_new = []\n",
    "skipped = []\n",
    "index = -1\n",
    "for i in whole_path_avg:\n",
    "    index += 1\n",
    "    try:\n",
    "        i_new = round(i, 3)\n",
    "        if np.isnan(i):\n",
    "            skipped.append(index)\n",
    "        elif ~np.isnan(i):\n",
    "            whole_path_avg_new.append(i_new)\n",
    "    except:\n",
    "        skipped.append(index)\n",
    "        pass\n",
    "\n",
    "num_rxn_w_flux_new = []\n",
    "index = -1\n",
    "for i in num_rxn_w_flux:\n",
    "    index += 1\n",
    "    if index not in skipped:\n",
    "        num_rxn_w_flux_new.append(i)\n",
    "\n",
    "plt.scatter(whole_path_avg_new, num_rxn_w_flux_new)  #\n",
    "plt.title(\"scatter\")\n",
    "plt.show()\n"
   ]
  },
  {
   "cell_type": "code",
   "execution_count": 28,
   "metadata": {},
   "outputs": [
    {
     "data": {
      "image/png": "[encoded data removed]",
      "text/plain": [
       "<Figure size 432x288 with 1 Axes>"
      ]
     },
     "metadata": {},
     "output_type": "display_data"
    }
   ],
   "source": [
    "# Scatter of \n",
    "\n",
    "gap_avg_new = []\n",
    "skipped = []\n",
    "index = -1\n",
    "for i in gap_avg:\n",
    "    index += 1\n",
    "    try:\n",
    "        i_new = round(i, 3)\n",
    "        if np.isnan(i):\n",
    "            skipped.append(index)\n",
    "        elif ~np.isnan(i):\n",
    "            gap_avg_new.append(i_new)\n",
    "    except:\n",
    "        skipped.append(index)\n",
    "        pass\n",
    "\n",
    "num_rxn_w_flux_new = []\n",
    "index = -1\n",
    "for i in num_rxn_w_flux:\n",
    "    index += 1\n",
    "    if index not in skipped:\n",
    "        num_rxn_w_flux_new.append(i)\n",
    "\n",
    "plt.scatter(gap_avg_new, num_rxn_w_flux_new)  #\n",
    "plt.title(\"scatter\")\n",
    "plt.show()"
   ]
  },
  {
   "cell_type": "code",
   "execution_count": 33,
   "metadata": {},
   "outputs": [
    {
     "name": "stdout",
     "output_type": "stream",
     "text": [
      "921\n",
      "921\n"
     ]
    }
   ],
   "source": [
    "print(len(gap_avg_new))\n",
    "print(len(whole_path_avg_new))"
   ]
  },
  {
   "cell_type": "code",
   "execution_count": 32,
   "metadata": {},
   "outputs": [
    {
     "data": {
      "image/png": "[encoded data removed]",
      "text/plain": [
       "<Figure size 432x288 with 1 Axes>"
      ]
     },
     "metadata": {},
     "output_type": "display_data"
    }
   ],
   "source": [
    "gap_avg_new = []\n",
    "skipped = []\n",
    "index = -1\n",
    "for i in gap_avg:\n",
    "    index += 1\n",
    "    try:\n",
    "        i_new = round(i, 3)\n",
    "        if np.isnan(i):\n",
    "            skipped.append(index)\n",
    "        elif ~np.isnan(i):\n",
    "            gap_avg_new.append(i_new)\n",
    "    except:\n",
    "        skipped.append(index)\n",
    "        pass\n",
    "\n",
    "whole_path_avg_new = []\n",
    "index = -1\n",
    "for i in whole_path_avg:\n",
    "    index += 1\n",
    "    if index not in skipped:\n",
    "        whole_path_avg_new.append(i)\n",
    "\n",
    "plt.scatter(gap_avg_new, whole_path_avg_new)  #\n",
    "plt.title(\"scatter\")\n",
    "plt.show()"
   ]
  },
  {
   "cell_type": "code",
   "execution_count": 34,
   "metadata": {},
   "outputs": [
    {
     "data": {
      "image/png": "[encoded data removed]",
      "text/plain": [
       "<Figure size 432x288 with 1 Axes>"
      ]
     },
     "metadata": {},
     "output_type": "display_data"
    }
   ],
   "source": [
    "plt.scatter(num_rxn_w_flux, num_gaps_filled)  #\n",
    "plt.title(\"scatter\")\n",
    "plt.show()"
   ]
  },
  {
   "cell_type": "code",
   "execution_count": 35,
   "metadata": {},
   "outputs": [
    {
     "data": {
      "image/png": "[encoded data removed]",
      "text/plain": [
       "<Figure size 432x288 with 1 Axes>"
      ]
     },
     "metadata": {},
     "output_type": "display_data"
    }
   ],
   "source": [
    "gap_avg_new = []\n",
    "skipped = []\n",
    "index = -1\n",
    "for i in gap_avg:\n",
    "    index += 1\n",
    "    try:\n",
    "        i_new = round(i, 3)\n",
    "        if np.isnan(i):\n",
    "            skipped.append(index)\n",
    "        elif ~np.isnan(i):\n",
    "            gap_avg_new.append(i_new)\n",
    "    except:\n",
    "        skipped.append(index)\n",
    "        pass\n",
    "\n",
    "orig_rxn_avg_new = []\n",
    "index = -1\n",
    "for i in orig_rxn_avg:\n",
    "    index += 1\n",
    "    if index not in skipped:\n",
    "        orig_rxn_avg_new.append(i)\n",
    "\n",
    "plt.scatter(gap_avg_new, orig_rxn_avg_new)  #\n",
    "plt.title(\"scatter\")\n",
    "plt.show()"
   ]
  },
  {
   "cell_type": "code",
   "execution_count": null,
   "metadata": {},
   "outputs": [],
   "source": [
    "def makeShared(models, output_file):\n",
    "    \n",
    "    rxns = set()\n",
    "    \n",
    "    for index in models:\n",
    "        rxns |= set([x.id for x in index.reactions])\n",
    "    \n",
    "    rxns = list(rxns)\n",
    "    \n",
    "    rxn_file = open(rxn_file, 'w')\n",
    "    header = 'model\\t' + '\\t'.join(rxns) + '\\n'\n",
    "    rxn_file.write(header)\n",
    "    \n",
    "    for index in models:\n",
    "        rxn_file.write(str(index) + '\\t')\n",
    "        cpd_file.write(str(index) + '\\t')\n",
    "        exch_file.write(str(index) + '\\t')\n",
    "        \n",
    "        curr_rxn = set([x.id for x in index.reactions])\n",
    "        curr_cpd = set([x.id for x in index.metabolites])\n",
    "        curr_ex = set([x.id for x in index.exchanges])\n",
    "        \n",
    "        for x in rxns:\n",
    "            if x in x in curr_rxn:\n",
    "                rxn_file.write('1')\n",
    "            else:\n",
    "                rxn_file.write('0')\n",
    "            if x != rxns[-1]:\n",
    "                rxn_file.write('\\t')\n",
    "        rxn_file.write('\\n')\n",
    "    \n",
    "    rxn_file.close()"
   ]
  },
  {
   "cell_type": "code",
   "execution_count": null,
   "metadata": {},
   "outputs": [],
   "source": [
    "makeShared(models, '../metabolic_output/rxn_file.tsv')"
   ]
  },
  {
   "cell_type": "code",
   "execution_count": null,
   "metadata": {},
   "outputs": [],
   "source": [
    "\n",
    "\n",
    "\n",
    "\n",
    "\n",
    "\n",
    "\n",
    "\n",
    "\n",
    "\n",
    "\n",
    "\n",
    "\n",
    "\n",
    "\n",
    "\n",
    "\n",
    "\n",
    "\n",
    "\n",
    "\n",
    "\n",
    "\n",
    "\n",
    "\n",
    "\n",
    "\n",
    "\n",
    "\n",
    "\n",
    "\n",
    "\n",
    "\n",
    "\n",
    "\n",
    "\n",
    "\n",
    "\n",
    "\n",
    "\n",
    "\n",
    "\n",
    "\n",
    "\n",
    "\n",
    "\n",
    "\n",
    "\n",
    "\n",
    "\n",
    "\n",
    "\n",
    "\n",
    "\n",
    "\n",
    "\n",
    "\n",
    "\n",
    "\n",
    "\n",
    "\n",
    "\n",
    "\n",
    "\n"
   ]
  }
 ],
 "metadata": {
  "kernelspec": {
   "display_name": "Python 2",
   "language": "python",
   "name": "python2"
  },
  "language_info": {
   "codemirror_mode": {
    "name": "ipython",
    "version": 2
   },
   "file_extension": ".py",
   "mimetype": "text/x-python",
   "name": "python",
   "nbconvert_exporter": "python",
   "pygments_lexer": "ipython2",
   "version": "2.7.12"
  }
 },
 "nbformat": 4,
 "nbformat_minor": 2
}
