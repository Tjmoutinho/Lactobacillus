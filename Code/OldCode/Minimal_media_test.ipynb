{
 "cells": [
  {
   "cell_type": "code",
   "execution_count": 10,
   "metadata": {},
   "outputs": [],
   "source": [
    "import cobra\n",
    "from cobra.medium.minimal_medium import *\n",
    "import pandas as pd\n",
    "import json"
   ]
  },
  {
   "cell_type": "code",
   "execution_count": 2,
   "metadata": {},
   "outputs": [],
   "source": [
    "model = cobra.io.read_sbml_model('../models/220668.9.xml')"
   ]
  },
  {
   "cell_type": "code",
   "execution_count": 3,
   "metadata": {},
   "outputs": [
    {
     "data": {
      "text/plain": [
       "EX_cpd00276_e    0.019867\n",
       "EX_cpd00080_e    0.122627\n",
       "EX_cpd00058_e    0.000794\n",
       "EX_cpd01017_e    0.020221\n",
       "EX_cpd10515_e    0.000794\n",
       "EX_cpd00034_e    0.000794\n",
       "EX_cpd15605_e    0.017619\n",
       "EX_cpd03696_e    0.000794\n",
       "EX_cpd00309_e    0.015131\n",
       "EX_cpd11580_e    0.048548\n",
       "EX_cpd00220_e    0.001588\n",
       "EX_cpd00254_e    0.000794\n",
       "EX_cpd00305_e    0.000794\n",
       "EX_cpd00039_e    0.032550\n",
       "EX_cpd15606_e    0.011104\n",
       "EX_cpd10516_e    0.000794\n",
       "EX_cpd00030_e    0.000794\n",
       "EX_cpd00149_e    0.000794\n",
       "EX_cpd00794_e    2.119984\n",
       "EX_cpd15604_e    0.043061\n",
       "EX_cpd11587_e    0.040864\n",
       "EX_cpd00092_e    0.008122\n",
       "EX_cpd00205_e    0.000794\n",
       "EX_cpd11584_e    0.007565\n",
       "EX_cpd00355_e    0.001588\n",
       "EX_cpd11606_e    0.001588\n",
       "EX_cpd00393_e    0.002382\n",
       "EX_cpd00322_e    0.035357\n",
       "EX_cpd00099_e    0.000794\n",
       "EX_cpd00644_e    0.001588\n",
       "EX_cpd00028_e    0.001588\n",
       "EX_cpd00063_e    0.000794\n",
       "EX_cpd00048_e    0.000794\n",
       "EX_cpd00156_e    0.030772\n",
       "EX_cpd00264_e    0.000794\n",
       "EX_cpd01080_e    0.008315\n",
       "dtype: float64"
      ]
     },
     "execution_count": 3,
     "metadata": {},
     "output_type": "execute_result"
    }
   ],
   "source": [
    "solution = minimal_medium(model, min_objective_value=0.1, exports=False, \n",
    "                          minimize_components=False, open_exchanges=False)\n",
    "solution"
   ]
  },
  {
   "cell_type": "code",
   "execution_count": 7,
   "metadata": {},
   "outputs": [
    {
     "data": {
      "text/plain": [
       "36"
      ]
     },
     "execution_count": 7,
     "metadata": {},
     "output_type": "execute_result"
    }
   ],
   "source": [
    "len(solution)"
   ]
  },
  {
   "cell_type": "code",
   "execution_count": 8,
   "metadata": {},
   "outputs": [
    {
     "data": {
      "text/plain": [
       "35"
      ]
     },
     "execution_count": 8,
     "metadata": {},
     "output_type": "execute_result"
    }
   ],
   "source": [
    "len(solution2)"
   ]
  },
  {
   "cell_type": "code",
   "execution_count": 4,
   "metadata": {},
   "outputs": [
    {
     "data": {
      "text/plain": [
       "EX_cpd00080_e    768.687953\n",
       "EX_cpd00058_e      0.000794\n",
       "EX_cpd10515_e      0.000794\n",
       "EX_cpd00060_e      0.006776\n",
       "EX_cpd00034_e      0.000794\n",
       "EX_cpd15605_e      0.017619\n",
       "EX_cpd00122_e      0.151751\n",
       "EX_cpd15603_e      0.008077\n",
       "EX_cpd03696_e      0.000794\n",
       "EX_cpd00309_e    635.834156\n",
       "EX_cpd00220_e      0.001588\n",
       "EX_cpd00254_e      0.000794\n",
       "EX_cpd00305_e      0.000794\n",
       "EX_cpd00039_e      0.032550\n",
       "EX_cpd15606_e      0.011104\n",
       "EX_cpd10516_e      0.000794\n",
       "EX_cpd00030_e      0.000794\n",
       "EX_cpd00149_e      0.000794\n",
       "EX_cpd11583_e      0.043061\n",
       "EX_cpd11592_e      0.089412\n",
       "EX_cpd00092_e      0.008122\n",
       "EX_cpd11590_e      0.005368\n",
       "EX_cpd00205_e      0.000794\n",
       "EX_cpd00355_e      0.001588\n",
       "EX_cpd11606_e      0.001588\n",
       "EX_cpd00393_e      0.002382\n",
       "EX_cpd00322_e      0.035357\n",
       "EX_cpd00099_e      0.000794\n",
       "EX_cpd00644_e      0.001588\n",
       "EX_cpd00028_e      0.001588\n",
       "EX_cpd00063_e      0.000794\n",
       "EX_cpd00048_e      0.000794\n",
       "EX_cpd00156_e      0.030772\n",
       "EX_cpd00264_e      0.000794\n",
       "EX_cpd01080_e      0.008315\n",
       "dtype: float64"
      ]
     },
     "execution_count": 4,
     "metadata": {},
     "output_type": "execute_result"
    }
   ],
   "source": [
    "solution2 = minimal_medium(model, min_objective_value=0.1, exports=False, \n",
    "                          minimize_components=True, open_exchanges=False)\n",
    "solution2"
   ]
  },
  {
   "cell_type": "code",
   "execution_count": 5,
   "metadata": {},
   "outputs": [
    {
     "data": {
      "text/html": [
       "\n",
       "        <table>\n",
       "            <tr>\n",
       "                <td><strong>Reaction identifier</strong></td><td>EX_cpd00080_e</td>\n",
       "            </tr><tr>\n",
       "                <td><strong>Name</strong></td><td>Glycerol-3-phosphate exchange</td>\n",
       "            </tr><tr>\n",
       "                <td><strong>Memory address</strong></td>\n",
       "                <td>0x07f44168c6828</td>\n",
       "            </tr><tr>\n",
       "                <td><strong>Stoichiometry</strong></td>\n",
       "                <td>\n",
       "                    <p style='text-align:right'>cpd00080_e <=> </p>\n",
       "                    <p style='text-align:right'>Glycerol-3-phosphate <=> </p>\n",
       "                </td>\n",
       "            </tr><tr>\n",
       "                <td><strong>GPR</strong></td><td></td>\n",
       "            </tr><tr>\n",
       "                <td><strong>Lower bound</strong></td><td>-1000.0</td>\n",
       "            </tr><tr>\n",
       "                <td><strong>Upper bound</strong></td><td>1000.0</td>\n",
       "            </tr>\n",
       "        </table>\n",
       "        "
      ],
      "text/plain": [
       "<Reaction EX_cpd00080_e at 0x7f44168c6828>"
      ]
     },
     "execution_count": 5,
     "metadata": {},
     "output_type": "execute_result"
    }
   ],
   "source": [
    "model.reactions.get_by_id('EX_cpd00080_e')"
   ]
  },
  {
   "cell_type": "code",
   "execution_count": 6,
   "metadata": {},
   "outputs": [
    {
     "data": {
      "text/html": [
       "\n",
       "        <table>\n",
       "            <tr>\n",
       "                <td><strong>Reaction identifier</strong></td><td>EX_cpd00309_e</td>\n",
       "            </tr><tr>\n",
       "                <td><strong>Name</strong></td><td>XAN exchange</td>\n",
       "            </tr><tr>\n",
       "                <td><strong>Memory address</strong></td>\n",
       "                <td>0x07f44168cf6d8</td>\n",
       "            </tr><tr>\n",
       "                <td><strong>Stoichiometry</strong></td>\n",
       "                <td>\n",
       "                    <p style='text-align:right'>cpd00309_e <=> </p>\n",
       "                    <p style='text-align:right'>XAN <=> </p>\n",
       "                </td>\n",
       "            </tr><tr>\n",
       "                <td><strong>GPR</strong></td><td></td>\n",
       "            </tr><tr>\n",
       "                <td><strong>Lower bound</strong></td><td>-1000.0</td>\n",
       "            </tr><tr>\n",
       "                <td><strong>Upper bound</strong></td><td>1000.0</td>\n",
       "            </tr>\n",
       "        </table>\n",
       "        "
      ],
      "text/plain": [
       "<Reaction EX_cpd00309_e at 0x7f44168cf6d8>"
      ]
     },
     "execution_count": 6,
     "metadata": {},
     "output_type": "execute_result"
    }
   ],
   "source": [
    "model.reactions.get_by_id('EX_cpd00309_e')"
   ]
  }
 ],
 "metadata": {
  "kernelspec": {
   "display_name": "Python 3",
   "language": "python",
   "name": "python3"
  },
  "language_info": {
   "codemirror_mode": {
    "name": "ipython",
    "version": 3
   },
   "file_extension": ".py",
   "mimetype": "text/x-python",
   "name": "python",
   "nbconvert_exporter": "python",
   "pygments_lexer": "ipython3",
   "version": "3.5.2"
  }
 },
 "nbformat": 4,
 "nbformat_minor": 2
}
