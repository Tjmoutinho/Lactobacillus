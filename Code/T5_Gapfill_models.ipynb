{
 "cells": [
  {
   "cell_type": "code",
   "execution_count": 2,
   "metadata": {},
   "outputs": [],
   "source": [
    "import cobra\n",
    "# print cobra.__version__\n",
    "from cobra.flux_analysis import gapfill\n",
    "import glob\n",
    "import time\n",
    "import pickle\n",
    "import copy"
   ]
  },
  {
   "cell_type": "code",
   "execution_count": 4,
   "metadata": {},
   "outputs": [
    {
     "ename": "EOFError",
     "evalue": "Ran out of input",
     "output_type": "error",
     "traceback": [
      "\u001b[0;31m---------------------------------------------------------------------------\u001b[0m",
      "\u001b[0;31mEOFError\u001b[0m                                  Traceback (most recent call last)",
      "\u001b[0;32m<ipython-input-4-806d15bcad44>\u001b[0m in \u001b[0;36m<module>\u001b[0;34m()\u001b[0m\n\u001b[1;32m      7\u001b[0m     \u001b[0;31m# The protocol version used is detected automatically, so we do not\u001b[0m\u001b[0;34m\u001b[0m\u001b[0;34m\u001b[0m\u001b[0m\n\u001b[1;32m      8\u001b[0m     \u001b[0;31m# have to specify it.\u001b[0m\u001b[0;34m\u001b[0m\u001b[0;34m\u001b[0m\u001b[0m\n\u001b[0;32m----> 9\u001b[0;31m     \u001b[0mrxn_probs\u001b[0m \u001b[0;34m=\u001b[0m \u001b[0mpickle\u001b[0m\u001b[0;34m.\u001b[0m\u001b[0mload\u001b[0m\u001b[0;34m(\u001b[0m\u001b[0mf\u001b[0m\u001b[0;34m)\u001b[0m\u001b[0;34m\u001b[0m\u001b[0m\n\u001b[0m",
      "\u001b[0;31mEOFError\u001b[0m: Ran out of input"
     ]
    }
   ],
   "source": [
    "# Look at the reaction probs object given by probannopy\n",
    "\n",
    "# rxn_probs = pickle.load(open(\"../Data/rxn_probs.dic\",\"rb\"))\n",
    "# rxn_probs\n",
    "\n",
    "with open('../Data/rxn_probs.dic', 'rb') as f:\n",
    "    # The protocol version used is detected automatically, so we do not\n",
    "    # have to specify it.\n",
    "    rxn_probs = pickle.load(f)\n"
   ]
  },
  {
   "cell_type": "code",
   "execution_count": null,
   "metadata": {},
   "outputs": [],
   "source": [
    "model_paths = glob.glob('../gap_models/*.xml')\n",
    "gap_models_ids = [x.replace(\"../gap_models/\",\"\").replace(\".xml\",\"\") for x in model_paths]"
   ]
  },
  {
   "cell_type": "code",
   "execution_count": null,
   "metadata": {},
   "outputs": [],
   "source": []
  },
  {
   "cell_type": "code",
   "execution_count": null,
   "metadata": {},
   "outputs": [],
   "source": [
    "t = time.time()\n",
    "model = cobra.io.read_sbml_model('../gap_models/1051650.8.xml')\n",
    "with model as model_x:\n",
    "    gaps = findGapFilled(model_x)\n",
    "    for rxn in gaps:\n",
    "        model_x.remove_reactions([rxn])\n",
    "#     print(model_x.optimize().objective_value)\n",
    "    solution = gapfill(model, universal, demand_reactions=False)\n",
    "    for reaction in solution[0]:\n",
    "        print(reaction.id)\n",
    "        \n",
    "elapsed = time.time() - t\n",
    "print \"Time to complete:\", elapsed/60, \"mins\""
   ]
  },
  {
   "cell_type": "code",
   "execution_count": null,
   "metadata": {},
   "outputs": [],
   "source": [
    "# turn off O2 exchange\n",
    "model.reactions.get_by_id('EX_cpd00007_e').lower_bound = 0.\n",
    "\n",
    "# Ensure free water exhange\n",
    "cpd00001_c = cobra.Metabolite(\n",
    "    'cpd00001_c',\n",
    "    formula='H2O',\n",
    "    name='water',\n",
    "    compartment='c')\n",
    "model.add_metabolites([cpd00001_c])\n",
    "model.reactions.get_by_id('rxn05319_c').bounds = (-1000., 1000.)"
   ]
  }
 ],
 "metadata": {
  "kernelspec": {
   "display_name": "Python 3",
   "language": "python",
   "name": "python3"
  },
  "language_info": {
   "codemirror_mode": {
    "name": "ipython",
    "version": 3
   },
   "file_extension": ".py",
   "mimetype": "text/x-python",
   "name": "python",
   "nbconvert_exporter": "python",
   "pygments_lexer": "ipython3",
   "version": "3.5.2"
  }
 },
 "nbformat": 4,
 "nbformat_minor": 2
}
