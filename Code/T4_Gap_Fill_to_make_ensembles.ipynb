{
 "cells": [
  {
   "cell_type": "code",
   "execution_count": 2,
   "metadata": {},
   "outputs": [
    {
     "name": "stdout",
     "output_type": "stream",
     "text": [
      "0.13.0\n"
     ]
    }
   ],
   "source": [
    "import cobra\n",
    "print cobra.__version__\n",
    "from cobra.flux_analysis import gapfill\n",
    "import glob\n",
    "import time\n",
    "import pickle\n",
    "import copy"
   ]
  },
  {
   "cell_type": "code",
   "execution_count": 1,
   "metadata": {},
   "outputs": [],
   "source": [
    "# Identify gapfilled reactions\n",
    "def findGapFilled(model):\n",
    "    gapfilled = []\n",
    "    for index in model.reactions:\n",
    "        if not index.id in ['bio1']:\n",
    "            if len(list(index.genes)) == 0:\n",
    "                if not index in model.boundary:\n",
    "                    gapfilled.append(index.id)\n",
    "\n",
    "#     if len(gapfilled) > 0:\n",
    "#         print(str(len(gapfilled)) + ' reactions not associated with genes')\n",
    "    \n",
    "    return gapfilled\n",
    "\n",
    "# Remove gapfilled rxns from the PATRIC model\n",
    "def pruneGaps(model, orphans, gap_object):\n",
    "    model_temp = copy.deepcopy(model)\n",
    "    gaps_total = set()\n",
    "    for index in gap_object:\n",
    "        gaps = [x for x in index['reactions']]\n",
    "        gaps_total |= set(gaps)\n",
    "\n",
    "    model_gaps = []\n",
    "    for x in gaps_total:\n",
    "        try:\n",
    "            model_gaps.append(model_temp.reactions.get_by_id(x).id)\n",
    "        except:\n",
    "            pass\n",
    "\n",
    "    remove = [x for x in model_gaps if x in orphans]    \n",
    "\n",
    "#     print('Reactions removed: ' + str(len(remove)))\n",
    "    model_temp.remove_reactions(remove)\n",
    "\n",
    "    return(model_temp)"
   ]
  },
  {
   "cell_type": "code",
   "execution_count": 31,
   "metadata": {},
   "outputs": [],
   "source": [
    "universal = cobra.io.load_json_model(\"../Data/GramPosUni.json\")"
   ]
  },
  {
   "cell_type": "code",
   "execution_count": 3,
   "metadata": {},
   "outputs": [],
   "source": [
    "## Remove all gapfilled reactions from models and save new models\n",
    "model_paths = glob.glob('../models/*.xml')\n",
    "genome_ids = [x.replace(\"../models/\",\"\").replace(\".xml\",\"\") for x in model_paths]\n",
    "model_paths = glob.glob('../gap_models/*.xml')\n",
    "gap_models_ids = [x.replace(\"../gap_models/\",\"\").replace(\".xml\",\"\") for x in model_paths]\n",
    "\n",
    "failed_index = []\n",
    "for genome_id in genome_ids:\n",
    "    if not genome_id in gap_models_ids:\n",
    "        try:\n",
    "            file_name = \"../models/%s.xml\" % (genome_id)\n",
    "            model = cobra.io.read_sbml_model(file_name)\n",
    "            orphans = findGapFilled(model)\n",
    "            pickle_path = \"../gapfilled/%s.gf\" % (genome_id)\n",
    "            gap_object = pickle.load(open(pickle_path, \"rb\"))\n",
    "            pruned_model = pruneGaps(model, orphans, gap_object)\n",
    "            write_file_name = \"../gap_models/%s.xml\" % (genome_id)\n",
    "            cobra.io.write_sbml_model(pruned_model, write_file_name)\n",
    "#             genome_ids.remove(genome_id)\n",
    "        except:\n",
    "            failed_index.append(genome_id)\n",
    "            pass"
   ]
  },
  {
   "cell_type": "code",
   "execution_count": 38,
   "metadata": {},
   "outputs": [
    {
     "name": "stdout",
     "output_type": "stream",
     "text": [
      "<Solution 58.405 at 0x7f8028b38650>\n"
     ]
    }
   ],
   "source": [
    "solution = model.optimize()\n",
    "print(solution)"
   ]
  },
  {
   "cell_type": "code",
   "execution_count": 39,
   "metadata": {},
   "outputs": [
    {
     "name": "stdout",
     "output_type": "stream",
     "text": [
      "<Solution 0.000 at 0x7f802a1c5550>\n"
     ]
    }
   ],
   "source": [
    "solution = pruned_model.optimize()\n",
    "print(solution)"
   ]
  },
  {
   "cell_type": "code",
   "execution_count": null,
   "metadata": {},
   "outputs": [
    {
     "name": "stdout",
     "output_type": "stream",
     "text": [
      "133 reactions not associated with genes\n"
     ]
    }
   ],
   "source": [
    "t = time.time()\n",
    "# model = cobra.io.read_sbml_model('../models/1051650.8.xml')\n",
    "with model as model_x:\n",
    "    gaps = findGapFilled(model_x)\n",
    "    for rxn in gaps:\n",
    "        model_x.remove_reactions([rxn])\n",
    "#     print(model_x.optimize().objective_value)\n",
    "    solution = gapfill(model, universal, demand_reactions=False)\n",
    "    for reaction in solution[0]:\n",
    "        print(reaction.id)\n",
    "        \n",
    "elapsed = time.time() - t\n",
    "print \"Time to complete:\", elapsed/60, \"mins\""
   ]
  },
  {
   "cell_type": "code",
   "execution_count": null,
   "metadata": {},
   "outputs": [],
   "source": [
    "solution"
   ]
  },
  {
   "cell_type": "code",
   "execution_count": null,
   "metadata": {},
   "outputs": [],
   "source": [
    "\n",
    "\n",
    "\n",
    "\n",
    "\n",
    "\n",
    "\n",
    "\n",
    "\n",
    "\n",
    "\n",
    "\n",
    "\n",
    "\n",
    "\n",
    "\n",
    "\n",
    "\n",
    "\n",
    "\n",
    "\n",
    "\n",
    "\n",
    "\n",
    "\n",
    "\n",
    "\n",
    "\n",
    "\n",
    "\n",
    "\n",
    "\n",
    "\n",
    "\n",
    "\n",
    "\n",
    "\n",
    "\n"
   ]
  }
 ],
 "metadata": {
  "kernelspec": {
   "display_name": "Python 2",
   "language": "python",
   "name": "python2"
  },
  "language_info": {
   "codemirror_mode": {
    "name": "ipython",
    "version": 2
   },
   "file_extension": ".py",
   "mimetype": "text/x-python",
   "name": "python",
   "nbconvert_exporter": "python",
   "pygments_lexer": "ipython2",
   "version": "2.7.12"
  }
 },
 "nbformat": 4,
 "nbformat_minor": 2
}
