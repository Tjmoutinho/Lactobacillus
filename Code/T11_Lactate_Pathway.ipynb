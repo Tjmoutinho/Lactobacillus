{
 "cells": [
  {
   "cell_type": "code",
   "execution_count": 1,
   "metadata": {},
   "outputs": [],
   "source": [
    "from __future__ import print_function\n",
    "from __future__ import absolute_import\n",
    "\n",
    "import cobra\n",
    "import cobra.test\n",
    "import numpy as np\n",
    "import csv\n",
    "import glob\n",
    "import pickle\n",
    "import pandas as pd\n",
    "import math\n",
    "import copy\n",
    "import time\n",
    "import random\n",
    "import time\n",
    "import sys\n",
    "import matplotlib.pyplot as plt\n",
    "\n",
    "from copy import deepcopy\n",
    "from collections import defaultdict\n",
    "from cobra.flux_analysis import sample\n",
    "from cobra.core.solution import get_solution\n",
    "from cobra.flux_analysis.sampling import OptGPSampler\n",
    "from cobra.manipulation.delete import *\n",
    "from cobra.medium import find_boundary_types\n",
    "from cobra.flux_analysis import pfba\n",
    "\n",
    "from warnings import warn\n",
    "from itertools import chain\n",
    "from optlang.symbolics import Zero\n",
    "from cobra.util import solver as sutil\n",
    "from cobra.core.solution import get_solution\n",
    "\n",
    "import logging\n",
    "LOGGER = logging.getLogger(__name__)"
   ]
  },
  {
   "cell_type": "code",
   "execution_count": 2,
   "metadata": {},
   "outputs": [
    {
     "name": "stdout",
     "output_type": "stream",
     "text": [
      "0_1_2_3_4_5_6_7_8_9_10_11_12_13_14_15_16_17_18_19_20_21_22_23_24_25_26_27_28_29_30_31_32_33_34_35_36_37_38_39_40_41_42_43_44_45_46_47_48_49_50_51_52_53_54_55_56_57_58_59_60_61_62_63_64_65_66_67_68_69_70_71_72_73_74_75_76_77_78_79_80_81_82_83_84_85_86_87_88_89_90_91_92_93_94_95_96_97_98_99_100_101_102_103_104_105_106_107_108_109_110_111_112_113_114_115_116_117_118_119_120_121_122_123_124_125_126_127_128_129_130_131_132_133_134_135_136_137_138_139_140_141_142_143_144_145_146_147_148_149_150_151_152_153_154_155_156_157_158_159_160_161_162_163_164_165_166_167_168_169_170_171_172_173_174_175_176_177_178_179_180_181_182_183_184_185_186_187_188_189_190_191_192_193_194_195_196_197_198_199_200_201_202_203_204_205_206_207_208_209_210_211_212_213_214_215_216_217_218_219_220_221_222_223_224_225_226_227_228_229_230_231_232_233_234_235_236_237_238_239_240_241_242_243_244_245_246_247_248_249_250_251_252_253_254_255_256_257_258_259_260_261_262_263_264_265_266_267_268_269_270_271_272_273_274_275_276_277_278_279_280_281_282_283_284_285_286_287_288_289_290_291_292_293_294_295_296_297_298_299_300_301_302_303_304_305_306_307_308_309_310_311_312_313_314_315_316_317_318_319_320_321_322_323_324_325_326_327_328_329_330_331_332_333_334_335_336_337_338_339_340_341_342_343_344_345_346_347_348_349_350_351_352_353_354_355_356_357_358_359_360_361_362_363_364_365_366_367_368_369_370_371_372_373_374_375_376_377_378_379_380_381_382_383_384_385_386_387_388_389_390_391_392_393_394_395_396_397_398_399_400_401_402_403_404_405_406_407_408_409_410_411_412_413_414_415_416_417_418_419_420_421_422_423_424_425_426_427_428_429_430_431_432_433_434_435_436_437_438_439_440_441_442_443_444_445_446_447_448_449_450_451_452_453_454_455_456_457_458_459_460_461_462_463_464_465_466_467_468_469_470_471_472_473_474_475_476_477_478_479_480_481_482_483_484_485_486_487_488_489_490_491_492_493_494_1590.482495_496_497_498_499_500_501_502_503_504_505_506_507_508_509_510_511_512_513_514_515_516_517_518_519_520_521_522_523_524_525_526_527_528_529_530_531_532_533_534_535_536_537_538_539_540_541_542_543_544_545_546_547_548_549_550_551_552_553_554_555_556_557_558_559_560_561_562_563_564_565_566_567_568_569_570_571_572_573_574_575_576_577_578_579_580_581_582_583_584_585_586_587_588_589_590_591_592_593_594_595_596_597_598_599_600_601_602_603_604_605_606_607_608_609_610_611_612_613_614_615_616_617_618_619_620_621_622_623_624_625_626_627_628_629_630_631_632_633_634_635_636_637_638_639_640_641_642_643_644_645_646_647_648_649_650_651_652_653_654_655_656_657_658_659_660_661_662_663_664_665_666_667_668_669_670_671_672_673_674_675_676_677_678_679_680_681_682_683_684_685_686_687_688_689_690_691_692_693_694_695_696_697_698_699_700_701_702_703_704_705_706_707_708_709_710_711_712_713_714_715_716_717_718_719_720_721_722_723_724_725_726_727_728_729_730_731_732_733_734_735_736_737_738_739_740_741_742_743_744_745_746_747_748_749_750_751_752_753_754_755_756_757_758_759_760_761_762_763_764_765_766_767_768_769_770_771_772_773_774_775_776_777_778_779_780_781_782_783_784_785_786_787_788_789_790_791_792_793_794_795_796_797_798_799_800_801_802_803_804_805_806_807_808_809_810_811_812_813_814_815_816_817_818_819_820_821_822_823_824_825_826_827_828_829_830_831_832_833_834_835_836_837_838_839_840_841_842_843_844_845_846_847_"
     ]
    }
   ],
   "source": [
    "genome_ids = pickle.load(open(\"../Data/Filtered_lacto_genome_ids.data\", \"rb\"))\n",
    "\n",
    "count = -1\n",
    "all_active_list = []\n",
    "for genome_id in genome_ids:\n",
    "    try:\n",
    "        file_name = \"../metabolic_output_V3/%s.data\" % (genome_id)\n",
    "        total_dataset_dict = pickle.load(open(file_name, \"rb\"))\n",
    "        count += 1\n",
    "        sys.stdout.write(str(count)+'_')\n",
    "        ID = str(genome_id + ':' + str(0)+'.'+str(29))\n",
    "        active = total_dataset_dict[ID]['active_rxns']\n",
    "        active = [str(i) for i in list(active.index)]\n",
    "        all_active_list = all_active_list + active\n",
    "    except:\n",
    "        sys.stdout.write(str(genome_id))\n",
    "        continue\n",
    "all_active_set = set(all_active_list)"
   ]
  },
  {
   "cell_type": "code",
   "execution_count": 3,
   "metadata": {},
   "outputs": [],
   "source": [
    "output = []\n",
    "for rxn in all_active_set:\n",
    "    rxn_count = all_active_list.count(rxn)\n",
    "    rxn_percent = 100*rxn_count/len(genome_ids)\n",
    "    output.append([rxn,rxn_percent])"
   ]
  },
  {
   "cell_type": "code",
   "execution_count": 4,
   "metadata": {},
   "outputs": [],
   "source": [
    "pickle.dump(output,open('../Data/rxn_percents_d_lactate.data','wb'))"
   ]
  },
  {
   "cell_type": "code",
   "execution_count": 2,
   "metadata": {},
   "outputs": [],
   "source": [
    "# Actually prune all unused metabolites and reactions (innate function does not work)\n",
    "def removeUnused(model):\n",
    "    removed_cpd = set()\n",
    "    removed_rxn = set()\n",
    "    unused_current_cpd = 1\n",
    "    unused_current_rxn = 1\n",
    "    \n",
    "    while unused_current_cpd != 0 or unused_current_rxn != 0:\n",
    "        unused_cpd = prune_unused_metabolites(model)\n",
    "        removed_cpd |= set(unused_cpd)\n",
    "        unused_rxn = prune_unused_reactions(model)\n",
    "        removed_rxn |= set(unused_rxn)\n",
    "        \n",
    "        unused_current_cpd = len(unused_cpd)\n",
    "        unused_current_rxn = len(unused_rxn)\n",
    "    \n",
    "    print('Pruned ' + str(len(removed_cpd)) + ' metabolites from model')\n",
    "    print('Pruned ' + str(len(removed_rxn)) + ' reactions from model')\n",
    "        \n",
    "    return(list(removed_cpd), list(removed_rxn))"
   ]
  },
  {
   "cell_type": "code",
   "execution_count": 3,
   "metadata": {},
   "outputs": [],
   "source": [
    "all_active_set_in = pickle.load(open('../Data/rxn_percents_d_lactate.data','rb'))\n",
    "all_active_set = []\n",
    "\n",
    "for index in all_active_set_in:\n",
    "    if index[1] > 30:\n",
    "        all_active_set.append(index[0])\n",
    "all_active_set = set(all_active_set)"
   ]
  },
  {
   "cell_type": "code",
   "execution_count": 4,
   "metadata": {},
   "outputs": [
    {
     "data": {
      "text/plain": [
       "49"
      ]
     },
     "execution_count": 4,
     "metadata": {},
     "output_type": "execute_result"
    }
   ],
   "source": [
    "len(all_active_set)"
   ]
  },
  {
   "cell_type": "code",
   "execution_count": 43,
   "metadata": {},
   "outputs": [
    {
     "ename": "KeyboardInterrupt",
     "evalue": "",
     "output_type": "error",
     "traceback": [
      "\u001b[0;31m---------------------------------------------------------------------------\u001b[0m",
      "\u001b[0;31mKeyboardInterrupt\u001b[0m                         Traceback (most recent call last)",
      "\u001b[0;32m<ipython-input-43-d31ce8bdc642>\u001b[0m in \u001b[0;36m<module>\u001b[0;34m()\u001b[0m\n\u001b[1;32m      2\u001b[0m \u001b[0;32mfor\u001b[0m \u001b[0mmet\u001b[0m \u001b[0;32min\u001b[0m \u001b[0muniversal\u001b[0m\u001b[0;34m.\u001b[0m\u001b[0mmetabolites\u001b[0m\u001b[0;34m:\u001b[0m\u001b[0;34m\u001b[0m\u001b[0m\n\u001b[1;32m      3\u001b[0m     \u001b[0;32mif\u001b[0m \u001b[0;34m(\u001b[0m\u001b[0mmet\u001b[0m\u001b[0;34m.\u001b[0m\u001b[0mid\u001b[0m\u001b[0;34m.\u001b[0m\u001b[0mendswith\u001b[0m\u001b[0;34m(\u001b[0m\u001b[0;34m'_c'\u001b[0m\u001b[0;34m)\u001b[0m\u001b[0;34m)\u001b[0m\u001b[0;34m:\u001b[0m\u001b[0;34m\u001b[0m\u001b[0m\n\u001b[0;32m----> 4\u001b[0;31m         \u001b[0muniversal\u001b[0m\u001b[0;34m.\u001b[0m\u001b[0madd_boundary\u001b[0m\u001b[0;34m(\u001b[0m\u001b[0mmet\u001b[0m\u001b[0;34m,\u001b[0m \u001b[0mtype\u001b[0m\u001b[0;34m=\u001b[0m\u001b[0;34m'demand'\u001b[0m\u001b[0;34m)\u001b[0m\u001b[0;34m\u001b[0m\u001b[0m\n\u001b[0m\u001b[1;32m      5\u001b[0m \u001b[0;34m\u001b[0m\u001b[0m\n\u001b[1;32m      6\u001b[0m \u001b[0;31m# Create exchange reaction and add to model\u001b[0m\u001b[0;34m\u001b[0m\u001b[0;34m\u001b[0m\u001b[0m\n",
      "\u001b[0;32m/home/tjmoutinho/.local/lib/python2.7/site-packages/cobra/core/model.pyc\u001b[0m in \u001b[0;36madd_boundary\u001b[0;34m(self, metabolite, type, reaction_id, lb, ub)\u001b[0m\n\u001b[1;32m    510\u001b[0m                        upper_bound=ub)\n\u001b[1;32m    511\u001b[0m         \u001b[0mrxn\u001b[0m\u001b[0;34m.\u001b[0m\u001b[0madd_metabolites\u001b[0m\u001b[0;34m(\u001b[0m\u001b[0;34m{\u001b[0m\u001b[0mmetabolite\u001b[0m\u001b[0;34m:\u001b[0m \u001b[0;34m-\u001b[0m\u001b[0;36m1\u001b[0m\u001b[0;34m}\u001b[0m\u001b[0;34m)\u001b[0m\u001b[0;34m\u001b[0m\u001b[0m\n\u001b[0;32m--> 512\u001b[0;31m         \u001b[0mself\u001b[0m\u001b[0;34m.\u001b[0m\u001b[0madd_reactions\u001b[0m\u001b[0;34m(\u001b[0m\u001b[0;34m[\u001b[0m\u001b[0mrxn\u001b[0m\u001b[0;34m]\u001b[0m\u001b[0;34m)\u001b[0m\u001b[0;34m\u001b[0m\u001b[0m\n\u001b[0m\u001b[1;32m    513\u001b[0m         \u001b[0;32mreturn\u001b[0m \u001b[0mrxn\u001b[0m\u001b[0;34m\u001b[0m\u001b[0m\n\u001b[1;32m    514\u001b[0m \u001b[0;34m\u001b[0m\u001b[0m\n",
      "\u001b[0;32m/home/tjmoutinho/.local/lib/python2.7/site-packages/cobra/core/model.pyc\u001b[0m in \u001b[0;36madd_reactions\u001b[0;34m(self, reaction_list)\u001b[0m\n\u001b[1;32m    583\u001b[0m \u001b[0;34m\u001b[0m\u001b[0m\n\u001b[1;32m    584\u001b[0m         \u001b[0;31m# from cameo ...\u001b[0m\u001b[0;34m\u001b[0m\u001b[0;34m\u001b[0m\u001b[0m\n\u001b[0;32m--> 585\u001b[0;31m         \u001b[0mself\u001b[0m\u001b[0;34m.\u001b[0m\u001b[0m_populate_solver\u001b[0m\u001b[0;34m(\u001b[0m\u001b[0mpruned\u001b[0m\u001b[0;34m)\u001b[0m\u001b[0;34m\u001b[0m\u001b[0m\n\u001b[0m\u001b[1;32m    586\u001b[0m \u001b[0;34m\u001b[0m\u001b[0m\n\u001b[1;32m    587\u001b[0m     \u001b[0;32mdef\u001b[0m \u001b[0mremove_reactions\u001b[0m\u001b[0;34m(\u001b[0m\u001b[0mself\u001b[0m\u001b[0;34m,\u001b[0m \u001b[0mreactions\u001b[0m\u001b[0;34m,\u001b[0m \u001b[0mremove_orphans\u001b[0m\u001b[0;34m=\u001b[0m\u001b[0mFalse\u001b[0m\u001b[0;34m)\u001b[0m\u001b[0;34m:\u001b[0m\u001b[0;34m\u001b[0m\u001b[0m\n",
      "\u001b[0;32m/home/tjmoutinho/.local/lib/python2.7/site-packages/cobra/core/model.pyc\u001b[0m in \u001b[0;36m_populate_solver\u001b[0;34m(self, reaction_list, metabolite_list)\u001b[0m\n\u001b[1;32m    784\u001b[0m                     reaction.id, lb=forward_lb, ub=forward_ub)\n\u001b[1;32m    785\u001b[0m                 reverse_variable = self.problem.Variable(\n\u001b[0;32m--> 786\u001b[0;31m                     reaction.reverse_id, lb=reverse_lb, ub=reverse_ub)\n\u001b[0m\u001b[1;32m    787\u001b[0m \u001b[0;34m\u001b[0m\u001b[0m\n\u001b[1;32m    788\u001b[0m                 \u001b[0mself\u001b[0m\u001b[0;34m.\u001b[0m\u001b[0madd_cons_vars\u001b[0m\u001b[0;34m(\u001b[0m\u001b[0;34m[\u001b[0m\u001b[0mforward_variable\u001b[0m\u001b[0;34m,\u001b[0m \u001b[0mreverse_variable\u001b[0m\u001b[0;34m]\u001b[0m\u001b[0;34m)\u001b[0m\u001b[0;34m\u001b[0m\u001b[0m\n",
      "\u001b[0;32m/home/tjmoutinho/.local/lib/python2.7/site-packages/optlang/symbolics.pyc\u001b[0m in \u001b[0;36m__new__\u001b[0;34m(cls, name, **kwargs)\u001b[0m\n\u001b[1;32m    128\u001b[0m                 \u001b[0;32mraise\u001b[0m \u001b[0mTypeError\u001b[0m\u001b[0;34m(\u001b[0m\u001b[0;34m\"name should be a string, not %s\"\u001b[0m \u001b[0;34m%\u001b[0m \u001b[0mrepr\u001b[0m\u001b[0;34m(\u001b[0m\u001b[0mtype\u001b[0m\u001b[0;34m(\u001b[0m\u001b[0mname\u001b[0m\u001b[0;34m)\u001b[0m\u001b[0;34m)\u001b[0m\u001b[0;34m)\u001b[0m\u001b[0;34m\u001b[0m\u001b[0m\n\u001b[1;32m    129\u001b[0m \u001b[0;34m\u001b[0m\u001b[0m\n\u001b[0;32m--> 130\u001b[0;31m             \u001b[0mobj\u001b[0m \u001b[0;34m=\u001b[0m \u001b[0msympy\u001b[0m\u001b[0;34m.\u001b[0m\u001b[0mSymbol\u001b[0m\u001b[0;34m.\u001b[0m\u001b[0m__new__\u001b[0m\u001b[0;34m(\u001b[0m\u001b[0mcls\u001b[0m\u001b[0;34m,\u001b[0m \u001b[0mstr\u001b[0m\u001b[0;34m(\u001b[0m\u001b[0muuid\u001b[0m\u001b[0;34m.\u001b[0m\u001b[0muuid1\u001b[0m\u001b[0;34m(\u001b[0m\u001b[0;34m)\u001b[0m\u001b[0;34m)\u001b[0m\u001b[0;34m)\u001b[0m\u001b[0;34m\u001b[0m\u001b[0m\n\u001b[0m\u001b[1;32m    131\u001b[0m \u001b[0;34m\u001b[0m\u001b[0m\n\u001b[1;32m    132\u001b[0m             \u001b[0mobj\u001b[0m\u001b[0;34m.\u001b[0m\u001b[0mname\u001b[0m \u001b[0;34m=\u001b[0m \u001b[0mname\u001b[0m\u001b[0;34m\u001b[0m\u001b[0m\n",
      "\u001b[0;32m/usr/lib/python2.7/uuid.pyc\u001b[0m in \u001b[0;36muuid1\u001b[0;34m(node, clock_seq)\u001b[0m\n\u001b[1;32m    549\u001b[0m     \u001b[0;32mif\u001b[0m \u001b[0m_uuid_generate_time\u001b[0m \u001b[0;32mand\u001b[0m \u001b[0mnode\u001b[0m \u001b[0;32mis\u001b[0m \u001b[0mclock_seq\u001b[0m \u001b[0;32mis\u001b[0m \u001b[0mNone\u001b[0m\u001b[0;34m:\u001b[0m\u001b[0;34m\u001b[0m\u001b[0m\n\u001b[1;32m    550\u001b[0m         \u001b[0m_buffer\u001b[0m \u001b[0;34m=\u001b[0m \u001b[0mctypes\u001b[0m\u001b[0;34m.\u001b[0m\u001b[0mcreate_string_buffer\u001b[0m\u001b[0;34m(\u001b[0m\u001b[0;36m16\u001b[0m\u001b[0;34m)\u001b[0m\u001b[0;34m\u001b[0m\u001b[0m\n\u001b[0;32m--> 551\u001b[0;31m         \u001b[0m_uuid_generate_time\u001b[0m\u001b[0;34m(\u001b[0m\u001b[0m_buffer\u001b[0m\u001b[0;34m)\u001b[0m\u001b[0;34m\u001b[0m\u001b[0m\n\u001b[0m\u001b[1;32m    552\u001b[0m         \u001b[0;32mreturn\u001b[0m \u001b[0mUUID\u001b[0m\u001b[0;34m(\u001b[0m\u001b[0mbytes\u001b[0m\u001b[0;34m=\u001b[0m\u001b[0m_buffer\u001b[0m\u001b[0;34m.\u001b[0m\u001b[0mraw\u001b[0m\u001b[0;34m)\u001b[0m\u001b[0;34m\u001b[0m\u001b[0m\n\u001b[1;32m    553\u001b[0m \u001b[0;34m\u001b[0m\u001b[0m\n",
      "\u001b[0;31mKeyboardInterrupt\u001b[0m: "
     ]
    }
   ],
   "source": [
    "universal = cobra.io.load_json_model(\"../Data/GramPosUni.json\")\n",
    "for met in universal.metabolites:\n",
    "    if (met.id.endswith('_c')):\n",
    "        universal.add_boundary(met, type='demand')\n",
    "\n",
    "# Create exchange reaction and add to model\n",
    "for rxn in all_active_set:\n",
    "    if rxn.startswith('EX_'):\n",
    "        met = rxn.replace('EX_',\"\")\n",
    "        new_exchange = cobra.Reaction(rxn)\n",
    "        new_exchange.name = met + ' exchange'\n",
    "        met_obj = universal.metabolites.get_by_id(met)\n",
    "        new_exchange.add_metabolites({met_obj:-1})\n",
    "        new_exchange.lower_bound = -1000.\n",
    "        new_exchange.upper_bound = 1000.\n",
    "        universal.add_reaction(new_exchange)\n",
    "        universal.repair()\n",
    "\n",
    "rxns_to_remove = set([rxn.id for rxn in universal.reactions]).difference(all_active_set)\n",
    "\n",
    "print(len([rxn.id for rxn in universal.reactions]))\n",
    "print(len(all_active_set)+len(rxns_to_remove))\n",
    "\n",
    "for rxn in rxns_to_remove:\n",
    "    universal.reactions.get_by_id(rxn).remove_from_model(remove_orphans = True)\n",
    "unused_c, unused_r = removeUnused(universal)\n",
    "\n",
    "universal_new = copy.deepcopy(universal)\n",
    "\n",
    "met_list = [met.id for met in universal_new.metabolites]\n",
    "for met in met_list:\n",
    "    if met.endswith('_c'):\n",
    "        met_name = str(universal.metabolites.get_by_id(met).name)+'_c'\n",
    "        met_name = met_name.replace(\" \",\"_\")\n",
    "    elif met.endswith('_e'):\n",
    "        met_name = str(universal.metabolites.get_by_id(met).name)+'_e'\n",
    "        met_name = met_name.replace(\" \",\"_\")\n",
    "    universal_new.metabolites.get_by_id(met).id = met_name\n",
    "\n",
    "for rxn in universal_new.reactions:\n",
    "    rxn.gene_reaction_rule = 'place_holder'\n",
    "    \n",
    "for rxn in universal_new.reactions:\n",
    "    rxn.Gene = 'place_holder'\n",
    "\n",
    "for met in universal_new.metabolites:\n",
    "    met.charge = int(met.charge)\n",
    "    \n",
    "model_file_name = '../Data/superset_d_lactate.xml'\n",
    "cobra.io.write_sbml_model(universal_new, model_file_name, use_fbc_package=False)"
   ]
  },
  {
   "cell_type": "code",
   "execution_count": 17,
   "metadata": {},
   "outputs": [
    {
     "name": "stdout",
     "output_type": "stream",
     "text": [
      "103\n",
      "14910\n"
     ]
    }
   ],
   "source": [
    "print(len(all_active_set))\n",
    "print(len(rxns_to_remove))"
   ]
  },
  {
   "cell_type": "code",
   "execution_count": 25,
   "metadata": {},
   "outputs": [
    {
     "data": {
      "text/html": [
       "\n",
       "        <table>\n",
       "            <tr>\n",
       "                <td><strong>Reaction identifier</strong></td><td>rxn00613_c</td>\n",
       "            </tr><tr>\n",
       "                <td><strong>Name</strong></td><td>sn-glycerol-3-phosphate:NADP+ 1-oxidoreductase</td>\n",
       "            </tr><tr>\n",
       "                <td><strong>Memory address</strong></td>\n",
       "                <td>0x07f28bba00550</td>\n",
       "            </tr><tr>\n",
       "                <td><strong>Stoichiometry</strong></td>\n",
       "                <td>\n",
       "                    <p style='text-align:right'>Glycerol-3-phosphate_c + NADP_c <=> Glyceraldehyde3-phosphate_c + H+_c + NADPH_c</p>\n",
       "                    <p style='text-align:right'>Glycerol-3-phosphate + NADP <=> Glyceraldehyde3-phosphate + H+ + NADPH</p>\n",
       "                </td>\n",
       "            </tr><tr>\n",
       "                <td><strong>GPR</strong></td><td>place_holder</td>\n",
       "            </tr><tr>\n",
       "                <td><strong>Lower bound</strong></td><td>-1000.0</td>\n",
       "            </tr><tr>\n",
       "                <td><strong>Upper bound</strong></td><td>1000.0</td>\n",
       "            </tr>\n",
       "        </table>\n",
       "        "
      ],
      "text/plain": [
       "<Reaction rxn00613_c at 0x7f28bba00550>"
      ]
     },
     "execution_count": 25,
     "metadata": {},
     "output_type": "execute_result"
    }
   ],
   "source": [
    "universal_new.reactions[0]"
   ]
  },
  {
   "cell_type": "code",
   "execution_count": 5,
   "metadata": {},
   "outputs": [],
   "source": [
    "genome_id = '220668.9'\n",
    "model = cobra.io.read_sbml_model('../models/'+ genome_id +'.xml')\n",
    "universal = cobra.io.load_json_model(\"../Data/GramPosUni.json\")"
   ]
  },
  {
   "cell_type": "code",
   "execution_count": 6,
   "metadata": {},
   "outputs": [
    {
     "name": "stdout",
     "output_type": "stream",
     "text": [
      "Pruned 0 metabolites from model\n",
      "Pruned 0 reactions from model\n"
     ]
    }
   ],
   "source": [
    "model_rxns = set([rxn.id for rxn in model.reactions])\n",
    "missing_set = all_active_set.difference(model_rxns)\n",
    "\n",
    "rxns_to_remove = set([rxn.id for rxn in model.reactions]).difference(all_active_set)\n",
    "\n",
    "for rxn in rxns_to_remove:\n",
    "    model.reactions.get_by_id(rxn).remove_from_model(remove_orphans = True)\n",
    "unused_c, unused_r = removeUnused(model)\n",
    "\n",
    "rxns_to_add = []\n",
    "for rxn_id in missing_set:\n",
    "    if rxn_id.startswith(\"rxn\"):\n",
    "        rxns_to_add.append(copy.deepcopy(universal.reactions.get_by_id(rxn_id)))\n",
    "    elif rxn_id.startswith(\"EX_\"):\n",
    "        met = rxn_id.replace('EX_',\"\")\n",
    "        new_exchange = cobra.Reaction(rxn_id)\n",
    "        new_exchange.name = met + ' exchange'\n",
    "        met_obj = copy.deepcopy(universal.metabolites.get_by_id(met))\n",
    "        new_exchange.add_metabolites({met_obj:-1})\n",
    "        new_exchange.lower_bound = -1000.\n",
    "        new_exchange.upper_bound = 1000.\n",
    "        model.add_reaction(new_exchange)\n",
    "        model.repair()\n",
    "    elif rxn_id.startswith(\"DM_\"):\n",
    "        met = rxn_id.replace('DM_',\"\")\n",
    "        met_obj = copy.deepcopy(universal.metabolites.get_by_id(met))\n",
    "        model.add_boundary(met_obj, type='demand')\n",
    "            \n",
    "model.add_reactions(rxns_to_add)\n",
    "model.repair()"
   ]
  },
  {
   "cell_type": "code",
   "execution_count": 7,
   "metadata": {},
   "outputs": [
    {
     "data": {
      "text/plain": [
       "set()"
      ]
     },
     "execution_count": 7,
     "metadata": {},
     "output_type": "execute_result"
    }
   ],
   "source": [
    "model_rxns = set([rxn.id for rxn in model.reactions])\n",
    "missing_set = all_active_set.difference(model_rxns)\n",
    "missing_set"
   ]
  },
  {
   "cell_type": "code",
   "execution_count": 10,
   "metadata": {},
   "outputs": [],
   "source": [
    "for reaction in model.reactions:\n",
    "    if(len(reaction.genes) is 0 ):\n",
    "        reaction.gene_reaction_rule = 'place_holder'\n",
    "        \n",
    "for met in model.metabolites:\n",
    "    met.charge = int(met.charge)\n",
    "\n",
    "met_list = [met.id for met in model.metabolites]\n",
    "for met in met_list:\n",
    "    if met.endswith('_c'):\n",
    "        met_name = str(universal.metabolites.get_by_id(met).name)+'_c'\n",
    "        met_name = met_name.replace(\" \",\"_\")\n",
    "    elif met.endswith('_e'):\n",
    "        met_name = str(universal.metabolites.get_by_id(met).name)+'_e'\n",
    "        met_name = met_name.replace(\" \",\"_\")\n",
    "    model.metabolites.get_by_id(met).id = met_name"
   ]
  },
  {
   "cell_type": "code",
   "execution_count": 11,
   "metadata": {},
   "outputs": [],
   "source": [
    "model_file_name = '../Data/superset_d_lactate.xml'\n",
    "cobra.io.write_sbml_model(model, model_file_name, use_fbc_package=False)"
   ]
  },
  {
   "cell_type": "code",
   "execution_count": 12,
   "metadata": {},
   "outputs": [
    {
     "data": {
      "text/plain": [
       "[<Reaction rxn00247_c at 0x7fc0fc902190>,\n",
       " <Reaction rxn00148_c at 0x7fc0fc640b10>,\n",
       " <Reaction rxn00781_c at 0x7fc0fc530690>,\n",
       " <Reaction rxn00612_c at 0x7fc0fcd301d0>,\n",
       " <Reaction rxn05466_c at 0x7fc0fcc22590>,\n",
       " <Reaction rxn05145_c at 0x7fc0fc6c9910>,\n",
       " <Reaction rxn00146_c at 0x7fc0fc6b8210>,\n",
       " <Reaction rxn01100_c at 0x7fc0fcda3e90>,\n",
       " <Reaction rxn00173_c at 0x7fc0fca49f90>,\n",
       " <Reaction rxn00187_c at 0x7fc0fc92b290>,\n",
       " <Reaction rxn00500_c at 0x7fc0fc92ba50>,\n",
       " <Reaction rxn00611_c at 0x7fc1442130d0>,\n",
       " <Reaction rxn01106_c at 0x7fc144213ed0>,\n",
       " <Reaction rxn11040_c at 0x7fc0fcab2a50>,\n",
       " <Reaction rxn00548_c at 0x7fc0fcb25450>,\n",
       " <Reaction rxn00265_c at 0x7fc0fcb25c10>,\n",
       " <Reaction rxn01476_c at 0x7fc0fc96b510>,\n",
       " <Reaction rxn01333_c at 0x7fc0fc9e0210>,\n",
       " <Reaction rxn00459_c at 0x7fc0fc838150>,\n",
       " <Reaction rxn05226_c at 0x7fc1442a0810>,\n",
       " <Reaction rxn01187_c at 0x7fc144270490>,\n",
       " <Reaction rxn01200_c at 0x7fc0fc8aaed0>,\n",
       " <Reaction rxn00604_c at 0x7fc0fc388fd0>,\n",
       " <Reaction rxn05144_c at 0x7fc0fc2c72d0>,\n",
       " <Reaction EX_cpd00067_e at 0x7fc0fc2a8ad0>,\n",
       " <Reaction EX_cpd00013_e at 0x7fc0fc2ba650>,\n",
       " <Reaction EX_cpd00009_e at 0x7fc0fc2ba8d0>,\n",
       " <Reaction EX_cpd00027_e at 0x7fc0fc2bac90>,\n",
       " <Reaction DM_cpd00016_c at 0x7fc0fcafaad0>,\n",
       " <Reaction DM_cpd00075_c at 0x7fc140670f50>,\n",
       " <Reaction DM_cpd00221_c at 0x7fc0fc5e1d10>,\n",
       " <Reaction DM_cpd00528_c at 0x7fc0fc5e1c10>,\n",
       " <Reaction EX_cpd00137_e at 0x7fc0fca3dc90>,\n",
       " <Reaction rxn01477_c at 0x7fc0fcafa990>,\n",
       " <Reaction rxn00058_c at 0x7fc0fc9fee50>,\n",
       " <Reaction rxn08659_c at 0x7fc0fca4cd50>,\n",
       " <Reaction rxn03884_c at 0x7fc0fca0e6d0>,\n",
       " <Reaction rxn05211_c at 0x7fc0fca2d350>,\n",
       " <Reaction rxn03978_c at 0x7fc0fca2db50>,\n",
       " <Reaction rxn00748_c at 0x7fc0fc5e1710>,\n",
       " <Reaction rxn00229_c at 0x7fc0fc5e10d0>,\n",
       " <Reaction rxn06874_c at 0x7fc0fc5e1f50>,\n",
       " <Reaction rxn05893_c at 0x7fc0fc5e1a10>,\n",
       " <Reaction rxn05938_c at 0x7fc0fcdc8c50>,\n",
       " <Reaction rxn14091_c at 0x7fc0fcd98b10>,\n",
       " <Reaction rxn00777_c at 0x7fc0fc9e2490>,\n",
       " <Reaction rxn00257_c at 0x7fc0fc9e2710>,\n",
       " <Reaction rxn07200_c at 0x7fc0fca2add0>,\n",
       " <Reaction rxn00082_c at 0x7fc0fcc38d10>]"
      ]
     },
     "execution_count": 12,
     "metadata": {},
     "output_type": "execute_result"
    }
   ],
   "source": [
    "model.reactions"
   ]
  },
  {
   "cell_type": "code",
   "execution_count": null,
   "metadata": {},
   "outputs": [],
   "source": [
    "\n",
    "\n",
    "\n",
    "\n",
    "\n",
    "\n",
    "\n",
    "\n",
    "\n",
    "\n",
    "\n",
    "\n",
    "\n",
    "\n",
    "\n",
    "\n",
    "\n",
    "\n",
    "\n",
    "\n",
    "\n",
    "\n",
    "\n",
    "\n",
    "\n",
    "\n",
    "\n",
    "\n",
    "\n",
    "\n",
    "\n",
    "\n",
    "\n",
    "\n",
    "\n",
    "\n",
    "\n",
    "\n",
    "\n",
    "\n",
    "\n",
    "\n",
    "\n",
    "\n",
    "\n",
    "\n",
    "\n",
    "\n",
    "\n",
    "\n",
    "\n",
    "\n",
    "\n"
   ]
  }
 ],
 "metadata": {
  "kernelspec": {
   "display_name": "Python 2",
   "language": "python",
   "name": "python2"
  },
  "language_info": {
   "codemirror_mode": {
    "name": "ipython",
    "version": 2
   },
   "file_extension": ".py",
   "mimetype": "text/x-python",
   "name": "python",
   "nbconvert_exporter": "python",
   "pygments_lexer": "ipython2",
   "version": "2.7.12"
  }
 },
 "nbformat": 4,
 "nbformat_minor": 2
}
