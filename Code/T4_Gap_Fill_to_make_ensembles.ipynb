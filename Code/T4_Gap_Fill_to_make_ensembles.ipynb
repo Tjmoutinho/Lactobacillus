{
 "cells": [
  {
   "cell_type": "code",
   "execution_count": 71,
   "metadata": {},
   "outputs": [
    {
     "name": "stdout",
     "output_type": "stream",
     "text": [
      "0.13.0\n"
     ]
    }
   ],
   "source": [
    "import cobra\n",
    "print cobra.__version__\n",
    "from cobra.flux_analysis.gapfilling import GapFiller\n",
    "import glob\n",
    "import time\n",
    "import pickle\n",
    "import copy"
   ]
  },
  {
   "cell_type": "code",
   "execution_count": 18,
   "metadata": {},
   "outputs": [],
   "source": [
    "# Identify gapfilled reactions\n",
    "def findGapFilled(model):\n",
    "    gapfilled = []\n",
    "    for index in model.reactions:\n",
    "        if not index.id in ['bio1']:\n",
    "            if len(list(index.genes)) == 0:\n",
    "                if not index in model.boundary:\n",
    "                    gapfilled.append(index.id)\n",
    "\n",
    "#     if len(gapfilled) > 0:\n",
    "#         print(str(len(gapfilled)) + ' reactions not associated with genes')\n",
    "    \n",
    "    return gapfilled\n",
    "\n",
    "# Remove gapfilled rxns from the PATRIC model\n",
    "def pruneGaps(model, orphans, gap_object):\n",
    "    model_temp = copy.deepcopy(model)\n",
    "    gaps_total = set()\n",
    "    for index in gap_object:\n",
    "        gaps = [x for x in index['reactions']]\n",
    "        gaps_total |= set(gaps)\n",
    "\n",
    "    model_gaps = []\n",
    "    for x in gaps_total:\n",
    "        try:\n",
    "            model_gaps.append(model_temp.reactions.get_by_id(x).id)\n",
    "        except:\n",
    "            pass\n",
    "\n",
    "    remove = [x for x in model_gaps if x in orphans]    \n",
    "\n",
    "#     print('Reactions removed: ' + str(len(remove)))\n",
    "    model_temp.remove_reactions(remove)\n",
    "\n",
    "    return(model_temp)"
   ]
  },
  {
   "cell_type": "code",
   "execution_count": 28,
   "metadata": {},
   "outputs": [],
   "source": [
    "universal = cobra.io.load_json_model(\"../Data/GramPosUni.json\")"
   ]
  },
  {
   "cell_type": "code",
   "execution_count": 3,
   "metadata": {},
   "outputs": [],
   "source": [
    "## Remove all gapfilled reactions from models and save new models\n",
    "model_paths = glob.glob('../models/*.xml')\n",
    "genome_ids = [x.replace(\"../models/\",\"\").replace(\".xml\",\"\") for x in model_paths]\n",
    "model_paths = glob.glob('../gap_models/*.xml')\n",
    "gap_models_ids = [x.replace(\"../gap_models/\",\"\").replace(\".xml\",\"\") for x in model_paths]\n",
    "\n",
    "failed_index = []\n",
    "for genome_id in genome_ids:\n",
    "    if not genome_id in gap_models_ids:\n",
    "        try:\n",
    "            file_name = \"../models/%s.xml\" % (genome_id)\n",
    "            model = cobra.io.read_sbml_model(file_name)\n",
    "            orphans = findGapFilled(model)\n",
    "            pickle_path = \"../gapfilled/%s.gf\" % (genome_id)\n",
    "            gap_object = pickle.load(open(pickle_path, \"rb\"))\n",
    "            pruned_model = pruneGaps(model, orphans, gap_object)\n",
    "            write_file_name = \"../gap_models/%s.xml\" % (genome_id)\n",
    "            cobra.io.write_sbml_model(pruned_model, write_file_name)\n",
    "#             genome_ids.remove(genome_id)\n",
    "        except:\n",
    "            failed_index.append(genome_id)\n",
    "            pass"
   ]
  },
  {
   "cell_type": "code",
   "execution_count": 38,
   "metadata": {},
   "outputs": [
    {
     "name": "stdout",
     "output_type": "stream",
     "text": [
      "<Solution 58.405 at 0x7f8028b38650>\n"
     ]
    }
   ],
   "source": [
    "solution = model.optimize()\n",
    "print(solution)"
   ]
  },
  {
   "cell_type": "code",
   "execution_count": 39,
   "metadata": {},
   "outputs": [
    {
     "name": "stdout",
     "output_type": "stream",
     "text": [
      "<Solution 0.000 at 0x7f802a1c5550>\n"
     ]
    }
   ],
   "source": [
    "solution = pruned_model.optimize()\n",
    "print(solution)"
   ]
  },
  {
   "cell_type": "code",
   "execution_count": 53,
   "metadata": {},
   "outputs": [
    {
     "name": "stdout",
     "output_type": "stream",
     "text": [
      "Reactions removed: 109\n",
      "<Solution 68.440 at 0x7fd6ecbd1710>\n",
      "<Solution 0.000 at 0x7fd6f3a75ed0>\n",
      "<Solution 0.000 at 0x7fd6f363ee10>\n"
     ]
    }
   ],
   "source": [
    "# Test Gapfill using just reactions removed\n",
    "genome_id = '220668.9'\n",
    "\n",
    "file_name = \"../models/%s.xml\" % (genome_id)\n",
    "model = cobra.io.read_sbml_model(file_name)\n",
    "orphans = findGapFilled(model)\n",
    "\n",
    "pickle_path = \"../gapfilled/%s.gf\" % (genome_id)\n",
    "gap_object = pickle.load(open(pickle_path, \"rb\"))\n",
    "pruned_model = pruneGaps(model, orphans, gap_object)\n",
    "\n",
    "loaded_model_path = \"../gap_models/%s.xml\" % (genome_id)\n",
    "loaded_model = cobra.io.read_sbml_model(loaded_model_path)\n",
    "\n",
    "solution = model.optimize()\n",
    "print(solution)\n",
    "\n",
    "solution = pruned_model.optimize()\n",
    "print(solution)\n",
    "\n",
    "solution = loaded_model.optimize()\n",
    "print(solution)"
   ]
  },
  {
   "cell_type": "code",
   "execution_count": 23,
   "metadata": {},
   "outputs": [
    {
     "name": "stdout",
     "output_type": "stream",
     "text": [
      "120\n"
     ]
    }
   ],
   "source": [
    "print(len(orphans))"
   ]
  },
  {
   "cell_type": "code",
   "execution_count": 54,
   "metadata": {},
   "outputs": [
    {
     "name": "stdout",
     "output_type": "stream",
     "text": [
      "113\n",
      "Reactions removed: 109\n"
     ]
    }
   ],
   "source": [
    "gaps_total = set()\n",
    "for index in gap_object:\n",
    "    gaps = [x for x in index['reactions']]\n",
    "    gaps_total |= set(gaps)\n",
    "\n",
    "print(len(gaps_total))\n",
    "\n",
    "model_gaps = []\n",
    "for x in gaps_total:\n",
    "    try:\n",
    "        model_gaps.append(model.reactions.get_by_id(x).id)\n",
    "    except:\n",
    "        pass\n",
    "\n",
    "remove = [x for x in model_gaps if x in orphans]    \n",
    "\n",
    "print('Reactions removed: ' + str(len(remove)))"
   ]
  },
  {
   "cell_type": "code",
   "execution_count": 55,
   "metadata": {},
   "outputs": [
    {
     "data": {
      "text/plain": [
       "{'rxn02374_c',\n",
       " 'rxn02916_c',\n",
       " 'rxn03012_c',\n",
       " 'rxn04132_c',\n",
       " 'rxn04133_c',\n",
       " 'rxn04457_c',\n",
       " 'rxn05195_c',\n",
       " 'rxn05319_c',\n",
       " 'rxn05467_c',\n",
       " 'rxn05468_c',\n",
       " 'rxn10571_c'}"
      ]
     },
     "execution_count": 55,
     "metadata": {},
     "output_type": "execute_result"
    }
   ],
   "source": [
    "set(remove) ^ set(orphans)"
   ]
  },
  {
   "cell_type": "code",
   "execution_count": 56,
   "metadata": {},
   "outputs": [
    {
     "data": {
      "text/plain": [
       "True"
      ]
     },
     "execution_count": 56,
     "metadata": {},
     "output_type": "execute_result"
    }
   ],
   "source": [
    "# Are all of the removed reactions in the universal model?\n",
    "uni_rxns = set([reaction.id for reaction in universal.reactions])\n",
    "set(remove).issubset(uni_rxns)"
   ]
  },
  {
   "cell_type": "code",
   "execution_count": 57,
   "metadata": {},
   "outputs": [
    {
     "data": {
      "text/plain": [
       "0.0"
      ]
     },
     "execution_count": 57,
     "metadata": {},
     "output_type": "execute_result"
    }
   ],
   "source": [
    "# Create new mini-universal with just the removed reactions to test to be sure that gapfill is working\n",
    "mini_uni = cobra.Model(\"mini_universal_reactions\")\n",
    "for i in remove:\n",
    "    reaction = model.reactions.get_by_id(i)\n",
    "    mini_uni.add_reaction(reaction.copy())\n",
    "    model.remove_reactions([reaction])\n",
    "\n",
    "model.optimize().objective_value"
   ]
  },
  {
   "cell_type": "code",
   "execution_count": 58,
   "metadata": {},
   "outputs": [
    {
     "data": {
      "text/html": [
       "\n",
       "        <table>\n",
       "            <tr>\n",
       "                <td><strong>Name</strong></td>\n",
       "                <td>220668.9</td>\n",
       "            </tr><tr>\n",
       "                <td><strong>Memory address</strong></td>\n",
       "                <td>0x07fd6ed8a9890</td>\n",
       "            </tr><tr>\n",
       "                <td><strong>Number of metabolites</strong></td>\n",
       "                <td>1211</td>\n",
       "            </tr><tr>\n",
       "                <td><strong>Number of reactions</strong></td>\n",
       "                <td>1064</td>\n",
       "            </tr><tr>\n",
       "                <td><strong>Objective expression</strong></td>\n",
       "                <td>-1.0*bio1_reverse_b18f7 + 1.0*bio1</td>\n",
       "            </tr><tr>\n",
       "                <td><strong>Compartments</strong></td>\n",
       "                <td>Cytosol, Extracellular</td>\n",
       "            </tr>\n",
       "          </table>"
      ],
      "text/plain": [
       "<Model 220668.9 at 0x7fd6ed8a9890>"
      ]
     },
     "execution_count": 58,
     "metadata": {},
     "output_type": "execute_result"
    }
   ],
   "source": [
    "model"
   ]
  },
  {
   "cell_type": "code",
   "execution_count": 72,
   "metadata": {},
   "outputs": [
    {
     "name": "stdout",
     "output_type": "stream",
     "text": [
      "rxn10254_c\n",
      "rxn02269_c\n",
      "rxn09142_c\n",
      "rxn10293_c\n",
      "rxn10273_c\n",
      "rxn00851_c\n",
      "rxn05376_c\n",
      "rxn05168_c\n",
      "rxn08333_c\n",
      "rxn09135_c\n",
      "rxn10338_c\n",
      "rxn05386_c\n",
      "rxn05365_c\n",
      "rxn12225_c\n",
      "rxn10275_c\n",
      "rxn05380_c\n",
      "rxn03538_c\n",
      "rxn10473_c\n",
      "rxn10181_c\n",
      "rxn02897_c\n",
      "rxn02286_c\n",
      "rxn05029_c\n",
      "rxn10161_c\n",
      "rxn05144_c\n",
      "rxn10336_c\n",
      "rxn05397_c\n",
      "rxn05394_c\n",
      "rxn10233_c\n",
      "rxn10094_c\n",
      "rxn02011_c\n",
      "rxn05360_c\n",
      "rxn05406_c\n",
      "rxn02303_c\n",
      "rxn10227_c\n",
      "rxn02476_c\n",
      "rxn05372_c\n",
      "rxn10310_c\n",
      "rxn10205_c\n",
      "rxn05393_c\n",
      "rxn05389_c\n",
      "rxn05175_c\n",
      "rxn03395_c\n",
      "rxn05385_c\n",
      "rxn03537_c\n",
      "rxn10226_c\n",
      "rxn05364_c\n",
      "rxn10309_c\n",
      "rxn03393_c\n",
      "rxn10283_c\n",
      "rxn05179_c\n",
      "rxn08040_c\n",
      "rxn00693_c\n",
      "rxn13661_c\n",
      "rxn10337_c\n",
      "rxn05377_c\n",
      "rxn12224_c\n",
      "rxn05381_c\n",
      "rxn05368_c\n",
      "rxn05398_c\n",
      "rxn05267_c\n",
      "rxn10274_c\n",
      "rxn10215_c\n",
      "rxn10266_c\n",
      "rxn10292_c\n",
      "rxn02056_c\n",
      "rxn02304_c\n",
      "rxn10214_c\n",
      "rxn11946_c\n",
      "rxn10197_c\n",
      "rxn00178_c\n",
      "rxn05373_c\n",
      "rxn02287_c\n",
      "rxn02774_c\n",
      "rxn05390_c\n",
      "rxn10232_c\n",
      "rxn04139_c\n",
      "rxn10180_c\n",
      "rxn00961_c\n",
      "rxn06022_c\n",
      "rxn05148_c\n",
      "rxn05402_c\n",
      "rxn10265_c\n",
      "rxn05405_c\n",
      "rxn05361_c\n",
      "rxn12008_c\n",
      "rxn10206_c\n",
      "rxn05401_c\n",
      "rxn05255_c\n",
      "rxn03150_c\n",
      "rxn03164_c\n",
      "rxn03397_c\n",
      "rxn05651_c\n",
      "rxn05514_c\n",
      "rxn01207_c\n",
      "rxn02288_c\n",
      "rxn10282_c\n",
      "rxn10238_c\n",
      "rxn12664_c\n",
      "rxn10311_c\n",
      "rxn05369_c\n",
      "rxn09067_c\n",
      "rxn10291_c\n",
      "rxn03893_c\n",
      "rxn10284_c\n",
      "rxn09128_c\n"
     ]
    }
   ],
   "source": [
    "gapfiller = GapFiller(model, mini_uni, demand_reactions=False, integer_threshold=1e-9)\n",
    "solution = gapfiller.fill(iterations=1)\n",
    "# solution = gapfill(model, mini_uni, demand_reactions=False)\n",
    "for reaction in solution[0]:\n",
    "    print(reaction.id)"
   ]
  },
  {
   "cell_type": "code",
   "execution_count": null,
   "metadata": {},
   "outputs": [
    {
     "name": "stdout",
     "output_type": "stream",
     "text": [
      "133 reactions not associated with genes\n"
     ]
    }
   ],
   "source": [
    "t = time.time()\n",
    "# model = cobra.io.read_sbml_model('../models/1051650.8.xml')\n",
    "with model as model_x:\n",
    "    gaps = findGapFilled(model_x)\n",
    "    for rxn in gaps:\n",
    "        model_x.remove_reactions([rxn])\n",
    "#     print(model_x.optimize().objective_value)\n",
    "    solution = gapfill(model, universal, demand_reactions=False)\n",
    "    for reaction in solution[0]:\n",
    "        print(reaction.id)\n",
    "        \n",
    "elapsed = time.time() - t\n",
    "print \"Time to complete:\", elapsed/60, \"mins\""
   ]
  },
  {
   "cell_type": "code",
   "execution_count": null,
   "metadata": {},
   "outputs": [],
   "source": [
    "solution"
   ]
  },
  {
   "cell_type": "code",
   "execution_count": null,
   "metadata": {},
   "outputs": [],
   "source": [
    "\n",
    "\n",
    "\n",
    "\n",
    "\n",
    "\n",
    "\n",
    "\n",
    "\n",
    "\n",
    "\n",
    "\n",
    "\n",
    "\n",
    "\n",
    "\n",
    "\n",
    "\n",
    "\n",
    "\n",
    "\n",
    "\n",
    "\n",
    "\n",
    "\n",
    "\n",
    "\n",
    "\n",
    "\n",
    "\n",
    "\n",
    "\n",
    "\n",
    "\n",
    "\n",
    "\n",
    "\n",
    "\n"
   ]
  }
 ],
 "metadata": {
  "kernelspec": {
   "display_name": "Python 2",
   "language": "python",
   "name": "python2"
  },
  "language_info": {
   "codemirror_mode": {
    "name": "ipython",
    "version": 2
   },
   "file_extension": ".py",
   "mimetype": "text/x-python",
   "name": "python",
   "nbconvert_exporter": "python",
   "pygments_lexer": "ipython2",
   "version": "2.7.12"
  }
 },
 "nbformat": 4,
 "nbformat_minor": 2
}
