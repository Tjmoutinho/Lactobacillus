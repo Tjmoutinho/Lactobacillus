{
 "cells": [
  {
   "cell_type": "code",
   "execution_count": null,
   "metadata": {},
   "outputs": [],
   "source": [
    "import pickle\n",
    "import numpy as np\n",
    "import matplotlib.pyplot as plt\n",
    "import glob\n",
    "import time\n",
    "import sys\n",
    "import cobra"
   ]
  },
  {
   "cell_type": "code",
   "execution_count": null,
   "metadata": {},
   "outputs": [],
   "source": [
    "# Generate 'robust' dataset\n",
    "genome_ids = glob.glob('../metabolic_output/*.data')\n",
    "genome_ids = [x.replace(\"../metabolic_output/\",\"\").replace(\".data\",\"\") for x in genome_ids]\n",
    "\n",
    "ID_list = []\n",
    "# Write header to file\n",
    "for prod_ind in list(range(0,35)):\n",
    "    ID = str(str(prod_ind))\n",
    "    ID_list.append(ID)\n",
    "\n",
    "output_file = '../Data/stand_whole_path_avg_robust.tsv'  \n",
    "\n",
    "output_file = open(output_file, 'w')\n",
    "header = 'genomes\\t' + '\\t'.join(ID_list) + '\\n'\n",
    "output_file.write(header)\n",
    "\n",
    "for genome_id in genome_ids[0:1]:\n",
    "    file_name = \"../metabolic_output/%s.data\" % (genome_id)\n",
    "    total_dataset_dict = pickle.load(open(file_name, \"rb\"))\n",
    "    # Write row name\n",
    "    output_file.write(genome_id + '\\t')\n",
    "    # Write whole_path_like to rows\n",
    "    for prod_ind in list(range(0,35)):\n",
    "        robust_output =[]\n",
    "        for carb_ind in list(range(0,32)):\n",
    "            ID = str(genome_id + ':' + str(carb_ind) + '.0.' + str(prod_ind))\n",
    "            if ID != str(genome_id + ':16.0.25'):\n",
    "                len(total_dataset_dict[ID]['gaps_w_flux'])\n",
    "                len(total_dataset_dict[ID]['path_w_flux'])\n",
    "                \n",
    "                robust_output.append(round(total_dataset_dict[ID]['whole_path_like'],4))\n",
    "        robust_avg = np.median(robust_output) # Median rather than mean\n",
    "        if prod_ind != 34:\n",
    "            output_file.write(str(round(robust_avg,4))+'\\t')\n",
    "        elif prod_ind == 34:\n",
    "            output_file.write(str(round(robust_avg,4))+'\\n')\n",
    "        else:\n",
    "            print('ERROR')\n",
    "\n",
    "output_file.close()"
   ]
  }
 ],
 "metadata": {
  "kernelspec": {
   "display_name": "Python 2",
   "language": "python",
   "name": "python2"
  },
  "language_info": {
   "codemirror_mode": {
    "name": "ipython",
    "version": 2
   },
   "file_extension": ".py",
   "mimetype": "text/x-python",
   "name": "python",
   "nbconvert_exporter": "python",
   "pygments_lexer": "ipython2",
   "version": "2.7.12"
  }
 },
 "nbformat": 4,
 "nbformat_minor": 2
}
