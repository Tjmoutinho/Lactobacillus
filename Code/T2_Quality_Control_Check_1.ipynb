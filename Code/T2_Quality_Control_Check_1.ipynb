{
 "cells": [
  {
   "cell_type": "code",
   "execution_count": 56,
   "metadata": {},
   "outputs": [],
   "source": [
    "import cobra\n",
    "from cobra.flux_analysis import gapfill\n",
    "import glob\n",
    "import time\n",
    "import sys"
   ]
  },
  {
   "cell_type": "code",
   "execution_count": 2,
   "metadata": {},
   "outputs": [
    {
     "data": {
      "text/plain": [
       "True"
      ]
     },
     "execution_count": 2,
     "metadata": {},
     "output_type": "execute_result"
    }
   ],
   "source": [
    "# Read in model_path names\n",
    "model_paths = glob.glob('../models/*.xml')\n",
    "# Check for duplicate models: there are none. \n",
    "len(model_paths) == len(set(model_paths))"
   ]
  },
  {
   "cell_type": "code",
   "execution_count": 3,
   "metadata": {},
   "outputs": [
    {
     "data": {
      "text/plain": [
       "'../models/1002365.5.xml'"
      ]
     },
     "execution_count": 3,
     "metadata": {},
     "output_type": "execute_result"
    }
   ],
   "source": [
    "model_paths[1]"
   ]
  },
  {
   "cell_type": "code",
   "execution_count": null,
   "metadata": {},
   "outputs": [],
   "source": [
    "# Check each model for mass and charge balance with '.check_mass_balance()'\n",
    "t = time.time()\n",
    "\n",
    "bal_rxn_ids = []\n",
    "imbal_charge_rxn_ids = []\n",
    "imbal_mass_rxn_ids = []\n",
    "imbal_charge_mass_rxn_ids = []\n",
    "error_rxn_ids = []\n",
    "bal_enuf_rxn_ids = []\n",
    "\n",
    "index = 0\n",
    "\n",
    "for model_path in model_paths:\n",
    "    sys.stdout.write('\\r'+ str(index))\n",
    "    sys.stdout.flush()\n",
    "    model_x = cobra.io.read_sbml_model(model_path)\n",
    "    # Make model specific element list\n",
    "    elem_list = []\n",
    "    for metabolite in model_x.metabolites:\n",
    "        elems = dict.keys(metabolite.elements)\n",
    "        elem_list = elem_list + elems\n",
    "    elem_set = set(elem_list)\n",
    "    # Make model specific exchange rxn list\n",
    "    exchange_ids = [x.id for x in model.exchanges]\n",
    "#     exchange_ids = []\n",
    "#     for exchange_rxn in model_x.exchanges:\n",
    "#         ex_id = exchange_rxn.id\n",
    "#         exchange_ids.append(ex_id)\n",
    "    \n",
    "    for rxn in model_x.reactions:\n",
    "        rxn_id = rxn.id\n",
    "        if not rxn_id in exchange_ids:\n",
    "            #rxn_id = model_x.reactions[936].id\n",
    "            imbalcharge = False\n",
    "            rxn_mass_dict = model_x.reactions.get_by_id(rxn_id).check_mass_balance()\n",
    "            rxn_imbalance_elems = set(dict.keys(rxn_mass_dict))\n",
    "            if bool(rxn_mass_dict) == False:\n",
    "                #print \"balanced\"\n",
    "                bal_rxn_ids.append(rxn_id)\n",
    "            elif bool(rxn_mass_dict) == True:\n",
    "                if set(['charge']).issubset(rxn_imbalance_elems) == True:\n",
    "                    #print \"Charge imbalance\"\n",
    "                    rxn_imbalance_elems.remove('charge')\n",
    "                    imbalcharge = True\n",
    "                if (rxn_imbalance_elems != set()) & (rxn_imbalance_elems.issubset(elem_set) == True):\n",
    "                    #print \"Mass imbalance\"\n",
    "                    if imbalcharge == False:\n",
    "                        imbal_mass_rxn_ids.append(rxn_id)\n",
    "                    elif imbalcharge == True:\n",
    "                        imbal_charge_mass_rxn_ids.append(rxn_id)\n",
    "                elif rxn_imbalance_elems == set():\n",
    "                    #print \"Mass balanced\"\n",
    "                    imbal_charge_rxn_ids.append(rxn_id)\n",
    "                else:\n",
    "                    #print \"Error\"\n",
    "                    error_rxn_ids.append(rxn_id)\n",
    "            else:\n",
    "                #print \"ERROR with determining if rxn is balanced\"\n",
    "                error_rxn_ids.append(rxn_id)\n",
    "\n",
    "            bal_enuf_rxn_ids = list(set(bal_rxn_ids + imbal_charge_rxn_ids))\n",
    "    index = index + 1\n",
    "\n",
    "elapsed = time.time() - t\n",
    "print \"Time to complete:\", elapsed/60, \"mins\"\n",
    "\n",
    "#print bal_rxn_ids\n",
    "#print imbal_charge_rxn_ids\n",
    "print \"Mass Imbalanced Reactions\"\n",
    "print \"Total:\", len(imbal_mass_rxn_ids)\n",
    "print \"Set:\", len(list(set(imbal_mass_rxn_ids)))\n",
    "print list(set(imbal_mass_rxn_ids))\n",
    "\n",
    "print \"Charge and Mass Imbalanced Reactions\"\n",
    "print \"Total:\", len(imbal_charge_mass_rxn_ids)\n",
    "print \"Set:\", len(list(set(imbal_charge_mass_rxn_ids)))\n",
    "print list(set(imbal_charge_mass_rxn_ids))\n",
    "\n",
    "print \"Error Reactions\"\n",
    "print \"Total:\", len(error_rxn_ids)\n",
    "print \"Set:\", len(list(set(error_rxn_ids)))\n",
    "print list(set(error_rxn_ids))\n",
    "\n",
    "#print bal_enuf_rxn_ids"
   ]
  },
  {
   "cell_type": "code",
   "execution_count": null,
   "metadata": {},
   "outputs": [],
   "source": [
    "# Which models have a problem and what is their problem for rxn10124_c? \n",
    "t = time.time()\n",
    "index = 0\n",
    "rxn_id = 'rxn10124_c' # Issue rxn\n",
    "imbalanced = {}\n",
    "\n",
    "for model_path in model_paths:\n",
    "    sys.stdout.write('\\r'+ str(index))\n",
    "    sys.stdout.flush()\n",
    "    model_x = cobra.io.read_sbml_model(model_path)\n",
    "    if rxn_id in set([reaction.id for reaction in model_x.reactions]):\n",
    "        # Make model specific element list if the model is worth looking at\n",
    "        elem_list = []\n",
    "        for metabolite in model_x.metabolites:\n",
    "            elems = dict.keys(metabolite.elements)\n",
    "            elem_list = elem_list + elems\n",
    "        elem_set = set(elem_list)\n",
    "        # Check mass balance\n",
    "        rxn = model_x.reactions.get_by_id(rxn_id)\n",
    "        if len(list(rxn.check_mass_balance())) > 0:\n",
    "            model_id = [model_path.replace(\"models/\",\"\").replace(\".xml\",\"\")]\n",
    "            imbalanced[model_id[0]] = rxn.check_mass_balance()\n",
    "    index = index + 1\n",
    "\n",
    "elapsed = time.time() - t\n",
    "print \"Time to complete:\", elapsed/60, \"mins\"\n",
    "print \" \"\n",
    "imbalanced"
   ]
  },
  {
   "cell_type": "code",
   "execution_count": 74,
   "metadata": {},
   "outputs": [],
   "source": [
    "# Identify gapfilled reactions\n",
    "def findGapFilled(model):\n",
    "    gapfilled = []\n",
    "    for index in model.reactions:\n",
    "        if len(list(index.genes)) == 0:\n",
    "            if not index in model.exchanges:\n",
    "                gapfilled.append(index.id)\n",
    "    \n",
    "    if len(gapfilled) > 0:\n",
    "        print(str(len(gapfilled)) + ' reactions not associated with genes')\n",
    "    \n",
    "    return gapfilled\n",
    "\n",
    "# Checks which metabolites are generated for free\n",
    "def checkFreeMass(raw_model):\n",
    "\n",
    "    with raw_model as model:\n",
    "        for index in model.exchanges:\n",
    "            model.reactions.get_by_id(index.id).lower_bound = 0\n",
    "        imbalanced = []\n",
    "        for index in model.metabolites:\n",
    "            if index.id in ['cpd17042_c','cpd17043_c','cpd17041_c']:\n",
    "                continue\n",
    "            demand = model.add_boundary(index, type='demand')\n",
    "            model.objective = demand\n",
    "            obj_val = model.slim_optimize(error_value=0.)\n",
    "            if obj_val > 0.0000000001:\n",
    "                imbalanced.append(index.id)\n",
    "            model.remove_reactions([demand])\n",
    "\n",
    "#     if len(imbalanced) > 0:\n",
    "#         print(str(len(imbalanced)) + ' metabolites are generated for free')\n",
    "\n",
    "    return(imbalanced)\n",
    "\n",
    "# Check for mass and charge balance in reactions\n",
    "def checkBalance(raw_model, biomass):\n",
    "    \n",
    "    with raw_model as model:\n",
    "        imbalanced = {}\n",
    "        mass_imbal = 0\n",
    "        charge_imbal = 0\n",
    "        elem_set = set()\n",
    "        for metabolite in raw_model.metabolites:\n",
    "            try:\n",
    "                elem_set |= set(metabolite.elements.keys())\n",
    "            except:\n",
    "                pass\n",
    "        exchange_ids = [x.id for x in model.exchanges]\n",
    "        for index in model.reactions:\n",
    "            if index.id == biomass:\n",
    "                continue\n",
    "            if not index.id in exchange_ids:\n",
    "                try:\n",
    "                    test = index.check_mass_balance()\n",
    "                except ValueError:\n",
    "                    continue\n",
    "                if len(list(test)) > 0:\n",
    "                    imbalanced[index.id] = test\n",
    "                    if 'charge' in test.keys():\n",
    "                        charge_imbal += 1\n",
    "                    if len(set(test.keys()).intersection(elem_set)) > 0:\n",
    "                        mass_imbal += 1\n",
    "    \n",
    "    if mass_imbal != 0:\n",
    "        print(str(mass_imbal) + ' reactions are mass imbalanced')\n",
    "    if charge_imbal != 0:\n",
    "        print(str(charge_imbal) + ' reactions are charge imbalanced')\n",
    "    \n",
    "    return(imbalanced)\n",
    "# Checks the quality of models by a couple metrics and returns problems\n",
    "def checkQuality(model, biomass):\n",
    "    \n",
    "    gaps = findGapFilled(model)\n",
    "    freemass = checkFreeMass(model)\n",
    "    balance = checkBalance(model, biomass)\n",
    "    \n",
    "    return gaps, freemass, balance"
   ]
  },
  {
   "cell_type": "code",
   "execution_count": 53,
   "metadata": {},
   "outputs": [
    {
     "name": "stdout",
     "output_type": "stream",
     "text": [
      "132 reactions not associated with genes\n",
      "1 reactions are mass imbalanced\n",
      "33 reactions are charge imbalanced\n"
     ]
    }
   ],
   "source": [
    "model = cobra.io.read_sbml_model(model_paths[0])\n",
    "gaps, freemass, balance = checkQuality(model, \"bio1\")"
   ]
  },
  {
   "cell_type": "code",
   "execution_count": null,
   "metadata": {},
   "outputs": [],
   "source": [
    "# Check for mass balance with FBA\n",
    "t = time.time()\n",
    "counter = 0\n",
    "freemass_set = set()\n",
    "for model_path in model_paths:\n",
    "    sys.stdout.write('\\r'+ str(counter))\n",
    "    sys.stdout.flush()\n",
    "    model = cobra.io.read_sbml_model(model_path)\n",
    "    freemass = checkFreeMass(model)\n",
    "    freemass_set |= set(freemass)\n",
    "    counter += 1\n",
    "elapsed = time.time() - t\n",
    "print \"Time to complete:\", elapsed/60, \"mins\""
   ]
  },
  {
   "cell_type": "code",
   "execution_count": null,
   "metadata": {},
   "outputs": [],
   "source": [
    "freemass_set"
   ]
  },
  {
   "cell_type": "code",
   "execution_count": null,
   "metadata": {},
   "outputs": [],
   "source": []
  }
 ],
 "metadata": {
  "kernelspec": {
   "display_name": "Python 2",
   "language": "python",
   "name": "python2"
  },
  "language_info": {
   "codemirror_mode": {
    "name": "ipython",
    "version": 2
   },
   "file_extension": ".py",
   "mimetype": "text/x-python",
   "name": "python",
   "nbconvert_exporter": "python",
   "pygments_lexer": "ipython2",
   "version": "2.7.12"
  }
 },
 "nbformat": 4,
 "nbformat_minor": 2
}
