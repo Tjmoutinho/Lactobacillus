{
 "cells": [
  {
   "cell_type": "code",
   "execution_count": 1,
   "metadata": {},
   "outputs": [],
   "source": [
    "import pickle"
   ]
  },
  {
   "cell_type": "code",
   "execution_count": 2,
   "metadata": {},
   "outputs": [],
   "source": [
    "coregenome_sizes = pickle.load(open( \"../Data/filteredHumanCoreGenomeSizes.data\", \"rb\" ) )\n",
    "pangenome_sizes = pickle.load(open( \"../Data/filteredHumanPanGenomeSizes.data\", \"rb\" ) )"
   ]
  },
  {
   "cell_type": "code",
   "execution_count": 3,
   "metadata": {},
   "outputs": [],
   "source": [
    "output_file = '../Data/core_pan_data.csv'  \n",
    "\n",
    "output_file = open(output_file, 'w')\n",
    "header = 'index,' + 'core,' + 'pan\\n'\n",
    "output_file.write(header)\n",
    "\n",
    "for i in range(1,len(coregenome_sizes)+1):\n",
    "    # Write info to tsv file\n",
    "    output_file.write(str(i) + ',')\n",
    "    output_file.write(str(coregenome_sizes[i-1]) + ',')\n",
    "    output_file.write(str(pangenome_sizes[i-1]) + '\\n')\n"
   ]
  },
  {
   "cell_type": "code",
   "execution_count": null,
   "metadata": {},
   "outputs": [],
   "source": []
  }
 ],
 "metadata": {
  "kernelspec": {
   "display_name": "Python 3",
   "language": "python",
   "name": "python3"
  },
  "language_info": {
   "codemirror_mode": {
    "name": "ipython",
    "version": 3
   },
   "file_extension": ".py",
   "mimetype": "text/x-python",
   "name": "python",
   "nbconvert_exporter": "python",
   "pygments_lexer": "ipython3",
   "version": "3.5.2"
  }
 },
 "nbformat": 4,
 "nbformat_minor": 2
}
