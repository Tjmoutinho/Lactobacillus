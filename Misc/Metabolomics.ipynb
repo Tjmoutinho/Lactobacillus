{
 "cells": [
  {
   "cell_type": "code",
   "execution_count": 1,
   "metadata": {},
   "outputs": [
    {
     "ename": "NameError",
     "evalue": "name 'library' is not defined",
     "output_type": "error",
     "traceback": [
      "\u001b[0;31m---------------------------------------------------------------------------\u001b[0m",
      "\u001b[0;31mNameError\u001b[0m                                 Traceback (most recent call last)",
      "\u001b[0;32m<ipython-input-1-57f80b490541>\u001b[0m in \u001b[0;36m<module>\u001b[0;34m()\u001b[0m\n\u001b[0;32m----> 1\u001b[0;31m \u001b[0mlibrary\u001b[0m\u001b[0;34m(\u001b[0m\u001b[0mpheatmap\u001b[0m\u001b[0;34m)\u001b[0m\u001b[0;34m\u001b[0m\u001b[0m\n\u001b[0m\u001b[1;32m      2\u001b[0m \u001b[0mlibrary\u001b[0m\u001b[0;34m(\u001b[0m\u001b[0mplyr\u001b[0m\u001b[0;34m)\u001b[0m\u001b[0;34m\u001b[0m\u001b[0m\n",
      "\u001b[0;31mNameError\u001b[0m: name 'library' is not defined"
     ]
    }
   ],
   "source": [
    "library(pheatmap)\n",
    "library(plyr)"
   ]
  },
  {
   "cell_type": "code",
   "execution_count": null,
   "metadata": {},
   "outputs": [],
   "source": [
    "# Load integrals, peak ranges, and sample data# Load  \n",
    "integrals = read.table('integrals_20170323.txt', header=FALSE,\n",
    "                         sep = \",\")\n",
    "integral_ranges = read.table('coculture_peak_ranges.txt',header=TRUE,\n",
    "                             sep = \",\")\n",
    "master <- read.table(file=\"merged_metadata.txt\",header=TRUE,sep='\\t')"
   ]
  },
  {
   "cell_type": "code",
   "execution_count": null,
   "metadata": {},
   "outputs": [],
   "source": [
    "# set column names of integrals using integral_ranges met names\n",
    "colnames(integrals) <- integral_ranges$met_name\n",
    "mets = colnames(integrals)\n",
    "# Set rownames using experiment_id. This should be ordered correctly.\n",
    "integrals$experiment_id <- master$experiment_id\n",
    "# merge so that classes and integrals are in one dataframe\n",
    "all_data <- join(master,integrals,by=\"experiment_id\")"
   ]
  },
  {
   "cell_type": "code",
   "execution_count": null,
   "metadata": {},
   "outputs": [],
   "source": [
    "# remove non-growing samples from the data\n",
    "# 500 and 492 did not grow in experiment 3\n",
    "# 502 did not grow in experiment 2 or 3\n",
    "all_data = all_data[!(all_data$Run == 2 & grepl('502',all_data$species)),]\n",
    "all_data = all_data[!(all_data$Run == 3 & grepl('502',all_data$species)),]\n",
    "all_data = all_data[!(all_data$Run == 3 & grepl('500',all_data$species)),]\n",
    "all_data = all_data[!(all_data$Run == 3 & grepl('492',all_data$species)),]\n",
    "# remove experiment 4 (3-species subset including only 356,361,519)\n",
    "all_data = all_data[all_data$Run != \"4\",]"
   ]
  },
  {
   "cell_type": "code",
   "execution_count": null,
   "metadata": {},
   "outputs": [],
   "source": [
    "# replace negative values in integrals with 0.\n",
    "all_data[,colnames(all_data) %in% mets] = \n",
    "        (apply(all_data[,colnames(all_data) %in% mets],2,function(x){x[x<0] = 0;x}))\n",
    "# center the data by subtracting the mean of blanks\n",
    "blanks = subset(all_data,species == '0')\n",
    "blank_means = colMeans(blanks[,names(blanks) %in% mets])\n",
    "centered_integrals <- sweep(all_data[,mets], 2, blank_means, `-`)\n",
    "all_data[,mets] = centered_integrals"
   ]
  },
  {
   "cell_type": "code",
   "execution_count": null,
   "metadata": {},
   "outputs": [],
   "source": [
    "known_mets known_m = mets[-grep(\"unknown\", mets)]\n",
    "monoculture_only = all_data[all_data$species %in% c('356','360','361','492','500','519'),]\n",
    "# collapse columns into means\n",
    "mono356 = colMeans(monoculture_only[monoculture_only$species == '356',known_mets])\n",
    "mono360 = colMeans(monoculture_only[monoculture_only$species == '360',known_mets])\n",
    "monoculture_for_plotting = rbind(mono356,mono360)\n",
    "mono361 = colMeans(monoculture_only[monoculture_only$species == '361',known_mets])\n",
    "monoculture_for_plotting = rbind(monoculture_for_plotting,mono361)\n",
    "mono492 = colMeans(monoculture_only[monoculture_only$species == '492',known_mets])\n",
    "monoculture_for_plotting = rbind(monoculture_for_plotting,mono492)\n",
    "mono500 = colMeans(monoculture_only[monoculture_only$species == '500',known_mets])\n",
    "monoculture_for_plotting = rbind(monoculture_for_plotting,mono500)\n",
    "# Exclude 502 for the paper\n",
    "#mono502 = colMeans(monoculture_only[monoculture_only$species == '502',known_mets])\n",
    "#monoculture_for_plotting = rbind(monoculture_for_plotting,mono502)\n",
    "mono519 = colMeans(monoculture_only[monoculture_only$species == '519',known_mets])\n",
    "monoculture_for_plotting = rbind(monoculture_for_plotting,mono519)\n",
    "row.names(monoculture_for_plotting) = c('ASF356','ASF360','ASF361','ASF492','ASF500','ASF519')\n",
    "# try min/max scaling within each column\n",
    "monoculture_for_plotting_maxnorm = sweep(monoculture_for_plotting,MARGIN=2,apply(monoculture_for_plotting,2,function(x) max(abs(x), na.rm = TRUE)), FUN=\"/\")\n"
   ]
  },
  {
   "cell_type": "code",
   "execution_count": null,
   "metadata": {},
   "outputs": [],
   "source": [
    "# generate a heatmap of monoculture metabolomes using the centered, max/min normalized integrals\n",
    "\n",
    "pheatmap(monoculture_for_plotting_maxnorm,filename='~/Documents/Projects/asf_interactions/results/monoculture_metabolome.jpg',width=9,height=3.2,cluster_rows=FALSE)"
   ]
  }
 ],
 "metadata": {
  "kernelspec": {
   "display_name": "Python 2",
   "language": "python",
   "name": "python2"
  },
  "language_info": {
   "codemirror_mode": {
    "name": "ipython",
    "version": 2
   },
   "file_extension": ".py",
   "mimetype": "text/x-python",
   "name": "python",
   "nbconvert_exporter": "python",
   "pygments_lexer": "ipython2",
   "version": "2.7.12"
  }
 },
 "nbformat": 4,
 "nbformat_minor": 2
}
