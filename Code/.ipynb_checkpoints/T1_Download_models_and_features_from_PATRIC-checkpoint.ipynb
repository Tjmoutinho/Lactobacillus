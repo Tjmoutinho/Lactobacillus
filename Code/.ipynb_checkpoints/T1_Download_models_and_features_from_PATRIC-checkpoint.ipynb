{
 "cells": [
  {
   "cell_type": "code",
   "execution_count": 41,
   "metadata": {},
   "outputs": [],
   "source": [
    "from __future__ import print_function\n",
    "\n",
    "import cobra\n",
    "import cobra.test\n",
    "import mackinac\n",
    "import numpy as np\n",
    "import csv\n",
    "import glob\n",
    "import pickle\n",
    "import pandas as pd\n",
    "import copy"
   ]
  },
  {
   "cell_type": "code",
   "execution_count": 2,
   "metadata": {},
   "outputs": [
    {
     "name": "stdout",
     "output_type": "stream",
     "text": [
      "patric password: ········\n"
     ]
    },
    {
     "data": {
      "text/plain": [
       "u'tjmoutinho@patricbrc.org'"
      ]
     },
     "execution_count": 2,
     "metadata": {},
     "output_type": "execute_result"
    }
   ],
   "source": [
    "mackinac.get_token('tjmoutinho')"
   ]
  },
  {
   "cell_type": "code",
   "execution_count": 2,
   "metadata": {},
   "outputs": [],
   "source": [
    "# Read in list of all genomes on PATRIC and list of existing models in folder\n",
    "with open('../Data/genome_ids_all.csv') as csvfile:\n",
    "    genome_ids = []\n",
    "    for line in csvfile:\n",
    "        genome_ids.append(line.strip())\n",
    "# genome_ids"
   ]
  },
  {
   "cell_type": "code",
   "execution_count": 3,
   "metadata": {},
   "outputs": [
    {
     "data": {
      "text/plain": [
       "1507"
      ]
     },
     "execution_count": 3,
     "metadata": {},
     "output_type": "execute_result"
    }
   ],
   "source": [
    "len(genome_ids)"
   ]
  },
  {
   "cell_type": "code",
   "execution_count": 2,
   "metadata": {},
   "outputs": [],
   "source": [
    "### UPDATE TOTAL CSV GENOME FILE, REMOVE THIS BOX ###\n",
    "\n",
    "# Read in additional bifido genomes\n",
    "count = 0\n",
    "with open('../Data/Bifido_genomes.csv') as csvfile:\n",
    "    genome_ids = []\n",
    "    for line in csvfile:\n",
    "        if count == 0:\n",
    "            count = 1\n",
    "            continue\n",
    "        genome_ids.append(line.strip().split(',')[0])"
   ]
  },
  {
   "cell_type": "code",
   "execution_count": 9,
   "metadata": {},
   "outputs": [
    {
     "name": "stdout",
     "output_type": "stream",
     "text": [
      "50\n"
     ]
    }
   ],
   "source": [
    "# models = glob.glob('../models/*.xml')\n",
    "# models = [x.replace(\"../models/\",\"\").replace(\".xml\",\"\") for x in models]\n",
    "# # Loop to make all missing Models\n",
    "# missing_genome_id = []\n",
    "# # for j in range(10):\n",
    "# for genome_id in genome_ids:\n",
    "#     if not genome_id in models:\n",
    "#         missing_genome_id.append(genome_id)\n",
    "# print(len(missing_genome_id))"
   ]
  },
  {
   "cell_type": "code",
   "execution_count": 10,
   "metadata": {},
   "outputs": [],
   "source": [
    "# Download additional models and convert to cobra model, then save to sbml\n",
    "\n",
    "# Check for existing model files by name\n",
    "models = glob.glob('../models/*.xml')\n",
    "models = [x.replace(\"../models/\",\"\").replace(\".xml\",\"\") for x in models]\n",
    "# Loop to make all missing Models\n",
    "failed_genome_index = []\n",
    "for j in range(3): # Adjusted to 3 rather than 10\n",
    "    for genome_id in genome_ids:\n",
    "        if not genome_id in models:\n",
    "            try:\n",
    "                model_file_name = \"../models/%s.xml\" % (genome_id)\n",
    "                mackinac.create_patric_model(genome_id,genome_id)\n",
    "                model = mackinac.create_cobra_model_from_patric_model(genome_id)\n",
    "                cobra.io.write_sbml_model(model, model_file_name)\n",
    "                genome_ids.remove(genome_id)\n",
    "            except:\n",
    "                failed_genome_index.append(genome_id)\n",
    "                pass"
   ]
  },
  {
   "cell_type": "code",
   "execution_count": 11,
   "metadata": {},
   "outputs": [
    {
     "data": {
      "text/plain": [
       "['302911.31',\n",
       " '702459.3',\n",
       " '1681.48',\n",
       " '1685.38',\n",
       " '1685.59',\n",
       " '565042.3',\n",
       " '1679.14']"
      ]
     },
     "execution_count": 11,
     "metadata": {},
     "output_type": "execute_result"
    }
   ],
   "source": [
    "failed_genome_index"
   ]
  },
  {
   "cell_type": "code",
   "execution_count": 60,
   "metadata": {},
   "outputs": [],
   "source": [
    "# Download features files\n",
    "model_paths = glob.glob('../models/*.xml')\n",
    "genome_ids = [x.replace(\"../models/\",\"\").replace(\".xml\",\"\") for x in model_paths]\n",
    "\n",
    "# Check for existing fasta files by name\n",
    "feature_file_paths = glob.glob('../features/*.feats')\n",
    "feature_genome_ids = [x.replace(\"../features/\",\"\").replace(\".feats\",\"\") for x in feature_file_paths]\n",
    "# Loop to make all missing Fasta Files\n",
    "missing_feat_files = []\n",
    "for genome_id in genome_ids:\n",
    "    if not genome_id in feature_genome_ids:\n",
    "        try:\n",
    "            feature_list = mackinac.get_genome_features(genome_id, annotation='PATRIC')\n",
    "            file_name = \"../features/%s.feats\" % (genome_id)\n",
    "            pickle.dump(feature_list, open(file_name, \"wb\"))\n",
    "        except:\n",
    "            missing_feat_files.append(genome_id)\n",
    "            pass"
   ]
  },
  {
   "cell_type": "code",
   "execution_count": 61,
   "metadata": {},
   "outputs": [
    {
     "data": {
      "text/plain": [
       "[]"
      ]
     },
     "execution_count": 61,
     "metadata": {},
     "output_type": "execute_result"
    }
   ],
   "source": [
    "missing_feat_files"
   ]
  },
  {
   "cell_type": "code",
   "execution_count": 62,
   "metadata": {},
   "outputs": [],
   "source": [
    "# Download protein fasta files\n",
    "model_paths = glob.glob('../models/*.xml')\n",
    "genome_ids = [x.replace(\"../models/\",\"\").replace(\".xml\",\"\") for x in model_paths]\n",
    "\n",
    "# Check for existing fasta files by name\n",
    "fasta_file_paths = glob.glob('../fastas/*.faa')\n",
    "fasta_genome_ids = [x.replace(\"../fastas/\",\"\").replace(\".faa\",\"\") for x in fasta_file_paths]\n",
    "# Loop to make all missing Fasta Files\n",
    "failed_genome_fasta_index = []\n",
    "for genome_id in genome_ids:\n",
    "    if not genome_id in fasta_genome_ids:\n",
    "        try:\n",
    "            feature_list = mackinac.get_genome_features(genome_id, annotation='PATRIC')\n",
    "            file_name = \"../fastas/%s.faa\" % (genome_id)\n",
    "            feats = mackinac.features_to_protein_fasta_file(feature_list, file_name)\n",
    "            #print(\"Number of Features in genome \" + str(x) + \": \" + str(feats))\n",
    "        except:\n",
    "            failed_genome_fasta_index.append(genome_id)\n",
    "            pass"
   ]
  },
  {
   "cell_type": "code",
   "execution_count": 63,
   "metadata": {},
   "outputs": [
    {
     "data": {
      "text/plain": [
       "[]"
      ]
     },
     "execution_count": 63,
     "metadata": {},
     "output_type": "execute_result"
    }
   ],
   "source": [
    "failed_genome_fasta_index"
   ]
  },
  {
   "cell_type": "code",
   "execution_count": 73,
   "metadata": {},
   "outputs": [],
   "source": [
    "# Download DNA fasta files\n",
    "model_paths = glob.glob('../models/*.xml')\n",
    "genome_ids = [x.replace(\"../models/\",\"\").replace(\".xml\",\"\") for x in model_paths]\n",
    "\n",
    "# Check for existing fasta files by name\n",
    "fasta_file_paths = glob.glob('../nt_fastas/*.faa')\n",
    "fasta_genome_ids = [x.replace(\"../nt_fastas/\",\"\").replace(\".faa\",\"\") for x in fasta_file_paths]\n",
    "# Loop to make all missing Fasta Files\n",
    "failed_genome_fasta_index = []\n",
    "for genome_id in genome_ids:\n",
    "    if not genome_id in fasta_genome_ids:\n",
    "        try:\n",
    "            feature_list = mackinac.get_genome_features(genome_id, annotation='PATRIC')\n",
    "            file_name = \"../nt_fastas/%s.faa\" % (genome_id)\n",
    "            feats = mackinac.features_to_dna_fasta_file(feature_list, file_name)\n",
    "            #print(\"Number of Features in genome \" + str(x) + \": \" + str(feats))\n",
    "        except:\n",
    "            failed_genome_fasta_index.append(genome_id)\n",
    "            pass"
   ]
  },
  {
   "cell_type": "code",
   "execution_count": 74,
   "metadata": {},
   "outputs": [
    {
     "data": {
      "text/plain": [
       "[]"
      ]
     },
     "execution_count": 74,
     "metadata": {},
     "output_type": "execute_result"
    }
   ],
   "source": [
    "failed_genome_fasta_index"
   ]
  },
  {
   "cell_type": "code",
   "execution_count": 66,
   "metadata": {},
   "outputs": [],
   "source": [
    "# Download Gapfilled Reaction Objects\n",
    "model_paths = glob.glob('../models/*.xml')\n",
    "genome_ids = [x.replace(\"../models/\",\"\").replace(\".xml\",\"\") for x in model_paths]\n",
    "\n",
    "# Check for existing gapfill object files by name\n",
    "gf_file_paths = glob.glob('../gapfilled/*.gf')\n",
    "existing_gf_ids = [x.replace(\"../gapfilled/\",\"\").replace(\".gf\",\"\") for x in gf_file_paths]\n",
    "# Loop to make all missing Fasta Files\n",
    "failed_genome_gf_index = []\n",
    "for genome_id in genome_ids:\n",
    "    if not genome_id in existing_gf_ids:\n",
    "        try:\n",
    "            gf_solutions = mackinac.get_patric_gapfill_solutions(genome_id)\n",
    "            file_name = \"../gapfilled/%s.gf\" % (genome_id)\n",
    "            pickle.dump(gf_solutions, open(file_name, \"wb\"))\n",
    "        except:\n",
    "            failed_genome_gf_index.append(genome_id)\n",
    "            pass"
   ]
  },
  {
   "cell_type": "code",
   "execution_count": 67,
   "metadata": {},
   "outputs": [
    {
     "data": {
      "text/plain": [
       "[]"
      ]
     },
     "execution_count": 67,
     "metadata": {},
     "output_type": "execute_result"
    }
   ],
   "source": [
    "failed_genome_gf_index"
   ]
  },
  {
   "cell_type": "code",
   "execution_count": 68,
   "metadata": {},
   "outputs": [],
   "source": [
    "# Identify gapfilled reactions\n",
    "def findGapFilled(model):\n",
    "    gapfilled = []\n",
    "    for index in model.reactions:\n",
    "        if not index.id in ['bio1']:\n",
    "            if len(list(index.genes)) == 0:\n",
    "                if not index in model.exchanges:\n",
    "                    gapfilled.append(index.id)\n",
    "\n",
    "#     if len(gapfilled) > 0:\n",
    "#         print(str(len(gapfilled)) + ' reactions not associated with genes')\n",
    "    \n",
    "    return gapfilled\n",
    "\n",
    "# Remove gapfilled rxns from the PATRIC model\n",
    "def pruneGaps(model, orphans, gap_object):\n",
    "    model_temp = copy.deepcopy(model)\n",
    "    gaps_total = set()\n",
    "    for index in gap_object:\n",
    "        gaps = [x for x in index['reactions']]\n",
    "        gaps_total |= set(gaps)\n",
    "\n",
    "    model_gaps = []\n",
    "    for x in gaps_total:\n",
    "        try:\n",
    "            model_gaps.append(model_temp.reactions.get_by_id(x).id)\n",
    "        except:\n",
    "            pass\n",
    "\n",
    "    remove = [x for x in model_gaps if x in orphans]    \n",
    "\n",
    "#     print('Reactions removed: ' + str(len(remove)))\n",
    "    model_temp.remove_reactions(remove)\n",
    "\n",
    "    return(model_temp)"
   ]
  },
  {
   "cell_type": "code",
   "execution_count": 69,
   "metadata": {},
   "outputs": [],
   "source": [
    "## Remove all gapfilled reactions from models and save new models\n",
    "model_paths = glob.glob('../models/*.xml')\n",
    "genome_ids = [x.replace(\"../models/\",\"\").replace(\".xml\",\"\") for x in model_paths]\n",
    "model_paths = glob.glob('../gap_models/*.xml')\n",
    "gap_models_ids = [x.replace(\"../gap_models/\",\"\").replace(\".xml\",\"\") for x in model_paths]\n",
    "\n",
    "count = 0\n",
    "failed_index = []\n",
    "for genome_id in genome_ids:\n",
    "    if not genome_id in gap_models_ids:\n",
    "        try:\n",
    "            file_name = \"../models/%s.xml\" % (genome_id)\n",
    "            model = cobra.io.read_sbml_model(file_name)\n",
    "            orphans = findGapFilled(model)\n",
    "            pickle_path = \"../gapfilled/%s.gf\" % (genome_id)\n",
    "            gap_object = pickle.load(open(pickle_path, \"rb\"))\n",
    "            pruned_model = pruneGaps(model, orphans, gap_object)\n",
    "            write_file_name = \"../gap_models/%s.xml\" % (genome_id)\n",
    "            cobra.io.write_sbml_model(pruned_model, write_file_name)\n",
    "            if count == 0:\n",
    "                count = 1\n",
    "                print(\"model 1 complete!\")\n",
    "        except:\n",
    "            failed_index.append(genome_id)\n",
    "            pass"
   ]
  },
  {
   "cell_type": "code",
   "execution_count": 75,
   "metadata": {},
   "outputs": [
    {
     "name": "stdout",
     "output_type": "stream",
     "text": [
      "1881\n",
      "1881\n",
      "1881\n",
      "1881\n",
      "1881\n",
      "1881\n",
      "1881\n"
     ]
    }
   ],
   "source": [
    "print(len(genome_ids))\n",
    "print(len(glob.glob('../gapfilled/*.gf')))\n",
    "print(len(glob.glob('../models/*.xml')))\n",
    "print(len(glob.glob('../fastas/*.faa')))\n",
    "print(len(glob.glob('../features/*.feats')))\n",
    "print(len(glob.glob('../nt_fastas/*.faa')))\n",
    "print(len(glob.glob('../gap_models/*.xml')))"
   ]
  },
  {
   "cell_type": "code",
   "execution_count": 71,
   "metadata": {},
   "outputs": [
    {
     "data": {
      "text/plain": [
       "[]"
      ]
     },
     "execution_count": 71,
     "metadata": {},
     "output_type": "execute_result"
    }
   ],
   "source": [
    "failed_index"
   ]
  },
  {
   "cell_type": "code",
   "execution_count": 76,
   "metadata": {},
   "outputs": [
    {
     "data": {
      "text/plain": [
       "0"
      ]
     },
     "execution_count": 76,
     "metadata": {},
     "output_type": "execute_result"
    }
   ],
   "source": [
    "len(failed_index)"
   ]
  },
  {
   "cell_type": "code",
   "execution_count": null,
   "metadata": {},
   "outputs": [],
   "source": [
    "# fasta_file_paths = glob.glob('../fastas/*.faa')\n",
    "# fasta_genome_ids = [x.replace(\"../fastas/\",\"\").replace(\".faa\",\"\") for x in fasta_file_paths]\n",
    "# fasta_genome_ids"
   ]
  },
  {
   "cell_type": "code",
   "execution_count": 2,
   "metadata": {},
   "outputs": [
    {
     "name": "stdout",
     "output_type": "stream",
     "text": [
      "Contents of /chenry/public/modelsupport/templates:\n",
      "-rr chenry    \t  27225828\t2016-06-23T15:25:46Z\tmodeltemplate\t/chenry/public/modelsupport/templates/Core.modeltemplate\n",
      "-rr chenry    \t  19776723\t2016-06-27T21:31:36Z\tmodeltemplate\t/chenry/public/modelsupport/templates/newplant.modeltemplate\n",
      "-rr chenry    \t  73533708\t2016-09-08T07:17:41Z\tmodeltemplate\t/chenry/public/modelsupport/templates/FullBiomass.modeltemplate\n",
      "-rr chenry    \t  26559014\t2016-11-16T06:52:49Z\tmodeltemplate\t/chenry/public/modelsupport/templates/GramNegative.modeltemplate\n",
      "-rr chenry    \t  26564644\t2016-11-16T06:55:11Z\tmodeltemplate\t/chenry/public/modelsupport/templates/GramPositive.modeltemplate\n",
      "-rr seaver    \t  20808794\t2017-04-14T19:34:42Z\tmodeltemplate\t/chenry/public/modelsupport/templates/plant.modeltemplate\n",
      "-rr chenry    \t  26564644\t2017-08-10T15:30:06Z\tmodeltemplate\t/chenry/public/modelsupport/templates/GramPosModelTemplate\n",
      "-rr chenry    \t  26559014\t2017-08-10T15:30:25Z\tmodeltemplate\t/chenry/public/modelsupport/templates/GramNegModelTemplate\n",
      "-rr chenry    \t  27225828\t2017-08-10T15:31:17Z\tmodeltemplate\t/chenry/public/modelsupport/templates/CoreModelTemplate\n",
      "-rr seaver    \t  20713372\t2017-08-11T19:29:36Z\tmodeltemplate\t/chenry/public/modelsupport/templates/PlantModelTemplate\n"
     ]
    }
   ],
   "source": [
    "mackinac.list_workspace_objects('/chenry/public/modelsupport/templates', print_output=True)"
   ]
  },
  {
   "cell_type": "code",
   "execution_count": 6,
   "metadata": {},
   "outputs": [],
   "source": [
    "universal = mackinac.create_universal_model('/chenry/public/modelsupport/templates/GramPosModelTemplate')"
   ]
  },
  {
   "cell_type": "code",
   "execution_count": 7,
   "metadata": {},
   "outputs": [
    {
     "data": {
      "text/html": [
       "\n",
       "        <table>\n",
       "            <tr>\n",
       "                <td><strong>Name</strong></td>\n",
       "                <td>GramPositive.modeltemplate</td>\n",
       "            </tr><tr>\n",
       "                <td><strong>Memory address</strong></td>\n",
       "                <td>0x07f2fcc7c0110</td>\n",
       "            </tr><tr>\n",
       "                <td><strong>Number of metabolites</strong></td>\n",
       "                <td>6884</td>\n",
       "            </tr><tr>\n",
       "                <td><strong>Number of reactions</strong></td>\n",
       "                <td>8657</td>\n",
       "            </tr><tr>\n",
       "                <td><strong>Objective expression</strong></td>\n",
       "                <td>0</td>\n",
       "            </tr><tr>\n",
       "                <td><strong>Compartments</strong></td>\n",
       "                <td>c, e</td>\n",
       "            </tr>\n",
       "          </table>"
      ],
      "text/plain": [
       "<Model GramPositive.modeltemplate at 0x7f2fcc7c0110>"
      ]
     },
     "execution_count": 7,
     "metadata": {},
     "output_type": "execute_result"
    }
   ],
   "source": [
    "universal"
   ]
  },
  {
   "cell_type": "code",
   "execution_count": 79,
   "metadata": {},
   "outputs": [],
   "source": [
    "cobra.io.save_json_model(universal, \"../Data/GramPosUni.json\")"
   ]
  },
  {
   "cell_type": "code",
   "execution_count": 72,
   "metadata": {},
   "outputs": [],
   "source": [
    "neg = mackinac.create_universal_model('/chenry/public/modelsupport/templates/GramNegModelTemplate')"
   ]
  },
  {
   "cell_type": "code",
   "execution_count": 73,
   "metadata": {},
   "outputs": [
    {
     "data": {
      "text/html": [
       "\n",
       "        <table>\n",
       "            <tr>\n",
       "                <td><strong>Name</strong></td>\n",
       "                <td>GramNegative.modeltemplate</td>\n",
       "            </tr><tr>\n",
       "                <td><strong>Memory address</strong></td>\n",
       "                <td>0x07f2fcba4c1d0</td>\n",
       "            </tr><tr>\n",
       "                <td><strong>Number of metabolites</strong></td>\n",
       "                <td>6884</td>\n",
       "            </tr><tr>\n",
       "                <td><strong>Number of reactions</strong></td>\n",
       "                <td>8657</td>\n",
       "            </tr><tr>\n",
       "                <td><strong>Objective expression</strong></td>\n",
       "                <td>0</td>\n",
       "            </tr><tr>\n",
       "                <td><strong>Compartments</strong></td>\n",
       "                <td>c, e</td>\n",
       "            </tr>\n",
       "          </table>"
      ],
      "text/plain": [
       "<Model GramNegative.modeltemplate at 0x7f2fcba4c1d0>"
      ]
     },
     "execution_count": 73,
     "metadata": {},
     "output_type": "execute_result"
    }
   ],
   "source": [
    "neg"
   ]
  },
  {
   "cell_type": "code",
   "execution_count": 8,
   "metadata": {},
   "outputs": [],
   "source": [
    "core = mackinac.create_universal_model('/chenry/public/modelsupport/templates/CoreModelTemplate')"
   ]
  },
  {
   "cell_type": "code",
   "execution_count": 56,
   "metadata": {},
   "outputs": [
    {
     "data": {
      "text/html": [
       "\n",
       "        <table>\n",
       "            <tr>\n",
       "                <td><strong>Name</strong></td>\n",
       "                <td>Core</td>\n",
       "            </tr><tr>\n",
       "                <td><strong>Memory address</strong></td>\n",
       "                <td>0x07f2fcc344d90</td>\n",
       "            </tr><tr>\n",
       "                <td><strong>Number of metabolites</strong></td>\n",
       "                <td>6896</td>\n",
       "            </tr><tr>\n",
       "                <td><strong>Number of reactions</strong></td>\n",
       "                <td>8671</td>\n",
       "            </tr><tr>\n",
       "                <td><strong>Objective expression</strong></td>\n",
       "                <td>0</td>\n",
       "            </tr><tr>\n",
       "                <td><strong>Compartments</strong></td>\n",
       "                <td>c, e</td>\n",
       "            </tr>\n",
       "          </table>"
      ],
      "text/plain": [
       "<Model Core at 0x7f2fcc344d90>"
      ]
     },
     "execution_count": 56,
     "metadata": {},
     "output_type": "execute_result"
    }
   ],
   "source": [
    "core\n",
    "# type(core)"
   ]
  },
  {
   "cell_type": "code",
   "execution_count": 64,
   "metadata": {},
   "outputs": [],
   "source": [
    "rxns = core.reactions\n",
    "# str(rxns[0].id)"
   ]
  },
  {
   "cell_type": "code",
   "execution_count": 61,
   "metadata": {},
   "outputs": [
    {
     "data": {
      "text/plain": [
       "{'rxn14412_c',\n",
       " 'rxn14414_c',\n",
       " 'rxn14416_c',\n",
       " 'rxn14418_c',\n",
       " 'rxn14419_c',\n",
       " 'rxn14420_c',\n",
       " 'rxn14421_c',\n",
       " 'rxn14422_c',\n",
       " 'rxn14423_c',\n",
       " 'rxn14424_c',\n",
       " 'rxn14425_c',\n",
       " 'rxn14426_c',\n",
       " 'rxn14427_c',\n",
       " 'rxn14428_c'}"
      ]
     },
     "execution_count": 61,
     "metadata": {},
     "output_type": "execute_result"
    }
   ],
   "source": [
    "core_ids_set = set()\n",
    "for rxn in core.reactions:\n",
    "    core_ids_set |= (set([str(rxn.id)]))\n",
    "    \n",
    "pos_ids_set = set()\n",
    "for rxn in universal.reactions:\n",
    "    pos_ids_set |= (set([str(rxn.id)]))\n",
    "    \n",
    "diff_ids = core_ids_set ^ pos_ids_set\n",
    "diff_ids"
   ]
  },
  {
   "cell_type": "code",
   "execution_count": null,
   "metadata": {},
   "outputs": [],
   "source": [
    "\n",
    "\n",
    "\n",
    "\n",
    "\n",
    "\n",
    "\n",
    "\n",
    "\n",
    "\n",
    "\n",
    "\n",
    "\n",
    "\n",
    "\n",
    "\n",
    "\n",
    "\n",
    "\n",
    "\n",
    "\n",
    "\n",
    "\n",
    "\n",
    "\n",
    "\n",
    "\n",
    "\n",
    "\n",
    "\n",
    "\n",
    "\n",
    "\n",
    "\n",
    "\n",
    "\n",
    "\n"
   ]
  }
 ],
 "metadata": {
  "kernelspec": {
   "display_name": "Mackinac_Python27",
   "language": "python",
   "name": "mackinac_python27"
  },
  "language_info": {
   "codemirror_mode": {
    "name": "ipython",
    "version": 2
   },
   "file_extension": ".py",
   "mimetype": "text/x-python",
   "name": "python",
   "nbconvert_exporter": "python",
   "pygments_lexer": "ipython2",
   "version": "2.7.12"
  }
 },
 "nbformat": 4,
 "nbformat_minor": 2
}
