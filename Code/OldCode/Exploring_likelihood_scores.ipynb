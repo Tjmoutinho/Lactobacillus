{
 "cells": [
  {
   "cell_type": "code",
   "execution_count": 146,
   "metadata": {},
   "outputs": [],
   "source": [
    "from __future__ import print_function\n",
    "\n",
    "import cobra\n",
    "import cobra.test\n",
    "# import mackinac\n",
    "import numpy as np\n",
    "import csv\n",
    "import glob\n",
    "import pickle\n",
    "import pandas as pd\n",
    "import time\n",
    "import sys\n",
    "from collections import defaultdict\n",
    "from cobra.flux_analysis import gapfill\n",
    "from cobra.flux_analysis import pfba\n",
    "\n",
    "# Set default logger to python logger to avoid warnings given when adding reactions and/or metaboites \n",
    "# because \"cobra.core.model\" doesn't innately have a logger.\n",
    "import logging\n",
    "logging.basicConfig()\n",
    "logger = logging.getLogger('logger')"
   ]
  },
  {
   "cell_type": "code",
   "execution_count": 147,
   "metadata": {},
   "outputs": [],
   "source": [
    "genome_id = '220668.9'\n",
    "model = cobra.io.read_sbml_model('../gap_models/'+ genome_id +'.xml')\n",
    "likelihoods = pickle.load(open('../likelihoods/'+ genome_id +'.probs'))\n",
    "universal = cobra.io.load_json_model(\"../Data/GramPosUni.json\")\n",
    "\n",
    "# Ensure free water exhange\n",
    "model.reactions.get_by_id('rxn05319_c').name = \"Water transport\"\n",
    "model.reactions.get_by_id('rxn05319_c').bounds = (-1000., 1000.)"
   ]
  },
  {
   "cell_type": "code",
   "execution_count": 149,
   "metadata": {},
   "outputs": [
    {
     "data": {
      "text/html": [
       "\n",
       "        <table>\n",
       "            <tr>\n",
       "                <td><strong>Reaction identifier</strong></td><td>DM_cpd00117_c</td>\n",
       "            </tr><tr>\n",
       "                <td><strong>Name</strong></td><td>D-Alanine demand</td>\n",
       "            </tr><tr>\n",
       "                <td><strong>Memory address</strong></td>\n",
       "                <td>0x07fd343d6e810</td>\n",
       "            </tr><tr>\n",
       "                <td><strong>Stoichiometry</strong></td>\n",
       "                <td>\n",
       "                    <p style='text-align:right'>cpd00117_c --> </p>\n",
       "                    <p style='text-align:right'>D-Alanine --> </p>\n",
       "                </td>\n",
       "            </tr><tr>\n",
       "                <td><strong>GPR</strong></td><td></td>\n",
       "            </tr><tr>\n",
       "                <td><strong>Lower bound</strong></td><td>0</td>\n",
       "            </tr><tr>\n",
       "                <td><strong>Upper bound</strong></td><td>1000.0</td>\n",
       "            </tr>\n",
       "        </table>\n",
       "        "
      ],
      "text/plain": [
       "<Reaction DM_cpd00117_c at 0x7fd343d6e810>"
      ]
     },
     "execution_count": 149,
     "metadata": {},
     "output_type": "execute_result"
    }
   ],
   "source": [
    "model.add_boundary(model.metabolites.get_by_id('cpd00117_c'), type='demand')"
   ]
  },
  {
   "cell_type": "code",
   "execution_count": null,
   "metadata": {},
   "outputs": [],
   "source": [
    "all_likes = []\n",
    "passed_rxns = []\n",
    "zero_rxn_likelihood = []\n",
    "non_zero_rxn_likelihood = []\n",
    "counter = 0\n",
    "pass_counter = 0\n",
    "for rxn in model.reactions:\n",
    "    if rxn.id.startswith('rxn'):\n",
    "        try:\n",
    "            all_likes.append(likelihoods[rxn.id])\n",
    "            if likelihoods[rxn.id] < 0.01:\n",
    "                zero_rxn_likelihood.append(rxn.id)\n",
    "                print(rxn.name)\n",
    "            elif likelihoods[rxn.id] > 0.0:\n",
    "                non_zero_rxn_likelihood.append(rxn.id)\n",
    "            counter += 1\n",
    "        except:\n",
    "            passed_rxns.append(rxn.id)\n",
    "            pass_counter += 1\n",
    "            pass\n",
    "global_avg = np.mean(all_likes)\n",
    "\n",
    "print(global_avg)\n",
    "print(counter)\n",
    "print(pass_counter)"
   ]
  },
  {
   "cell_type": "code",
   "execution_count": null,
   "metadata": {},
   "outputs": [],
   "source": [
    "len(non_zero_rxn_likelihood)"
   ]
  },
  {
   "cell_type": "code",
   "execution_count": null,
   "metadata": {},
   "outputs": [],
   "source": [
    "# How many reactions have a probability score?\n",
    "\n",
    "universal_non_zero = []\n",
    "missing = []\n",
    "for rxn in universal.reactions:\n",
    "    if rxn.id.startswith('rxn'):\n",
    "        try:\n",
    "            if likelihoods[rxn.id] > 0.0:\n",
    "                universal_non_zero.append(rxn.id)\n",
    "        except:\n",
    "            missing.append(rxn.id)\n",
    "print(len(universal_non_zero))\n",
    "print(len(missing))"
   ]
  },
  {
   "cell_type": "code",
   "execution_count": null,
   "metadata": {},
   "outputs": [],
   "source": [
    "# What is the avg likelihood of all of these? \n",
    "all_likelihoods = []\n",
    "high_likelihoods =[]\n",
    "rxn_ids = [reaction.id for reaction in model.reactions]\n",
    "\n",
    "for rxn in universal_non_zero:\n",
    "    all_likelihoods.append(likelihoods[rxn])\n",
    "    if likelihoods[rxn] > 0.6 and rxn not in rxn_ids:\n",
    "        high_likelihoods.append(rxn)\n",
    "avg_like = np.mean(all_likelihoods)\n",
    "avg_like\n",
    "print(len(high_likelihoods))"
   ]
  },
  {
   "cell_type": "code",
   "execution_count": null,
   "metadata": {},
   "outputs": [],
   "source": [
    "high_likelihoods"
   ]
  },
  {
   "cell_type": "code",
   "execution_count": null,
   "metadata": {},
   "outputs": [],
   "source": [
    "import matplotlib.pyplot as plt\n",
    "plt.hist(all_likelihoods, bins=100)\n",
    "plt.title(\"Histogram with 100 bins\")\n",
    "plt"
   ]
  },
  {
   "cell_type": "code",
   "execution_count": null,
   "metadata": {},
   "outputs": [],
   "source": [
    "# Average adjustments by adding high-likelihood reactions to model\n",
    "high_likelihoods =[]\n",
    "rxn_ids = [reaction.id for reaction in model.reactions]\n",
    "lowest_like = 0.6\n",
    "\n",
    "for rxn in universal_non_zero:\n",
    "    if likelihoods[rxn] > lowest_like and rxn not in rxn_ids:\n",
    "        high_likelihoods.append(rxn)\n",
    "\n",
    "missing = []\n",
    "old_model = []\n",
    "for rxn in rxn_ids:\n",
    "    if rxn.startswith('rxn'):\n",
    "        try:\n",
    "            old_model.append(likelihoods[rxn])\n",
    "        except:\n",
    "            missing.append(rxn)\n",
    "            pass\n",
    "avg_like = np.mean(old_model)\n",
    "print(avg_like)\n",
    "\n",
    "new_model = []\n",
    "for rxn in high_likelihoods:\n",
    "    new_model.append(likelihoods[rxn])\n",
    "for rxn in rxn_ids:\n",
    "    try:\n",
    "        new_model.append(likelihoods[rxn])\n",
    "    except:\n",
    "        pass\n",
    "avg_like = np.mean(new_model)\n",
    "print(avg_like)"
   ]
  },
  {
   "cell_type": "code",
   "execution_count": null,
   "metadata": {},
   "outputs": [],
   "source": [
    "print(likelihoods.data['rxn00786_c']['gpr'])\n",
    "print(likelihoods.data['rxn00786_c']['probability'])\n",
    "print(likelihoods.data['rxn00786_c']['complexes'])"
   ]
  },
  {
   "cell_type": "code",
   "execution_count": null,
   "metadata": {},
   "outputs": [],
   "source": [
    "likelihoods.data['rxn00783_c']"
   ]
  },
  {
   "cell_type": "code",
   "execution_count": null,
   "metadata": {},
   "outputs": [],
   "source": [
    "model.reactions.get_by_id('rxn00786_c').gene_reaction_rule"
   ]
  },
  {
   "cell_type": "code",
   "execution_count": null,
   "metadata": {},
   "outputs": [],
   "source": [
    "# Are there reactions that have a zero likelihood in the model that \n",
    "# are not in the universal reaction bag?\n",
    "rxn_ids = [reaction.id for reaction in model.reactions]\n",
    "missing = []\n",
    "old_model = []\n",
    "rxn_id_zero_like = []\n",
    "for rxn in rxn_ids:\n",
    "    if rxn.startswith('rxn'):\n",
    "        try:\n",
    "            old_model.append(likelihoods[rxn])\n",
    "            if likelihoods[rxn] == 0.0:\n",
    "                rxn_id_zero_like.append(rxn)\n",
    "        except:\n",
    "            missing.append(rxn)\n",
    "            pass\n",
    "len(rxn_id_zero_like)\n",
    "\n",
    "missing_rxns = []\n",
    "for rxn in rxn_id_zero_like:\n",
    "    if rxn not in [reaction.id for reaction in universal.reactions]:\n",
    "        missing_rxns.append(rxn)\n",
    "len(missing_rxns)\n",
    "\n",
    "# No"
   ]
  },
  {
   "cell_type": "code",
   "execution_count": null,
   "metadata": {},
   "outputs": [],
   "source": [
    "rxn_objs = []\n",
    "for rxn in rxn_id_zero_like:\n",
    "#     print(model.reactions.get_by_id(rxn).gene_reaction_rule)\n",
    "    rxn_objs.append(model.reactions.get_by_id(rxn))\n",
    "    \n",
    "# overlap_rxns = [rxn.id for rxn in model.reactions if rxn.id in [x.id for x in universal.reactions]]\n",
    "model.reactions.get_by_id(rxn_id_zero_like[0])"
   ]
  },
  {
   "cell_type": "code",
   "execution_count": null,
   "metadata": {},
   "outputs": [],
   "source": [
    "# Shouldn't have gpr\n",
    "universal = cobra.io.load_json_model(\"../Data/GramPosUni.json\")\n",
    "universal.reactions.get_by_id(rxn_id_zero_like[0])"
   ]
  },
  {
   "cell_type": "code",
   "execution_count": null,
   "metadata": {},
   "outputs": [],
   "source": [
    "# Shouldn't be present\n",
    "universal.remove_reactions(rxn_id_zero_like)\n",
    "universal.reactions.get_by_id(rxn_id_zero_like[0])"
   ]
  },
  {
   "cell_type": "code",
   "execution_count": null,
   "metadata": {},
   "outputs": [],
   "source": [
    "# Should have same gpr as reaction object from model above (it does)\n",
    "universal.add_reactions(rxn_objs)\n",
    "universal.reactions.get_by_id(rxn_id_zero_like[0])"
   ]
  },
  {
   "cell_type": "code",
   "execution_count": null,
   "metadata": {},
   "outputs": [],
   "source": [
    "# Final version to implement in other script\n",
    "\n",
    "# rxn_ids = [reaction.id for reaction in model.reactions]\n",
    "# rxn_id_zero_like = []\n",
    "# for rxn in rxn_ids:\n",
    "#     if rxn.startswith('rxn'):\n",
    "#         try:\n",
    "#             if likelihoods[rxn] == 0.0:\n",
    "#                 rxn_id_zero_like.append(rxn)\n",
    "#         except:\n",
    "#             pass\n",
    "# rxn_objs = []\n",
    "# for rxn in rxn_id_zero_like:\n",
    "#     rxn_objs.append(model.reactions.get_by_id(rxn))\n",
    "# universal.remove_reactions(rxn_id_zero_like)\n",
    "# universal.add_reactions(rxn_objs)\n",
    "# model.remove_reactions(rxn_id_zero_like)"
   ]
  },
  {
   "cell_type": "code",
   "execution_count": null,
   "metadata": {},
   "outputs": [],
   "source": [
    "# How many reactions in the model have a non-zero likelihood and are missing a GPR?\n",
    "rxn_ids = [reaction.id for reaction in universal.reactions]\n",
    "rxns_of_interest = []\n",
    "for rxn in rxn_ids:\n",
    "    if rxn.startswith('rxn'):\n",
    "        try:\n",
    "             if likelihoods[rxn] > 0.0:\n",
    "#             if model.reactions.get_by_id(rxn).gene_reaction_rule == '':\n",
    "                if likelihoods.data[rxn]['gpr'] != '':\n",
    "                    rxns_of_interest.append(rxn)\n",
    "        except:\n",
    "            pass\n",
    "\n",
    "len(set(rxns_of_interest))\n",
    "\n",
    "# n = 803\n",
    "        \n",
    "# print(likelihoods.data[rxn_ids[n]]['gpr'])\n",
    "# print(likelihoods.data[rxn_ids[n]]['gpr'] != '')\n",
    "\n",
    "# print(model.reactions.get_by_id(rxn_ids[n]).gene_reaction_rule)\n",
    "# print(model.reactions.get_by_id(rxn_ids[n]).gene_reaction_rule == '')\n"
   ]
  },
  {
   "cell_type": "code",
   "execution_count": null,
   "metadata": {},
   "outputs": [],
   "source": [
    "rxn_ids = [reaction.id for reaction in model.reactions]\n",
    "rxn_total = []\n",
    "for rxn in rxn_ids:\n",
    "    if rxn.startswith('rxn'):\n",
    "        rxn_total.append(rxn)\n",
    "\n",
    "len(set(rxn_total))"
   ]
  },
  {
   "cell_type": "code",
   "execution_count": null,
   "metadata": {},
   "outputs": [],
   "source": [
    "# How many reactions have a likelihood but are not included in the model already?\n",
    "c = set(rxns_of_interest).difference(set(rxn_total))\n",
    "\n",
    "len(c)"
   ]
  },
  {
   "cell_type": "code",
   "execution_count": null,
   "metadata": {},
   "outputs": [],
   "source": [
    "met_ids = [met.id for met in model.metabolites]\n",
    "\n",
    "len(met_ids)"
   ]
  },
  {
   "cell_type": "code",
   "execution_count": null,
   "metadata": {},
   "outputs": [],
   "source": [
    "all_mets = []\n",
    "\n",
    "aa = 'cpd00117_c'\n",
    "\n",
    "for met in universal.metabolites:\n",
    "    if (met.id.endswith('_c')) & (met.id != aa):\n",
    "        all_mets.append(met.id)\n",
    "len(all_mets)"
   ]
  },
  {
   "cell_type": "code",
   "execution_count": null,
   "metadata": {},
   "outputs": [],
   "source": [
    "all_mets"
   ]
  },
  {
   "cell_type": "code",
   "execution_count": null,
   "metadata": {},
   "outputs": [],
   "source": [
    "c = set(met_ids).difference(set(met_ids_uni))\n",
    "\n",
    "len(c)"
   ]
  },
  {
   "cell_type": "code",
   "execution_count": 22,
   "metadata": {},
   "outputs": [
    {
     "name": "stdout",
     "output_type": "stream",
     "text": [
      "\n"
     ]
    }
   ],
   "source": [
    "genome_id = '220668.9'\n",
    "model = cobra.io.read_sbml_model('../gap_models/'+ genome_id +'.xml')\n",
    "likelihoods = pickle.load(open('../likelihoods/'+ genome_id +'.probs'))\n",
    "universal = cobra.io.load_json_model(\"../Data/GramPosUni.json\")\n",
    "# How many reactions have gprs in the universal model?\n",
    "\n",
    "for rxn in universal.reactions[0:1]:\n",
    "    print(rxn.gene_reaction_rule)\n"
   ]
  },
  {
   "cell_type": "code",
   "execution_count": 20,
   "metadata": {},
   "outputs": [
    {
     "name": "stdout",
     "output_type": "stream",
     "text": [
      "\n"
     ]
    }
   ],
   "source": [
    "print(universal.reactions[0].gene_reaction_rule)"
   ]
  },
  {
   "cell_type": "code",
   "execution_count": 99,
   "metadata": {},
   "outputs": [],
   "source": [
    "# Identify transport reactions (for any number compartments)\n",
    "def findDiffusionRxns(model):\n",
    "    transporters = []\n",
    "    compartments = set(list(model.compartments))\n",
    "    if len(compartments) == 1:\n",
    "        raise Exception('Model only has one compartment!')\n",
    "    \n",
    "    for reaction in model.reactions:\n",
    "        reactant_baseID = set([x.id.split('_')[0] for x in reaction.reactants])\n",
    "        product_baseID = set([x.id.split('_')[0] for x in reaction.products])\n",
    "        if len(reaction.metabolites) == 2 and reactant_baseID == product_baseID:\n",
    "            transporters.append(reaction.id)\n",
    "\n",
    "    return(transporters)"
   ]
  },
  {
   "cell_type": "code",
   "execution_count": 110,
   "metadata": {},
   "outputs": [
    {
     "data": {
      "text/html": [
       "\n",
       "        <table>\n",
       "            <tr>\n",
       "                <td><strong>Reaction identifier</strong></td><td>rxn00594_c</td>\n",
       "            </tr><tr>\n",
       "                <td><strong>Name</strong></td><td>Anthranilate,NADH:oxygen oxidoreductase (1,2-hydroxylating, deaminating, decarboxylating)</td>\n",
       "            </tr><tr>\n",
       "                <td><strong>Memory address</strong></td>\n",
       "                <td>0x07fd348d85e90</td>\n",
       "            </tr><tr>\n",
       "                <td><strong>Stoichiometry</strong></td>\n",
       "                <td>\n",
       "                    <p style='text-align:right'>cpd00004_c + cpd00007_c + 3.0 cpd00067_c + cpd00093_c <=> cpd00003_c + cpd00011_c + cpd00013_c + cpd00077_c</p>\n",
       "                    <p style='text-align:right'>NADH + O2 + 3.0 H+ + Anthranilate <=> NAD + CO2 + NH3 + Catechol</p>\n",
       "                </td>\n",
       "            </tr><tr>\n",
       "                <td><strong>GPR</strong></td><td>Temp_GPR</td>\n",
       "            </tr><tr>\n",
       "                <td><strong>Lower bound</strong></td><td>-1000.0</td>\n",
       "            </tr><tr>\n",
       "                <td><strong>Upper bound</strong></td><td>1000.0</td>\n",
       "            </tr>\n",
       "        </table>\n",
       "        "
      ],
      "text/plain": [
       "<Reaction rxn00594_c at 0x7fd348d85e90>"
      ]
     },
     "execution_count": 110,
     "metadata": {},
     "output_type": "execute_result"
    }
   ],
   "source": [
    "# Remove all reactions with zero likelihood and insert them into universal with GPRs\n",
    "# Also add GPRs for reactions with non-zero likelihood to Universal model\n",
    "\n",
    "genome_id = '220668.9'\n",
    "model = cobra.io.read_sbml_model('../gap_models/'+ genome_id +'.xml')\n",
    "likelihoods = pickle.load(open('../likelihoods/'+ genome_id +'.probs'))\n",
    "universal = cobra.io.load_json_model(\"../Data/GramPosUni.json\")\n",
    "\n",
    "# Ensure free water exchange\n",
    "model.reactions.get_by_id('rxn05319_c').name = \"Water transport\"\n",
    "model.reactions.get_by_id('rxn05319_c').bounds = (-1000., 1000.)\n",
    "\n",
    "# Remove 0-likelihood reactions from model and move to universal\n",
    "rxn_ids = [reaction.id for reaction in model.reactions]\n",
    "rxn_id_zero_like = []\n",
    "for rxn in rxn_ids:\n",
    "    if rxn.startswith('rxn'):\n",
    "        try:\n",
    "            if likelihoods[rxn] == 0.0:\n",
    "                rxn_id_zero_like.append(rxn)\n",
    "        except:\n",
    "            pass\n",
    "\n",
    "rxn_objs = []\n",
    "for rxn in rxn_id_zero_like:\n",
    "    rxn_objs.append(model.reactions.get_by_id(rxn))\n",
    "\n",
    "model.remove_reactions(rxn_objs)\n",
    "universal.remove_reactions(rxn_id_zero_like)\n",
    "universal.add_reactions(rxn_objs)\n",
    "\n",
    "# Add GPRs from likelihood dict to universal reactions that are still missing them\n",
    "rxn_ids = [reaction.id for reaction in universal.reactions]\n",
    "rxns_to_fix = []\n",
    "for rxn in rxn_ids:\n",
    "    if rxn.startswith('rxn'):\n",
    "        try: # This catches all of the reactions that have no likelihood value.\n",
    "            if likelihoods[rxn] > 0.0:\n",
    "                if universal.reactions.get_by_id(rxn).gene_reaction_rule == '':\n",
    "                    if likelihoods.data[rxn]['gpr'] != '':\n",
    "                        rxns_to_fix.append(rxn)\n",
    "                        universal.reactions.get_by_id(rxn).gene_reaction_rule = likelihoods.data[rxn]['gpr']\n",
    "        except:\n",
    "            pass\n",
    "\n",
    "# Spontaneous diffusion based reactions\n",
    "diff_rxns = findDiffusionRxns(universal)\n",
    "\n",
    "# Add dummy GPRs to rest of the reactions that should have genes so pFBA treats them all the same.\n",
    "rxns_with_tempGPR = []\n",
    "for rxn in universal.reactions:\n",
    "    if rxn.id.startswith('rxn') and rxn.id not in diff_rxns and rxn.gene_reaction_rule == '':\n",
    "        universal.reactions.get_by_id(rxn.id).gene_reaction_rule = 'Temp_GPR'\n",
    "        rxns_with_tempGPR.append(rxn.id)\n"
   ]
  },
  {
   "cell_type": "code",
   "execution_count": 47,
   "metadata": {},
   "outputs": [
    {
     "name": "stdout",
     "output_type": "stream",
     "text": [
      "11\n"
     ]
    }
   ],
   "source": [
    "# How many reactions in the model don't have a reaction likelihood at all?\n",
    "genome_id = '220668.9'\n",
    "model = cobra.io.read_sbml_model('../gap_models/'+ genome_id +'.xml')\n",
    "likelihoods = pickle.load(open('../likelihoods/'+ genome_id +'.probs'))\n",
    "\n",
    "rxn_ids = [reaction.id for reaction in model.reactions]\n",
    "rxn_id_no_like = []\n",
    "for rxn in rxn_ids:\n",
    "    if rxn.startswith('rxn'):\n",
    "        try:\n",
    "            likelihoods[rxn]\n",
    "        except:\n",
    "            rxn_id_no_like.append(rxn)\n",
    "            pass\n",
    "print(len(rxn_id_no_like))"
   ]
  },
  {
   "cell_type": "code",
   "execution_count": 48,
   "metadata": {},
   "outputs": [
    {
     "data": {
      "text/plain": [
       "['rxn02374_c',\n",
       " 'rxn05319_c',\n",
       " 'rxn04457_c',\n",
       " 'rxn02916_c',\n",
       " 'rxn03012_c',\n",
       " 'rxn10571_c',\n",
       " 'rxn04132_c',\n",
       " 'rxn05195_c',\n",
       " 'rxn05468_c',\n",
       " 'rxn04133_c',\n",
       " 'rxn05467_c']"
      ]
     },
     "execution_count": 48,
     "metadata": {},
     "output_type": "execute_result"
    }
   ],
   "source": [
    "rxn_id_no_like"
   ]
  },
  {
   "cell_type": "code",
   "execution_count": 70,
   "metadata": {},
   "outputs": [],
   "source": []
  },
  {
   "cell_type": "code",
   "execution_count": 71,
   "metadata": {},
   "outputs": [],
   "source": [
    "# Find diffusion reactions in universal model\n",
    "universal = cobra.io.load_json_model(\"../Data/GramPosUni.json\")\n",
    "\n",
    "transporters = findDiffusionRxns(universal)"
   ]
  },
  {
   "cell_type": "code",
   "execution_count": 98,
   "metadata": {},
   "outputs": [
    {
     "data": {
      "text/html": [
       "\n",
       "        <table>\n",
       "            <tr>\n",
       "                <td><strong>Reaction identifier</strong></td><td>rxn11326_c</td>\n",
       "            </tr><tr>\n",
       "                <td><strong>Name</strong></td><td>4-aminobutyrate transport via diffusion (extracellular to periplasm)</td>\n",
       "            </tr><tr>\n",
       "                <td><strong>Memory address</strong></td>\n",
       "                <td>0x07fd3536b2a90</td>\n",
       "            </tr><tr>\n",
       "                <td><strong>Stoichiometry</strong></td>\n",
       "                <td>\n",
       "                    <p style='text-align:right'>cpd00281_c <=> cpd00281_e</p>\n",
       "                    <p style='text-align:right'>GABA <=> GABA</p>\n",
       "                </td>\n",
       "            </tr><tr>\n",
       "                <td><strong>GPR</strong></td><td></td>\n",
       "            </tr><tr>\n",
       "                <td><strong>Lower bound</strong></td><td>-1000.0</td>\n",
       "            </tr><tr>\n",
       "                <td><strong>Upper bound</strong></td><td>1000.0</td>\n",
       "            </tr>\n",
       "        </table>\n",
       "        "
      ],
      "text/plain": [
       "<Reaction rxn11326_c at 0x7fd3536b2a90>"
      ]
     },
     "execution_count": 98,
     "metadata": {},
     "output_type": "execute_result"
    }
   ],
   "source": [
    "universal.reactions.get_by_id(transporters[218])"
   ]
  },
  {
   "cell_type": "code",
   "execution_count": null,
   "metadata": {},
   "outputs": [],
   "source": [
    "# Find transporters that don't use ATP\n",
    "universal = cobra.io.load_json_model(\"../Data/GramPosUni.json\")\n",
    "transporters = findTransports(universal)\n",
    "rxns_to_remove = []\n",
    "for rxn_id in transporters:\n",
    "    mets = universal.reactions.get_by_id(str(rxn_id)).metabolites\n",
    "    for met in mets:\n",
    "        if met.id == 'cpd00002_c':\n",
    "            rxns_to_remove.append(rxn_id)\n",
    "nonATP_transporters = set(transporters).difference(set(rxns_to_remove))\n",
    "len(nonATP_transporters)"
   ]
  },
  {
   "cell_type": "code",
   "execution_count": null,
   "metadata": {},
   "outputs": [],
   "source": [
    "def quantumGapFill(model, universal=None, objective='bio1', lb=0.05):\n",
    "    \n",
    "    # Grab overlapping reaction IDs from original model and replace in universal bag\n",
    "    # Resets flux penalties for those reactions\n",
    "    overlap_rxns = [rxn.id for rxn in model.reactions if rxn.id in [x.id for x in universal.reactions]]\n",
    "    universal.remove_reactions(overlap_rxns)\n",
    "    universal.add_reactions(list(model.reactions))\n",
    "    \n",
    "    # Set new objective and lower bound\n",
    "    universal.reactions.get_by_id('biomass').lower_bound = lb\n",
    "    universal.objective = universal.reactions.get_by_id('biomass')\n",
    "    \n",
    "    # Optimize and retreive new reactions\n",
    "    solution = universal.optimize()\n",
    "    solution = solution.fluxes.to_frame()\n",
    "    active = solution.loc[(abs(solution['fluxes'])) > 1e-6]\n",
    "    active = [str(x) for x in list(active.index)]\n",
    "    rxns_to_be_added = [universal.reactions.get_by_id(rxn) for rxn in active if not rxn in [x.id for x in model.reactions]]\n",
    "    \n",
    "    # Add new rections to original model\n",
    "    model.add_reactions(rxns_to_be_added)\n",
    "    \n",
    "    return model\n",
    "\n",
    "# Identify transport reactions (for any number compartments)\n",
    "def findTransports(model):\n",
    "    transporters = []\n",
    "    compartments = set(list(model.compartments))\n",
    "    if len(compartments) == 1:\n",
    "        raise Exception('Model only has one compartment!')\n",
    "    \n",
    "    for reaction in model.reactions:\n",
    "        \n",
    "        reactant_compartments = set([x.compartment for x in reaction.reactants])\n",
    "        product_compartments = set([x.compartment for x in reaction.products])\n",
    "        reactant_baseID = set([x.id.split('_')[0] for x in reaction.reactants])\n",
    "        product_baseID = set([x.id.split('_')[0] for x in reaction.products])\n",
    "        \n",
    "        if reactant_compartments == product_compartments and reactant_baseID != product_baseID:\n",
    "            continue\n",
    "        elif bool(compartments & reactant_compartments) == True and bool(compartments & product_compartments) == True:\n",
    "            transporters.append(reaction.id)\n",
    "        \n",
    "    return(transporters)   \n",
    "\n",
    "def missingRxns(model, extracellular=['e','Extracellular']):\n",
    "\n",
    "    transporters = set(findTransports(model))\n",
    "    exchanges = set([x.id for x in model.exchanges])\n",
    "    \n",
    "    missing_exchanges = []\n",
    "    missing_transports = []\n",
    "    \n",
    "    for metabolite in model.metabolites:\n",
    "        if not metabolite.compartment in extracellular or metabolite.id.split('_')[1] != 'e':\n",
    "            continue\n",
    "\n",
    "        curr_rxns = set([x.id for x in list(metabolite.reactions)])\n",
    "        \n",
    "        if bool(curr_rxns & transporters) == False:\n",
    "            missing_transports.append(metabolite.id)\n",
    "        if bool(curr_rxns & exchanges) == False:\n",
    "            missing_exchanges.append(metabolite.id)\n",
    "    \n",
    "    if len(missing_transports) != 0:\n",
    "        print(str(len(missing_transports)) + ' extracellular metabolites are missing transport reactions')\n",
    "    if len(missing_exchanges) != 0:\n",
    "        print(str(len(missing_exchanges)) + ' extracellular metabolites are missing exchange reactions')\n",
    "        \n",
    "    return missing_transports, missing_exchanges"
   ]
  },
  {
   "cell_type": "code",
   "execution_count": 121,
   "metadata": {},
   "outputs": [
    {
     "data": {
      "text/plain": [
       "0.0 <= rxn00020_c <= 1000.0"
      ]
     },
     "execution_count": 121,
     "metadata": {},
     "output_type": "execute_result"
    }
   ],
   "source": [
    "# \n",
    "model.reactions.get_by_id('rxn00020_c').forward_variable"
   ]
  },
  {
   "cell_type": "code",
   "execution_count": 126,
   "metadata": {},
   "outputs": [
    {
     "data": {
      "text/plain": [
       "0.0"
      ]
     },
     "execution_count": 126,
     "metadata": {},
     "output_type": "execute_result"
    }
   ],
   "source": [
    "model.solver.objective.value"
   ]
  },
  {
   "cell_type": "code",
   "execution_count": 144,
   "metadata": {},
   "outputs": [
    {
     "data": {
      "text/plain": [
       "-1.0*bio1_reverse_b18f7 + 1.0*bio1"
      ]
     },
     "execution_count": 144,
     "metadata": {},
     "output_type": "execute_result"
    }
   ],
   "source": [
    "from cobra.flux_analysis import pfba\n",
    "from cobra.flux_analysis.parsimonious import add_pfba\n",
    "\n",
    "genome_id = '220668.9'\n",
    "model = cobra.io.read_sbml_model('../gap_models/'+ genome_id +'.xml')\n",
    "\n",
    "model.objective.expression\n",
    "\n",
    "# model.reactions.get_by_id()"
   ]
  },
  {
   "cell_type": "code",
   "execution_count": 145,
   "metadata": {},
   "outputs": [
    {
     "data": {
      "text/plain": [
       "1.0*DM_cpd00117_c + 1.0*DM_cpd00117_c_reverse_21bac + 1.0*EX_cpd00001_e + 1.0*EX_cpd00001_e_reverse_951e0 + 1.0*EX_cpd00007_e + 1.0*EX_cpd00007_e_reverse_86b69 + 1.0*EX_cpd00009_e + 1.0*EX_cpd00009_e_reverse_0f27f + 1.0*EX_cpd00011_e + 1.0*EX_cpd00011_e_reverse_896eb + 1.0*EX_cpd00013_e + 1.0*EX_cpd00013_e_reverse_92041 + 1.0*EX_cpd00023_e + 1.0*EX_cpd00023_e_reverse_19371 + 1.0*EX_cpd00024_e + 1.0*EX_cpd00024_e_reverse_f1839 + 1.0*EX_cpd00027_e + 1.0*EX_cpd00027_e_reverse_65181 + 1.0*EX_cpd00028_e + 1.0*EX_cpd00028_e_reverse_6b841 + 1.0*EX_cpd00030_e + 1.0*EX_cpd00030_e_reverse_b4e10 + 1.0*EX_cpd00033_e + 1.0*EX_cpd00033_e_reverse_107dd + 1.0*EX_cpd00034_e + 1.0*EX_cpd00034_e_reverse_7f379 + 1.0*EX_cpd00039_e + 1.0*EX_cpd00039_e_reverse_fe104 + 1.0*EX_cpd00048_e + 1.0*EX_cpd00048_e_reverse_6992a + 1.0*EX_cpd00053_e + 1.0*EX_cpd00053_e_reverse_154e3 + 1.0*EX_cpd00054_e + 1.0*EX_cpd00054_e_reverse_283ff + 1.0*EX_cpd00058_e + 1.0*EX_cpd00058_e_reverse_e9c43 + 1.0*EX_cpd00060_e + 1.0*EX_cpd00060_e_reverse_0c828 + 1.0*EX_cpd00063_e + 1.0*EX_cpd00063_e_reverse_09a03 + 1.0*EX_cpd00067_e + 1.0*EX_cpd00067_e_reverse_a1e99 + 1.0*EX_cpd00076_e + 1.0*EX_cpd00076_e_reverse_7cb0a + 1.0*EX_cpd00080_e + 1.0*EX_cpd00080_e_reverse_bacac + 1.0*EX_cpd00082_e + 1.0*EX_cpd00082_e_reverse_f973c + 1.0*EX_cpd00092_e + 1.0*EX_cpd00092_e_reverse_2d732 + 1.0*EX_cpd00098_e + 1.0*EX_cpd00098_e_reverse_ce9c1 + 1.0*EX_cpd00099_e + 1.0*EX_cpd00099_e_reverse_492f0 + 1.0*EX_cpd00100_e + 1.0*EX_cpd00100_e_reverse_bea27 + 1.0*EX_cpd00104_e + 1.0*EX_cpd00104_e_reverse_8491a + 1.0*EX_cpd00105_e + 1.0*EX_cpd00105_e_reverse_3953c + 1.0*EX_cpd00108_e + 1.0*EX_cpd00108_e_reverse_c445d + 1.0*EX_cpd00117_e + 1.0*EX_cpd00117_e_reverse_1240f + 1.0*EX_cpd00121_e + 1.0*EX_cpd00121_e_reverse_8a682 + 1.0*EX_cpd00122_e + 1.0*EX_cpd00122_e_reverse_9b1bd + 1.0*EX_cpd00130_e + 1.0*EX_cpd00130_e_reverse_150f8 + 1.0*EX_cpd00138_e + 1.0*EX_cpd00138_e_reverse_457df + 1.0*EX_cpd00149_e + 1.0*EX_cpd00149_e_reverse_a3512 + 1.0*EX_cpd00154_e + 1.0*EX_cpd00154_e_reverse_9291b + 1.0*EX_cpd00156_e + 1.0*EX_cpd00156_e_reverse_fc1be + 1.0*EX_cpd00158_e + 1.0*EX_cpd00158_e_reverse_252d8 + 1.0*EX_cpd00159_e + 1.0*EX_cpd00159_e_reverse_7d3e1 + 1.0*EX_cpd00179_e + 1.0*EX_cpd00179_e_reverse_6ad6d + 1.0*EX_cpd00205_e + 1.0*EX_cpd00205_e_reverse_1a628 + 1.0*EX_cpd00220_e + 1.0*EX_cpd00220_e_reverse_2f8eb + 1.0*EX_cpd00222_e + 1.0*EX_cpd00222_e_reverse_b9aaa + 1.0*EX_cpd00224_e + 1.0*EX_cpd00224_e_reverse_cfdd6 + 1.0*EX_cpd00226_e + 1.0*EX_cpd00226_e_reverse_0eee1 + 1.0*EX_cpd00254_e + 1.0*EX_cpd00254_e_reverse_acd8d + 1.0*EX_cpd00264_e + 1.0*EX_cpd00264_e_reverse_ce397 + 1.0*EX_cpd00276_e + 1.0*EX_cpd00276_e_reverse_fc205 + 1.0*EX_cpd00305_e + 1.0*EX_cpd00305_e_reverse_782c9 + 1.0*EX_cpd00307_e + 1.0*EX_cpd00307_e_reverse_dcdd5 + 1.0*EX_cpd00309_e + 1.0*EX_cpd00309_e_reverse_be32d + 1.0*EX_cpd00314_e + 1.0*EX_cpd00314_e_reverse_26c2f + 1.0*EX_cpd00322_e + 1.0*EX_cpd00322_e_reverse_bc6aa + 1.0*EX_cpd00355_e + 1.0*EX_cpd00355_e_reverse_2edfb + 1.0*EX_cpd00393_e + 1.0*EX_cpd00393_e_reverse_4dbb5 + 1.0*EX_cpd00531_e + 1.0*EX_cpd00531_e_reverse_25253 + 1.0*EX_cpd00540_e + 1.0*EX_cpd00540_e_reverse_d7dd2 + 1.0*EX_cpd00550_e + 1.0*EX_cpd00550_e_reverse_f20f3 + 1.0*EX_cpd00588_e + 1.0*EX_cpd00588_e_reverse_6bb61 + 1.0*EX_cpd00637_e + 1.0*EX_cpd00637_e_reverse_5cd8f + 1.0*EX_cpd00644_e + 1.0*EX_cpd00644_e_reverse_4fed2 + 1.0*EX_cpd00681_e + 1.0*EX_cpd00681_e_reverse_a605c + 1.0*EX_cpd00794_e + 1.0*EX_cpd00794_e_reverse_8e383 + 1.0*EX_cpd00971_e + 1.0*EX_cpd00971_e_reverse_d0c6c + 1.0*EX_cpd01012_e + 1.0*EX_cpd01012_e_reverse_fd5d0 + 1.0*EX_cpd01017_e + 1.0*EX_cpd01017_e_reverse_618c8 + 1.0*EX_cpd01030_e + 1.0*EX_cpd01030_e_reverse_5e204 + 1.0*EX_cpd01080_e + 1.0*EX_cpd01080_e_reverse_2909b + 1.0*EX_cpd01092_e + 1.0*EX_cpd01092_e_reverse_b49f7 + 1.0*EX_cpd01171_e + 1.0*EX_cpd01171_e_reverse_e8fcc + 1.0*EX_cpd01188_e + 1.0*EX_cpd01188_e_reverse_5b7f1 + 1.0*EX_cpd01914_e + 1.0*EX_cpd01914_e_reverse_c0129 + 1.0*EX_cpd03696_e + 1.0*EX_cpd03696_e_reverse_9df24 + 1.0*EX_cpd03724_e + 1.0*EX_cpd03724_e_reverse_0ca1d + 1.0*EX_cpd04097_e + 1.0*EX_cpd04097_e_reverse_d4a5e + 1.0*EX_cpd08305_e + 1.0*EX_cpd08305_e_reverse_d4720 + 1.0*EX_cpd08306_e + 1.0*EX_cpd08306_e_reverse_36441 + 1.0*EX_cpd10515_e + 1.0*EX_cpd10515_e_reverse_e5f66 + 1.0*EX_cpd10516_e + 1.0*EX_cpd10516_e_reverse_fee14 + 1.0*EX_cpd11576_e + 1.0*EX_cpd11576_e_reverse_6a0a1 + 1.0*EX_cpd11580_e + 1.0*EX_cpd11580_e_reverse_cd9a5 + 1.0*EX_cpd11581_e + 1.0*EX_cpd11581_e_reverse_0fe4d + 1.0*EX_cpd11582_e + 1.0*EX_cpd11582_e_reverse_75070 + 1.0*EX_cpd11583_e + 1.0*EX_cpd11583_e_reverse_d4b3f + 1.0*EX_cpd11584_e + 1.0*EX_cpd11584_e_reverse_65e33 + 1.0*EX_cpd11585_e + 1.0*EX_cpd11585_e_reverse_ee76f + 1.0*EX_cpd11586_e + 1.0*EX_cpd11586_e_reverse_7e3c3 + 1.0*EX_cpd11587_e + 1.0*EX_cpd11587_e_reverse_f7295 + 1.0*EX_cpd11588_e + 1.0*EX_cpd11588_e_reverse_a2f4c + 1.0*EX_cpd11589_e + 1.0*EX_cpd11589_e_reverse_0728e + 1.0*EX_cpd11590_e + 1.0*EX_cpd11590_e_reverse_2752c + 1.0*EX_cpd11591_e + 1.0*EX_cpd11591_e_reverse_841f4 + 1.0*EX_cpd11592_e + 1.0*EX_cpd11592_e_reverse_ce8b6 + 1.0*EX_cpd11593_e + 1.0*EX_cpd11593_e_reverse_0a60c + 1.0*EX_cpd11597_e + 1.0*EX_cpd11597_e_reverse_c96fe + 1.0*EX_cpd11606_e + 1.0*EX_cpd11606_e_reverse_99741 + 1.0*EX_cpd15603_e + 1.0*EX_cpd15603_e_reverse_57acb + 1.0*EX_cpd15604_e + 1.0*EX_cpd15604_e_reverse_cf000 + 1.0*EX_cpd15605_e + 1.0*EX_cpd15605_e_reverse_46b50 + 1.0*EX_cpd15606_e + 1.0*EX_cpd15606_e_reverse_e03a2 + 1.0*SK_cpd11416_c + 1.0*SK_cpd11416_c_reverse_864e9 + 1.0*bio1_reverse_b18f7 + 1.0*rxn00001_c_reverse_bf44d + 1.0*rxn00011_c_reverse_be022 + 1.0*rxn00012_c + 1.0*rxn00012_c_reverse_0d1d8 + 1.0*rxn00015_c + 1.0*rxn00015_c_reverse_cd178 + 1.0*rxn00020_c_reverse_c3a7a + 1.0*rxn00022_c_reverse_a4f07 + 1.0*rxn00033_c + 1.0*rxn00033_c_reverse_450e2 + 1.0*rxn00048_c_reverse_31c70 + 1.0*rxn00062_c_reverse_90990 + 1.0*rxn00077_c + 1.0*rxn00077_c_reverse_34712 + 1.0*rxn00097_c + 1.0*rxn00097_c_reverse_3d85d + 1.0*rxn00100_c_reverse_689d3 + 1.0*rxn00105_c + 1.0*rxn00105_c_reverse_0f0d9 + 1.0*rxn00113_c + 1.0*rxn00113_c_reverse_600e0 + 1.0*rxn00117_c + 1.0*rxn00117_c_reverse_bef40 + 1.0*rxn00119_c + 1.0*rxn00119_c_reverse_ead32 + 1.0*rxn00122_c_reverse_e5380 + 1.0*rxn00124_c + 1.0*rxn00124_c_reverse_433ef + 1.0*rxn00126_c_reverse_ea88a + 1.0*rxn00134_c + 1.0*rxn00134_c_reverse_fd929 + 1.0*rxn00138_c_reverse_f468f + 1.0*rxn00139_c_reverse_41305 + 1.0*rxn00141_c + 1.0*rxn00141_c_reverse_d4ad2 + 1.0*rxn00143_c + 1.0*rxn00143_c_reverse_8ad53 + 1.0*rxn00145_c + 1.0*rxn00145_c_reverse_3da46 + 1.0*rxn00146_c + 1.0*rxn00146_c_reverse_9d7c1 + 1.0*rxn00147_c_reverse_db1a2 + 1.0*rxn00148_c + 1.0*rxn00148_c_reverse_3adcc + 1.0*rxn00152_c_reverse_b6410 + 1.0*rxn00157_c + 1.0*rxn00157_c_reverse_94a28 + 1.0*rxn00159_c_reverse_50b06 + 1.0*rxn00161_c_reverse_51211 + 1.0*rxn00162_c_reverse_fa8a2 + 1.0*rxn00165_c_reverse_f7185 + 1.0*rxn00166_c_reverse_55d9c + 1.0*rxn00171_c + 1.0*rxn00171_c_reverse_13fc2 + 1.0*rxn00173_c + 1.0*rxn00173_c_reverse_5add2 + 1.0*rxn00179_c + 1.0*rxn00179_c_reverse_bc2dd + 1.0*rxn00181_c + 1.0*rxn00181_c_reverse_fe2ba + 1.0*rxn00184_c + 1.0*rxn00184_c_reverse_ca93e + 1.0*rxn00187_c_reverse_68e26 + 1.0*rxn00192_c_reverse_59f28 + 1.0*rxn00193_c + 1.0*rxn00193_c_reverse_042db + 1.0*rxn00194_c_reverse_4ef62 + 1.0*rxn00205_c_reverse_787e5 + 1.0*rxn00213_c + 1.0*rxn00213_c_reverse_38c47 + 1.0*rxn00214_c + 1.0*rxn00214_c_reverse_3ac89 + 1.0*rxn00216_c + 1.0*rxn00216_c_reverse_38e6a + 1.0*rxn00222_c_reverse_e8622 + 1.0*rxn00223_c + 1.0*rxn00223_c_reverse_379c8 + 1.0*rxn00224_c + 1.0*rxn00224_c_reverse_a5195 + 1.0*rxn00225_c + 1.0*rxn00225_c_reverse_87397 + 1.0*rxn00231_c_reverse_90bb1 + 1.0*rxn00237_c + 1.0*rxn00237_c_reverse_c7d84 + 1.0*rxn00239_c + 1.0*rxn00239_c_reverse_5344f + 1.0*rxn00242_c_reverse_df5f7 + 1.0*rxn00245_c_reverse_4cd1d + 1.0*rxn00247_c_reverse_23840 + 1.0*rxn00258_c + 1.0*rxn00258_c_reverse_79ad3 + 1.0*rxn00260_c + 1.0*rxn00260_c_reverse_e2166 + 1.0*rxn00265_c + 1.0*rxn00265_c_reverse_5a52a + 1.0*rxn00283_c + 1.0*rxn00283_c_reverse_4c16a + 1.0*rxn00292_c_reverse_9f9c0 + 1.0*rxn00293_c + 1.0*rxn00293_c_reverse_ac8dc + 1.0*rxn00295_c + 1.0*rxn00295_c_reverse_64549 + 1.0*rxn00297_c + 1.0*rxn00297_c_reverse_b3321 + 1.0*rxn00299_c_reverse_53e04 + 1.0*rxn00300_c_reverse_48716 + 1.0*rxn00302_c_reverse_dfb3c + 1.0*rxn00303_c + 1.0*rxn00303_c_reverse_a9736 + 1.0*rxn00305_c_reverse_6ddb4 + 1.0*rxn00313_c + 1.0*rxn00313_c_reverse_bb90b + 1.0*rxn00314_c + 1.0*rxn00314_c_reverse_3eae5 + 1.0*rxn00324_c + 1.0*rxn00324_c_reverse_305dc + 1.0*rxn00337_c + 1.0*rxn00337_c_reverse_ea7d7 + 1.0*rxn00340_c_reverse_92691 + 1.0*rxn00342_c_reverse_06795 + 1.0*rxn00345_c + 1.0*rxn00345_c_reverse_f6bed + 1.0*rxn00346_c_reverse_98eca + 1.0*rxn00347_c + 1.0*rxn00347_c_reverse_7ae4b + 1.0*rxn00351_c_reverse_be5da + 1.0*rxn00355_c + 1.0*rxn00355_c_reverse_efd4e + 1.0*rxn00358_c + 1.0*rxn00358_c_reverse_4cf9d + 1.0*rxn00361_c + 1.0*rxn00361_c_reverse_59522 + 1.0*rxn00364_c + 1.0*rxn00364_c_reverse_bf308 + 1.0*rxn00365_c + 1.0*rxn00365_c_reverse_9f8f2 + 1.0*rxn00368_c + 1.0*rxn00368_c_reverse_daa99 + 1.0*rxn00369_c + 1.0*rxn00369_c_reverse_4397c + 1.0*rxn00376_c + 1.0*rxn00376_c_reverse_a5048 + 1.0*rxn00390_c + 1.0*rxn00390_c_reverse_67514 + 1.0*rxn00392_c + 1.0*rxn00392_c_reverse_e0ab6 + 1.0*rxn00404_c + 1.0*rxn00404_c_reverse_ce547 + 1.0*rxn00409_c + 1.0*rxn00409_c_reverse_620c3 + 1.0*rxn00410_c + 1.0*rxn00410_c_reverse_a2de2 + 1.0*rxn00412_c_reverse_2de68 + 1.0*rxn00414_c_reverse_f69a9 + 1.0*rxn00416_c_reverse_df23d + 1.0*rxn00423_c_reverse_b7d3b + 1.0*rxn00438_c + 1.0*rxn00438_c_reverse_cf16f + 1.0*rxn00440_c + 1.0*rxn00440_c_reverse_4c0c9 + 1.0*rxn00452_c_reverse_06208 + 1.0*rxn00459_c + 1.0*rxn00459_c_reverse_12faf + 1.0*rxn00461_c + 1.0*rxn00461_c_reverse_39cd3 + 1.0*rxn00465_c + 1.0*rxn00465_c_reverse_f44a2 + 1.0*rxn00470_c_reverse_aa42b + 1.0*rxn00474_c_reverse_2c6fb + 1.0*rxn00493_c + 1.0*rxn00493_c_reverse_6a56f + 1.0*rxn00499_c + 1.0*rxn00499_c_reverse_5d859 + 1.0*rxn00500_c + 1.0*rxn00500_c_reverse_cb021 + 1.0*rxn00506_c_reverse_e6850 + 1.0*rxn00508_c_reverse_9c685 + 1.0*rxn00509_c_reverse_b6ba9 + 1.0*rxn00512_c + 1.0*rxn00512_c_reverse_9d7da + 1.0*rxn00515_c + 1.0*rxn00515_c_reverse_e0c8b + 1.0*rxn00519_c + 1.0*rxn00519_c_reverse_7ed1e + 1.0*rxn00527_c + 1.0*rxn00527_c_reverse_0b1d3 + 1.0*rxn00532_c + 1.0*rxn00532_c_reverse_11ce9 + 1.0*rxn00537_c_reverse_b50fc + 1.0*rxn00539_c + 1.0*rxn00539_c_reverse_44ab5 + 1.0*rxn00542_c + 1.0*rxn00542_c_reverse_68312 + 1.0*rxn00543_c + 1.0*rxn00543_c_reverse_41d28 + 1.0*rxn00545_c + 1.0*rxn00545_c_reverse_3b8ed + 1.0*rxn00546_c + 1.0*rxn00546_c_reverse_06cf8 + 1.0*rxn00547_c + 1.0*rxn00547_c_reverse_21252 + 1.0*rxn00548_c_reverse_897f0 + 1.0*rxn00549_c_reverse_f4f4e + 1.0*rxn00552_c_reverse_d1cbc + 1.0*rxn00554_c + 1.0*rxn00554_c_reverse_5ab94 + 1.0*rxn00556_c + 1.0*rxn00556_c_reverse_ecb03 + 1.0*rxn00557_c + 1.0*rxn00557_c_reverse_4c13a + 1.0*rxn00558_c + 1.0*rxn00558_c_reverse_22345 + 1.0*rxn00559_c + 1.0*rxn00559_c_reverse_e79ca + 1.0*rxn00566_c_reverse_23877 + 1.0*rxn00572_c + 1.0*rxn00572_c_reverse_6c741 + 1.0*rxn00575_c_reverse_005ef + 1.0*rxn00604_c + 1.0*rxn00604_c_reverse_77fdc + 1.0*rxn00606_c + 1.0*rxn00606_c_reverse_e14d5 + 1.0*rxn00608_c_reverse_f3d36 + 1.0*rxn00611_c + 1.0*rxn00611_c_reverse_e4a71 + 1.0*rxn00612_c + 1.0*rxn00612_c_reverse_6b894 + 1.0*rxn00614_c_reverse_a7540 + 1.0*rxn00615_c + 1.0*rxn00615_c_reverse_bd6e0 + 1.0*rxn00621_c + 1.0*rxn00621_c_reverse_26292 + 1.0*rxn00627_c + 1.0*rxn00627_c_reverse_367f8 + 1.0*rxn00646_c_reverse_0d6ee + 1.0*rxn00650_c + 1.0*rxn00650_c_reverse_5e302 + 1.0*rxn00653_c + 1.0*rxn00653_c_reverse_7ca77 + 1.0*rxn00655_c + 1.0*rxn00655_c_reverse_3d870 + 1.0*rxn00658_c + 1.0*rxn00658_c_reverse_7c4fb + 1.0*rxn00670_c + 1.0*rxn00670_c_reverse_105f8 + 1.0*rxn00678_c + 1.0*rxn00678_c_reverse_5a2a0 + 1.0*rxn00686_c + 1.0*rxn00686_c_reverse_0f11b + 1.0*rxn00689_c_reverse_9d2c6 + 1.0*rxn00690_c + 1.0*rxn00690_c_reverse_e81c1 + 1.0*rxn00692_c + 1.0*rxn00692_c_reverse_bd486 + 1.0*rxn00695_c + 1.0*rxn00695_c_reverse_fcc7c + 1.0*rxn00704_c + 1.0*rxn00704_c_reverse_62c44 + 1.0*rxn00707_c + 1.0*rxn00707_c_reverse_4c74d + 1.0*rxn00709_c + 1.0*rxn00709_c_reverse_ff750 + 1.0*rxn00710_c_reverse_39635 + 1.0*rxn00711_c_reverse_5ca6e + 1.0*rxn00713_c + 1.0*rxn00713_c_reverse_8fa11 + 1.0*rxn00715_c + 1.0*rxn00715_c_reverse_99a0d + 1.0*rxn00719_c + 1.0*rxn00719_c_reverse_4eb62 + 1.0*rxn00726_c_reverse_69d67 + 1.0*rxn00727_c_reverse_b311c + 1.0*rxn00736_c + 1.0*rxn00736_c_reverse_bd0c7 + 1.0*rxn00740_c_reverse_41675 + 1.0*rxn00741_c + 1.0*rxn00741_c_reverse_50de6 + 1.0*rxn00742_c_reverse_d22b7 + 1.0*rxn00745_c + 1.0*rxn00745_c_reverse_5b4e1 + 1.0*rxn00747_c + 1.0*rxn00747_c_reverse_ab952 + 1.0*rxn00751_c + 1.0*rxn00751_c_reverse_36421 + 1.0*rxn00758_c_reverse_ef46d + 1.0*rxn00763_c + 1.0*rxn00763_c_reverse_4cf1d + 1.0*rxn00770_c + 1.0*rxn00770_c_reverse_36565 + 1.0*rxn00771_c + 1.0*rxn00771_c_reverse_c6f58 + 1.0*rxn00772_c + 1.0*rxn00772_c_reverse_8e33d + 1.0*rxn00773_c + 1.0*rxn00773_c_reverse_754f9 + 1.0*rxn00775_c_reverse_8f592 + 1.0*rxn00776_c_reverse_c4690 + 1.0*rxn00778_c + 1.0*rxn00778_c_reverse_ae9c1 + 1.0*rxn00780_c + 1.0*rxn00780_c_reverse_65986 + 1.0*rxn00781_c + 1.0*rxn00781_c_reverse_39fee + 1.0*rxn00783_c + 1.0*rxn00783_c_reverse_5d0af + 1.0*rxn00784_c + 1.0*rxn00784_c_reverse_30d3f + 1.0*rxn00785_c + 1.0*rxn00785_c_reverse_88d17 + 1.0*rxn00786_c + 1.0*rxn00786_c_reverse_42fa1 + 1.0*rxn00789_c_reverse_19d19 + 1.0*rxn00790_c_reverse_d9977 + 1.0*rxn00791_c_reverse_c38aa + 1.0*rxn00798_c + 1.0*rxn00798_c_reverse_ba7df + 1.0*rxn00799_c + 1.0*rxn00799_c_reverse_a4e14 + 1.0*rxn00800_c + 1.0*rxn00800_c_reverse_8ca94 + 1.0*rxn00802_c + 1.0*rxn00802_c_reverse_358fc + 1.0*rxn00806_c + 1.0*rxn00806_c_reverse_dee24 + 1.0*rxn00808_c + 1.0*rxn00808_c_reverse_6d395 + 1.0*rxn00816_c + 1.0*rxn00816_c_reverse_79c22 + 1.0*rxn00817_c + 1.0*rxn00817_c_reverse_264ae + 1.0*rxn00818_c_reverse_9d70c + 1.0*rxn00829_c_reverse_b9dfd + 1.0*rxn00830_c + 1.0*rxn00830_c_reverse_8893e + 1.0*rxn00832_c + 1.0*rxn00832_c_reverse_27ebb + 1.0*rxn00834_c + 1.0*rxn00834_c_reverse_bb7a3 + 1.0*rxn00836_c_reverse_f7ec6 + 1.0*rxn00837_c_reverse_104ac + 1.0*rxn00838_c_reverse_71f32 + 1.0*rxn00839_c + 1.0*rxn00839_c_reverse_b5542 + 1.0*rxn00859_c + 1.0*rxn00859_c_reverse_48de0 + 1.0*rxn00863_c_reverse_484f3 + 1.0*rxn00879_c + 1.0*rxn00879_c_reverse_342b2 + 1.0*rxn00881_c_reverse_79747 + 1.0*rxn00882_c_reverse_9287b + 1.0*rxn00883_c_reverse_bff84 + 1.0*rxn00903_c + 1.0*rxn00903_c_reverse_c5ea4 + 1.0*rxn00905_c + 1.0*rxn00905_c_reverse_6f721 + 1.0*rxn00907_c + 1.0*rxn00907_c_reverse_66200 + 1.0*rxn00908_c + 1.0*rxn00908_c_reverse_b3367 + 1.0*rxn00910_c + 1.0*rxn00910_c_reverse_cf3e4 + 1.0*rxn00912_c + 1.0*rxn00912_c_reverse_e14d4 + 1.0*rxn00915_c_reverse_f08e9 + 1.0*rxn00926_c_reverse_8998f + 1.0*rxn00927_c + 1.0*rxn00927_c_reverse_4a3fe + 1.0*rxn00929_c + 1.0*rxn00929_c_reverse_4136f + 1.0*rxn00931_c + 1.0*rxn00931_c_reverse_4b6f1 + 1.0*rxn00938_c_reverse_c6c4f + 1.0*rxn00952_c_reverse_e0833 + 1.0*rxn00953_c + 1.0*rxn00953_c_reverse_7c310 + 1.0*rxn00985_c + 1.0*rxn00985_c_reverse_94be5 + 1.0*rxn01011_c + 1.0*rxn01011_c_reverse_339aa + 1.0*rxn01013_c + 1.0*rxn01013_c_reverse_f228c + 1.0*rxn01014_c + 1.0*rxn01014_c_reverse_60ef2 + 1.0*rxn01018_c_reverse_60db5 + 1.0*rxn01019_c_reverse_e2bca + 1.0*rxn01021_c + 1.0*rxn01021_c_reverse_6dc2d + 1.0*rxn01027_c + 1.0*rxn01027_c_reverse_41953 + 1.0*rxn01044_c + 1.0*rxn01044_c_reverse_1b0bd + 1.0*rxn01069_c_reverse_d3ff5 + 1.0*rxn01073_c + 1.0*rxn01073_c_reverse_8f6e3 + 1.0*rxn01100_c + 1.0*rxn01100_c_reverse_c70ca + 1.0*rxn01101_c + 1.0*rxn01101_c_reverse_4e176 + 1.0*rxn01102_c + 1.0*rxn01102_c_reverse_651da + 1.0*rxn01106_c + 1.0*rxn01106_c_reverse_a2ae6 + 1.0*rxn01114_c + 1.0*rxn01114_c_reverse_23e7d + 1.0*rxn01115_c_reverse_1bfc1 + 1.0*rxn01116_c + 1.0*rxn01116_c_reverse_28c37 + 1.0*rxn01119_c + 1.0*rxn01119_c_reverse_f3eba + 1.0*rxn01123_c + 1.0*rxn01123_c_reverse_52245 + 1.0*rxn01124_c + 1.0*rxn01124_c_reverse_5ba3b + 1.0*rxn01127_c + 1.0*rxn01127_c_reverse_fee4a + 1.0*rxn01132_c + 1.0*rxn01132_c_reverse_d615e + 1.0*rxn01133_c_reverse_4f473 + 1.0*rxn01143_c + 1.0*rxn01143_c_reverse_7c801 + 1.0*rxn01169_c + 1.0*rxn01169_c_reverse_f29d1 + 1.0*rxn01171_c + 1.0*rxn01171_c_reverse_ddafe + 1.0*rxn01187_c_reverse_4521e + 1.0*rxn01200_c + 1.0*rxn01200_c_reverse_f1f9e + 1.0*rxn01210_c_reverse_5c65b + 1.0*rxn01211_c + 1.0*rxn01211_c_reverse_d7edc + 1.0*rxn01213_c_reverse_dbcc7 + 1.0*rxn01215_c + 1.0*rxn01215_c_reverse_0e558 + 1.0*rxn01217_c_reverse_114f3 + 1.0*rxn01219_c + 1.0*rxn01219_c_reverse_32160 + 1.0*rxn01226_c + 1.0*rxn01226_c_reverse_bb20d + 1.0*rxn01241_c + 1.0*rxn01241_c_reverse_785c7 + 1.0*rxn01255_c_reverse_e9f5e + 1.0*rxn01259_c_reverse_5b1cb + 1.0*rxn01265_c + 1.0*rxn01265_c_reverse_ae612 + 1.0*rxn01268_c_reverse_c2313 + 1.0*rxn01269_c_reverse_bdfa1 + 1.0*rxn01275_c + 1.0*rxn01275_c_reverse_3b030 + 1.0*rxn01280_c + 1.0*rxn01280_c_reverse_957d8 + 1.0*rxn01281_c + 1.0*rxn01281_c_reverse_c54b9 + 1.0*rxn01286_c_reverse_456f7 + 1.0*rxn01287_c + 1.0*rxn01287_c_reverse_cfbe6 + 1.0*rxn01291_c + 1.0*rxn01291_c_reverse_81145 + 1.0*rxn01292_c + 1.0*rxn01292_c_reverse_df626 + 1.0*rxn01299_c + 1.0*rxn01299_c_reverse_ce683 + 1.0*rxn01300_c + 1.0*rxn01300_c_reverse_9b5d2 + 1.0*rxn01301_c + 1.0*rxn01301_c_reverse_11900 + 1.0*rxn01302_c + 1.0*rxn01302_c_reverse_530d7 + 1.0*rxn01303_c_reverse_a13e1 + 1.0*rxn01304_c_reverse_a488f + 1.0*rxn01308_c + 1.0*rxn01308_c_reverse_887c9 + 1.0*rxn01322_c + 1.0*rxn01322_c_reverse_87b83 + 1.0*rxn01331_c_reverse_9e5b1 + 1.0*rxn01332_c_reverse_70278 + 1.0*rxn01333_c + 1.0*rxn01333_c_reverse_2bd81 + 1.0*rxn01334_c + 1.0*rxn01334_c_reverse_939b7 + 1.0*rxn01343_c + 1.0*rxn01343_c_reverse_384fe + 1.0*rxn01345_c_reverse_a22f5 + 1.0*rxn01353_c + 1.0*rxn01353_c_reverse_8856a + 1.0*rxn01362_c_reverse_c8f58 + 1.0*rxn01366_c + 1.0*rxn01366_c_reverse_7f43a + 1.0*rxn01368_c_reverse_81f17 + 1.0*rxn01385_c + 1.0*rxn01385_c_reverse_c90ae + 1.0*rxn01390_c + 1.0*rxn01390_c_reverse_88dfb + 1.0*rxn01396_c + 1.0*rxn01396_c_reverse_7f99b + 1.0*rxn01405_c + 1.0*rxn01405_c_reverse_194b2 + 1.0*rxn01414_c + 1.0*rxn01414_c_reverse_a2991 + 1.0*rxn01434_c + 1.0*rxn01434_c_reverse_82090 + 1.0*rxn01444_c + 1.0*rxn01444_c_reverse_4f698 + 1.0*rxn01454_c_reverse_1083f + 1.0*rxn01455_c + 1.0*rxn01455_c_reverse_8df2a + 1.0*rxn01459_c_reverse_79900 + 1.0*rxn01461_c + 1.0*rxn01461_c_reverse_d23b6 + 1.0*rxn01465_c + 1.0*rxn01465_c_reverse_00127 + 1.0*rxn01466_c_reverse_ebe27 + 1.0*rxn01476_c_reverse_fb840 + 1.0*rxn01479_c + 1.0*rxn01479_c_reverse_0add8 + 1.0*rxn01484_c + 1.0*rxn01484_c_reverse_8ee57 + 1.0*rxn01485_c + 1.0*rxn01485_c_reverse_bb13b + 1.0*rxn01486_c_reverse_76e40 + 1.0*rxn01492_c + 1.0*rxn01492_c_reverse_155c3 + 1.0*rxn01500_c + 1.0*rxn01500_c_reverse_5bfc1 + 1.0*rxn01506_c + 1.0*rxn01506_c_reverse_57a70 + 1.0*rxn01508_c + 1.0*rxn01508_c_reverse_c9ee5 + 1.0*rxn01509_c + 1.0*rxn01509_c_reverse_8975d + 1.0*rxn01512_c + 1.0*rxn01512_c_reverse_f8064 + 1.0*rxn01513_c + 1.0*rxn01513_c_reverse_c1cde + 1.0*rxn01517_c + 1.0*rxn01517_c_reverse_9527d + 1.0*rxn01518_c + 1.0*rxn01518_c_reverse_4f067 + 1.0*rxn01519_c_reverse_7d43f + 1.0*rxn01520_c_reverse_354b7 + 1.0*rxn01530_c + 1.0*rxn01530_c_reverse_4b98d + 1.0*rxn01537_c_reverse_499f2 + 1.0*rxn01544_c_reverse_14060 + 1.0*rxn01545_c + 1.0*rxn01545_c_reverse_5861b + 1.0*rxn01547_c + 1.0*rxn01547_c_reverse_7278a + 1.0*rxn01575_c + 1.0*rxn01575_c_reverse_24b60 + 1.0*rxn01593_c + 1.0*rxn01593_c_reverse_2013a + 1.0*rxn01602_c + 1.0*rxn01602_c_reverse_26315 + 1.0*rxn01603_c_reverse_7731a + 1.0*rxn01607_c + 1.0*rxn01607_c_reverse_46815 + 1.0*rxn01621_c + 1.0*rxn01621_c_reverse_f5ebc + 1.0*rxn01636_c + 1.0*rxn01636_c_reverse_47cb4 + 1.0*rxn01637_c + 1.0*rxn01637_c_reverse_668e9 + 1.0*rxn01639_c_reverse_2afdb + 1.0*rxn01641_c + 1.0*rxn01641_c_reverse_3a2ca + 1.0*rxn01643_c_reverse_f8128 + 1.0*rxn01652_c + 1.0*rxn01652_c_reverse_17264 + 1.0*rxn01653_c_reverse_5c23c + 1.0*rxn01671_c + 1.0*rxn01671_c_reverse_f098a + 1.0*rxn01673_c + 1.0*rxn01673_c_reverse_61c76 + 1.0*rxn01675_c + 1.0*rxn01675_c_reverse_491bc + 1.0*rxn01678_c + 1.0*rxn01678_c_reverse_eb1e7 + 1.0*rxn01682_c + 1.0*rxn01682_c_reverse_e21fd + 1.0*rxn01701_c + 1.0*rxn01701_c_reverse_0f7cf + 1.0*rxn01710_c + 1.0*rxn01710_c_reverse_2c11b + 1.0*rxn01739_c + 1.0*rxn01739_c_reverse_8703b + 1.0*rxn01740_c + 1.0*rxn01740_c_reverse_4d570 + 1.0*rxn01754_c + 1.0*rxn01754_c_reverse_8c948 + 1.0*rxn01761_c + 1.0*rxn01761_c_reverse_b8fdc + 1.0*rxn01763_c + 1.0*rxn01763_c_reverse_144d0 + 1.0*rxn01790_c + 1.0*rxn01790_c_reverse_049db + 1.0*rxn01800_c_reverse_cab15 + 1.0*rxn01807_c + 1.0*rxn01807_c_reverse_8456b + 1.0*rxn01816_c + 1.0*rxn01816_c_reverse_c682f + 1.0*rxn01843_c + 1.0*rxn01843_c_reverse_4b18c + 1.0*rxn01844_c + 1.0*rxn01844_c_reverse_221de + 1.0*rxn01851_c_reverse_3b6ab + 1.0*rxn01870_c + 1.0*rxn01870_c_reverse_d0cb5 + 1.0*rxn01871_c + 1.0*rxn01871_c_reverse_e7368 + 1.0*rxn01917_c + 1.0*rxn01917_c_reverse_f2cc1 + 1.0*rxn01951_c + 1.0*rxn01951_c_reverse_d9bc7 + 1.0*rxn01964_c_reverse_649aa + 1.0*rxn01966_c + 1.0*rxn01966_c_reverse_74381 + 1.0*rxn01967_c + 1.0*rxn01967_c_reverse_7aa40 + 1.0*rxn01972_c + 1.0*rxn01972_c_reverse_0bcd4 + 1.0*rxn01974_c + 1.0*rxn01974_c_reverse_dfcea + 1.0*rxn01975_c + 1.0*rxn01975_c_reverse_ffce2 + 1.0*rxn01977_c + 1.0*rxn01977_c_reverse_3b666 + 1.0*rxn01987_c + 1.0*rxn01987_c_reverse_4798b + 1.0*rxn01997_c_reverse_74d0b + 1.0*rxn02000_c + 1.0*rxn02000_c_reverse_d8c6e + 1.0*rxn02003_c + 1.0*rxn02003_c_reverse_c034b + 1.0*rxn02005_c + 1.0*rxn02005_c_reverse_88ddb + 1.0*rxn02007_c_reverse_a83dc + 1.0*rxn02008_c_reverse_0a45c + 1.0*rxn02009_c + 1.0*rxn02009_c_reverse_bb2b4 + 1.0*rxn02015_c + 1.0*rxn02015_c_reverse_28831 + 1.0*rxn02090_c + 1.0*rxn02090_c_reverse_44131 + 1.0*rxn02107_c + 1.0*rxn02107_c_reverse_c67c2 + 1.0*rxn02113_c_reverse_df81a + 1.0*rxn02115_c + 1.0*rxn02115_c_reverse_ec297 + 1.0*rxn02128_c + 1.0*rxn02128_c_reverse_27920 + 1.0*rxn02155_c + 1.0*rxn02155_c_reverse_0ec87 + 1.0*rxn02159_c + 1.0*rxn02159_c_reverse_b84e8 + 1.0*rxn02160_c_reverse_0ea02 + 1.0*rxn02161_c + 1.0*rxn02161_c_reverse_1f805 + 1.0*rxn02170_c + 1.0*rxn02170_c_reverse_3a353 + 1.0*rxn02172_c + 1.0*rxn02172_c_reverse_4d58b + 1.0*rxn02175_c + 1.0*rxn02175_c_reverse_68839 + 1.0*rxn02177_c_reverse_96dde + 1.0*rxn02182_c + 1.0*rxn02182_c_reverse_55ead + 1.0*rxn02185_c + 1.0*rxn02185_c_reverse_77f6f + 1.0*rxn02200_c + 1.0*rxn02200_c_reverse_c6c8a + 1.0*rxn02201_c_reverse_ed28a + 1.0*rxn02212_c_reverse_b695e + 1.0*rxn02213_c_reverse_93209 + 1.0*rxn02222_c_reverse_e797d + 1.0*rxn02228_c + 1.0*rxn02228_c_reverse_12288 + 1.0*rxn02235_c + 1.0*rxn02235_c_reverse_04f9e + 1.0*rxn02262_c + 1.0*rxn02262_c_reverse_5446f + 1.0*rxn02275_c_reverse_c4bdf + 1.0*rxn02283_c + 1.0*rxn02283_c_reverse_56051 + 1.0*rxn02285_c + 1.0*rxn02285_c_reverse_fa71d + 1.0*rxn02302_c + 1.0*rxn02302_c_reverse_4c0ed + 1.0*rxn02305_c + 1.0*rxn02305_c_reverse_1aca2 + 1.0*rxn02314_c + 1.0*rxn02314_c_reverse_30d85 + 1.0*rxn02315_c + 1.0*rxn02315_c_reverse_bb3bd + 1.0*rxn02316_c + 1.0*rxn02316_c_reverse_2e045 + 1.0*rxn02317_c + 1.0*rxn02317_c_reverse_35de7 + 1.0*rxn02318_c + 1.0*rxn02318_c_reverse_499b9 + 1.0*rxn02320_c + 1.0*rxn02320_c_reverse_1c134 + 1.0*rxn02321_c + 1.0*rxn02321_c_reverse_ebce0 + 1.0*rxn02322_c + 1.0*rxn02322_c_reverse_44b05 + 1.0*rxn02339_c + 1.0*rxn02339_c_reverse_02650 + 1.0*rxn02341_c_reverse_31192 + 1.0*rxn02342_c + 1.0*rxn02342_c_reverse_d3601 + 1.0*rxn02353_c + 1.0*rxn02353_c_reverse_f9656 + 1.0*rxn02373_c_reverse_f1df3 + 1.0*rxn02374_c_reverse_ca09e + 1.0*rxn02379_c + 1.0*rxn02379_c_reverse_080f9 + 1.0*rxn02380_c + 1.0*rxn02380_c_reverse_81a70 + 1.0*rxn02391_c + 1.0*rxn02391_c_reverse_86c3c + 1.0*rxn02402_c_reverse_807b2 + 1.0*rxn02405_c_reverse_27332 + 1.0*rxn02409_c + 1.0*rxn02409_c_reverse_90128 + 1.0*rxn02465_c_reverse_70fa9 + 1.0*rxn02473_c_reverse_0d508 + 1.0*rxn02483_c_reverse_91682 + 1.0*rxn02484_c + 1.0*rxn02484_c_reverse_ed09f + 1.0*rxn02503_c + 1.0*rxn02503_c_reverse_86087 + 1.0*rxn02504_c + 1.0*rxn02504_c_reverse_798a4 + 1.0*rxn02507_c_reverse_87fbf + 1.0*rxn02508_c + 1.0*rxn02508_c_reverse_993ca + 1.0*rxn02521_c_reverse_c24e0 + 1.0*rxn02522_c_reverse_31706 + 1.0*rxn02548_c + 1.0*rxn02548_c_reverse_51217 + 1.0*rxn02584_c + 1.0*rxn02584_c_reverse_7bd46 + 1.0*rxn02596_c_reverse_d7bda + 1.0*rxn02639_c + 1.0*rxn02639_c_reverse_96d09 + 1.0*rxn02687_c + 1.0*rxn02687_c_reverse_42fac + 1.0*rxn02703_c + 1.0*rxn02703_c_reverse_29c25 + 1.0*rxn02737_c + 1.0*rxn02737_c_reverse_14879 + 1.0*rxn02762_c_reverse_e391a + 1.0*rxn02795_c + 1.0*rxn02795_c_reverse_d0cd0 + 1.0*rxn02796_c + 1.0*rxn02796_c_reverse_52399 + 1.0*rxn02821_c + 1.0*rxn02821_c_reverse_0f675 + 1.0*rxn02834_c_reverse_06188 + 1.0*rxn02835_c + 1.0*rxn02835_c_reverse_423e7 + 1.0*rxn02842_c + 1.0*rxn02842_c_reverse_d0cfb + 1.0*rxn02853_c_reverse_a3304 + 1.0*rxn02895_c_reverse_e3a68 + 1.0*rxn02900_c + 1.0*rxn02900_c_reverse_50183 + 1.0*rxn02914_c + 1.0*rxn02914_c_reverse_ce3a2 + 1.0*rxn02916_c_reverse_c896b + 1.0*rxn02937_c + 1.0*rxn02937_c_reverse_54963 + 1.0*rxn02961_c + 1.0*rxn02961_c_reverse_e1e19 + 1.0*rxn02975_c + 1.0*rxn02975_c_reverse_71b18 + 1.0*rxn03004_c + 1.0*rxn03004_c_reverse_26d59 + 1.0*rxn03005_c + 1.0*rxn03005_c_reverse_e5397 + 1.0*rxn03012_c_reverse_d1f60 + 1.0*rxn03030_c + 1.0*rxn03030_c_reverse_f2a7d + 1.0*rxn03046_c + 1.0*rxn03046_c_reverse_80a7a + 1.0*rxn03047_c + 1.0*rxn03047_c_reverse_bf2b5 + 1.0*rxn03052_c + 1.0*rxn03052_c_reverse_67643 + 1.0*rxn03063_c + 1.0*rxn03063_c_reverse_73071 + 1.0*rxn03075_c + 1.0*rxn03075_c_reverse_8506d + 1.0*rxn03080_c + 1.0*rxn03080_c_reverse_cf1e8 + 1.0*rxn03084_c_reverse_344d5 + 1.0*rxn03094_c + 1.0*rxn03094_c_reverse_4ad3a + 1.0*rxn03095_c + 1.0*rxn03095_c_reverse_88d8a + 1.0*rxn03108_c + 1.0*rxn03108_c_reverse_5c177 + 1.0*rxn03135_c_reverse_21883 + 1.0*rxn03136_c + 1.0*rxn03136_c_reverse_474c0 + 1.0*rxn03137_c + 1.0*rxn03137_c_reverse_ba051 + 1.0*rxn03147_c_reverse_d3398 + 1.0*rxn03174_c_reverse_eb1d1 + 1.0*rxn03175_c + 1.0*rxn03175_c_reverse_56fbe + 1.0*rxn03185_c + 1.0*rxn03185_c_reverse_fddbd + 1.0*rxn03273_c + 1.0*rxn03273_c_reverse_26e4b + 1.0*rxn03282_c + 1.0*rxn03282_c_reverse_7b2c8 + 1.0*rxn03333_c + 1.0*rxn03333_c_reverse_3e1af + 1.0*rxn03365_c + 1.0*rxn03365_c_reverse_4d9e3 + 1.0*rxn03366_c + 1.0*rxn03366_c_reverse_ab6f1 + 1.0*rxn03378_c + 1.0*rxn03378_c_reverse_8a784 + 1.0*rxn03380_c + 1.0*rxn03380_c_reverse_0186c + 1.0*rxn03406_c_reverse_96d72 + 1.0*rxn03407_c_reverse_6fd66 + 1.0*rxn03408_c + 1.0*rxn03408_c_reverse_e25d2 + 1.0*rxn03409_c_reverse_7d97c + 1.0*rxn03419_c + 1.0*rxn03419_c_reverse_b2ab5 + 1.0*rxn03421_c + 1.0*rxn03421_c_reverse_0c6bf + 1.0*rxn03445_c + 1.0*rxn03445_c_reverse_d187e + 1.0*rxn03446_c_reverse_e51f0 + 1.0*rxn03462_c + 1.0*rxn03462_c_reverse_97278 + 1.0*rxn03463_c + 1.0*rxn03463_c_reverse_6a399 + 1.0*rxn03465_c + 1.0*rxn03465_c_reverse_c9089 + 1.0*rxn03467_c + 1.0*rxn03467_c_reverse_4bc10 + 1.0*rxn03481_c_reverse_74ee0 + 1.0*rxn03482_c_reverse_2ea90 + 1.0*rxn03483_c_reverse_82d56 + 1.0*rxn03489_c + 1.0*rxn03489_c_reverse_32e12 + 1.0*rxn03512_c + 1.0*rxn03512_c_reverse_bb29f + 1.0*rxn03536_c + 1.0*rxn03536_c_reverse_c5fba + 1.0*rxn03618_c + 1.0*rxn03618_c_reverse_b5346 + 1.0*rxn03638_c_reverse_c8343 + 1.0*rxn03721_c + 1.0*rxn03721_c_reverse_0f531 + 1.0*rxn03762_c + 1.0*rxn03762_c_reverse_6575b + 1.0*rxn03837_c + 1.0*rxn03837_c_reverse_26cad + 1.0*rxn03838_c_reverse_a4216 + 1.0*rxn03839_c_reverse_d4390 + 1.0*rxn03843_c_reverse_25571 + 1.0*rxn03848_c + 1.0*rxn03848_c_reverse_402c5 + 1.0*rxn03849_c + 1.0*rxn03849_c_reverse_95327 + 1.0*rxn03852_c + 1.0*rxn03852_c_reverse_d7c24 + 1.0*rxn03856_c + 1.0*rxn03856_c_reverse_e0831 + 1.0*rxn03869_c_reverse_7f589 + 1.0*rxn03886_c + 1.0*rxn03886_c_reverse_ac31e + 1.0*rxn03887_c_reverse_86119 + 1.0*rxn03891_c_reverse_6dc94 + 1.0*rxn03892_c_reverse_7b0a0 + 1.0*rxn03901_c_reverse_81a91 + 1.0*rxn03903_c + 1.0*rxn03903_c_reverse_02525 + 1.0*rxn03904_c + 1.0*rxn03904_c_reverse_8cca0 + 1.0*rxn03909_c_reverse_6f554 + 1.0*rxn03915_c + 1.0*rxn03915_c_reverse_1b540 + 1.0*rxn03921_c + 1.0*rxn03921_c_reverse_0f65b + 1.0*rxn03933_c + 1.0*rxn03933_c_reverse_89fbd + 1.0*rxn04020_c + 1.0*rxn04020_c_reverse_5a426 + 1.0*rxn04043_c + 1.0*rxn04043_c_reverse_7d80e + 1.0*rxn04052_c + 1.0*rxn04052_c_reverse_47b52 + 1.0*rxn04068_c + 1.0*rxn04068_c_reverse_ef3d9 + 1.0*rxn04082_c + 1.0*rxn04082_c_reverse_44ffc + 1.0*rxn04132_c_reverse_b9334 + 1.0*rxn04133_c_reverse_f2025 + 1.0*rxn04270_c + 1.0*rxn04270_c_reverse_e2414 + 1.0*rxn04271_c + 1.0*rxn04271_c_reverse_5fe7a + 1.0*rxn04413_c + 1.0*rxn04413_c_reverse_a5be2 + 1.0*rxn04453_c_reverse_e07cc + 1.0*rxn04457_c_reverse_1abae + 1.0*rxn04658_c_reverse_11d4d + 1.0*rxn04660_c + 1.0*rxn04660_c_reverse_756c6 + 1.0*rxn04723_c + 1.0*rxn04723_c_reverse_22a2f + 1.0*rxn04726_c + 1.0*rxn04726_c_reverse_dadb6 + 1.0*rxn04727_c + 1.0*rxn04727_c_reverse_aa6f4 + 1.0*rxn04736_c + 1.0*rxn04736_c_reverse_29866 + 1.0*rxn04737_c + 1.0*rxn04737_c_reverse_e7227 + 1.0*rxn04744_c + 1.0*rxn04744_c_reverse_ce4cc + 1.0*rxn04757_c + 1.0*rxn04757_c_reverse_8dcf6 + 1.0*rxn04760_c + 1.0*rxn04760_c_reverse_e06f5 + 1.0*rxn04779_c + 1.0*rxn04779_c_reverse_5e363 + 1.0*rxn04780_c + 1.0*rxn04780_c_reverse_5638a + 1.0*rxn04781_c + 1.0*rxn04781_c_reverse_17aee + 1.0*rxn04794_c + 1.0*rxn04794_c_reverse_3f91d + 1.0*rxn04840_c + 1.0*rxn04840_c_reverse_06c5b + 1.0*rxn04841_c + 1.0*rxn04841_c_reverse_9cac5 + 1.0*rxn04908_c + 1.0*rxn04908_c_reverse_91bc4 + 1.0*rxn04954_c + 1.0*rxn04954_c_reverse_e2265 + 1.0*rxn05012_c_reverse_0b735 + 1.0*rxn05040_c_reverse_27031 + 1.0*rxn05060_c + 1.0*rxn05060_c_reverse_4cfc6 + 1.0*rxn05108_c + 1.0*rxn05108_c_reverse_eb1df + 1.0*rxn05122_c + 1.0*rxn05122_c_reverse_f188b + 1.0*rxn05126_c_reverse_ab027 + 1.0*rxn05127_c_reverse_aa078 + 1.0*rxn05145_c + 1.0*rxn05145_c_reverse_d8e62 + 1.0*rxn05149_c_reverse_b9dfc + 1.0*rxn05150_c_reverse_50a00 + 1.0*rxn05155_c_reverse_1962b + 1.0*rxn05158_c_reverse_5e32c + 1.0*rxn05159_c_reverse_1f517 + 1.0*rxn05160_c_reverse_7cee2 + 1.0*rxn05177_c_reverse_25c98 + 1.0*rxn05181_c_reverse_25720 + 1.0*rxn05183_c_reverse_155ea + 1.0*rxn05184_c_reverse_6f44d + 1.0*rxn05188_c_reverse_f8757 + 1.0*rxn05192_c_reverse_2d182 + 1.0*rxn05193_c_reverse_90e68 + 1.0*rxn05195_c_reverse_7adfd + 1.0*rxn05197_c + 1.0*rxn05197_c_reverse_c832c + 1.0*rxn05201_c + 1.0*rxn05201_c_reverse_e480e + 1.0*rxn05202_c + 1.0*rxn05202_c_reverse_f388b + 1.0*rxn05206_c + 1.0*rxn05206_c_reverse_9c1b7 + 1.0*rxn05207_c + 1.0*rxn05207_c_reverse_52f9f + 1.0*rxn05209_c + 1.0*rxn05209_c_reverse_2cd07 + 1.0*rxn05219_c_reverse_d0999 + 1.0*rxn05223_c_reverse_26a81 + 1.0*rxn05226_c + 1.0*rxn05226_c_reverse_5051c + 1.0*rxn05231_c_reverse_1988a + 1.0*rxn05232_c_reverse_9a0da + 1.0*rxn05233_c_reverse_99604 + 1.0*rxn05234_c_reverse_03de4 + 1.0*rxn05235_c_reverse_896ba + 1.0*rxn05236_c_reverse_77630 + 1.0*rxn05287_c_reverse_8425d + 1.0*rxn05289_c + 1.0*rxn05289_c_reverse_e62dc + 1.0*rxn05298_c + 1.0*rxn05298_c_reverse_8882d + 1.0*rxn05307_c + 1.0*rxn05307_c_reverse_7e168 + 1.0*rxn05319_c_reverse_150a7 + 1.0*rxn05322_c_reverse_88cd4 + 1.0*rxn05323_c_reverse_888ea + 1.0*rxn05324_c_reverse_4a3ce + 1.0*rxn05325_c_reverse_cd9df + 1.0*rxn05326_c_reverse_7023a + 1.0*rxn05327_c_reverse_b5601 + 1.0*rxn05328_c_reverse_9699f + 1.0*rxn05343_c_reverse_31a7c + 1.0*rxn05344_c_reverse_8f13d + 1.0*rxn05345_c_reverse_c234e + 1.0*rxn05346_c_reverse_a9cc4 + 1.0*rxn05347_c_reverse_8a830 + 1.0*rxn05348_c_reverse_d49cc + 1.0*rxn05349_c + 1.0*rxn05349_c_reverse_701df + 1.0*rxn05350_c_reverse_55e5b + 1.0*rxn05358_c + 1.0*rxn05358_c_reverse_a7a36 + 1.0*rxn05359_c_reverse_878d8 + 1.0*rxn05363_c_reverse_b4be5 + 1.0*rxn05367_c_reverse_a1eca + 1.0*rxn05371_c_reverse_b8304 + 1.0*rxn05375_c_reverse_765a6 + 1.0*rxn05379_c_reverse_def66 + 1.0*rxn05383_c + 1.0*rxn05383_c_reverse_43855 + 1.0*rxn05384_c_reverse_50f2f + 1.0*rxn05388_c_reverse_c6fd6 + 1.0*rxn05392_c_reverse_cc383 + 1.0*rxn05396_c_reverse_7a19a + 1.0*rxn05400_c_reverse_7d4de + 1.0*rxn05404_c_reverse_fff56 + 1.0*rxn05408_c + 1.0*rxn05408_c_reverse_6772c + 1.0*rxn05409_c_reverse_16cb4 + 1.0*rxn05413_c_reverse_df821 + 1.0*rxn05417_c_reverse_db89e + 1.0*rxn05421_c_reverse_241cb + 1.0*rxn05425_c_reverse_f2f3f + 1.0*rxn05429_c_reverse_6adc0 + 1.0*rxn05433_c_reverse_154d0 + 1.0*rxn05434_c_reverse_4d458 + 1.0*rxn05435_c_reverse_88b7f + 1.0*rxn05436_c_reverse_18543 + 1.0*rxn05437_c_reverse_52d3b + 1.0*rxn05438_c_reverse_0af4e + 1.0*rxn05439_c_reverse_94912 + 1.0*rxn05440_c_reverse_737d8 + 1.0*rxn05441_c_reverse_3b226 + 1.0*rxn05442_c_reverse_13e1e + 1.0*rxn05443_c_reverse_2c292 + 1.0*rxn05444_c_reverse_e64cc + 1.0*rxn05445_c_reverse_88cee + 1.0*rxn05446_c_reverse_7b6cc + 1.0*rxn05447_c_reverse_8f690 + 1.0*rxn05448_c_reverse_cdff7 + 1.0*rxn05449_c_reverse_bfb29 + 1.0*rxn05450_c_reverse_88bfd + 1.0*rxn05451_c + 1.0*rxn05451_c_reverse_5099e + 1.0*rxn05452_c + 1.0*rxn05452_c_reverse_f5d6c + 1.0*rxn05453_c + 1.0*rxn05453_c_reverse_25f82 + 1.0*rxn05454_c + 1.0*rxn05454_c_reverse_cf502 + 1.0*rxn05455_c + 1.0*rxn05455_c_reverse_40ae6 + 1.0*rxn05456_c + 1.0*rxn05456_c_reverse_ccb15 + 1.0*rxn05457_c + 1.0*rxn05457_c_reverse_4f2bd + 1.0*rxn05458_c + 1.0*rxn05458_c_reverse_a87bd + 1.0*rxn05459_c + 1.0*rxn05459_c_reverse_85431 + 1.0*rxn05460_c_reverse_e1fa9 + 1.0*rxn05464_c_reverse_ac339 + 1.0*rxn05465_c + 1.0*rxn05465_c_reverse_30e9d + 1.0*rxn05466_c + 1.0*rxn05466_c_reverse_f292c + 1.0*rxn05467_c + 1.0*rxn05467_c_reverse_d2ac6 + 1.0*rxn05468_c + 1.0*rxn05468_c_reverse_87fc4 + 1.0*rxn05485_c + 1.0*rxn05485_c_reverse_d393d + 1.0*rxn05493_c + 1.0*rxn05493_c_reverse_57088 + 1.0*rxn05494_c + 1.0*rxn05494_c_reverse_e380e + 1.0*rxn05500_c + 1.0*rxn05500_c_reverse_2a6b4 + 1.0*rxn05501_c + 1.0*rxn05501_c_reverse_3dcd7 + 1.0*rxn05504_c_reverse_eca9a + 1.0*rxn05516_c_reverse_e2c70 + 1.0*rxn05518_c + 1.0*rxn05518_c_reverse_58c3d + 1.0*rxn05527_c + 1.0*rxn05527_c_reverse_510b2 + 1.0*rxn05528_c_reverse_685fc + 1.0*rxn05533_c_reverse_6295f + 1.0*rxn05534_c_reverse_2fd74 + 1.0*rxn05535_c_reverse_e781e + 1.0*rxn05536_c_reverse_d64f1 + 1.0*rxn05537_c_reverse_69d6d + 1.0*rxn05538_c_reverse_1cc18 + 1.0*rxn05539_c_reverse_f6943 + 1.0*rxn05540_c_reverse_20182 + 1.0*rxn05541_c_reverse_b32b1 + 1.0*rxn05542_c_reverse_995b2 + 1.0*rxn05543_c_reverse_5f1fd + 1.0*rxn05544_c_reverse_1a7eb + 1.0*rxn05545_c_reverse_92352 + 1.0*rxn05546_c_reverse_acbcc + 1.0*rxn05547_c_reverse_fb266 + 1.0*rxn05555_c_reverse_b3eb4 + 1.0*rxn05560_c + 1.0*rxn05560_c_reverse_0c188 + 1.0*rxn05566_c + 1.0*rxn05566_c_reverse_84415 + 1.0*rxn05567_c + 1.0*rxn05567_c_reverse_47290 + 1.0*rxn05569_c + 1.0*rxn05569_c_reverse_4f60a + 1.0*rxn05571_c + 1.0*rxn05571_c_reverse_91bca + 1.0*rxn05573_c + 1.0*rxn05573_c_reverse_6fce0 + 1.0*rxn05581_c + 1.0*rxn05581_c_reverse_2e8e9 + 1.0*rxn05582_c + 1.0*rxn05582_c_reverse_a1ffc + 1.0*rxn05593_c + 1.0*rxn05593_c_reverse_4d658 + 1.0*rxn05602_c + 1.0*rxn05602_c_reverse_e7a8d + 1.0*rxn05605_c + 1.0*rxn05605_c_reverse_54c41 + 1.0*rxn05607_c + 1.0*rxn05607_c_reverse_ee603 + 1.0*rxn05610_c + 1.0*rxn05610_c_reverse_72baa + 1.0*rxn05613_c_reverse_386dd + 1.0*rxn05614_c_reverse_95b2a + 1.0*rxn05616_c + 1.0*rxn05616_c_reverse_df8fa + 1.0*rxn05617_c + 1.0*rxn05617_c_reverse_d7c95 + 1.0*rxn05618_c_reverse_d90c3 + 1.0*rxn05645_c + 1.0*rxn05645_c_reverse_73b2b + 1.0*rxn05647_c + 1.0*rxn05647_c_reverse_6beba + 1.0*rxn05649_c + 1.0*rxn05649_c_reverse_8c648 + 1.0*rxn05655_c + 1.0*rxn05655_c_reverse_4c138 + 1.0*rxn05671_c + 1.0*rxn05671_c_reverse_892f0 + 1.0*rxn05682_c + 1.0*rxn05682_c_reverse_3590a + 1.0*rxn05734_c + 1.0*rxn05734_c_reverse_37c75 + 1.0*rxn05735_c_reverse_045b3 + 1.0*rxn05740_c + 1.0*rxn05740_c_reverse_58234 + 1.0*rxn05746_c + 1.0*rxn05746_c_reverse_b73af + 1.0*rxn05814_c + 1.0*rxn05814_c_reverse_fef61 + 1.0*rxn05871_c + 1.0*rxn05871_c_reverse_31580 + 1.0*rxn05872_c + 1.0*rxn05872_c_reverse_eae53 + 1.0*rxn05909_c + 1.0*rxn05909_c_reverse_3373e + 1.0*rxn05919_c + 1.0*rxn05919_c_reverse_0250d + 1.0*rxn05957_c_reverse_b587c + 1.0*rxn05958_c_reverse_09055 + 1.0*rxn06060_c + 1.0*rxn06060_c_reverse_36c0f + 1.0*rxn06062_c + 1.0*rxn06062_c_reverse_86539 + 1.0*rxn06075_c_reverse_26c20 + 1.0*rxn06076_c_reverse_082bb + 1.0*rxn06078_c_reverse_46bb6 + 1.0*rxn06160_c + 1.0*rxn06160_c_reverse_73220 + 1.0*rxn06197_c + 1.0*rxn06197_c_reverse_94d7c + 1.0*rxn06322_c + 1.0*rxn06322_c_reverse_d0234 + 1.0*rxn06372_c + 1.0*rxn06372_c_reverse_96bb2 + 1.0*rxn06394_c + 1.0*rxn06394_c_reverse_f36fb + 1.0*rxn06488_c + 1.0*rxn06488_c_reverse_83246 + 1.0*rxn06600_c_reverse_f2b2e + 1.0*rxn06672_c + 1.0*rxn06672_c_reverse_91f79 + 1.0*rxn06673_c_reverse_1a151 + 1.0*rxn06728_c + 1.0*rxn06728_c_reverse_ae624 + 1.0*rxn06735_c + 1.0*rxn06735_c_reverse_a25eb + 1.0*rxn06750_c + 1.0*rxn06750_c_reverse_c7b9c + 1.0*rxn06752_c + 1.0*rxn06752_c_reverse_98bfb + 1.0*rxn06759_c + 1.0*rxn06759_c_reverse_421ad + 1.0*rxn06760_c + 1.0*rxn06760_c_reverse_c08c3 + 1.0*rxn06870_c + 1.0*rxn06870_c_reverse_58716 + 1.0*rxn06937_c_reverse_016ca + 1.0*rxn07056_c + 1.0*rxn07056_c_reverse_a7a37 + 1.0*rxn07100_c + 1.0*rxn07100_c_reverse_b9870 + 1.0*rxn07261_c + 1.0*rxn07261_c_reverse_d6d45 + 1.0*rxn07312_c + 1.0*rxn07312_c_reverse_15bb6 + 1.0*rxn07454_c + 1.0*rxn07454_c_reverse_6c36b + 1.0*rxn07493_c + 1.0*rxn07493_c_reverse_93ee9 + 1.0*rxn07579_c + 1.0*rxn07579_c_reverse_4c760 + 1.0*rxn07584_c + 1.0*rxn07584_c_reverse_1fe37 + 1.0*rxn07670_c + 1.0*rxn07670_c_reverse_5e2ee + 1.0*rxn07672_c + 1.0*rxn07672_c_reverse_7f640 + 1.0*rxn07673_c + 1.0*rxn07673_c_reverse_8150e + 1.0*rxn07720_c + 1.0*rxn07720_c_reverse_74e13 + 1.0*rxn07721_c + 1.0*rxn07721_c_reverse_c2977 + 1.0*rxn07734_c + 1.0*rxn07734_c_reverse_b6754 + 1.0*rxn07841_c + 1.0*rxn07841_c_reverse_80562 + 1.0*rxn07842_c + 1.0*rxn07842_c_reverse_05a65 + 1.0*rxn07875_c + 1.0*rxn07875_c_reverse_e79bb + 1.0*rxn07876_c + 1.0*rxn07876_c_reverse_637ac + 1.0*rxn07879_c + 1.0*rxn07879_c_reverse_38f4f + 1.0*rxn07885_c + 1.0*rxn07885_c_reverse_b9575 + 1.0*rxn08025_c + 1.0*rxn08025_c_reverse_abf50 + 1.0*rxn08306_c + 1.0*rxn08306_c_reverse_5fa9f + 1.0*rxn08307_c + 1.0*rxn08307_c_reverse_79ddf + 1.0*rxn08308_c + 1.0*rxn08308_c_reverse_f6d9e + 1.0*rxn08309_c + 1.0*rxn08309_c_reverse_d28b4 + 1.0*rxn08310_c + 1.0*rxn08310_c_reverse_74ddd + 1.0*rxn08311_c + 1.0*rxn08311_c_reverse_d0e48 + 1.0*rxn08312_c + 1.0*rxn08312_c_reverse_720ec + 1.0*rxn08521_c + 1.0*rxn08521_c_reverse_8e67b + 1.0*rxn08615_c + 1.0*rxn08615_c_reverse_9343c + 1.0*rxn08669_c + 1.0*rxn08669_c_reverse_c80bd + 1.0*rxn08703_c + 1.0*rxn08703_c_reverse_12fdb + 1.0*rxn08783_c_reverse_8cc35 + 1.0*rxn08792_c_reverse_218ae + 1.0*rxn08793_c_reverse_11d6e + 1.0*rxn08796_c + 1.0*rxn08796_c_reverse_0484b + 1.0*rxn08797_c + 1.0*rxn08797_c_reverse_43bec + 1.0*rxn08798_c_reverse_946fe + 1.0*rxn08799_c + 1.0*rxn08799_c_reverse_ff65a + 1.0*rxn08800_c + 1.0*rxn08800_c_reverse_cd073 + 1.0*rxn08801_c + 1.0*rxn08801_c_reverse_6fc57 + 1.0*rxn08802_c + 1.0*rxn08802_c_reverse_feb8e + 1.0*rxn08803_c + 1.0*rxn08803_c_reverse_e72c6 + 1.0*rxn08804_c + 1.0*rxn08804_c_reverse_5541c + 1.0*rxn08805_c + 1.0*rxn08805_c_reverse_e8bd6 + 1.0*rxn08806_c + 1.0*rxn08806_c_reverse_c1da0 + 1.0*rxn08807_c + 1.0*rxn08807_c_reverse_df9c7 + 1.0*rxn08808_c_reverse_13ecd + 1.0*rxn08809_c + 1.0*rxn08809_c_reverse_a87a1 + 1.0*rxn08810_c + 1.0*rxn08810_c_reverse_48346 + 1.0*rxn08811_c + 1.0*rxn08811_c_reverse_1864d + 1.0*rxn08812_c + 1.0*rxn08812_c_reverse_36c8b + 1.0*rxn08813_c + 1.0*rxn08813_c_reverse_e09e7 + 1.0*rxn08814_c + 1.0*rxn08814_c_reverse_eaf8d + 1.0*rxn08815_c + 1.0*rxn08815_c_reverse_a1baa + 1.0*rxn08816_c + 1.0*rxn08816_c_reverse_7df1d + 1.0*rxn08817_c + 1.0*rxn08817_c_reverse_e1e5d + 1.0*rxn08818_c + 1.0*rxn08818_c_reverse_33687 + 1.0*rxn08819_c_reverse_f1ea3 + 1.0*rxn08820_c + 1.0*rxn08820_c_reverse_8a948 + 1.0*rxn08821_c + 1.0*rxn08821_c_reverse_f4fc2 + 1.0*rxn08822_c + 1.0*rxn08822_c_reverse_78c83 + 1.0*rxn08823_c + 1.0*rxn08823_c_reverse_c8640 + 1.0*rxn08838_c + 1.0*rxn08838_c_reverse_be034 + 1.0*rxn08839_c + 1.0*rxn08839_c_reverse_6e384 + 1.0*rxn08840_c_reverse_cb067 + 1.0*rxn08841_c + 1.0*rxn08841_c_reverse_ab848 + 1.0*rxn08842_c + 1.0*rxn08842_c_reverse_0cb40 + 1.0*rxn08843_c + 1.0*rxn08843_c_reverse_0ee79 + 1.0*rxn08844_c + 1.0*rxn08844_c_reverse_244cd + 1.0*rxn08845_c + 1.0*rxn08845_c_reverse_c039f + 1.0*rxn08846_c + 1.0*rxn08846_c_reverse_f06b6 + 1.0*rxn08847_c_reverse_3bcb6 + 1.0*rxn08848_c + 1.0*rxn08848_c_reverse_b46fc + 1.0*rxn08849_c + 1.0*rxn08849_c_reverse_15249 + 1.0*rxn08850_c + 1.0*rxn08850_c_reverse_e964b + 1.0*rxn08851_c + 1.0*rxn08851_c_reverse_a911a + 1.0*rxn08933_c + 1.0*rxn08933_c_reverse_1b666 + 1.0*rxn08934_c + 1.0*rxn08934_c_reverse_8f2b0 + 1.0*rxn08935_c + 1.0*rxn08935_c_reverse_49e6d + 1.0*rxn08936_c + 1.0*rxn08936_c_reverse_9560b + 1.0*rxn08971_c_reverse_48995 + 1.0*rxn08975_c_reverse_71f7c + 1.0*rxn08976_c_reverse_a8b52 + 1.0*rxn09108_c + 1.0*rxn09108_c_reverse_90afe + 1.0*rxn09109_c + 1.0*rxn09109_c_reverse_187c4 + 1.0*rxn09110_c + 1.0*rxn09110_c_reverse_c8386 + 1.0*rxn09111_c + 1.0*rxn09111_c_reverse_6f48b + 1.0*rxn09112_c + 1.0*rxn09112_c_reverse_b58e8 + 1.0*rxn09113_c + 1.0*rxn09113_c_reverse_ff64f + 1.0*rxn09114_c + 1.0*rxn09114_c_reverse_713d2 + 1.0*rxn09177_c_reverse_cc672 + 1.0*rxn09296_c_reverse_800bb + 1.0*rxn09310_c_reverse_4b858 + 1.0*rxn09320_c + 1.0*rxn09320_c_reverse_875fe + 1.0*rxn09345_c + 1.0*rxn09345_c_reverse_010e0 + 1.0*rxn09562_c + 1.0*rxn09562_c_reverse_b17a2 + 1.0*rxn09657_c + 1.0*rxn09657_c_reverse_401ca + 1.0*rxn09674_c + 1.0*rxn09674_c_reverse_30a18 + 1.0*rxn09699_c + 1.0*rxn09699_c_reverse_f7732 + 1.0*rxn09978_c + 1.0*rxn09978_c_reverse_4577a + 1.0*rxn09979_c + 1.0*rxn09979_c_reverse_a25e2 + 1.0*rxn09989_c_reverse_27fe2 + 1.0*rxn09992_c_reverse_cbe03 + 1.0*rxn10042_c + 1.0*rxn10042_c_reverse_495be + 1.0*rxn10052_c + 1.0*rxn10052_c_reverse_912b9 + 1.0*rxn10060_c + 1.0*rxn10060_c_reverse_0fe4b + 1.0*rxn10113_c_reverse_333e7 + 1.0*rxn10118_c_reverse_6094e + 1.0*rxn10120_c_reverse_08136 + 1.0*rxn10121_c + 1.0*rxn10121_c_reverse_c586f + 1.0*rxn10122_c + 1.0*rxn10122_c_reverse_1f2f0 + 1.0*rxn10123_c_reverse_06e32 + 1.0*rxn10124_c + 1.0*rxn10124_c_reverse_324d7 + 1.0*rxn10184_c + 1.0*rxn10184_c_reverse_fa783 + 1.0*rxn10191_c_reverse_1d294 + 1.0*rxn10192_c + 1.0*rxn10192_c_reverse_8091c + 1.0*rxn10193_c + 1.0*rxn10193_c_reverse_f5907 + 1.0*rxn10194_c + 1.0*rxn10194_c_reverse_0142d + 1.0*rxn10195_c + 1.0*rxn10195_c_reverse_fb6bc + 1.0*rxn10196_c + 1.0*rxn10196_c_reverse_afa32 + 1.0*rxn10199_c + 1.0*rxn10199_c_reverse_53933 + 1.0*rxn10220_c + 1.0*rxn10220_c_reverse_639de + 1.0*rxn10221_c + 1.0*rxn10221_c_reverse_70e5f + 1.0*rxn10222_c + 1.0*rxn10222_c_reverse_1c5ee + 1.0*rxn10223_c + 1.0*rxn10223_c_reverse_b3756 + 1.0*rxn10224_c + 1.0*rxn10224_c_reverse_a3627 + 1.0*rxn10225_c + 1.0*rxn10225_c_reverse_2a8d7 + 1.0*rxn10259_c + 1.0*rxn10259_c_reverse_0bdfd + 1.0*rxn10260_c + 1.0*rxn10260_c_reverse_0aa1b + 1.0*rxn10261_c + 1.0*rxn10261_c_reverse_72aa2 + 1.0*rxn10262_c + 1.0*rxn10262_c_reverse_4e203 + 1.0*rxn10263_c + 1.0*rxn10263_c_reverse_531ff + 1.0*rxn10264_c + 1.0*rxn10264_c_reverse_f46c1 + 1.0*rxn10298_c + 1.0*rxn10298_c_reverse_9c68e + 1.0*rxn10299_c + 1.0*rxn10299_c_reverse_5d886 + 1.0*rxn10300_c + 1.0*rxn10300_c_reverse_d82a5 + 1.0*rxn10301_c + 1.0*rxn10301_c_reverse_5d0e9 + 1.0*rxn10302_c + 1.0*rxn10302_c_reverse_81adc + 1.0*rxn10303_c + 1.0*rxn10303_c_reverse_44e9f + 1.0*rxn10304_c + 1.0*rxn10304_c_reverse_70d0e + 1.0*rxn10305_c + 1.0*rxn10305_c_reverse_b0957 + 1.0*rxn10306_c + 1.0*rxn10306_c_reverse_14954 + 1.0*rxn10316_c_reverse_dba39 + 1.0*rxn10317_c_reverse_1527e + 1.0*rxn10318_c_reverse_34624 + 1.0*rxn10319_c_reverse_98f8d + 1.0*rxn10320_c_reverse_46661 + 1.0*rxn10321_c_reverse_d0089 + 1.0*rxn10322_c_reverse_12b81 + 1.0*rxn10323_c_reverse_9d27c + 1.0*rxn10324_c_reverse_01ec8 + 1.0*rxn10343_c_reverse_1cef6 + 1.0*rxn10344_c_reverse_770a4 + 1.0*rxn10474_c + 1.0*rxn10474_c_reverse_365c6 + 1.0*rxn10481_c_reverse_455d2 + 1.0*rxn10571_c_reverse_4e982 + 1.0*rxn10770_c + 1.0*rxn10770_c_reverse_c6ac8 + 1.0*rxn10806_c_reverse_ce0d1 + 1.0*rxn11040_c + 1.0*rxn11040_c_reverse_9ee82 + 1.0*rxn11567_c + 1.0*rxn11567_c_reverse_fbebf + 1.0*rxn11584_c + 1.0*rxn11584_c_reverse_824fd + 1.0*rxn11612_c + 1.0*rxn11612_c_reverse_5bf3d + 1.0*rxn11684_c_reverse_37bfe + 1.0*rxn11749_c + 1.0*rxn11749_c_reverse_35b4c + 1.0*rxn11759_c + 1.0*rxn11759_c_reverse_fa02a + 1.0*rxn11809_c + 1.0*rxn11809_c_reverse_259f1 + 1.0*rxn11834_c + 1.0*rxn11834_c_reverse_e3076 + 1.0*rxn11838_c + 1.0*rxn11838_c_reverse_80dbc + 1.0*rxn11892_c + 1.0*rxn11892_c_reverse_f52bb + 1.0*rxn11944_c_reverse_99a29 + 1.0*rxn12158_c + 1.0*rxn12158_c_reverse_08585 + 1.0*rxn12191_c + 1.0*rxn12191_c_reverse_b95cf + 1.0*rxn12510_c + 1.0*rxn12510_c_reverse_fbb9e + 1.0*rxn12512_c_reverse_ed22b + 1.0*rxn12633_c + 1.0*rxn12633_c_reverse_92d50 + 1.0*rxn12634_c + 1.0*rxn12634_c_reverse_f419c + 1.0*rxn12635_c + 1.0*rxn12635_c_reverse_c11c5 + 1.0*rxn12636_c + 1.0*rxn12636_c_reverse_59569 + 1.0*rxn12637_c + 1.0*rxn12637_c_reverse_82f41 + 1.0*rxn12638_c_reverse_ccc91 + 1.0*rxn12639_c + 1.0*rxn12639_c_reverse_46a8d + 1.0*rxn12640_c + 1.0*rxn12640_c_reverse_f5928 + 1.0*rxn12641_c + 1.0*rxn12641_c_reverse_8af7f + 1.0*rxn12642_c + 1.0*rxn12642_c_reverse_6ea74 + 1.0*rxn12643_c_reverse_bd339 + 1.0*rxn12644_c + 1.0*rxn12644_c_reverse_a34e6 + 1.0*rxn12645_c + 1.0*rxn12645_c_reverse_b5b55 + 1.0*rxn12646_c + 1.0*rxn12646_c_reverse_21f71 + 1.0*rxn12844_c + 1.0*rxn12844_c_reverse_3cec1 + 1.0*rxn12845_c + 1.0*rxn12845_c_reverse_e63b8 + 1.0*rxn12846_c + 1.0*rxn12846_c_reverse_bb7b5 + 1.0*rxn12847_c + 1.0*rxn12847_c_reverse_3f59d + 1.0*rxn12848_c_reverse_9f940 + 1.0*rxn12849_c_reverse_bf8b7 + 1.0*rxn12850_c_reverse_9f9e0 + 1.0*rxn12851_c_reverse_29a9e + 1.0*rxn13782_c_reverse_e90f2 + 1.0*rxn13783_c_reverse_b5fd5 + 1.0*rxn13784_c_reverse_12830 + 1.0*rxn14054_c + 1.0*rxn14054_c_reverse_f7c4c + 1.0*rxn14089_c + 1.0*rxn14089_c_reverse_ea14a + 1.0*rxn14090_c + 1.0*rxn14090_c_reverse_47f19 + 1.0*rxn14138_c + 1.0*rxn14138_c_reverse_4da17 + 1.0*rxn14294_c + 1.0*rxn14294_c_reverse_cef96 + 1.0*rxn14301_c + 1.0*rxn14301_c_reverse_46d44 + 1.0*bio1 + 1.0*rxn00001_c + 1.0*rxn00011_c + 1.0*rxn00020_c + 1.0*rxn00022_c + 1.0*rxn00048_c + 1.0*rxn00062_c + 1.0*rxn00100_c + 1.0*rxn00122_c + 1.0*rxn00126_c + 1.0*rxn00138_c + 1.0*rxn00139_c + 1.0*rxn00147_c + 1.0*rxn00152_c + 1.0*rxn00159_c + 1.0*rxn00161_c + 1.0*rxn00162_c + 1.0*rxn00165_c + 1.0*rxn00166_c + 1.0*rxn00187_c + 1.0*rxn00192_c + 1.0*rxn00194_c + 1.0*rxn00205_c + 1.0*rxn00222_c + 1.0*rxn00231_c + 1.0*rxn00242_c + 1.0*rxn00245_c + 1.0*rxn00247_c + 1.0*rxn00292_c + 1.0*rxn00299_c + 1.0*rxn00300_c + 1.0*rxn00302_c + 1.0*rxn00305_c + 1.0*rxn00340_c + 1.0*rxn00342_c + 1.0*rxn00346_c + 1.0*rxn00351_c + 1.0*rxn00412_c + 1.0*rxn00414_c + 1.0*rxn00416_c + 1.0*rxn00423_c + 1.0*rxn00452_c + 1.0*rxn00470_c + 1.0*rxn00474_c + 1.0*rxn00506_c + 1.0*rxn00508_c + 1.0*rxn00509_c + 1.0*rxn00537_c + 1.0*rxn00548_c + 1.0*rxn00549_c + 1.0*rxn00552_c + 1.0*rxn00566_c + 1.0*rxn00575_c + 1.0*rxn00608_c + 1.0*rxn00614_c + 1.0*rxn00646_c + 1.0*rxn00689_c + 1.0*rxn00710_c + 1.0*rxn00711_c + 1.0*rxn00726_c + 1.0*rxn00727_c + 1.0*rxn00740_c + 1.0*rxn00742_c + 1.0*rxn00758_c + 1.0*rxn00775_c + 1.0*rxn00776_c + 1.0*rxn00789_c + 1.0*rxn00790_c + 1.0*rxn00791_c + 1.0*rxn00818_c + 1.0*rxn00829_c + 1.0*rxn00836_c + 1.0*rxn00837_c + 1.0*rxn00838_c + 1.0*rxn00863_c + 1.0*rxn00881_c + 1.0*rxn00882_c + 1.0*rxn00883_c + 1.0*rxn00915_c + 1.0*rxn00926_c + 1.0*rxn00938_c + 1.0*rxn00952_c + 1.0*rxn01018_c + 1.0*rxn01019_c + 1.0*rxn01069_c + 1.0*rxn01115_c + 1.0*rxn01133_c + 1.0*rxn01187_c + 1.0*rxn01210_c + 1.0*rxn01213_c + 1.0*rxn01217_c + 1.0*rxn01255_c + 1.0*rxn01259_c + 1.0*rxn01268_c + 1.0*rxn01269_c + 1.0*rxn01286_c + 1.0*rxn01303_c + 1.0*rxn01304_c + 1.0*rxn01331_c + 1.0*rxn01332_c + 1.0*rxn01345_c + 1.0*rxn01362_c + 1.0*rxn01368_c + 1.0*rxn01454_c + 1.0*rxn01459_c + 1.0*rxn01466_c + 1.0*rxn01476_c + 1.0*rxn01486_c + 1.0*rxn01519_c + 1.0*rxn01520_c + 1.0*rxn01537_c + 1.0*rxn01544_c + 1.0*rxn01603_c + 1.0*rxn01639_c + 1.0*rxn01643_c + 1.0*rxn01653_c + 1.0*rxn01800_c + 1.0*rxn01851_c + 1.0*rxn01964_c + 1.0*rxn01997_c + 1.0*rxn02007_c + 1.0*rxn02008_c + 1.0*rxn02113_c + 1.0*rxn02160_c + 1.0*rxn02177_c + 1.0*rxn02201_c + 1.0*rxn02212_c + 1.0*rxn02213_c + 1.0*rxn02222_c + 1.0*rxn02275_c + 1.0*rxn02341_c + 1.0*rxn02373_c + 1.0*rxn02374_c + 1.0*rxn02402_c + 1.0*rxn02405_c + 1.0*rxn02465_c + 1.0*rxn02473_c + 1.0*rxn02483_c + 1.0*rxn02507_c + 1.0*rxn02521_c + 1.0*rxn02522_c + 1.0*rxn02596_c + 1.0*rxn02762_c + 1.0*rxn02834_c + 1.0*rxn02853_c + 1.0*rxn02895_c + 1.0*rxn02916_c + 1.0*rxn03012_c + 1.0*rxn03084_c + 1.0*rxn03135_c + 1.0*rxn03147_c + 1.0*rxn03174_c + 1.0*rxn03406_c + 1.0*rxn03407_c + 1.0*rxn03409_c + 1.0*rxn03446_c + 1.0*rxn03481_c + 1.0*rxn03482_c + 1.0*rxn03483_c + 1.0*rxn03638_c + 1.0*rxn03838_c + 1.0*rxn03839_c + 1.0*rxn03843_c + 1.0*rxn03869_c + 1.0*rxn03887_c + 1.0*rxn03891_c + 1.0*rxn03892_c + 1.0*rxn03901_c + 1.0*rxn03909_c + 1.0*rxn04132_c + 1.0*rxn04133_c + 1.0*rxn04453_c + 1.0*rxn04457_c + 1.0*rxn04658_c + 1.0*rxn05012_c + 1.0*rxn05040_c + 1.0*rxn05126_c + 1.0*rxn05127_c + 1.0*rxn05149_c + 1.0*rxn05150_c + 1.0*rxn05155_c + 1.0*rxn05158_c + 1.0*rxn05159_c + 1.0*rxn05160_c + 1.0*rxn05177_c + 1.0*rxn05181_c + 1.0*rxn05183_c + 1.0*rxn05184_c + 1.0*rxn05188_c + 1.0*rxn05192_c + 1.0*rxn05193_c + 1.0*rxn05195_c + 1.0*rxn05219_c + 1.0*rxn05223_c + 1.0*rxn05231_c + 1.0*rxn05232_c + 1.0*rxn05233_c + 1.0*rxn05234_c + 1.0*rxn05235_c + 1.0*rxn05236_c + 1.0*rxn05287_c + 1.0*rxn05319_c + 1.0*rxn05322_c + 1.0*rxn05323_c + 1.0*rxn05324_c + 1.0*rxn05325_c + 1.0*rxn05326_c + 1.0*rxn05327_c + 1.0*rxn05328_c + 1.0*rxn05343_c + 1.0*rxn05344_c + 1.0*rxn05345_c + 1.0*rxn05346_c + 1.0*rxn05347_c + 1.0*rxn05348_c + 1.0*rxn05350_c + 1.0*rxn05359_c + 1.0*rxn05363_c + 1.0*rxn05367_c + 1.0*rxn05371_c + 1.0*rxn05375_c + 1.0*rxn05379_c + 1.0*rxn05384_c + 1.0*rxn05388_c + 1.0*rxn05392_c + 1.0*rxn05396_c + 1.0*rxn05400_c + 1.0*rxn05404_c + 1.0*rxn05409_c + 1.0*rxn05413_c + 1.0*rxn05417_c + 1.0*rxn05421_c + 1.0*rxn05425_c + 1.0*rxn05429_c + 1.0*rxn05433_c + 1.0*rxn05434_c + 1.0*rxn05435_c + 1.0*rxn05436_c + 1.0*rxn05437_c + 1.0*rxn05438_c + 1.0*rxn05439_c + 1.0*rxn05440_c + 1.0*rxn05441_c + 1.0*rxn05442_c + 1.0*rxn05443_c + 1.0*rxn05444_c + 1.0*rxn05445_c + 1.0*rxn05446_c + 1.0*rxn05447_c + 1.0*rxn05448_c + 1.0*rxn05449_c + 1.0*rxn05450_c + 1.0*rxn05460_c + 1.0*rxn05464_c + 1.0*rxn05504_c + 1.0*rxn05516_c + 1.0*rxn05528_c + 1.0*rxn05533_c + 1.0*rxn05534_c + 1.0*rxn05535_c + 1.0*rxn05536_c + 1.0*rxn05537_c + 1.0*rxn05538_c + 1.0*rxn05539_c + 1.0*rxn05540_c + 1.0*rxn05541_c + 1.0*rxn05542_c + 1.0*rxn05543_c + 1.0*rxn05544_c + 1.0*rxn05545_c + 1.0*rxn05546_c + 1.0*rxn05547_c + 1.0*rxn05555_c + 1.0*rxn05613_c + 1.0*rxn05614_c + 1.0*rxn05618_c + 1.0*rxn05735_c + 1.0*rxn05957_c + 1.0*rxn05958_c + 1.0*rxn06075_c + 1.0*rxn06076_c + 1.0*rxn06078_c + 1.0*rxn06600_c + 1.0*rxn06673_c + 1.0*rxn06937_c + 1.0*rxn08783_c + 1.0*rxn08792_c + 1.0*rxn08793_c + 1.0*rxn08798_c + 1.0*rxn08808_c + 1.0*rxn08819_c + 1.0*rxn08840_c + 1.0*rxn08847_c + 1.0*rxn08971_c + 1.0*rxn08975_c + 1.0*rxn08976_c + 1.0*rxn09177_c + 1.0*rxn09296_c + 1.0*rxn09310_c + 1.0*rxn09989_c + 1.0*rxn09992_c + 1.0*rxn10113_c + 1.0*rxn10118_c + 1.0*rxn10120_c + 1.0*rxn10123_c + 1.0*rxn10191_c + 1.0*rxn10316_c + 1.0*rxn10317_c + 1.0*rxn10318_c + 1.0*rxn10319_c + 1.0*rxn10320_c + 1.0*rxn10321_c + 1.0*rxn10322_c + 1.0*rxn10323_c + 1.0*rxn10324_c + 1.0*rxn10343_c + 1.0*rxn10344_c + 1.0*rxn10481_c + 1.0*rxn10571_c + 1.0*rxn10806_c + 1.0*rxn11684_c + 1.0*rxn11944_c + 1.0*rxn12512_c + 1.0*rxn12638_c + 1.0*rxn12643_c + 1.0*rxn12848_c + 1.0*rxn12849_c + 1.0*rxn12850_c + 1.0*rxn12851_c + 1.0*rxn13782_c + 1.0*rxn13783_c + 1.0*rxn13784_c"
      ]
     },
     "execution_count": 145,
     "metadata": {},
     "output_type": "execute_result"
    }
   ],
   "source": [
    "aa = 'cpd00117_c'\n",
    "metabolite = model.metabolites.get_by_id(aa)\n",
    "demand = model.add_boundary(metabolite, type='demand')\n",
    "# model.objective = demand\n",
    "\n",
    "add_pfba(model, objective = demand)\n",
    "\n",
    "model.objective.expression"
   ]
  },
  {
   "cell_type": "code",
   "execution_count": 143,
   "metadata": {},
   "outputs": [
    {
     "data": {
      "text/html": [
       "\n",
       "        <table>\n",
       "            <tr>\n",
       "                <td><strong>Reaction identifier</strong></td><td>DM_cpd00117_c</td>\n",
       "            </tr><tr>\n",
       "                <td><strong>Name</strong></td><td>D-Alanine demand</td>\n",
       "            </tr><tr>\n",
       "                <td><strong>Memory address</strong></td>\n",
       "                <td>0x07fd34829db50</td>\n",
       "            </tr><tr>\n",
       "                <td><strong>Stoichiometry</strong></td>\n",
       "                <td>\n",
       "                    <p style='text-align:right'>cpd00117_c --> </p>\n",
       "                    <p style='text-align:right'>D-Alanine --> </p>\n",
       "                </td>\n",
       "            </tr><tr>\n",
       "                <td><strong>GPR</strong></td><td></td>\n",
       "            </tr><tr>\n",
       "                <td><strong>Lower bound</strong></td><td>0</td>\n",
       "            </tr><tr>\n",
       "                <td><strong>Upper bound</strong></td><td>1000.0</td>\n",
       "            </tr>\n",
       "        </table>\n",
       "        "
      ],
      "text/plain": [
       "<Reaction DM_cpd00117_c at 0x7fd34829db50>"
      ]
     },
     "execution_count": 143,
     "metadata": {},
     "output_type": "execute_result"
    }
   ],
   "source": [
    "demand"
   ]
  },
  {
   "cell_type": "code",
   "execution_count": null,
   "metadata": {},
   "outputs": [],
   "source": [
    "\n",
    "\n",
    "\n",
    "\n",
    "\n",
    "\n",
    "\n",
    "\n",
    "\n",
    "\n",
    "\n",
    "\n",
    "\n",
    "\n",
    "\n",
    "\n",
    "\n",
    "\n",
    "\n",
    "\n",
    "\n",
    "\n",
    "\n",
    "\n",
    "\n",
    "\n",
    "\n",
    "\n",
    "\n",
    "\n",
    "\n",
    "\n",
    "\n",
    "\n",
    "\n",
    "\n",
    "\n",
    "\n",
    "\n",
    "\n",
    "\n",
    "\n",
    "\n",
    "\n",
    "\n",
    "\n",
    "\n",
    "\n",
    "\n",
    "\n",
    "\n",
    "\n"
   ]
  }
 ],
 "metadata": {
  "kernelspec": {
   "display_name": "Python 2",
   "language": "python",
   "name": "python2"
  },
  "language_info": {
   "codemirror_mode": {
    "name": "ipython",
    "version": 2
   },
   "file_extension": ".py",
   "mimetype": "text/x-python",
   "name": "python",
   "nbconvert_exporter": "python",
   "pygments_lexer": "ipython2",
   "version": "2.7.12"
  }
 },
 "nbformat": 4,
 "nbformat_minor": 2
}
