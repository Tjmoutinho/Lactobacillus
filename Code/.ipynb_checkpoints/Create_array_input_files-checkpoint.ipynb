{
 "cells": [
  {
   "cell_type": "code",
   "execution_count": 1,
   "metadata": {},
   "outputs": [],
   "source": [
    "from __future__ import print_function\n",
    "import csv\n",
    "import glob"
   ]
  },
  {
   "cell_type": "code",
   "execution_count": 2,
   "metadata": {},
   "outputs": [],
   "source": [
    "with open('../Data/human_related_lactobacillus.csv') as csvfile:\n",
    "    genome_ids_list = []\n",
    "    for line in csvfile:\n",
    "        genome_ids_list.append(line.strip())\n",
    "        \n",
    "genome_ids_list = [x.replace('\"','') for x in genome_ids_list]"
   ]
  },
  {
   "cell_type": "code",
   "execution_count": 4,
   "metadata": {},
   "outputs": [],
   "source": [
    "for index in list(range(0,len(genome_ids_list))):\n",
    "    file_name = \"../array_input/input_\" + str(index) + \".txt\"\n",
    "    file = open(file_name, \"w\") \n",
    "    file.write(genome_ids_list[index]) \n",
    "    file.close() "
   ]
  },
  {
   "cell_type": "code",
   "execution_count": 5,
   "metadata": {},
   "outputs": [
    {
     "data": {
      "text/plain": [
       "'1002365.5'"
      ]
     },
     "execution_count": 5,
     "metadata": {},
     "output_type": "execute_result"
    }
   ],
   "source": [
    "genome_ids_list[0]"
   ]
  },
  {
   "cell_type": "code",
   "execution_count": 6,
   "metadata": {},
   "outputs": [
    {
     "data": {
      "text/plain": [
       "'1002365.5'"
      ]
     },
     "execution_count": 6,
     "metadata": {},
     "output_type": "execute_result"
    }
   ],
   "source": [
    "file_name = \"../array_input/input_0.txt\"\n",
    "file = open(file_name, \"r\")\n",
    "for line in file:\n",
    "    genome_id = str(line)\n",
    "genome_id"
   ]
  },
  {
   "cell_type": "code",
   "execution_count": 2,
   "metadata": {},
   "outputs": [
    {
     "data": {
      "text/plain": [
       "'891391.3'"
      ]
     },
     "execution_count": 2,
     "metadata": {},
     "output_type": "execute_result"
    }
   ],
   "source": [
    "with open('../Data/20_species_1023_genomes.csv') as csvfile:\n",
    "    genome_ids_list = []\n",
    "    for line in csvfile:\n",
    "        genome_ids_list.append(line.strip())\n",
    "        \n",
    "genome_ids_list[0]"
   ]
  },
  {
   "cell_type": "code",
   "execution_count": 4,
   "metadata": {},
   "outputs": [],
   "source": [
    "for index in list(range(0,len(genome_ids_list))):\n",
    "    file_name = \"../array_input_V2/input_\" + str(index) + \".txt\"\n",
    "    file = open(file_name, \"w\") \n",
    "    file.write(genome_ids_list[index]) \n",
    "    file.close()"
   ]
  },
  {
   "cell_type": "code",
   "execution_count": 11,
   "metadata": {},
   "outputs": [
    {
     "data": {
      "text/plain": [
       "'362948.14'"
      ]
     },
     "execution_count": 11,
     "metadata": {},
     "output_type": "execute_result"
    }
   ],
   "source": [
    "file_name = \"../array_input_V2/input_1022.txt\"\n",
    "file = open(file_name, \"r\")\n",
    "for line in file:\n",
    "    genome_id = str(line)\n",
    "genome_id"
   ]
  },
  {
   "cell_type": "code",
   "execution_count": 8,
   "metadata": {},
   "outputs": [
    {
     "data": {
      "text/plain": [
       "'362948.14'"
      ]
     },
     "execution_count": 8,
     "metadata": {},
     "output_type": "execute_result"
    }
   ],
   "source": [
    "len(genome_ids_list)\n",
    "genome_ids_list[1022]"
   ]
  }
 ],
 "metadata": {
  "kernelspec": {
   "display_name": "Python 2",
   "language": "python",
   "name": "python2"
  },
  "language_info": {
   "codemirror_mode": {
    "name": "ipython",
    "version": 2
   },
   "file_extension": ".py",
   "mimetype": "text/x-python",
   "name": "python",
   "nbconvert_exporter": "python",
   "pygments_lexer": "ipython2",
   "version": "2.7.12"
  }
 },
 "nbformat": 4,
 "nbformat_minor": 2
}
