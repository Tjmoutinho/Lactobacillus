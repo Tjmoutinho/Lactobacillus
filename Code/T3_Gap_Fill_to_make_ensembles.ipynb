{
 "cells": [
  {
   "cell_type": "code",
   "execution_count": 1,
   "metadata": {},
   "outputs": [
    {
     "name": "stdout",
     "output_type": "stream",
     "text": [
      "0.13.0\n"
     ]
    }
   ],
   "source": [
    "import cobra\n",
    "print cobra.__version__\n",
    "from cobra.flux_analysis import gapfill\n",
    "import glob\n",
    "import time"
   ]
  },
  {
   "cell_type": "code",
   "execution_count": 14,
   "metadata": {},
   "outputs": [],
   "source": [
    "# Identify gapfilled reactions\n",
    "def findGapFilled(model):\n",
    "    gapfilled = []\n",
    "    for index in model.reactions:\n",
    "        if not index.id in ['bio1']:\n",
    "            if len(list(index.genes)) == 0:\n",
    "                if not index in model.boundary:\n",
    "                    gapfilled.append(index.id)\n",
    "\n",
    "    if len(gapfilled) > 0:\n",
    "        print(str(len(gapfilled)) + ' reactions not associated with genes')\n",
    "    \n",
    "    return gapfilled"
   ]
  },
  {
   "cell_type": "code",
   "execution_count": 15,
   "metadata": {},
   "outputs": [
    {
     "name": "stdout",
     "output_type": "stream",
     "text": [
      "133 reactions not associated with genes\n"
     ]
    }
   ],
   "source": [
    "## Read in model\n",
    "model = cobra.io.read_sbml_model('../models/1051650.8.xml')\n",
    "gaps = findGapFilled(model)"
   ]
  },
  {
   "cell_type": "code",
   "execution_count": 16,
   "metadata": {},
   "outputs": [
    {
     "data": {
      "text/plain": [
       "['rxn02374_c',\n",
       " 'rxn05319_c',\n",
       " 'rxn04457_c',\n",
       " 'rxn02916_c',\n",
       " 'rxn03012_c',\n",
       " 'rxn10571_c',\n",
       " 'rxn04132_c',\n",
       " 'rxn05195_c',\n",
       " 'rxn05468_c',\n",
       " 'rxn04133_c',\n",
       " 'rxn05467_c',\n",
       " 'rxn05369_c',\n",
       " 'rxn05405_c',\n",
       " 'rxn05382_c',\n",
       " 'rxn05386_c',\n",
       " 'rxn09163_c',\n",
       " 'rxn03150_c',\n",
       " 'rxn09128_c',\n",
       " 'rxn05361_c',\n",
       " 'rxn08040_c',\n",
       " 'rxn05364_c',\n",
       " 'rxn05267_c',\n",
       " 'rxn10227_c',\n",
       " 'rxn05380_c',\n",
       " 'rxn10473_c',\n",
       " 'rxn02774_c',\n",
       " 'rxn05154_c',\n",
       " 'rxn05433_c',\n",
       " 'rxn10233_c',\n",
       " 'rxn10292_c',\n",
       " 'rxn00137_c',\n",
       " 'rxn10310_c',\n",
       " 'rxn04413_c',\n",
       " 'rxn10226_c',\n",
       " 'rxn00963_c',\n",
       " 'rxn02011_c',\n",
       " 'rxn05394_c',\n",
       " 'rxn10337_c',\n",
       " 'rxn05398_c',\n",
       " 'rxn10196_c',\n",
       " 'rxn10283_c',\n",
       " 'rxn05390_c',\n",
       " 'rxn02897_c',\n",
       " 'rxn05434_c',\n",
       " 'rxn04139_c',\n",
       " 'rxn05255_c',\n",
       " 'rxn05168_c',\n",
       " 'rxn05372_c',\n",
       " 'rxn05378_c',\n",
       " 'rxn05377_c',\n",
       " 'rxn05402_c',\n",
       " 'rxn03852_c',\n",
       " 'rxn05360_c',\n",
       " 'rxn00621_c',\n",
       " 'rxn02288_c',\n",
       " 'rxn10161_c',\n",
       " 'rxn10181_c',\n",
       " 'rxn05407_c',\n",
       " 'rxn08130_c',\n",
       " 'rxn05443_c',\n",
       " 'rxn10205_c',\n",
       " 'rxn03538_c',\n",
       " 'rxn03397_c',\n",
       " 'rxn02287_c',\n",
       " 'rxn05179_c',\n",
       " 'rxn02056_c',\n",
       " 'rxn05029_c',\n",
       " 'rxn09202_c',\n",
       " 'rxn10194_c',\n",
       " 'rxn10274_c',\n",
       " 'rxn10309_c',\n",
       " 'rxn10206_c',\n",
       " 'rxn02304_c',\n",
       " 'rxn05406_c',\n",
       " 'rxn10291_c',\n",
       " 'rxn10215_c',\n",
       " 'rxn05381_c',\n",
       " 'rxn05514_c',\n",
       " 'rxn10266_c',\n",
       " 'rxn08815_c',\n",
       " 'rxn10197_c',\n",
       " 'rxn05401_c',\n",
       " 'rxn05393_c',\n",
       " 'rxn08333_c',\n",
       " 'rxn10336_c',\n",
       " 'rxn10338_c',\n",
       " 'rxn05376_c',\n",
       " 'rxn05385_c',\n",
       " 'rxn10265_c',\n",
       " 'rxn12225_c',\n",
       " 'rxn05368_c',\n",
       " 'rxn12224_c',\n",
       " 'rxn09210_c',\n",
       " 'rxn10192_c',\n",
       " 'rxn05175_c',\n",
       " 'rxn03395_c',\n",
       " 'rxn11946_c',\n",
       " 'rxn05651_c',\n",
       " 'rxn05365_c',\n",
       " 'rxn03893_c',\n",
       " 'rxn05663_c',\n",
       " 'rxn10282_c',\n",
       " 'rxn00851_c',\n",
       " 'rxn10273_c',\n",
       " 'rxn10311_c',\n",
       " 'rxn10180_c',\n",
       " 'rxn05391_c',\n",
       " 'rxn10214_c',\n",
       " 'rxn10284_c',\n",
       " 'rxn10232_c',\n",
       " 'rxn03393_c',\n",
       " 'rxn10275_c',\n",
       " 'rxn03537_c',\n",
       " 'rxn08822_c',\n",
       " 'rxn05373_c',\n",
       " 'rxn10293_c',\n",
       " 'rxn05442_c',\n",
       " 'rxn05439_c',\n",
       " 'rxn05389_c',\n",
       " 'rxn05370_c',\n",
       " 'rxn00350_c',\n",
       " 'rxn12664_c',\n",
       " 'rxn05397_c',\n",
       " 'rxn10195_c',\n",
       " 'rxn05144_c',\n",
       " 'rxn03164_c',\n",
       " 'rxn02286_c',\n",
       " 'rxn12008_c',\n",
       " 'rxn00693_c',\n",
       " 'rxn05441_c',\n",
       " 'rxn13661_c',\n",
       " 'rxn05374_c',\n",
       " 'rxn05148_c']"
      ]
     },
     "execution_count": 16,
     "metadata": {},
     "output_type": "execute_result"
    }
   ],
   "source": [
    "gaps"
   ]
  },
  {
   "cell_type": "code",
   "execution_count": 6,
   "metadata": {},
   "outputs": [
    {
     "data": {
      "text/html": [
       "\n",
       "        <table>\n",
       "            <tr>\n",
       "                <td><strong>Reaction identifier</strong></td><td>rxn02374_c</td>\n",
       "            </tr><tr>\n",
       "                <td><strong>Name</strong></td><td>R03314</td>\n",
       "            </tr><tr>\n",
       "                <td><strong>Memory address</strong></td>\n",
       "                <td>0x07fbaebbf6c10</td>\n",
       "            </tr><tr>\n",
       "                <td><strong>Stoichiometry</strong></td>\n",
       "                <td>\n",
       "                    <p style='text-align:right'>cpd00858_c --> cpd00001_c + cpd00067_c + cpd02431_c</p>\n",
       "                    <p style='text-align:right'>L-Glutamate5-semialdehyde --> H2O + H+ + 1-Pyrroline-5-carboxylate</p>\n",
       "                </td>\n",
       "            </tr><tr>\n",
       "                <td><strong>GPR</strong></td><td></td>\n",
       "            </tr><tr>\n",
       "                <td><strong>Lower bound</strong></td><td>0.0</td>\n",
       "            </tr><tr>\n",
       "                <td><strong>Upper bound</strong></td><td>1000.0</td>\n",
       "            </tr>\n",
       "        </table>\n",
       "        "
      ],
      "text/plain": [
       "<Reaction rxn02374_c at 0x7fbaebbf6c10>"
      ]
     },
     "execution_count": 6,
     "metadata": {},
     "output_type": "execute_result"
    }
   ],
   "source": [
    "model.reactions.get_by_id(gaps[0])"
   ]
  },
  {
   "cell_type": "code",
   "execution_count": 21,
   "metadata": {},
   "outputs": [
    {
     "data": {
      "text/html": [
       "\n",
       "        <table>\n",
       "            <tr>\n",
       "                <td><strong>Reaction identifier</strong></td><td>rxn02374_c</td>\n",
       "            </tr><tr>\n",
       "                <td><strong>Name</strong></td><td>R03314</td>\n",
       "            </tr><tr>\n",
       "                <td><strong>Memory address</strong></td>\n",
       "                <td>0x07fbaeb1e7c90</td>\n",
       "            </tr><tr>\n",
       "                <td><strong>Stoichiometry</strong></td>\n",
       "                <td>\n",
       "                    <p style='text-align:right'>cpd00858_c --> cpd00001_c + cpd00067_c + cpd02431_c</p>\n",
       "                    <p style='text-align:right'>L-Glutamate5-semialdehyde --> H2O + H+ + 1-Pyrroline-5-carboxylate</p>\n",
       "                </td>\n",
       "            </tr><tr>\n",
       "                <td><strong>GPR</strong></td><td></td>\n",
       "            </tr><tr>\n",
       "                <td><strong>Lower bound</strong></td><td>0.0</td>\n",
       "            </tr><tr>\n",
       "                <td><strong>Upper bound</strong></td><td>1000.0</td>\n",
       "            </tr>\n",
       "        </table>\n",
       "        "
      ],
      "text/plain": [
       "<Reaction rxn02374_c at 0x7fbaeb1e7c90>"
      ]
     },
     "execution_count": 21,
     "metadata": {},
     "output_type": "execute_result"
    }
   ],
   "source": [
    "rxn = model.reactions.get_by_id(gaps[0])\n",
    "rxn"
   ]
  },
  {
   "cell_type": "code",
   "execution_count": 5,
   "metadata": {},
   "outputs": [],
   "source": [
    "universal = cobra.Model(\"universal_reactions\")\n"
   ]
  },
  {
   "cell_type": "code",
   "execution_count": 25,
   "metadata": {},
   "outputs": [
    {
     "ename": "IOError",
     "evalue": "[Errno 2] No such file or directory: '../Data/Reactions.json'",
     "output_type": "error",
     "traceback": [
      "\u001b[0;31m---------------------------------------------------------------------------\u001b[0m",
      "\u001b[0;31mIOError\u001b[0m                                   Traceback (most recent call last)",
      "\u001b[0;32m<ipython-input-25-17ce5335f18c>\u001b[0m in \u001b[0;36m<module>\u001b[0;34m()\u001b[0m\n\u001b[0;32m----> 1\u001b[0;31m \u001b[0muniversal\u001b[0m \u001b[0;34m=\u001b[0m \u001b[0mcobra\u001b[0m\u001b[0;34m.\u001b[0m\u001b[0mio\u001b[0m\u001b[0;34m.\u001b[0m\u001b[0mload_json_model\u001b[0m\u001b[0;34m(\u001b[0m\u001b[0;34m\"../Data/Reactions.json\"\u001b[0m\u001b[0;34m)\u001b[0m\u001b[0;34m\u001b[0m\u001b[0m\n\u001b[0m",
      "\u001b[0;32m/home/tjmoutinho/.local/lib/python2.7/site-packages/cobra/io/json.pyc\u001b[0m in \u001b[0;36mload_json_model\u001b[0;34m(filename)\u001b[0m\n\u001b[1;32m    130\u001b[0m     \"\"\"\n\u001b[1;32m    131\u001b[0m     \u001b[0;32mif\u001b[0m \u001b[0misinstance\u001b[0m\u001b[0;34m(\u001b[0m\u001b[0mfilename\u001b[0m\u001b[0;34m,\u001b[0m \u001b[0mstring_types\u001b[0m\u001b[0;34m)\u001b[0m\u001b[0;34m:\u001b[0m\u001b[0;34m\u001b[0m\u001b[0m\n\u001b[0;32m--> 132\u001b[0;31m         \u001b[0;32mwith\u001b[0m \u001b[0mopen\u001b[0m\u001b[0;34m(\u001b[0m\u001b[0mfilename\u001b[0m\u001b[0;34m,\u001b[0m \u001b[0;34m\"r\"\u001b[0m\u001b[0;34m)\u001b[0m \u001b[0;32mas\u001b[0m \u001b[0mfile_handle\u001b[0m\u001b[0;34m:\u001b[0m\u001b[0;34m\u001b[0m\u001b[0m\n\u001b[0m\u001b[1;32m    133\u001b[0m             \u001b[0;32mreturn\u001b[0m \u001b[0mmodel_from_dict\u001b[0m\u001b[0;34m(\u001b[0m\u001b[0mjson\u001b[0m\u001b[0;34m.\u001b[0m\u001b[0mload\u001b[0m\u001b[0;34m(\u001b[0m\u001b[0mfile_handle\u001b[0m\u001b[0;34m)\u001b[0m\u001b[0;34m)\u001b[0m\u001b[0;34m\u001b[0m\u001b[0m\n\u001b[1;32m    134\u001b[0m     \u001b[0;32melse\u001b[0m\u001b[0;34m:\u001b[0m\u001b[0;34m\u001b[0m\u001b[0m\n",
      "\u001b[0;31mIOError\u001b[0m: [Errno 2] No such file or directory: '../Data/Reactions.json'"
     ]
    }
   ],
   "source": [
    "universal = cobra.io.load_json_model(\"../Data/Reactions.json\")"
   ]
  },
  {
   "cell_type": "code",
   "execution_count": 22,
   "metadata": {},
   "outputs": [
    {
     "data": {
      "text/plain": [
       "[]"
      ]
     },
     "execution_count": 22,
     "metadata": {},
     "output_type": "execute_result"
    }
   ],
   "source": [
    "universal.reactions"
   ]
  },
  {
   "cell_type": "code",
   "execution_count": null,
   "metadata": {},
   "outputs": [],
   "source": [
    "model = cobra.io.read_sbml_model('../models/1051650.8.xml')\n",
    "with model as model_x:\n",
    "    gaps = findGapFilled(model_x)\n",
    "    for rxn in gaps:\n",
    "        \n"
   ]
  },
  {
   "cell_type": "code",
   "execution_count": 24,
   "metadata": {},
   "outputs": [
    {
     "ename": "AttributeError",
     "evalue": "'Model' object has no attribute 'metabolite'",
     "output_type": "error",
     "traceback": [
      "\u001b[0;31m---------------------------------------------------------------------------\u001b[0m",
      "\u001b[0;31mAttributeError\u001b[0m                            Traceback (most recent call last)",
      "\u001b[0;32m<ipython-input-24-8873e6af6076>\u001b[0m in \u001b[0;36m<module>\u001b[0;34m()\u001b[0m\n\u001b[0;32m----> 1\u001b[0;31m \u001b[0mmodel\u001b[0m\u001b[0;34m.\u001b[0m\u001b[0mmetabolite\u001b[0m\u001b[0;34m.\u001b[0m\u001b[0mget_by_id\u001b[0m\u001b[0;34m(\u001b[0m\u001b[0;34m'cpd00151'\u001b[0m\u001b[0;34m)\u001b[0m\u001b[0;34m\u001b[0m\u001b[0m\n\u001b[0m",
      "\u001b[0;31mAttributeError\u001b[0m: 'Model' object has no attribute 'metabolite'"
     ]
    }
   ],
   "source": [
    "model.metabolite.get_by_id('cpd00151')"
   ]
  },
  {
   "cell_type": "code",
   "execution_count": null,
   "metadata": {},
   "outputs": [],
   "source": [
    "\n",
    "\n",
    "\n",
    "\n",
    "\n",
    "\n",
    "\n",
    "\n",
    "\n",
    "\n",
    "\n",
    "\n",
    "\n",
    "\n",
    "\n",
    "\n",
    "\n",
    "\n",
    "\n",
    "\n",
    "\n",
    "\n",
    "\n",
    "\n",
    "\n",
    "\n",
    "\n",
    "\n",
    "\n",
    "\n",
    "\n",
    "\n",
    "\n",
    "\n",
    "\n",
    "\n",
    "\n",
    "\n"
   ]
  }
 ],
 "metadata": {
  "kernelspec": {
   "display_name": "Python 2",
   "language": "python",
   "name": "python2"
  },
  "language_info": {
   "codemirror_mode": {
    "name": "ipython",
    "version": 2
   },
   "file_extension": ".py",
   "mimetype": "text/x-python",
   "name": "python",
   "nbconvert_exporter": "python",
   "pygments_lexer": "ipython2",
   "version": "2.7.12"
  }
 },
 "nbformat": 4,
 "nbformat_minor": 2
}
