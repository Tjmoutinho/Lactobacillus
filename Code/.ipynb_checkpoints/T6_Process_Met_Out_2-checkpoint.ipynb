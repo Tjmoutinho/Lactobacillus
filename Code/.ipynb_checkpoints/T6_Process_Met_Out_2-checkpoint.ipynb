{
 "cells": [
  {
   "cell_type": "code",
   "execution_count": 8,
   "metadata": {},
   "outputs": [],
   "source": [
    "import pickle\n",
    "import numpy as np\n",
    "import matplotlib.pyplot as plt\n",
    "import glob"
   ]
  },
  {
   "cell_type": "code",
   "execution_count": 2,
   "metadata": {},
   "outputs": [],
   "source": [
    "genome_ids = glob.glob('../metabolic_output/*.data')\n",
    "genome_ids = [x.replace(\"../metabolic_output/\",\"\").replace(\".data\",\"\") for x in genome_ids]\n",
    "\n",
    "ID_list = []\n",
    "# Write header to file\n",
    "for carb_ind in list(range(0,32)):\n",
    "    for prod_ind in list(range(0,35)):\n",
    "        ID = str(str(carb_ind) + '.0.' + str(prod_ind))\n",
    "        ID_list.append(ID)\n",
    "\n",
    "output_file = '../Data/whole_path_avg.tsv'        \n",
    "\n",
    "output_file = open(output_file, 'w')\n",
    "header = 'genomes\\t' + '\\t'.join(ID_list) + '\\n'\n",
    "output_file.write(header)\n",
    "\n",
    "for genome_id in genome_ids:\n",
    "    file_name = \"../metabolic_output/%s.data\" % (genome_id)\n",
    "    total_dataset_dict = pickle.load(open(file_name, \"rb\"))\n",
    "    # Write row name\n",
    "    output_file.write(genome_id + '\\t')\n",
    "    # Write whole_path_like to rows\n",
    "    for carb_ind in list(range(0,32)):\n",
    "        for prod_ind in list(range(0,35)):\n",
    "            ID = str(genome_id + ':' + str(carb_ind) + '.0.' + str(prod_ind))\n",
    "            if ID != str(genome_id + ':31.0.34'):\n",
    "                output_file.write(str(round(total_dataset_dict[ID]['whole_path_like'],4))+'\\t')\n",
    "            elif ID == str(genome_id + ':31.0.34'):\n",
    "                output_file.write(str(round(total_dataset_dict[ID]['whole_path_like'],4))+'\\n')\n",
    "            else:\n",
    "                print('ERROR')\n",
    "output_file.close()"
   ]
  },
  {
   "cell_type": "code",
   "execution_count": 9,
   "metadata": {},
   "outputs": [],
   "source": [
    "genome_ids = glob.glob('../metabolic_output/*.data')\n",
    "genome_ids = [x.replace(\"../metabolic_output/\",\"\").replace(\".data\",\"\") for x in genome_ids]\n",
    "\n",
    "ID_list = []\n",
    "# Write header to file\n",
    "for prod_ind in list(range(0,35)):\n",
    "    ID = str(str(prod_ind))\n",
    "    ID_list.append(ID)\n",
    "\n",
    "output_file = '../Data/whole_path_avg_robust.tsv'  \n",
    "\n",
    "output_file = open(output_file, 'w')\n",
    "header = 'genomes\\t' + '\\t'.join(ID_list) + '\\n'\n",
    "output_file.write(header)\n",
    "\n",
    "for genome_id in genome_ids:\n",
    "    file_name = \"../metabolic_output/%s.data\" % (genome_id)\n",
    "    total_dataset_dict = pickle.load(open(file_name, \"rb\"))\n",
    "    # Write row name\n",
    "    output_file.write(genome_id + '\\t')\n",
    "    # Write whole_path_like to rows\n",
    "    \n",
    "    for prod_ind in list(range(0,35)):\n",
    "        robust_output =[]\n",
    "        for carb_ind in list(range(0,32)):\n",
    "            ID = str(genome_id + ':' + str(carb_ind) + '.0.' + str(prod_ind))\n",
    "            if ID != str(genome_id + ':16.0.25'):\n",
    "                robust_output.append(round(total_dataset_dict[ID]['whole_path_like'],4))\n",
    "        robust_avg = np.median(robust_output) # Median rather than mean\n",
    "        if prod_ind != 34:\n",
    "            output_file.write(str(round(robust_avg,4))+'\\t')\n",
    "        elif prod_ind == 34:\n",
    "            output_file.write(str(round(robust_avg,4))+'\\n')\n",
    "        else:\n",
    "            print('ERROR')\n",
    "\n",
    "output_file.close()"
   ]
  },
  {
   "cell_type": "code",
   "execution_count": 3,
   "metadata": {},
   "outputs": [],
   "source": [
    "# Amino Acid related metabolites\n",
    "products = [\n",
    "    ['D-Alanine','cpd00117'], #EXs : \n",
    "    ['D-Glutamate','cpd00186'], #EXs : \n",
    "    ['D-Methionine','cpd00637'], #EXs : \n",
    "    ['D-Serine','cpd00550'], #EXs : \n",
    "    ['Glycine','cpd00033'], #EXs : 1\n",
    "    ['L-Alanine','cpd00035'], #EXs : 2\n",
    "    ['L-Arginine','cpd00051'], #EXs : 3\n",
    "    ['L-Asparagine','cpd00132'], #EXs : 4\n",
    "    ['L-Aspartate','cpd00041'], #EXs : 5\n",
    "    ['L-Cysteine','cpd00084'], #EXs : 7\n",
    "    ['L-Glutamate','cpd00023'], #EXs : 8\n",
    "    ['L-Glutamine','cpd00053'], #EXs : 9\n",
    "    ['L-Histidine','cpd00119'], #EXs : 10\n",
    "    ['L-Isoleucine','cpd00322'], #EXs : 11\n",
    "    ['L-Leucine','cpd00107'], #EXs : 12\n",
    "    ['L-Lysine','cpd00039'], #EXs : 13\n",
    "    ['L-Methionine','cpd00060'], #EXs : 14\n",
    "    ['L-Phenylalanine','cpd00066'], #EXs : 15\n",
    "    ['L-Proline','cpd00129'], #EXs : 16\n",
    "    ['L-Serine','cpd00054'], #EXs : 17\n",
    "    ['L-Threonine','cpd00161'], #EXs : 18\n",
    "    ['L-Tryptophan','cpd00065'], #EXs : 19\n",
    "    ['L-Tyrosine','cpd00069'], #EXs : 20\n",
    "    ['L-Valine','cpd00156'], #EXs : 21\n",
    "    ['H2O2','cpd00025'],\n",
    "    ['L-Lactate','cpd00159'],\n",
    "#     ['Acetate','cpd00029'],\n",
    "    ['Butyrate','cpd00211'],\n",
    "#     ['isobutyrate','cpd01711'], \n",
    "    ['GABA','cpd00281'],\n",
    "    ['ethanol','cpd00363'],\n",
    "    ['Propionate','cpd00141'],\n",
    "    ['formate','cpd00047'],\n",
    "#     ['Valerate','cpd00597'],\n",
    "#     ['Isovaleric acid','cpd05178'], # Not in universal?\n",
    "    ['TMAO','cpd00811'], # (CH3)3NO\n",
    "#     ['Indole-3-(carb)aldehyde','cpd05401'],\n",
    "#     ['Acetaldehyde','cpd00071'],\n",
    "    ['Deoxycholate','cpd02733'],\n",
    "    ['Chorismate','cpd00216'],\n",
    "    ['Hexanoate','cpd01113']\n",
    "]"
   ]
  },
  {
   "cell_type": "code",
   "execution_count": 7,
   "metadata": {},
   "outputs": [
    {
     "name": "stdout",
     "output_type": "stream",
     "text": [
      "'D-Alanine',\n",
      "'D-Glutamate',\n",
      "'D-Methionine',\n",
      "'D-Serine',\n",
      "'Glycine',\n",
      "'L-Alanine',\n",
      "'L-Arginine',\n",
      "'L-Asparagine',\n",
      "'L-Aspartate',\n",
      "'L-Cysteine',\n",
      "'L-Glutamate',\n",
      "'L-Glutamine',\n",
      "'L-Histidine',\n",
      "'L-Isoleucine',\n",
      "'L-Leucine',\n",
      "'L-Lysine',\n",
      "'L-Methionine',\n",
      "'L-Phenylalanine',\n",
      "'L-Proline',\n",
      "'L-Serine',\n",
      "'L-Threonine',\n",
      "'L-Tryptophan',\n",
      "'L-Tyrosine',\n",
      "'L-Valine',\n",
      "'H2O2',\n",
      "'L-Lactate',\n",
      "'Butyrate',\n",
      "'GABA',\n",
      "'ethanol',\n",
      "'Propionate',\n",
      "'formate',\n",
      "'TMAO',\n",
      "'Deoxycholate',\n",
      "'Chorismate',\n",
      "'Hexanoate',\n"
     ]
    }
   ],
   "source": [
    "for i in products:\n",
    "    print(\"'\"+i[0]+\"',\")"
   ]
  },
  {
   "cell_type": "code",
   "execution_count": 5,
   "metadata": {},
   "outputs": [
    {
     "name": "stdout",
     "output_type": "stream",
     "text": [
      "['L-Proline', 'cpd00129']\n",
      "['Propionate', 'cpd00141']\n",
      "['L-Asparagine', 'cpd00132']\n",
      "['L-Histidine', 'cpd00119']\n",
      "['formate', 'cpd00047']\n"
     ]
    }
   ],
   "source": [
    "print(products[18])\n",
    "print(products[29])\n",
    "print(products[7])\n",
    "print(products[12])\n",
    "print(products[30])"
   ]
  },
  {
   "cell_type": "code",
   "execution_count": 11,
   "metadata": {},
   "outputs": [
    {
     "name": "stdout",
     "output_type": "stream",
     "text": [
      "['H2O2', 'cpd00025']\n",
      "['L-Lysine', 'cpd00039']\n",
      "['L-Glutamate', 'cpd00023']\n",
      "['L-Aspartate', 'cpd00041']\n",
      "['L-Arginine', 'cpd00051']\n",
      "['D-Glutamate', 'cpd00186']\n"
     ]
    }
   ],
   "source": [
    "print(products[24])\n",
    "print(products[15])\n",
    "print(products[10])\n",
    "print(products[8])\n",
    "print(products[6])\n",
    "print(products[1])"
   ]
  },
  {
   "cell_type": "code",
   "execution_count": 12,
   "metadata": {},
   "outputs": [
    {
     "name": "stdout",
     "output_type": "stream",
     "text": [
      "['L-Asparagine', 'cpd00132']\n",
      "['L-Cysteine', 'cpd00084']\n",
      "['L-Histidine', 'cpd00119']\n",
      "['L-Proline', 'cpd00129']\n",
      "['ethanol', 'cpd00363']\n",
      "['Propionate', 'cpd00141']\n"
     ]
    }
   ],
   "source": [
    "print(products[7])\n",
    "print(products[9])\n",
    "print(products[12])\n",
    "print(products[18])\n",
    "print(products[28])\n",
    "print(products[29])"
   ]
  },
  {
   "cell_type": "code",
   "execution_count": 3,
   "metadata": {},
   "outputs": [
    {
     "name": "stdout",
     "output_type": "stream",
     "text": [
      "1002365.5:16.0.25\n",
      "1203258.5:16.0.25\n",
      "1203259.4:16.0.25\n",
      "1256196.3:16.0.25\n",
      "1256205.3:16.0.25\n",
      "1256209.3:16.0.25\n",
      "1256210.3:16.0.25\n",
      "1256219.3:16.0.25\n",
      "1256224.3:16.0.25\n",
      "1263085.3:16.0.25\n",
      "1293598.4:16.0.25\n",
      "1300223.3:16.0.25\n",
      "1318629.3:16.0.25\n",
      "1380361.3:16.0.25\n",
      "1390383.3:16.0.25\n",
      "1390384.3:16.0.25\n",
      "1390386.3:16.0.25\n",
      "1402207.4:16.0.25\n",
      "1408180.3:16.0.25\n",
      "1408205.4:16.0.25\n",
      "1582.33:16.0.25\n",
      "1582.46:16.0.25\n",
      "1582.78:16.0.25\n",
      "1597.20:16.0.25\n",
      "1597.46:16.0.25\n",
      "1613.113:16.0.25\n",
      "47715.100:16.0.25\n",
      "47715.130:16.0.25\n",
      "47715.137:16.0.25\n",
      "47715.140:16.0.25\n",
      "47715.142:16.0.25\n",
      "47715.146:16.0.25\n",
      "47715.149:16.0.25\n",
      "47715.154:16.0.25\n",
      "47715.159:16.0.25\n",
      "47715.161:16.0.25\n",
      "47715.163:16.0.25\n",
      "47715.165:16.0.25\n",
      "47715.169:16.0.25\n",
      "47715.175:16.0.25\n",
      "47715.206:16.0.25\n",
      "47715.245:16.0.25\n",
      "47715.246:16.0.25\n",
      "47715.277:16.0.25\n",
      "47715.288:16.0.25\n",
      "47715.311:16.0.25\n",
      "47715.314:16.0.25\n",
      "47715.67:16.0.25\n",
      "47715.87:16.0.25\n",
      "47715.88:16.0.25\n",
      "47715.89:16.0.25\n",
      "47715.91:16.0.25\n",
      "47715.93:16.0.25\n",
      "47715.94:16.0.25\n",
      "47715.97:16.0.25\n",
      "47715.99:16.0.25\n",
      "525328.4:16.0.25\n",
      "525362.3:16.0.25\n",
      "568703.30:16.0.25\n",
      "713605.5:16.0.25\n",
      "879295.3:16.0.25\n",
      "879297.3:16.0.25\n",
      "879298.3:16.0.25\n",
      "879299.3:16.0.25\n",
      "879300.3:16.0.25\n",
      "879301.3:16.0.25\n",
      "888801.3:16.0.25\n",
      "928327.3:16.0.25\n",
      "930942.11:16.0.25\n",
      "947828.9:16.0.25\n"
     ]
    }
   ],
   "source": [
    "genome_ids = glob.glob('../metabolic_output/*.data')\n",
    "genome_ids = [x.replace(\"../metabolic_output/\",\"\").replace(\".data\",\"\") for x in genome_ids]\n",
    "\n",
    "for genome_id in genome_ids:\n",
    "    file_name = \"../metabolic_output/%s.data\" % (genome_id)\n",
    "    total_dataset_dict = pickle.load(open(file_name, \"rb\"))\n",
    "    for carb_ind in list(range(0,32)):\n",
    "        for prod_ind in list(range(0,35)):\n",
    "            ID = str(genome_id + ':' + str(carb_ind) + '.0.' + str(prod_ind))\n",
    "            if np.isnan(round(total_dataset_dict[ID]['whole_path_like'],4)):\n",
    "                print(ID)"
   ]
  },
  {
   "cell_type": "code",
   "execution_count": 7,
   "metadata": {},
   "outputs": [
    {
     "name": "stdout",
     "output_type": "stream",
     "text": [
      "97478.10\n"
     ]
    },
    {
     "data": {
      "text/plain": [
       "{'Carbon': ['L-Lactate', 'cpd00159'],\n",
       " 'Model_ID': '97478.10',\n",
       " 'Nitrogen': ['NH3', 'cpd00013'],\n",
       " 'active_rxns':                fluxes\n",
       " rxn05209_c    -1000.0\n",
       " EX_cpd00159_e -1000.0\n",
       " DM_cpd00159_c  1000.0\n",
       " rxn05605_c     1000.0\n",
       " rxn05604_c    -1000.0,\n",
       " 'demands': [],\n",
       " 'gap_avg_like': 0.7160803162657641,\n",
       " 'gaps_filled': {u'rxn05604_c', u'rxn05605_c'},\n",
       " 'gaps_w_flux': [['rxn05605_c', 0.9301907738429062],\n",
       "  ['rxn05604_c', 0.501969858688622]],\n",
       " 'mets_added': {'cpd00130_e'},\n",
       " 'objective': 'L-Lactate',\n",
       " 'opt_after': 1000.0,\n",
       " 'opt_before': 0.0,\n",
       " 'path_avg_like': 0.5545452643008343,\n",
       " 'path_w_flux': [['rxn05209_c', 0.5545452643008343]],\n",
       " 'reactions_w_flux': [['rxn05209_c', 0.5545452643008343],\n",
       "  ['rxn05605_c', 0.9301907738429062],\n",
       "  ['rxn05604_c', 0.501969858688622]],\n",
       " 'whole_path_like': 0.6622352989441208}"
      ]
     },
     "execution_count": 7,
     "metadata": {},
     "output_type": "execute_result"
    }
   ],
   "source": [
    "print(genome_id)\n",
    "total_dataset_dict['97478.10:16.0.25']"
   ]
  }
 ],
 "metadata": {
  "kernelspec": {
   "display_name": "Python 2",
   "language": "python",
   "name": "python2"
  },
  "language_info": {
   "codemirror_mode": {
    "name": "ipython",
    "version": 2
   },
   "file_extension": ".py",
   "mimetype": "text/x-python",
   "name": "python",
   "nbconvert_exporter": "python",
   "pygments_lexer": "ipython2",
   "version": "2.7.12"
  }
 },
 "nbformat": 4,
 "nbformat_minor": 2
}
