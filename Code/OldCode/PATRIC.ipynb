{
 "cells": [
  {
   "cell_type": "code",
   "execution_count": 1,
   "metadata": {},
   "outputs": [],
   "source": [
    "from __future__ import print_function\n",
    "\n",
    "import cobra\n",
    "import cobra.test\n",
    "import mackinac\n",
    "import numpy as np\n",
    "import csv\n",
    "import glob\n",
    "import pickle"
   ]
  },
  {
   "cell_type": "code",
   "execution_count": 2,
   "metadata": {},
   "outputs": [
    {
     "name": "stdout",
     "output_type": "stream",
     "text": [
      "95\n",
      "72\n",
      "137\n"
     ]
    }
   ],
   "source": [
    "# Test cobra\n",
    "model = cobra.test.create_test_model(\"textbook\")\n",
    "print(len(model.reactions))\n",
    "print(len(model.metabolites))\n",
    "print(len(model.genes))"
   ]
  },
  {
   "cell_type": "code",
   "execution_count": 2,
   "metadata": {},
   "outputs": [
    {
     "name": "stdout",
     "output_type": "stream",
     "text": [
      "patric password: ········\n"
     ]
    },
    {
     "data": {
      "text/plain": [
       "u'tjmoutinho@patricbrc.org'"
      ]
     },
     "execution_count": 2,
     "metadata": {},
     "output_type": "execute_result"
    }
   ],
   "source": [
    "mackinac.get_token('tjmoutinho')"
   ]
  },
  {
   "cell_type": "code",
   "execution_count": 4,
   "metadata": {},
   "outputs": [],
   "source": [
    "with open('/mnt/d/Google/repos/Lactobacillus/genome_ids.csv') as csvfile:\n",
    "    genome_ids = csv.reader(csvfile, delimiter=',')\n",
    "    genome_ids_list = list(genome_ids)\n",
    "# genome_ids_list"
   ]
  },
  {
   "cell_type": "code",
   "execution_count": 28,
   "metadata": {},
   "outputs": [],
   "source": [
    "# Download models and convert to cobra model, then save to sbml\n",
    "failed_genome_index = []\n",
    "for x in range(len(genome_ids_list)):\n",
    "    try:\n",
    "        genome_id = ''.join(genome_ids_list[x])\n",
    "        model_file_name = \"models/%s.xml\" % (genome_id)\n",
    "        mackinac.create_patric_model(genome_id,genome_id)\n",
    "        model = mackinac.create_cobra_model_from_patric_model(genome_id)\n",
    "        cobra.io.write_sbml_model(model, model_file_name)\n",
    "    except:\n",
    "        failed_genome_index.append(x)\n",
    "        pass\n",
    "failed_genome_index_final = []\n",
    "for i in range(len(failed_genome_index)):\n",
    "    try:\n",
    "        genome_id = ''.join(genome_ids_list[failed_genome_index[i]])\n",
    "        model_file_name = \"models/%s.xml\" % (genome_id)\n",
    "        mackinac.create_patric_model(genome_id,genome_id)\n",
    "        model = mackinac.create_cobra_model_from_patric_model(genome_id)\n",
    "        cobra.io.write_sbml_model(model, model_file_name)\n",
    "    except:\n",
    "        failed_genome_index_final.append(i)\n",
    "        pass"
   ]
  },
  {
   "cell_type": "code",
   "execution_count": 54,
   "metadata": {},
   "outputs": [
    {
     "name": "stdout",
     "output_type": "stream",
     "text": [
      "genome_ids_list: 220\n",
      "failed_genome_index: 158\n",
      "failed_genome_index_final: 158\n"
     ]
    }
   ],
   "source": [
    "print(\"genome_ids_list: \" + str(len(genome_ids_list)))\n",
    "print(\"failed_genome_index: \" + str(len(failed_genome_index)))\n",
    "print(\"failed_genome_index_final: \" + str(len(failed_genome_index_final)))"
   ]
  },
  {
   "cell_type": "code",
   "execution_count": 70,
   "metadata": {},
   "outputs": [],
   "source": [
    "# Test if genome 3 could be completed with another try, it was possible\n",
    "x = 3\n",
    "genome_id = ''.join(genome_ids_list[x])\n",
    "model_file_name = \"models/%s.xml\" % (genome_id)\n",
    "mackinac.create_patric_model(genome_id,genome_id)\n",
    "model = mackinac.create_cobra_model_from_patric_model(genome_id)\n",
    "cobra.io.write_sbml_model(model, model_file_name)"
   ]
  },
  {
   "cell_type": "code",
   "execution_count": 86,
   "metadata": {},
   "outputs": [
    {
     "data": {
      "text/plain": [
       "1507"
      ]
     },
     "execution_count": 86,
     "metadata": {},
     "output_type": "execute_result"
    }
   ],
   "source": [
    "# Read in list of all genomes on PATRIC and list of existing models in folder\n",
    "with open('/mnt/d/Google/repos/Lactobacillus/genome_ids_all.csv') as csvfile:\n",
    "    genome_ids_list = []\n",
    "    for line in csvfile:\n",
    "        genome_ids_list.append(line.strip())\n",
    "# genome_ids_list\n",
    "models = glob.glob('models/*.xml')\n",
    "models = [x.replace(\"models/\",\"\").replace(\".xml\",\"\") for x in models]\n",
    "# len(genome_ids_list)"
   ]
  },
  {
   "cell_type": "code",
   "execution_count": null,
   "metadata": {},
   "outputs": [],
   "source": [
    "print(len(genome_ids_list))\n",
    "print(len(models))\n",
    "# Check for duplicates\n",
    "len(models) == len(set(models))\n",
    "# Check for the extra models not in genome id list\n",
    "print(set(genome_ids_list)^set(models))"
   ]
  },
  {
   "cell_type": "code",
   "execution_count": 87,
   "metadata": {},
   "outputs": [],
   "source": [
    "# Download additional models and convert to cobra model, then save to sbml\n",
    "failed_genome_index = []\n",
    "for j in range(10):\n",
    "    for genome_id in genome_ids_list:\n",
    "        if not genome_id in models:\n",
    "            try:\n",
    "                model_file_name = \"models/%s.xml\" % (genome_id)\n",
    "                mackinac.create_patric_model(genome_id,genome_id)\n",
    "                model = mackinac.create_cobra_model_from_patric_model(genome_id)\n",
    "                cobra.io.write_sbml_model(model, model_file_name)\n",
    "                genome_ids_list.remove(genome_id)\n",
    "            except:\n",
    "                failed_genome_index.append(genome_id)\n",
    "                pass"
   ]
  },
  {
   "cell_type": "code",
   "execution_count": 4,
   "metadata": {},
   "outputs": [],
   "source": [
    "# Download fasta files\n",
    "with open('/mnt/d/Google/repos/Lactobacillus/genome_ids_all.csv') as csvfile:\n",
    "    genome_ids_list = []\n",
    "    for line in csvfile:\n",
    "        genome_ids_list.append(line.strip())\n",
    "# Check for existing fasta files by name\n",
    "fasta_file_paths = glob.glob('fastas/*.faa')\n",
    "fasta_genome_ids = [x.replace(\"fastas/\",\"\").replace(\".faa\",\"\") for x in fasta_file_paths]\n",
    "# Loop to make all missing Fasta Files\n",
    "failed_genome_fasta_index = []\n",
    "for genome_id in genome_ids_list:\n",
    "    if not genome_id in fasta_genome_ids:\n",
    "        try:\n",
    "            feature_list = mackinac.get_genome_features(genome_id, annotation='PATRIC')\n",
    "            file_name = \"fastas/%s.faa\" % (genome_id)\n",
    "            feats = mackinac.features_to_protein_fasta_file(feature_list, file_name)\n",
    "            #print(\"Number of Features in genome \" + str(x) + \": \" + str(feats))\n",
    "        except:\n",
    "            failed_genome_fasta_index.append(genome_id)\n",
    "            pass"
   ]
  },
  {
   "cell_type": "code",
   "execution_count": 5,
   "metadata": {},
   "outputs": [
    {
     "data": {
      "text/plain": [
       "[]"
      ]
     },
     "execution_count": 5,
     "metadata": {},
     "output_type": "execute_result"
    }
   ],
   "source": [
    "failed_genome_fasta_index"
   ]
  },
  {
   "cell_type": "code",
   "execution_count": 2,
   "metadata": {},
   "outputs": [],
   "source": [
    "# Download features files\n",
    "with open('/mnt/d/Google/repos/Lactobacillus/genome_ids_all.csv') as csvfile:\n",
    "    genome_ids_list = []\n",
    "    for line in csvfile:\n",
    "        genome_ids_list.append(line.strip())\n",
    "# Check for existing fasta files by name\n",
    "feature_file_paths = glob.glob('features/*.feats')\n",
    "feature_genome_ids = [x.replace(\"features/\",\"\").replace(\".feats\",\"\") for x in feature_file_paths]\n",
    "# Loop to make all missing Fasta Files\n",
    "missing_feat_files = []\n",
    "for genome_id in genome_ids_list:\n",
    "    if not genome_id in feature_genome_ids:\n",
    "        try:\n",
    "            feature_list = mackinac.get_genome_features(genome_id, annotation='PATRIC')\n",
    "            file_name = \"features/%s.feats\" % (genome_id)\n",
    "            pickle.dump(feature_list, open(file_name, \"wb\"))\n",
    "        except:\n",
    "            missing_feat_files.append(genome_id)\n",
    "            pass"
   ]
  },
  {
   "cell_type": "code",
   "execution_count": 3,
   "metadata": {},
   "outputs": [
    {
     "data": {
      "text/plain": [
       "[]"
      ]
     },
     "execution_count": 3,
     "metadata": {},
     "output_type": "execute_result"
    }
   ],
   "source": [
    "missing_feat_files"
   ]
  },
  {
   "cell_type": "code",
   "execution_count": 109,
   "metadata": {},
   "outputs": [
    {
     "data": {
      "text/plain": [
       "{u'aa_length': 186,\n",
       " u'aa_sequence': u'MDAPYPNMQDLPDLPSESGNDQPIWQALAKKIPSVADRRVLVIHCGDGWFCRHALNGGATAVLGIDTDAVAIQDARAVASSDRLRYRIMPDKWLKLLTGPYDLIVGSFDQSPEELRAMTHVLSALLSPKGQLIAAVAPSKQPIGDDLAVDELISSQLVINRWYQVTDKRLTQTEQLYLLLSSRVSH',\n",
       " u'aa_sequence_md5': u'5fb49d55bb148cb7b3a751c91ac6feb3',\n",
       " u'accession': u'AWZQ01000119',\n",
       " u'annotation': u'PATRIC',\n",
       " u'date_inserted': u'2015-12-20T03:11:51.386Z',\n",
       " u'date_modified': u'2015-12-20T03:11:51.386Z',\n",
       " u'end': 5245,\n",
       " u'feature_id': u'PATRIC.1051650.8.AWZQ01000119.CDS.4685.5245.fwd',\n",
       " u'feature_type': u'CDS',\n",
       " u'figfam_id': u'FIG00573763',\n",
       " u'genome_id': u'1051650.8',\n",
       " u'genome_name': u'Lactobacillus casei 12A',\n",
       " u'location': u'4685..5245',\n",
       " u'na_length': 561,\n",
       " u'na_sequence': u'atggatgctccttacccgaatatgcaagatctgcctgatttgccgtctgaatccggcaacgatcaaccaatatggcaagcacttgccaaaaaaataccctcagttgccgatcgccgtgttctcgtcattcattgcggcgatggttggttttgtcgtcatgccctcaacggcggtgccaccgcggttctcggtattgacaccgatgcggttgccattcaagatgcccgcgctgttgccagctccgatcgcttacgttatcgcatcatgccggataaatggctaaaactgttaactggaccatatgatctcatcgtcggctcatttgatcaatcaccagaggagctacgtgccatgactcatgttttaagtgcgctgcttagtcctaaaggccaacttatcgccgctgttgcaccatcaaagcagcccattggcgatgatctcgcagttgatgaactgatcagctcacaacttgtgatcaatcgttggtaccaagtcacagataagcggctaacccaaacggaacaattatatctgttgcttagctcgcgggtttcgcactga',\n",
       " u'owner': u'PATRIC@patricbrc.org',\n",
       " u'patric_id': u'fig|1051650.8.peg.2142',\n",
       " u'pgfam_id': u'PGF_02011412',\n",
       " u'plfam_id': u'PLF_1578_00001961',\n",
       " u'pos_group': u'1051650.8.con.0119:5245:+',\n",
       " u'product': u'SAM-dependent methyltransferase',\n",
       " u'public': True,\n",
       " u'segments': [u'4685..5245'],\n",
       " u'sequence_id': u'1051650.8.con.0119',\n",
       " u'start': 4685,\n",
       " u'strand': u'+',\n",
       " u'taxon_id': 1051650}"
      ]
     },
     "execution_count": 109,
     "metadata": {},
     "output_type": "execute_result"
    }
   ],
   "source": [
    "feature_list_test = pickle.load(open(file_name, \"rb\"))\n",
    "feature_list_test[1]"
   ]
  },
  {
   "cell_type": "code",
   "execution_count": 99,
   "metadata": {},
   "outputs": [],
   "source": [
    "## Test modelSEED model\n",
    "genome_id = \"1051650.8\"\n",
    "#model_file_name = \"%s_modelSEED.xml\"\n",
    "model_seed = mackinac.create_patric_model(genome_id,genome_id)\n",
    "#model = mackinac.create_cobra_model_from_patric_model(genome_id)\n",
    "#cobra.io.write_sbml_model(model, model_file_name)"
   ]
  },
  {
   "cell_type": "code",
   "execution_count": 104,
   "metadata": {},
   "outputs": [
    {
     "data": {
      "text/plain": [
       "{'fba_count': 1,\n",
       " 'gapfilled_reactions': 123,\n",
       " 'gene_associated_reactions': 886,\n",
       " 'genome_ref': u'/tjmoutinho@patricbrc.org/home/models/.1051650.8/genome',\n",
       " 'id': u'1051650.8',\n",
       " 'integrated_gapfills': 1,\n",
       " 'name': u'Lactobacillus casei 12A',\n",
       " 'num_biomass_compounds': 100,\n",
       " 'num_biomasses': 1,\n",
       " 'num_compartments': 2,\n",
       " 'num_compounds': 1167,\n",
       " 'num_genes': 677,\n",
       " 'num_reactions': 1009,\n",
       " 'ref': u'/tjmoutinho@patricbrc.org/home/models/.1051650.8',\n",
       " 'rundate': u'2018-06-01T23:21:42Z',\n",
       " 'source': u'PATRIC',\n",
       " 'source_id': u'.1051650.8',\n",
       " 'template_ref': u'/chenry/public/modelsupport/templates/GramPositive.modeltemplate',\n",
       " 'type': u'GenomeScale',\n",
       " 'unintegrated_gapfills': 0}"
      ]
     },
     "execution_count": 104,
     "metadata": {},
     "output_type": "execute_result"
    }
   ],
   "source": [
    "model_seed"
   ]
  }
 ],
 "metadata": {
  "kernelspec": {
   "display_name": "Mackinac_Python27",
   "language": "python",
   "name": "mackinac_python27"
  },
  "language_info": {
   "codemirror_mode": {
    "name": "ipython",
    "version": 2
   },
   "file_extension": ".py",
   "mimetype": "text/x-python",
   "name": "python",
   "nbconvert_exporter": "python",
   "pygments_lexer": "ipython2",
   "version": "2.7.12"
  }
 },
 "nbformat": 4,
 "nbformat_minor": 2
}
