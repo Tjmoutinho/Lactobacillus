{
 "cells": [
  {
   "cell_type": "code",
   "execution_count": 22,
   "metadata": {},
   "outputs": [],
   "source": [
    "import probanno\n",
    "import glob\n",
    "import pickle\n",
    "import matplotlib.pyplot as plt"
   ]
  },
  {
   "cell_type": "code",
   "execution_count": 2,
   "metadata": {},
   "outputs": [],
   "source": [
    "genome_ids = glob.glob('../likelihoods/*.probs')\n",
    "genome_ids = [x.replace(\"../likelihoods/\",\"\").replace(\".probs\",\"\") for x in genome_ids]"
   ]
  },
  {
   "cell_type": "code",
   "execution_count": 8,
   "metadata": {},
   "outputs": [],
   "source": [
    "rxn_prob_list = []\n",
    "for genome_id in genome_ids:\n",
    "    try:\n",
    "        likelihoods = pickle.load(open('../likelihoods/'+ genome_id +'.probs'))\n",
    "        likelihood = likelihoods['rxn00768_c']\n",
    "        rxn_prob_list.append([genome_id, likelihood])\n",
    "    except:\n",
    "        pass"
   ]
  },
  {
   "cell_type": "code",
   "execution_count": 24,
   "metadata": {},
   "outputs": [],
   "source": [
    "def frange(start, stop, step):\n",
    "    i = start\n",
    "    while i < stop:\n",
    "        yield i\n",
    "        i += step"
   ]
  },
  {
   "cell_type": "code",
   "execution_count": 27,
   "metadata": {},
   "outputs": [
    {
     "data": {
      "image/png": "[encoded data removed]",
      "text/plain": [
       "<Figure size 432x288 with 1 Axes>"
      ]
     },
     "metadata": {},
     "output_type": "display_data"
    }
   ],
   "source": [
    "just_probs = []\n",
    "for i in range(1,len(rxn_prob_list)):\n",
    "    if rxn_prob_list[i][1] > 0:\n",
    "        just_probs.append(rxn_prob_list[i][1])\n",
    "\n",
    "plt.hist(just_probs, bins=list(frange(0,1.05,0.05)), range=(0,1))  #\n",
    "# plt.title(\"Avg like of model\")\n",
    "plt.show()"
   ]
  }
 ],
 "metadata": {
  "kernelspec": {
   "display_name": "Python 2",
   "language": "python",
   "name": "python2"
  },
  "language_info": {
   "codemirror_mode": {
    "name": "ipython",
    "version": 2
   },
   "file_extension": ".py",
   "mimetype": "text/x-python",
   "name": "python",
   "nbconvert_exporter": "python",
   "pygments_lexer": "ipython2",
   "version": "2.7.12"
  }
 },
 "nbformat": 4,
 "nbformat_minor": 2
}
