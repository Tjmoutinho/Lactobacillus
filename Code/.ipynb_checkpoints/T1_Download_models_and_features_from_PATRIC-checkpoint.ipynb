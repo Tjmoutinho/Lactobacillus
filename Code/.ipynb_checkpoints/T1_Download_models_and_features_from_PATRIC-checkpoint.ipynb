{
 "cells": [
  {
   "cell_type": "code",
   "execution_count": 1,
   "metadata": {},
   "outputs": [],
   "source": [
    "from __future__ import print_function\n",
    "\n",
    "import cobra\n",
    "import cobra.test\n",
    "import mackinac\n",
    "import numpy as np\n",
    "import csv\n",
    "import glob\n",
    "import pickle"
   ]
  },
  {
   "cell_type": "code",
   "execution_count": 3,
   "metadata": {},
   "outputs": [
    {
     "name": "stdout",
     "output_type": "stream",
     "text": [
      "patric password: ········\n"
     ]
    },
    {
     "data": {
      "text/plain": [
       "u'tjmoutinho@patricbrc.org'"
      ]
     },
     "execution_count": 3,
     "metadata": {},
     "output_type": "execute_result"
    }
   ],
   "source": [
    "mackinac.get_token('tjmoutinho')"
   ]
  },
  {
   "cell_type": "code",
   "execution_count": 2,
   "metadata": {},
   "outputs": [],
   "source": [
    "# Read in list of all genomes on PATRIC and list of existing models in folder\n",
    "with open('../Data/genome_ids_all.csv') as csvfile:\n",
    "    genome_ids_list = []\n",
    "    for line in csvfile:\n",
    "        genome_ids_list.append(line.strip())\n",
    "# genome_ids_list\n",
    "models = glob.glob('../models/*.xml')\n",
    "models = [x.replace(\"../models/\",\"\").replace(\".xml\",\"\") for x in models]\n",
    "# len(genome_ids_list)"
   ]
  },
  {
   "cell_type": "code",
   "execution_count": 4,
   "metadata": {},
   "outputs": [
    {
     "data": {
      "text/plain": [
       "True"
      ]
     },
     "execution_count": 4,
     "metadata": {},
     "output_type": "execute_result"
    }
   ],
   "source": [
    "# Check for duplicates\n",
    "len(models) == len(set(models))"
   ]
  },
  {
   "cell_type": "code",
   "execution_count": null,
   "metadata": {},
   "outputs": [],
   "source": [
    "# Download additional models and convert to cobra model, then save to sbml\n",
    "failed_genome_index = []\n",
    "for j in range(10):\n",
    "    for genome_id in genome_ids_list:\n",
    "        if not genome_id in models:\n",
    "            try:\n",
    "                model_file_name = \"models/%s.xml\" % (genome_id)\n",
    "                mackinac.create_patric_model(genome_id,genome_id)\n",
    "                model = mackinac.create_cobra_model_from_patric_model(genome_id)\n",
    "                cobra.io.write_sbml_model(model, model_file_name)\n",
    "                genome_ids_list.remove(genome_id)\n",
    "            except:\n",
    "                failed_genome_index.append(genome_id)\n",
    "                pass"
   ]
  },
  {
   "cell_type": "code",
   "execution_count": null,
   "metadata": {},
   "outputs": [],
   "source": [
    "# Download fasta files\n",
    "\n",
    "# Check for existing fasta files by name\n",
    "fasta_file_paths = glob.glob('fastas/*.faa')\n",
    "fasta_genome_ids = [x.replace(\"fastas/\",\"\").replace(\".faa\",\"\") for x in fasta_file_paths]\n",
    "# Loop to make all missing Fasta Files\n",
    "failed_genome_fasta_index = []\n",
    "for genome_id in genome_ids_list:\n",
    "    if not genome_id in fasta_genome_ids:\n",
    "        try:\n",
    "            feature_list = mackinac.get_genome_features(genome_id, annotation='PATRIC')\n",
    "            file_name = \"fastas/%s.faa\" % (genome_id)\n",
    "            feats = mackinac.features_to_protein_fasta_file(feature_list, file_name)\n",
    "            #print(\"Number of Features in genome \" + str(x) + \": \" + str(feats))\n",
    "        except:\n",
    "            failed_genome_fasta_index.append(genome_id)\n",
    "            pass"
   ]
  },
  {
   "cell_type": "code",
   "execution_count": null,
   "metadata": {},
   "outputs": [],
   "source": [
    "# Download features files\n",
    "\n",
    "# Check for existing fasta files by name\n",
    "feature_file_paths = glob.glob('features/*.feats')\n",
    "feature_genome_ids = [x.replace(\"features/\",\"\").replace(\".feats\",\"\") for x in feature_file_paths]\n",
    "# Loop to make all missing Fasta Files\n",
    "missing_feat_files = []\n",
    "for genome_id in genome_ids_list:\n",
    "    if not genome_id in feature_genome_ids:\n",
    "        try:\n",
    "            feature_list = mackinac.get_genome_features(genome_id, annotation='PATRIC')\n",
    "            file_name = \"features/%s.feats\" % (genome_id)\n",
    "            pickle.dump(feature_list, open(file_name, \"wb\"))\n",
    "        except:\n",
    "            missing_feat_files.append(genome_id)\n",
    "            pass"
   ]
  }
 ],
 "metadata": {
  "kernelspec": {
   "display_name": "Python 2",
   "language": "python",
   "name": "python2"
  },
  "language_info": {
   "codemirror_mode": {
    "name": "ipython",
    "version": 2
   },
   "file_extension": ".py",
   "mimetype": "text/x-python",
   "name": "python",
   "nbconvert_exporter": "python",
   "pygments_lexer": "ipython2",
   "version": "2.7.12"
  }
 },
 "nbformat": 4,
 "nbformat_minor": 2
}
