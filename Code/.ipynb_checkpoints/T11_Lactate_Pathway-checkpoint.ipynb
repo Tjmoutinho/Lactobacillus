{
 "cells": [
  {
   "cell_type": "code",
   "execution_count": 40,
   "metadata": {},
   "outputs": [],
   "source": [
    "from __future__ import print_function\n",
    "from __future__ import absolute_import\n",
    "\n",
    "import cobra\n",
    "import cobra.test\n",
    "import numpy as np\n",
    "import csv\n",
    "import glob\n",
    "import pickle\n",
    "import pandas as pd\n",
    "import math\n",
    "import copy\n",
    "import time\n",
    "import random\n",
    "import time\n",
    "import sys\n",
    "import matplotlib.pyplot as plt\n",
    "\n",
    "from copy import deepcopy\n",
    "from collections import defaultdict\n",
    "from cobra.flux_analysis import sample\n",
    "from cobra.core.solution import get_solution\n",
    "from cobra.flux_analysis.sampling import OptGPSampler\n",
    "from cobra.manipulation.delete import *\n",
    "from cobra.medium import find_boundary_types\n",
    "from cobra.flux_analysis import pfba\n",
    "\n",
    "from warnings import warn\n",
    "from itertools import chain\n",
    "from optlang.symbolics import Zero\n",
    "from cobra.util import solver as sutil\n",
    "from cobra.core.solution import get_solution\n",
    "\n",
    "import logging\n",
    "LOGGER = logging.getLogger(__name__)"
   ]
  },
  {
   "cell_type": "code",
   "execution_count": 21,
   "metadata": {},
   "outputs": [
    {
     "name": "stdout",
     "output_type": "stream",
     "text": [
      "0_1_2_3_4_5_6_7_8_9_10_11_12_13_14_15_16_17_18_19_20_21_22_23_24_25_26_27_28_29_30_31_32_33_34_35_36_37_38_39_40_41_42_43_44_45_46_47_48_49_50_51_52_53_54_55_56_57_58_59_60_61_62_63_64_65_66_67_68_69_70_71_72_73_74_75_76_77_78_79_80_81_82_83_84_85_86_87_88_89_90_91_92_93_94_95_96_97_98_99_100_101_102_103_104_105_106_107_108_109_110_111_112_113_114_115_116_117_118_119_120_121_122_123_124_125_126_127_128_129_130_131_132_133_134_135_136_137_138_139_140_141_142_143_144_145_146_147_148_149_150_151_152_153_154_155_156_157_158_159_160_161_162_163_164_165_166_167_168_169_170_171_172_173_174_175_176_177_178_179_180_181_182_183_184_185_186_187_188_189_190_191_192_193_194_195_196_197_198_199_200_201_202_203_204_205_206_207_208_209_210_211_212_213_214_215_216_217_218_219_220_221_222_223_224_225_226_227_228_229_230_231_232_233_234_235_236_237_238_239_240_241_242_243_244_245_246_247_248_249_250_251_252_253_254_255_256_257_258_259_260_261_262_263_264_265_266_267_268_269_270_271_272_273_274_275_276_277_278_279_280_281_282_283_284_285_286_287_288_289_290_291_292_293_294_295_296_297_298_299_300_301_302_303_304_305_306_307_308_309_310_311_312_313_314_315_316_317_318_319_320_321_322_323_324_325_326_327_328_329_330_331_332_333_334_335_336_337_338_339_340_341_342_343_344_345_346_347_348_349_350_351_352_353_354_355_356_357_358_359_360_361_362_363_364_365_366_367_368_369_370_371_372_373_374_375_376_377_378_379_380_381_382_383_384_385_386_387_388_389_390_391_392_393_394_395_396_397_398_399_400_401_402_403_404_405_406_407_408_409_410_411_412_413_414_415_416_417_418_419_420_421_422_423_424_425_426_427_428_429_430_431_432_433_434_435_436_437_438_439_440_441_442_443_444_445_446_447_448_449_450_451_452_453_454_455_456_457_458_459_460_461_462_463_464_465_466_467_468_469_470_471_472_473_474_475_476_477_478_479_480_481_482_483_484_485_486_487_488_489_490_491_492_493_494_495_496_497_498_499_500_501_502_503_504_505_506_507_508_509_510_511_512_513_514_515_516_517_518_519_520_521_522_523_524_525_526_527_528_529_530_531_532_533_534_535_536_537_538_539_540_541_542_543_544_545_546_547_548_549_550_551_552_553_554_555_556_557_558_559_560_561_562_563_564_565_566_567_568_569_570_571_572_573_574_575_576_577_578_579_580_581_582_583_584_585_586_587_588_589_590_591_592_593_594_595_596_597_598_599_600_601_602_603_604_605_606_607_608_609_610_611_612_613_614_615_616_617_618_619_620_621_622_623_624_625_626_627_628_629_630_631_632_633_634_635_636_637_638_639_640_641_642_643_644_645_646_647_648_649_650_651_652_653_654_655_656_657_658_659_660_661_662_663_664_665_666_667_668_669_670_671_672_673_674_675_676_677_678_679_680_681_682_683_684_685_686_687_688_689_690_691_692_693_694_695_696_697_698_699_700_701_702_703_704_705_706_707_708_709_710_711_712_713_714_715_716_717_718_719_720_721_722_723_724_725_726_727_728_729_730_731_732_733_734_735_736_737_738_739_740_741_742_743_744_745_746_747_748_749_750_751_752_753_754_755_756_757_758_759_760_761_762_763_764_765_766_767_768_769_770_771_772_773_774_775_776_777_778_779_780_781_782_783_784_785_786_787_788_789_790_791_792_793_794_795_796_797_798_799_800_801_802_803_804_805_806_807_808_809_810_811_812_813_814_815_816_817_818_819_820_821_822_823_824_825_826_827_828_829_830_831_832_833_834_835_836_837_838_839_840_841_842_843_844_845_846_847_848_849_850_851_852_853_854_855_856_857_858_859_860_861_862_863_864_865_866_867_868_869_870_871_872_873_874_875_876_877_878_879_880_881_882_883_884_885_886_887_888_889_890_891_892_893_894_895_896_897_898_899_900_901_902_903_904_905_906_907_908_909_910_911_912_913_914_915_916_917_918_919_920_921_922_923_924_925_926_927_928_929_930_931_932_933_934_935_936_937_938_939_940_941_942_943_944_945_946_947_948_949_950_951_952_953_954_955_956_957_958_959_960_961_962_963_964_965_966_967_968_969_970_971_972_973_974_975_976_977_978_979_980_981_982_983_984_985_986_987_988_989_990_991_992_993_994_995_996_997_998_999_1000_1001_1002_1003_1004_1005_1006_1007_1008_1009_1010_1011_1012_1013_1014_1015_1016_1017_1018_1019_1020_1021_1022_1023_1024_1025_1026_1027_1028_1029_1030_1031_1032_1033_1034_1035_1036_1037_1038_1039_1040_1041_1042_1043_1044_1045_1046_1047_1048_1049_1050_1051_1052_1053_1054_1055_1056_1057_1058_1059_1060_1061_1062_1063_1064_1065_1066_1067_1068_1069_1070_1071_1072_1073_1074_1075_1076_1077_1078_1079_1080_1081_1082_1083_1084_1085_1086_1087_1088_1089_1090_1091_1092_1093_1094_1095_1096_1097_1098_1099_1100_1101_1102_1103_1104_1105_1106_1107_1108_1109_1110_1111_1112_1113_1114_1115_1116_1117_1118_1119_1120_1121_1122_1123_1124_1125_1126_1127_1128_1129_1130_1131_1132_1133_1134_1135_1136_1137_1138_1139_1140_1141_1142_1143_1144_1145_1146_1147_1148_1149_1150_1151_1152_1153_1154_1155_1156_1157_1158_1159_1160_1161_1162_1163_"
     ]
    },
    {
     "ename": "AttributeError",
     "evalue": "'list' object has no attribute 'appned'",
     "output_type": "error",
     "traceback": [
      "\u001b[0;31m---------------------------------------------------------------------------\u001b[0m",
      "\u001b[0;31mAttributeError\u001b[0m                            Traceback (most recent call last)",
      "\u001b[0;32m<ipython-input-21-69af9a875018>\u001b[0m in \u001b[0;36m<module>\u001b[0;34m()\u001b[0m\n\u001b[1;32m     16\u001b[0m     \u001b[0mrxn_count\u001b[0m \u001b[0;34m=\u001b[0m \u001b[0mall_active_list\u001b[0m\u001b[0;34m.\u001b[0m\u001b[0mcount\u001b[0m\u001b[0;34m(\u001b[0m\u001b[0mrxn\u001b[0m\u001b[0;34m)\u001b[0m\u001b[0;34m\u001b[0m\u001b[0m\n\u001b[1;32m     17\u001b[0m     \u001b[0mrxn_percent\u001b[0m \u001b[0;34m=\u001b[0m \u001b[0;36m100\u001b[0m\u001b[0;34m*\u001b[0m\u001b[0mrxn_count\u001b[0m\u001b[0;34m/\u001b[0m\u001b[0mlen\u001b[0m\u001b[0;34m(\u001b[0m\u001b[0mgenome_ids\u001b[0m\u001b[0;34m)\u001b[0m\u001b[0;34m\u001b[0m\u001b[0m\n\u001b[0;32m---> 18\u001b[0;31m     \u001b[0moutput\u001b[0m\u001b[0;34m.\u001b[0m\u001b[0mappned\u001b[0m\u001b[0;34m(\u001b[0m\u001b[0;34m[\u001b[0m\u001b[0mrxn\u001b[0m\u001b[0;34m,\u001b[0m\u001b[0mrxn_percent\u001b[0m\u001b[0;34m]\u001b[0m\u001b[0;34m)\u001b[0m\u001b[0;34m\u001b[0m\u001b[0m\n\u001b[0m",
      "\u001b[0;31mAttributeError\u001b[0m: 'list' object has no attribute 'appned'"
     ]
    }
   ],
   "source": [
    "count = -1\n",
    "all_active_list = []\n",
    "for genome_id in genome_ids:\n",
    "    file_name = \"../metabolic_output_V3/%s.data\" % (genome_id)\n",
    "    total_dataset_dict = pickle.load(open(file_name, \"rb\"))\n",
    "    count += 1\n",
    "    sys.stdout.write(str(count)+'_')\n",
    "    ID = str(genome_id + ':' + str(0)+'.'+str(29))\n",
    "    active = total_dataset_dict[ID]['active_rxns']\n",
    "    active = [str(i) for i in list(active.index)]\n",
    "    all_active_list = all_active_list + active\n",
    "all_active_set = set(all_active_list)"
   ]
  },
  {
   "cell_type": "code",
   "execution_count": 22,
   "metadata": {},
   "outputs": [],
   "source": [
    "output = []\n",
    "for rxn in all_active_set:\n",
    "    rxn_count = all_active_list.count(rxn)\n",
    "    rxn_percent = 100*rxn_count/len(genome_ids)\n",
    "    output.append([rxn,rxn_percent])"
   ]
  },
  {
   "cell_type": "code",
   "execution_count": 25,
   "metadata": {},
   "outputs": [],
   "source": [
    "pickle.dump(output,open('../Data/rxn_percents_d_lactate.data','wb'))"
   ]
  },
  {
   "cell_type": "code",
   "execution_count": 41,
   "metadata": {},
   "outputs": [],
   "source": [
    "# Actually prune all unused metabolites and reactions (innate function does not work)\n",
    "def removeUnused(model):\n",
    "    removed_cpd = set()\n",
    "    removed_rxn = set()\n",
    "    unused_current_cpd = 1\n",
    "    unused_current_rxn = 1\n",
    "    \n",
    "    while unused_current_cpd != 0 or unused_current_rxn != 0:\n",
    "        unused_cpd = prune_unused_metabolites(model)\n",
    "        removed_cpd |= set(unused_cpd)\n",
    "        unused_rxn = prune_unused_reactions(model)\n",
    "        removed_rxn |= set(unused_rxn)\n",
    "        \n",
    "        unused_current_cpd = len(unused_cpd)\n",
    "        unused_current_rxn = len(unused_rxn)\n",
    "    \n",
    "    print('Pruned ' + str(len(removed_cpd)) + ' metabolites from model')\n",
    "    print('Pruned ' + str(len(removed_rxn)) + ' reactions from model')\n",
    "        \n",
    "    return(list(removed_cpd), list(removed_rxn))"
   ]
  },
  {
   "cell_type": "code",
   "execution_count": 72,
   "metadata": {},
   "outputs": [
    {
     "name": "stdout",
     "output_type": "stream",
     "text": [
      "15013\n",
      "15013\n",
      "Pruned 0 metabolites from model\n",
      "Pruned 0 reactions from model\n"
     ]
    }
   ],
   "source": [
    "universal = cobra.io.load_json_model(\"../Data/GramPosUni.json\")\n",
    "for met in universal.metabolites:\n",
    "    if (met.id.endswith('_c')):\n",
    "        universal.add_boundary(met, type='demand')\n",
    "\n",
    "# Create exchange reaction and add to model\n",
    "for rxn in all_active_set:\n",
    "    if rxn.startswith('EX_'):\n",
    "        met = rxn.replace('EX_',\"\")\n",
    "#         print(met)\n",
    "        new_exchange = cobra.Reaction(rxn)\n",
    "        new_exchange.name = met + ' exchange'\n",
    "        met_obj = universal.metabolites.get_by_id(met)\n",
    "        new_exchange.add_metabolites({met_obj:-1})\n",
    "        new_exchange.lower_bound = -1000.\n",
    "        new_exchange.upper_bound = 1000.\n",
    "        universal.add_reaction(new_exchange)\n",
    "        universal.repair()\n",
    "\n",
    "rxns_to_remove = set([rxn.id for rxn in universal.reactions]).difference(all_active_set)\n",
    "\n",
    "print(len([rxn.id for rxn in universal.reactions]))\n",
    "print(len(all_active_set)+len(rxns_to_remove))\n",
    "\n",
    "for rxn in rxns_to_remove:\n",
    "    universal.reactions.get_by_id(rxn).remove_from_model(remove_orphans = True)\n",
    "unused_c, unused_r = removeUnused(universal)\n",
    "\n",
    "universal_new = copy.deepcopy(universal)\n",
    "\n",
    "met_list = [met.id for met in universal_new.metabolites]\n",
    "for met in met_list:\n",
    "    if met.endswith('_c'):\n",
    "        met_name = str(universal.metabolites.get_by_id(met).name)+'_c'\n",
    "        met_name = met_name.replace(\" \",\"_\")\n",
    "    elif met.endswith('_e'):\n",
    "        met_name = str(universal.metabolites.get_by_id(met).name)+'_e'\n",
    "        met_name = met_name.replace(\" \",\"_\")\n",
    "    universal_new.metabolites.get_by_id(met).id = met_name\n",
    "\n",
    "model_file_name = '../Data/superset_d_lactate.xml'\n",
    "cobra.io.write_sbml_model(universal_new, model_file_name)"
   ]
  },
  {
   "cell_type": "code",
   "execution_count": 58,
   "metadata": {},
   "outputs": [
    {
     "name": "stdout",
     "output_type": "stream",
     "text": [
      "109\n",
      "14904\n"
     ]
    }
   ],
   "source": [
    "print(len(all_active_set))\n",
    "print(len(rxns_to_remove))"
   ]
  },
  {
   "cell_type": "code",
   "execution_count": null,
   "metadata": {},
   "outputs": [],
   "source": [
    "\n",
    "\n",
    "\n",
    "\n",
    "\n",
    "\n",
    "\n",
    "\n",
    "\n",
    "\n",
    "\n",
    "\n",
    "\n",
    "\n",
    "\n",
    "\n",
    "\n",
    "\n",
    "\n",
    "\n",
    "\n",
    "\n",
    "\n",
    "\n",
    "\n",
    "\n",
    "\n",
    "\n",
    "\n",
    "\n",
    "\n",
    "\n",
    "\n",
    "\n",
    "\n",
    "\n",
    "\n",
    "\n",
    "\n",
    "\n",
    "\n",
    "\n",
    "\n",
    "\n",
    "\n",
    "\n",
    "\n",
    "\n",
    "\n",
    "\n",
    "\n",
    "\n",
    "\n"
   ]
  }
 ],
 "metadata": {
  "kernelspec": {
   "display_name": "Python 2",
   "language": "python",
   "name": "python2"
  },
  "language_info": {
   "codemirror_mode": {
    "name": "ipython",
    "version": 2
   },
   "file_extension": ".py",
   "mimetype": "text/x-python",
   "name": "python",
   "nbconvert_exporter": "python",
   "pygments_lexer": "ipython2",
   "version": "2.7.12"
  }
 },
 "nbformat": 4,
 "nbformat_minor": 2
}
