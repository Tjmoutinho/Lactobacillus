{
 "cells": [
  {
   "cell_type": "code",
   "execution_count": 1,
   "metadata": {},
   "outputs": [],
   "source": [
    "import plotly#\n",
    "import plotly.graph_objs as go#\n",
    "import cobra\n",
    "import glob"
   ]
  },
  {
   "cell_type": "code",
   "execution_count": 2,
   "metadata": {},
   "outputs": [],
   "source": [
    "# Read in model_path names\n",
    "model_paths = glob.glob('/home/bneubert/Lactobacillus/gap_models/*.xml')"
   ]
  },
  {
   "cell_type": "code",
   "execution_count": 3,
   "metadata": {},
   "outputs": [
    {
     "name": "stdout",
     "output_type": "stream",
     "text": [
      "1507\n",
      "1506\n"
     ]
    }
   ],
   "source": [
    "# Remove bad model\n",
    "print(len(model_paths))\n",
    "model_paths.remove(\"/home/bneubert/Lactobacillus/gap_models/1579.60.xml\")\n",
    "# make sure the bad model was removed\n",
    "print(len(model_paths))"
   ]
  },
  {
   "cell_type": "code",
   "execution_count": 5,
   "metadata": {},
   "outputs": [],
   "source": [
    "model_x = cobra.io.read_sbml_model(model_paths[1])"
   ]
  },
  {
   "cell_type": "code",
   "execution_count": 6,
   "metadata": {},
   "outputs": [
    {
     "data": {
      "text/plain": [
       "1167"
      ]
     },
     "execution_count": 6,
     "metadata": {},
     "output_type": "execute_result"
    }
   ],
   "source": [
    "len(model_x.metabolites)"
   ]
  },
  {
   "cell_type": "code",
   "execution_count": 4,
   "metadata": {},
   "outputs": [],
   "source": [
    "number_of_metabolites = []\n",
    "number_of_genes = []\n",
    "number_of_reactions = []\n",
    "counter = 0\n",
    "\n",
    "for name in model_paths:\n",
    "    # open up the next model\n",
    "    model_x = cobra.io.read_sbml_model(name)\n",
    "    \n",
    "    # track number of metabolites in the model\n",
    "    number_of_metabolites.append(len(model_x.metabolites))\n",
    "    \n",
    "    # track number of genes in the model\n",
    "    number_of_genes.append(len(model_x.genes))\n",
    "    \n",
    "    # track number of reactions in the model\n",
    "    number_of_reactions.append(len(model_x.reactions))\n",
    "    \n",
    "#     counter += 1\n",
    "#     if(counter is 100):\n",
    "#         break\n",
    "    "
   ]
  },
  {
   "cell_type": "code",
   "execution_count": 5,
   "metadata": {},
   "outputs": [
    {
     "name": "stdout",
     "output_type": "stream",
     "text": [
      "This is the format of your plot grid:\n",
      "[ (1,1) x1,y1 ]  [ (1,2) x2,y2 ]  [ (1,3) x3,y3 ]\n",
      "[ (2,1) x1,y4 ]  [ (2,2) x2,y5 ]  [ (2,3) x3,y6 ]\n",
      "\n"
     ]
    },
    {
     "name": "stderr",
     "output_type": "stream",
     "text": [
      "/home/bneubert/.virtualenvs/mackinac/local/lib/python2.7/site-packages/plotly/offline/offline.py:459 \u001b[1;31mUserWarning\u001b[0m: Your filename `/home/bneubert/Lactobacillus/Results/figure-4-model-metrics` didn't end with .html. Adding .html to the end of your file.\n"
     ]
    },
    {
     "data": {
      "text/plain": [
       "'file:///home/bneubert/Lactobacillus/Results/figure-4-model-metrics.html'"
      ]
     },
     "execution_count": 5,
     "metadata": {},
     "output_type": "execute_result"
    }
   ],
   "source": [
    "rxnHist = go.Histogram(\n",
    "    x=number_of_reactions,\n",
    "    xbins=dict(start=min(number_of_reactions), size=4, end=max(number_of_reactions)),\n",
    "    marker = dict(\n",
    "        color= 'rgb(101, 117, 216)'\n",
    "        )\n",
    ")\n",
    "geneHist = go.Histogram(\n",
    "    x=number_of_genes,\n",
    "    xbins=dict(start=min(number_of_genes), size=4, end=max(number_of_genes)),\n",
    "    marker = dict(\n",
    "        color= 'rgb(101, 117, 216)'\n",
    "        )\n",
    ")\n",
    "metHist = go.Histogram(\n",
    "    x=number_of_metabolites,\n",
    "    xbins=dict(start=min(number_of_metabolites), size=4, end=max(number_of_metabolites)),\n",
    "    marker = dict(\n",
    "        color= 'rgb(101, 117, 216)'\n",
    "        )\n",
    ")\n",
    "rxn_met_scatter = go.Scatter(\n",
    "    x=number_of_reactions,\n",
    "    y=number_of_metabolites,\n",
    "    mode = 'markers',\n",
    "    marker = dict(\n",
    "        size = 2,\n",
    "        color= 'rgba(101, 117, 216, .3)'\n",
    "        )\n",
    ")\n",
    "gene_rxn_scatter = go.Scatter(\n",
    "    x=number_of_genes,\n",
    "    y=number_of_reactions,\n",
    "    mode = 'markers',\n",
    "    marker = dict(\n",
    "        size = 2,\n",
    "        color= 'rgba(101, 117, 216, .3)'\n",
    "        )\n",
    ")\n",
    "met_gene_scatter = go.Scatter(\n",
    "    x=number_of_metabolites,\n",
    "    y=number_of_genes,\n",
    "    mode = 'markers',\n",
    "    marker = dict(\n",
    "        size = 2,\n",
    "        color= 'rgba(101, 117, 216, .3)'\n",
    "        )\n",
    ")\n",
    "\n",
    "\n",
    "fig = plotly.tools.make_subplots(rows=2, cols=3, shared_xaxes=True,vertical_spacing = 0.04,\n",
    "                                )\n",
    "\n",
    "\n",
    "fig.append_trace(rxnHist, 1, 1)\n",
    "fig.append_trace(geneHist, 1, 2)\n",
    "fig.append_trace(metHist, 1, 3)\n",
    "fig.append_trace(rxn_met_scatter, 2, 1)\n",
    "fig.append_trace(gene_rxn_scatter,2, 2)\n",
    "fig.append_trace(met_gene_scatter, 2, 3)\n",
    "\n",
    "\n",
    "\n",
    "\n",
    "fig['layout'].update(height=500, width=1000,\n",
    "                    title='Model Metrics',showlegend = False\n",
    "                    )\n",
    "\n",
    "fig['layout']['xaxis1'].update(title='Number of Reactions')\n",
    "fig['layout']['xaxis2'].update(title='Number of Genes')\n",
    "fig['layout']['xaxis3'].update(title='Number of Metabolites')\n",
    "\n",
    "fig['layout']['yaxis1'].update(range=[0, 100])\n",
    "fig['layout']['yaxis2'].update(range=[0, 100],showticklabels=False)\n",
    "fig['layout']['yaxis3'].update(range=[0, 100],showticklabels=False)\n",
    "fig['layout']['yaxis4'].update(title='Number of Metabolites', range=[0, 1500])\n",
    "fig['layout']['yaxis5'].update(title='Number of Reactions', range=[0, 1500],showticklabels=False)\n",
    "fig['layout']['yaxis6'].update(title='Number of Genes', range=[0, 1500],showticklabels=False)\n",
    "\n",
    "\n",
    "plotly.offline.plot(fig, filename='/home/bneubert/Lactobacillus/Results/figure-4-model-metrics.html')\n"
   ]
  },
  {
   "cell_type": "code",
   "execution_count": 22,
   "metadata": {},
   "outputs": [
    {
     "data": {
      "text/plain": [
       "'file:///home/bneubert/Lactobacillus/Results/rxn_met_gene_3D.html'"
      ]
     },
     "execution_count": 22,
     "metadata": {},
     "output_type": "execute_result"
    }
   ],
   "source": [
    "# 3D scatter plot\n",
    "\n",
    "trace1 = go.Scatter3d(\n",
    "    x=number_of_genes,\n",
    "    y=number_of_reactions,\n",
    "    z=number_of_metabolites,\n",
    "    mode='markers',\n",
    "    marker=dict(\n",
    "        size=3,\n",
    "        \n",
    "        opacity=0.4\n",
    "    )\n",
    ")\n",
    "\n",
    "\n",
    "data = [trace1]\n",
    "layout = go.Layout(\n",
    "    margin=dict(\n",
    "        l=0,\n",
    "        r=0,\n",
    "        b=0,\n",
    "        t=0\n",
    "    ), scene = dict(\n",
    "                    xaxis = dict(\n",
    "                        title='Number of Genes'),\n",
    "                    yaxis = dict(\n",
    "                        title='Number of Reactions'),\n",
    "                    zaxis = dict(\n",
    "                        title='Number of Metabolites'),)\n",
    ")\n",
    "\n",
    "fig = go.Figure(data=data, layout=layout)\n",
    "\n",
    "plotly.offline.plot(fig, filename='/home/bneubert/Lactobacillus/Results/rxn_met_gene_3D.html')"
   ]
  },
  {
   "cell_type": "code",
   "execution_count": null,
   "metadata": {},
   "outputs": [],
   "source": []
  }
 ],
 "metadata": {
  "kernelspec": {
   "display_name": "Python 2",
   "language": "python",
   "name": "python2"
  },
  "language_info": {
   "codemirror_mode": {
    "name": "ipython",
    "version": 2
   },
   "file_extension": ".py",
   "mimetype": "text/x-python",
   "name": "python",
   "nbconvert_exporter": "python",
   "pygments_lexer": "ipython2",
   "version": "2.7.12"
  }
 },
 "nbformat": 4,
 "nbformat_minor": 2
}
