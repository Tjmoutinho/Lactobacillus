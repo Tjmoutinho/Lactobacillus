{
 "cells": [
  {
   "cell_type": "code",
   "execution_count": 1,
   "metadata": {},
   "outputs": [],
   "source": [
    "# imports for later usage\n",
    "import os#\n",
    "import plotly#\n",
    "import plotly.graph_objs as go#\n",
    "import random#\n",
    "import pickle #\n",
    "import cobra\n",
    "import glob\n",
    "import re  "
   ]
  },
  {
   "cell_type": "code",
   "execution_count": 2,
   "metadata": {},
   "outputs": [],
   "source": [
    "# Read in model_path names\n",
    "model_paths = glob.glob('/home/bneubert/Lactobacillus/gap_models/*.xml')\n"
   ]
  },
  {
   "cell_type": "code",
   "execution_count": 3,
   "metadata": {},
   "outputs": [
    {
     "name": "stdout",
     "output_type": "stream",
     "text": [
      "1507\n",
      "1506\n"
     ]
    }
   ],
   "source": [
    "# Remove bad model\n",
    "print(len(model_paths))\n",
    "model_paths.remove(\"/home/bneubert/Lactobacillus/gap_models/1579.60.xml\")\n",
    "# make sure the bad model was removed\n",
    "print(len(model_paths))"
   ]
  },
  {
   "cell_type": "code",
   "execution_count": 5,
   "metadata": {},
   "outputs": [],
   "source": [
    "model_x = cobra.io.read_sbml_model(model_paths[1])"
   ]
  },
  {
   "cell_type": "code",
   "execution_count": 10,
   "metadata": {},
   "outputs": [
    {
     "data": {
      "text/plain": [
       "'rxn00390_c'"
      ]
     },
     "execution_count": 10,
     "metadata": {},
     "output_type": "execute_result"
    }
   ],
   "source": [
    "model_x.reactions[1].id"
   ]
  },
  {
   "cell_type": "code",
   "execution_count": 11,
   "metadata": {},
   "outputs": [
    {
     "name": "stdout",
     "output_type": "stream",
     "text": [
      "1002365.5\n"
     ]
    }
   ],
   "source": [
    "print(seq.match(model_paths[1].replace('/home/bneubert/Lactobacillus/gap_models/','')).group())# genome id to use"
   ]
  },
  {
   "cell_type": "code",
   "execution_count": 10,
   "metadata": {},
   "outputs": [],
   "source": [
    "seq = re.compile('(\\d+)\\.\\d+')"
   ]
  },
  {
   "cell_type": "code",
   "execution_count": 12,
   "metadata": {},
   "outputs": [],
   "source": [
    "counter = 0\n",
    "full_reactions = [] # going to be full set of reactions\n",
    "for name in model_paths:\n",
    "    # open up the next model\n",
    "    model_x = cobra.io.read_sbml_model(name)\n",
    "    \n",
    "    # find genome_id for this model\n",
    "    genome_id = seq.match(name.replace('/home/bneubert/Lactobacillus/gap_models/','')).group()\n",
    "    \n",
    "    # cycle through the model's reactions\n",
    "    for reaction in model_x.reactions:\n",
    "        temp_dict = {}\n",
    "        \n",
    "        # add genome id to dict\n",
    "        temp_dict['genome_id'] = genome_id\n",
    "        \n",
    "        # add reaction id to dict\n",
    "        temp_dict['reaction_id'] = reaction.id\n",
    "    \n",
    "        # add reaction dict to the full reactions list\n",
    "        full_reactions.append(temp_dict)\n",
    "        \n",
    "        \n",
    "    \n",
    "    \n",
    "#     # limiter, remove when done testing\n",
    "#     if(counter is 10):\n",
    "#         break\n",
    "#     counter += 1\n",
    "    "
   ]
  },
  {
   "cell_type": "code",
   "execution_count": 13,
   "metadata": {},
   "outputs": [],
   "source": [
    "#full_reactions"
   ]
  },
  {
   "cell_type": "code",
   "execution_count": 14,
   "metadata": {},
   "outputs": [],
   "source": [
    "pangenome = [] \n",
    "coregenome = []\n",
    "pangenome_sizes = []\n",
    "coregenome_sizes = []\n",
    "genome_sizes = []\n",
    "processed_genomes = []\n",
    "temp_coregenome = []\n",
    "current_features = []\n",
    "genomeDict = {} \n",
    "second = True # boolean used to delineate first and second genome's addition, becomes false on third genome\n",
    "familyDict = {} # will contain all unique cross-genus families and their associated strains\n",
    "accessoryGenome = {}"
   ]
  },
  {
   "cell_type": "code",
   "execution_count": 15,
   "metadata": {},
   "outputs": [],
   "source": [
    "# NOTE: analysis assumes the genomic features are grouped together by their genomic id since they were read in by feature files\n",
    "\n",
    "\n",
    "for feature in full_reactions:\n",
    "    \n",
    "    \n",
    "    # if the genome is new add genome to processed genomes\n",
    "    if(feature['genome_id'] not in processed_genomes):\n",
    "        # if we just switched to a new genome then\n",
    "        # add the new pangenome and core genome sizes to their lists\n",
    "        # also update core genome\n",
    "        \n",
    "        if(len(processed_genomes) > 0):\n",
    "            pangenome_sizes.append(len(pangenome))\n",
    "            genome_sizes.append(len(current_features))\n",
    "            if not second:\n",
    "                # new coregenome is simply the previous temp coregenome\n",
    "                coregenome = list(temp_coregenome)\n",
    "            else:\n",
    "                # no longer second\n",
    "                second = False\n",
    "            coregenome_sizes.append(len(coregenome))\n",
    "            temp_coregenome = []\n",
    "            \n",
    "\n",
    "        # add new genome to processed list\n",
    "        processed_genomes.append(feature['genome_id'])\n",
    "        \n",
    "        #add new genome as a key in the genome dict\n",
    "        genomeDict[feature['genome_id']] = {}\n",
    "        \n",
    "        # reset current features\n",
    "        current_features = []\n",
    "      \n",
    "    # if the gene family has not been accounted for in the current genome's features, add it\n",
    "    if(feature['reaction_id'] not in current_features):\n",
    "        current_features.append(feature['reaction_id'])\n",
    "    \n",
    "    # if gene family has not been accounted for then add to pangenome\n",
    "    if(feature['reaction_id'] not in pangenome):\n",
    "        pangenome.append(feature['reaction_id'])\n",
    "    \n",
    "    # if first runthrough then the core genes are all genes in the first\n",
    "    # genome, these are used as a baseline for future comparisons   \n",
    "    if (len(processed_genomes) is 1):\n",
    "        # also make sure this family has not already been accounted for\n",
    "        if(feature['reaction_id'] not in coregenome):\n",
    "            coregenome.append(feature['reaction_id'])\n",
    "    \n",
    "    # if we already have a core genome, the present feature is in the core genome of the past strains, and not already added\n",
    "    # then include this feature in the next core genome\n",
    "    elif((feature['reaction_id'] in coregenome) and (feature['reaction_id'] not in temp_coregenome)):\n",
    "        temp_coregenome.append(feature['reaction_id'])\n",
    "\n",
    "        \n",
    "    # update the genome dictionary\n",
    "    if (feature['reaction_id'] not in genomeDict[feature['genome_id']]):\n",
    "        genomeDict[feature['genome_id']][feature['reaction_id']] = 1\n",
    "    else:\n",
    "        genomeDict[feature['genome_id']][feature['reaction_id']] += 1\n",
    "        \n",
    "    # if the cross genus family has not been accounted for then add it to the family dictionary\n",
    "    if feature['reaction_id'] not in familyDict:\n",
    "        familyDict[feature['reaction_id']] = [feature['genome_id']]\n",
    "    # if the cross genus family has been accounted for, but the strain it came from has not been accounted for, update the\n",
    "    # key's list\n",
    "    elif feature['genome_id'] not in familyDict[feature['reaction_id']]:\n",
    "        familyDict[feature['reaction_id']].append(feature['genome_id'])\n",
    "        \n",
    "        \n",
    "# make sure to add the last genome processed to have final pangenome and coregenome sizes\n",
    "pangenome_sizes.append(pangenome.__len__())\n",
    "coregenome = list(temp_coregenome)\n",
    "coregenome_sizes.append(coregenome.__len__())\n",
    "genome_sizes.append(len(current_features))"
   ]
  },
  {
   "cell_type": "code",
   "execution_count": 77,
   "metadata": {},
   "outputs": [
    {
     "data": {
      "text/plain": [
       "1469"
      ]
     },
     "execution_count": 77,
     "metadata": {},
     "output_type": "execute_result"
    }
   ],
   "source": [
    "# total number of reactions\n",
    "len(pangenome)"
   ]
  },
  {
   "cell_type": "code",
   "execution_count": 17,
   "metadata": {},
   "outputs": [
    {
     "data": {
      "text/plain": [
       "38"
      ]
     },
     "execution_count": 17,
     "metadata": {},
     "output_type": "execute_result"
    }
   ],
   "source": [
    "# number of reactions present in all models\n",
    "len(coregenome)"
   ]
  },
  {
   "cell_type": "code",
   "execution_count": 20,
   "metadata": {},
   "outputs": [
    {
     "data": {
      "text/plain": [
       "884"
      ]
     },
     "execution_count": 20,
     "metadata": {},
     "output_type": "execute_result"
    }
   ],
   "source": [
    "# average number of reactions in a model\n",
    "sum(genome_sizes)/len(genome_sizes)"
   ]
  },
  {
   "cell_type": "code",
   "execution_count": null,
   "metadata": {},
   "outputs": [],
   "source": []
  }
 ],
 "metadata": {
  "kernelspec": {
   "display_name": "Python 2",
   "language": "python",
   "name": "python2"
  },
  "language_info": {
   "codemirror_mode": {
    "name": "ipython",
    "version": 2
   },
   "file_extension": ".py",
   "mimetype": "text/x-python",
   "name": "python",
   "nbconvert_exporter": "python",
   "pygments_lexer": "ipython2",
   "version": "2.7.12"
  }
 },
 "nbformat": 4,
 "nbformat_minor": 2
}
