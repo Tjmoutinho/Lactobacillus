{
 "cells": [
  {
   "cell_type": "code",
   "execution_count": 3,
   "metadata": {},
   "outputs": [
    {
     "name": "stdout",
     "output_type": "stream",
     "text": [
      "0.11.3\n"
     ]
    }
   ],
   "source": [
    "import cobra\n",
    "from cobra.flux_analysis import gapfill\n",
    "print cobra.__version__\n",
    "import glob"
   ]
  },
  {
   "cell_type": "code",
   "execution_count": 5,
   "metadata": {},
   "outputs": [],
   "source": [
    "# Read in model_path names\n",
    "model_paths = glob.glob('../models/*.xml')\n",
    "model_x = cobra.io.read_sbml_model(model_paths[0])"
   ]
  },
  {
   "cell_type": "code",
   "execution_count": 8,
   "metadata": {},
   "outputs": [
    {
     "data": {
      "text/plain": [
       "[<Reaction rxn13783_c at 0x7f8110e89bd0>,\n",
       " <Reaction rxn13784_c at 0x7f8110d6d850>,\n",
       " <Reaction rxn13782_c at 0x7f8110cd7410>,\n",
       " <Reaction EX_cpd00067_e at 0x7f8110af0d90>,\n",
       " <Reaction EX_cpd11576_e at 0x7f8110af0dd0>,\n",
       " <Reaction EX_cpd04097_e at 0x7f8110af0e10>,\n",
       " <Reaction EX_cpd00033_e at 0x7f8110af0e50>,\n",
       " <Reaction EX_cpd11585_e at 0x7f8110af0e90>,\n",
       " <Reaction EX_cpd11582_e at 0x7f8110af0f10>,\n",
       " <Reaction EX_cpd11586_e at 0x7f8110af0f90>,\n",
       " <Reaction EX_cpd01030_e at 0x7f8110b07050>,\n",
       " <Reaction EX_cpd01012_e at 0x7f8110b07090>,\n",
       " <Reaction EX_cpd00276_e at 0x7f8110b070d0>,\n",
       " <Reaction EX_cpd00082_e at 0x7f8110b07110>,\n",
       " <Reaction EX_cpd00001_e at 0x7f8110b07150>,\n",
       " <Reaction EX_cpd00058_e at 0x7f8110b07190>,\n",
       " <Reaction EX_cpd00080_e at 0x7f8110b071d0>,\n",
       " <Reaction EX_cpd00224_e at 0x7f8110b07210>,\n",
       " <Reaction EX_cpd00314_e at 0x7f8110b07290>,\n",
       " <Reaction EX_cpd01017_e at 0x7f8110b072d0>,\n",
       " <Reaction EX_cpd00222_e at 0x7f8110b07310>,\n",
       " <Reaction EX_cpd00013_e at 0x7f8110b07350>,\n",
       " <Reaction EX_cpd00051_e at 0x7f8110b07390>,\n",
       " <Reaction EX_cpd00064_e at 0x7f8110b073d0>,\n",
       " <Reaction EX_cpd00244_e at 0x7f8110b07410>,\n",
       " <Reaction EX_cpd00179_e at 0x7f8110b07450>,\n",
       " <Reaction EX_cpd00355_e at 0x7f8110b07490>,\n",
       " <Reaction EX_cpd00100_e at 0x7f8110b074d0>,\n",
       " <Reaction EX_cpd11591_e at 0x7f8110b07510>,\n",
       " <Reaction EX_cpd00009_e at 0x7f8110b07550>,\n",
       " <Reaction EX_cpd00060_e at 0x7f8110b07590>,\n",
       " <Reaction EX_cpd00681_e at 0x7f8110b07610>,\n",
       " <Reaction EX_cpd00034_e at 0x7f8110b07690>,\n",
       " <Reaction EX_cpd00098_e at 0x7f8110b076d0>,\n",
       " <Reaction EX_cpd11593_e at 0x7f8110b07710>,\n",
       " <Reaction EX_cpd00027_e at 0x7f8110b07790>,\n",
       " <Reaction EX_cpd00076_e at 0x7f8110b077d0>,\n",
       " <Reaction EX_cpd01171_e at 0x7f8110b07810>,\n",
       " <Reaction EX_cpd00176_e at 0x7f8110b07850>,\n",
       " <Reaction EX_cpd15605_e at 0x7f8110b07890>,\n",
       " <Reaction EX_cpd00550_e at 0x7f8110b078d0>,\n",
       " <Reaction EX_cpd00023_e at 0x7f8110b07910>,\n",
       " <Reaction EX_cpd00281_e at 0x7f8110b07990>,\n",
       " <Reaction EX_cpd00054_e at 0x7f8110b079d0>,\n",
       " <Reaction EX_cpd00154_e at 0x7f8110b07a10>,\n",
       " <Reaction EX_cpd00637_e at 0x7f8110b07a50>,\n",
       " <Reaction EX_cpd00041_e at 0x7f8110b07ad0>,\n",
       " <Reaction EX_cpd00122_e at 0x7f8110b07b50>,\n",
       " <Reaction EX_cpd08306_e at 0x7f8110b07b90>,\n",
       " <Reaction EX_cpd15603_e at 0x7f8110b07c10>,\n",
       " <Reaction EX_cpd03696_e at 0x7f8110b07c50>,\n",
       " <Reaction EX_cpd00309_e at 0x7f8110b07c90>,\n",
       " <Reaction EX_cpd11580_e at 0x7f8110b07cd0>,\n",
       " <Reaction EX_cpd01092_e at 0x7f8110b07d10>,\n",
       " <Reaction EX_cpd00220_e at 0x7f8110b07d50>,\n",
       " <Reaction EX_cpd00588_e at 0x7f8110b07d90>,\n",
       " <Reaction EX_cpd00117_e at 0x7f8110b07dd0>,\n",
       " <Reaction EX_cpd00108_e at 0x7f8110b07e10>,\n",
       " <Reaction EX_cpd00307_e at 0x7f8110b07e50>,\n",
       " <Reaction EX_cpd00254_e at 0x7f8110b07e90>,\n",
       " <Reaction EX_cpd00138_e at 0x7f8110b07ed0>,\n",
       " <Reaction EX_cpd00305_e at 0x7f8110b07f10>,\n",
       " <Reaction EX_cpd00039_e at 0x7f8110b07f50>,\n",
       " <Reaction EX_cpd00540_e at 0x7f8110b07f90>,\n",
       " <Reaction EX_cpd15606_e at 0x7f8110b07fd0>,\n",
       " <Reaction EX_cpd10516_e at 0x7f8110a9b050>,\n",
       " <Reaction EX_cpd00971_e at 0x7f8110a9b090>,\n",
       " <Reaction EX_cpd00030_e at 0x7f8110a9b0d0>,\n",
       " <Reaction EX_cpd00149_e at 0x7f8110a9b110>,\n",
       " <Reaction EX_cpd11597_e at 0x7f8110a9b150>,\n",
       " <Reaction EX_cpd01914_e at 0x7f8110a9b1d0>,\n",
       " <Reaction EX_cpd00531_e at 0x7f8110a9b210>,\n",
       " <Reaction EX_cpd11583_e at 0x7f8110a9b250>,\n",
       " <Reaction EX_cpd11589_e at 0x7f8110a9b290>,\n",
       " <Reaction EX_cpd00794_e at 0x7f8110a9b2d0>,\n",
       " <Reaction EX_cpd00226_e at 0x7f8110a9b310>,\n",
       " <Reaction EX_cpd08305_e at 0x7f8110a9b350>,\n",
       " <Reaction EX_cpd11588_e at 0x7f8110a9b3d0>,\n",
       " <Reaction EX_cpd15604_e at 0x7f8110a9b410>,\n",
       " <Reaction EX_cpd00007_e at 0x7f8110a9b450>,\n",
       " <Reaction EX_cpd11592_e at 0x7f8110a9b490>,\n",
       " <Reaction EX_cpd11587_e at 0x7f8110a9b4d0>,\n",
       " <Reaction EX_cpd00092_e at 0x7f8110a9b510>,\n",
       " <Reaction EX_cpd00053_e at 0x7f8110a9b550>,\n",
       " <Reaction EX_cpd11590_e at 0x7f8110a9b5d0>,\n",
       " <Reaction EX_cpd11581_e at 0x7f8110a9b650>,\n",
       " <Reaction EX_cpd00205_e at 0x7f8110a9b690>,\n",
       " <Reaction EX_cpd00208_e at 0x7f8110a9b6d0>,\n",
       " <Reaction EX_cpd11584_e at 0x7f8110a9b710>,\n",
       " <Reaction EX_cpd00121_e at 0x7f8110a9b750>,\n",
       " <Reaction EX_cpd00011_e at 0x7f8110a9b790>,\n",
       " <Reaction EX_cpd00099_e at 0x7f8110a9b7d0>,\n",
       " <Reaction EX_cpd00156_e at 0x7f8110a9b810>,\n",
       " <Reaction EX_cpd00644_e at 0x7f8110a9b850>,\n",
       " <Reaction EX_cpd00028_e at 0x7f8110a9b890>,\n",
       " <Reaction EX_cpd00065_e at 0x7f8110a9b8d0>,\n",
       " <Reaction EX_cpd01080_e at 0x7f8110a9b950>,\n",
       " <Reaction EX_cpd00322_e at 0x7f8110a9b990>,\n",
       " <Reaction EX_cpd00393_e at 0x7f8110a9ba10>,\n",
       " <Reaction EX_cpd00264_e at 0x7f8110a9ba50>,\n",
       " <Reaction EX_cpd11606_e at 0x7f8110a9ba90>,\n",
       " <Reaction EX_cpd00516_e at 0x7f8110a9bb10>,\n",
       " <Reaction EX_cpd00118_e at 0x7f8110a9bb50>,\n",
       " <Reaction EX_cpd00214_e at 0x7f8110a9bb90>,\n",
       " <Reaction EX_cpd00063_e at 0x7f8110a9bbd0>,\n",
       " <Reaction SK_cpd11416_c at 0x7f8110a9bc10>]"
      ]
     },
     "execution_count": 8,
     "metadata": {},
     "output_type": "execute_result"
    }
   ],
   "source": [
    "model_x.exchanges"
   ]
  }
 ],
 "metadata": {
  "kernelspec": {
   "display_name": "Python 2",
   "language": "python",
   "name": "python2"
  },
  "language_info": {
   "codemirror_mode": {
    "name": "ipython",
    "version": 2
   },
   "file_extension": ".py",
   "mimetype": "text/x-python",
   "name": "python",
   "nbconvert_exporter": "python",
   "pygments_lexer": "ipython2",
   "version": "2.7.12"
  }
 },
 "nbformat": 4,
 "nbformat_minor": 2
}
