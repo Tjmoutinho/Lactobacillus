{
 "cells": [
  {
   "cell_type": "code",
   "execution_count": 1,
   "metadata": {},
   "outputs": [],
   "source": [
    "from __future__ import print_function\n",
    "\n",
    "import cobra\n",
    "import cobra.test\n",
    "\n",
    "# \"ecoli\" and \"salmonella\" are also valid arguments\n",
    "model = cobra.test.create_test_model(\"textbook\")"
   ]
  },
  {
   "cell_type": "code",
   "execution_count": 2,
   "metadata": {},
   "outputs": [
    {
     "name": "stdout",
     "output_type": "stream",
     "text": [
      "95\n",
      "72\n",
      "137\n"
     ]
    }
   ],
   "source": [
    "print(len(model.reactions))\n",
    "print(len(model.metabolites))\n",
    "print(len(model.genes))"
   ]
  },
  {
   "cell_type": "code",
   "execution_count": 3,
   "metadata": {},
   "outputs": [
    {
     "data": {
      "text/html": [
       "\n",
       "        <table>\n",
       "            <tr>\n",
       "                <td><strong>Name</strong></td>\n",
       "                <td>e_coli_core</td>\n",
       "            </tr><tr>\n",
       "                <td><strong>Memory address</strong></td>\n",
       "                <td>0x0220d5ae5b70</td>\n",
       "            </tr><tr>\n",
       "                <td><strong>Number of metabolites</strong></td>\n",
       "                <td>72</td>\n",
       "            </tr><tr>\n",
       "                <td><strong>Number of reactions</strong></td>\n",
       "                <td>95</td>\n",
       "            </tr><tr>\n",
       "                <td><strong>Objective expression</strong></td>\n",
       "                <td>-1.0*Biomass_Ecoli_core_reverse_2cdba + 1.0*Biomass_Ecoli_core</td>\n",
       "            </tr><tr>\n",
       "                <td><strong>Compartments</strong></td>\n",
       "                <td>cytosol, extracellular</td>\n",
       "            </tr>\n",
       "          </table>"
      ],
      "text/plain": [
       "<Model e_coli_core at 0x220d5ae5b70>"
      ]
     },
     "execution_count": 3,
     "metadata": {},
     "output_type": "execute_result"
    }
   ],
   "source": [
    "model"
   ]
  },
  {
   "cell_type": "code",
   "execution_count": 4,
   "metadata": {},
   "outputs": [
    {
     "data": {
      "text/html": [
       "\n",
       "        <table>\n",
       "            <tr>\n",
       "                <td><strong>Reaction identifier</strong></td><td>EX_glu__L_e</td>\n",
       "            </tr><tr>\n",
       "                <td><strong>Name</strong></td><td>L-Glutamate exchange</td>\n",
       "            </tr><tr>\n",
       "                <td><strong>Memory address</strong></td>\n",
       "                <td>0x0220e6eb5390</td>\n",
       "            </tr><tr>\n",
       "                <td><strong>Stoichiometry</strong></td>\n",
       "                <td>\n",
       "                    <p style='text-align:right'>glu__L_e --> </p>\n",
       "                    <p style='text-align:right'>L-Glutamate --> </p>\n",
       "                </td>\n",
       "            </tr><tr>\n",
       "                <td><strong>GPR</strong></td><td></td>\n",
       "            </tr><tr>\n",
       "                <td><strong>Lower bound</strong></td><td>0.0</td>\n",
       "            </tr><tr>\n",
       "                <td><strong>Upper bound</strong></td><td>1000.0</td>\n",
       "            </tr>\n",
       "        </table>\n",
       "        "
      ],
      "text/plain": [
       "<Reaction EX_glu__L_e at 0x220e6eb5390>"
      ]
     },
     "execution_count": 4,
     "metadata": {},
     "output_type": "execute_result"
    }
   ],
   "source": [
    "model.reactions[29]"
   ]
  },
  {
   "cell_type": "code",
   "execution_count": 6,
   "metadata": {},
   "outputs": [
    {
     "data": {
      "text/html": [
       "\n",
       "        <table>\n",
       "            <tr>\n",
       "                <td><strong>Metabolite identifier</strong></td><td>atp_c</td>\n",
       "            </tr><tr>\n",
       "                <td><strong>Name</strong></td><td>ATP</td>\n",
       "            </tr><tr>\n",
       "                <td><strong>Memory address</strong></td>\n",
       "                <td>0x01357c1c3668</td>\n",
       "            </tr><tr>\n",
       "                <td><strong>Formula</strong></td><td>C10H12N5O13P3</td>\n",
       "            </tr><tr>\n",
       "                <td><strong>Compartment</strong></td><td>c</td>\n",
       "            </tr><tr>\n",
       "                <td><strong>In 13 reaction(s)</strong></td><td>\n",
       "                    PPS, ACKr, GLNS, ATPM, GLNabc, Biomass_Ecoli_core, PGK, PPCK, ATPS4r, PYK, PFK, ADK1, SUCOAS</td>\n",
       "            </tr>\n",
       "        </table>"
      ],
      "text/plain": [
       "<Metabolite atp_c at 0x1357c1c3668>"
      ]
     },
     "execution_count": 6,
     "metadata": {},
     "output_type": "execute_result"
    }
   ],
   "source": [
    "model.metabolites.get_by_id(\"atp_c\")"
   ]
  },
  {
   "cell_type": "code",
   "execution_count": 7,
   "metadata": {},
   "outputs": [
    {
     "data": {
      "text/plain": [
       "(-10.0, 1000.0)"
      ]
     },
     "execution_count": 7,
     "metadata": {},
     "output_type": "execute_result"
    }
   ],
   "source": [
    "model.reactions.EX_glc__D_e.bounds"
   ]
  },
  {
   "cell_type": "code",
   "execution_count": 8,
   "metadata": {},
   "outputs": [
    {
     "data": {
      "text/html": [
       "\n",
       "        <table>\n",
       "            <tr>\n",
       "                <td><strong>Reaction identifier</strong></td><td>PGI</td>\n",
       "            </tr><tr>\n",
       "                <td><strong>Name</strong></td><td>glucose-6-phosphate isomerase</td>\n",
       "            </tr><tr>\n",
       "                <td><strong>Memory address</strong></td>\n",
       "                <td>0x01357c23e0b8</td>\n",
       "            </tr><tr>\n",
       "                <td><strong>Stoichiometry</strong></td>\n",
       "                <td>\n",
       "                    <p style='text-align:right'>g6p_c <=> f6p_c</p>\n",
       "                    <p style='text-align:right'>D-Glucose 6-phosphate <=> D-Fructose 6-phosphate</p>\n",
       "                </td>\n",
       "            </tr><tr>\n",
       "                <td><strong>GPR</strong></td><td>b4025</td>\n",
       "            </tr><tr>\n",
       "                <td><strong>Lower bound</strong></td><td>-1000.0</td>\n",
       "            </tr><tr>\n",
       "                <td><strong>Upper bound</strong></td><td>1000.0</td>\n",
       "            </tr>\n",
       "        </table>\n",
       "        "
      ],
      "text/plain": [
       "<Reaction PGI at 0x1357c23e0b8>"
      ]
     },
     "execution_count": 8,
     "metadata": {},
     "output_type": "execute_result"
    }
   ],
   "source": [
    "pgi = model.reactions.get_by_id(\"PGI\")\n",
    "pgi"
   ]
  },
  {
   "cell_type": "code",
   "execution_count": 9,
   "metadata": {},
   "outputs": [
    {
     "name": "stdout",
     "output_type": "stream",
     "text": [
      "glucose-6-phosphate isomerase\n",
      "g6p_c <=> f6p_c\n"
     ]
    }
   ],
   "source": [
    "print(pgi.name)\n",
    "print(pgi.reaction)"
   ]
  },
  {
   "cell_type": "code",
   "execution_count": 10,
   "metadata": {},
   "outputs": [
    {
     "name": "stdout",
     "output_type": "stream",
     "text": [
      "-1000.0 < pgi < 1000.0\n",
      "True\n"
     ]
    }
   ],
   "source": [
    "print(pgi.lower_bound, \"< pgi <\", pgi.upper_bound)\n",
    "print(pgi.reversibility)"
   ]
  },
  {
   "cell_type": "code",
   "execution_count": 11,
   "metadata": {},
   "outputs": [
    {
     "data": {
      "text/plain": [
       "{}"
      ]
     },
     "execution_count": 11,
     "metadata": {},
     "output_type": "execute_result"
    }
   ],
   "source": [
    "pgi.check_mass_balance()"
   ]
  },
  {
   "cell_type": "code",
   "execution_count": 12,
   "metadata": {},
   "outputs": [
    {
     "data": {
      "text/plain": [
       "'g6p_c + h_c <=> f6p_c'"
      ]
     },
     "execution_count": 12,
     "metadata": {},
     "output_type": "execute_result"
    }
   ],
   "source": [
    "pgi.add_metabolites({model.metabolites.get_by_id(\"h_c\"): -1})\n",
    "pgi.reaction"
   ]
  },
  {
   "cell_type": "code",
   "execution_count": 13,
   "metadata": {},
   "outputs": [
    {
     "data": {
      "text/plain": [
       "{'charge': -1.0, 'H': -1.0}"
      ]
     },
     "execution_count": 13,
     "metadata": {},
     "output_type": "execute_result"
    }
   ],
   "source": [
    "pgi.check_mass_balance()"
   ]
  },
  {
   "cell_type": "code",
   "execution_count": 14,
   "metadata": {},
   "outputs": [
    {
     "name": "stdout",
     "output_type": "stream",
     "text": [
      "g6p_c <=> f6p_c\n",
      "{}\n"
     ]
    }
   ],
   "source": [
    "pgi.subtract_metabolites({model.metabolites.get_by_id(\"h_c\"): -1})\n",
    "print(pgi.reaction)\n",
    "print(pgi.check_mass_balance())"
   ]
  },
  {
   "cell_type": "code",
   "execution_count": 15,
   "metadata": {},
   "outputs": [
    {
     "name": "stdout",
     "output_type": "stream",
     "text": [
      "unknown metabolite 'green_eggs' created\n",
      "unknown metabolite 'ham' created\n"
     ]
    }
   ],
   "source": [
    "pgi.reaction = \"g6p_c --> f6p_c + h_c + green_eggs + ham\""
   ]
  },
  {
   "cell_type": "code",
   "execution_count": 16,
   "metadata": {},
   "outputs": [
    {
     "data": {
      "text/plain": [
       "'g6p_c --> f6p_c + green_eggs + h_c + ham'"
      ]
     },
     "execution_count": 16,
     "metadata": {},
     "output_type": "execute_result"
    }
   ],
   "source": [
    "pgi.reaction"
   ]
  },
  {
   "cell_type": "code",
   "execution_count": 17,
   "metadata": {},
   "outputs": [
    {
     "data": {
      "text/plain": [
       "'g6p_c <=> f6p_c'"
      ]
     },
     "execution_count": 17,
     "metadata": {},
     "output_type": "execute_result"
    }
   ],
   "source": [
    "pgi.reaction = \"g6p_c <=> f6p_c\"\n",
    "pgi.reaction"
   ]
  },
  {
   "cell_type": "code",
   "execution_count": 18,
   "metadata": {},
   "outputs": [
    {
     "data": {
      "text/html": [
       "\n",
       "        <table>\n",
       "            <tr>\n",
       "                <td><strong>Metabolite identifier</strong></td><td>atp_c</td>\n",
       "            </tr><tr>\n",
       "                <td><strong>Name</strong></td><td>ATP</td>\n",
       "            </tr><tr>\n",
       "                <td><strong>Memory address</strong></td>\n",
       "                <td>0x01357c1c3668</td>\n",
       "            </tr><tr>\n",
       "                <td><strong>Formula</strong></td><td>C10H12N5O13P3</td>\n",
       "            </tr><tr>\n",
       "                <td><strong>Compartment</strong></td><td>c</td>\n",
       "            </tr><tr>\n",
       "                <td><strong>In 13 reaction(s)</strong></td><td>\n",
       "                    PPS, ACKr, GLNS, ATPM, GLNabc, Biomass_Ecoli_core, PGK, PPCK, ATPS4r, PYK, PFK, ADK1, SUCOAS</td>\n",
       "            </tr>\n",
       "        </table>"
      ],
      "text/plain": [
       "<Metabolite atp_c at 0x1357c1c3668>"
      ]
     },
     "execution_count": 18,
     "metadata": {},
     "output_type": "execute_result"
    }
   ],
   "source": [
    "atp = model.metabolites.get_by_id(\"atp_c\")\n",
    "atp"
   ]
  },
  {
   "cell_type": "code",
   "execution_count": 19,
   "metadata": {},
   "outputs": [
    {
     "name": "stdout",
     "output_type": "stream",
     "text": [
      "ATP\n",
      "c\n"
     ]
    }
   ],
   "source": [
    "print(atp.name)\n",
    "print(atp.compartment)"
   ]
  },
  {
   "cell_type": "code",
   "execution_count": 20,
   "metadata": {},
   "outputs": [
    {
     "data": {
      "text/plain": [
       "-4"
      ]
     },
     "execution_count": 20,
     "metadata": {},
     "output_type": "execute_result"
    }
   ],
   "source": [
    "atp.charge"
   ]
  },
  {
   "cell_type": "code",
   "execution_count": 21,
   "metadata": {},
   "outputs": [
    {
     "name": "stdout",
     "output_type": "stream",
     "text": [
      "C10H12N5O13P3\n"
     ]
    }
   ],
   "source": [
    "print(atp.formula)"
   ]
  },
  {
   "cell_type": "code",
   "execution_count": 22,
   "metadata": {},
   "outputs": [
    {
     "data": {
      "text/plain": [
       "13"
      ]
     },
     "execution_count": 22,
     "metadata": {},
     "output_type": "execute_result"
    }
   ],
   "source": [
    "len(atp.reactions)"
   ]
  },
  {
   "cell_type": "code",
   "execution_count": 23,
   "metadata": {},
   "outputs": [
    {
     "data": {
      "text/plain": [
       "frozenset({<Reaction Biomass_Ecoli_core at 0x1357c22df28>,\n",
       "           <Reaction G6PDH2r at 0x1357c20e240>,\n",
       "           <Reaction GLCpts at 0x1357c20e5c0>,\n",
       "           <Reaction PGI at 0x1357c23e0b8>})"
      ]
     },
     "execution_count": 23,
     "metadata": {},
     "output_type": "execute_result"
    }
   ],
   "source": [
    "model.metabolites.get_by_id(\"g6p_c\").reactions"
   ]
  },
  {
   "cell_type": "code",
   "execution_count": 24,
   "metadata": {},
   "outputs": [
    {
     "data": {
      "text/plain": [
       "'b4025'"
      ]
     },
     "execution_count": 24,
     "metadata": {},
     "output_type": "execute_result"
    }
   ],
   "source": [
    "gpr = pgi.gene_reaction_rule\n",
    "gpr"
   ]
  },
  {
   "cell_type": "code",
   "execution_count": 25,
   "metadata": {},
   "outputs": [
    {
     "data": {
      "text/plain": [
       "frozenset({<Gene b4025 at 0x1357c21ea20>})"
      ]
     },
     "execution_count": 25,
     "metadata": {},
     "output_type": "execute_result"
    }
   ],
   "source": [
    "pgi.genes"
   ]
  },
  {
   "cell_type": "code",
   "execution_count": 26,
   "metadata": {},
   "outputs": [
    {
     "data": {
      "text/html": [
       "\n",
       "        <table>\n",
       "            <tr>\n",
       "                <td><strong>Gene identifier</strong></td><td>b4025</td>\n",
       "            </tr><tr>\n",
       "                <td><strong>Name</strong></td><td>pgi</td>\n",
       "            </tr><tr>\n",
       "                <td><strong>Memory address</strong></td>\n",
       "                <td>0x01357c21ea20</td>\n",
       "            </tr><tr>\n",
       "                <td><strong>Functional</strong></td><td>True</td>\n",
       "            </tr><tr>\n",
       "                <td><strong>In 1 reaction(s)</strong></td><td>\n",
       "                    PGI</td>\n",
       "            </tr>\n",
       "        </table>"
      ],
      "text/plain": [
       "<Gene b4025 at 0x1357c21ea20>"
      ]
     },
     "execution_count": 26,
     "metadata": {},
     "output_type": "execute_result"
    }
   ],
   "source": [
    "pgi_gene = model.genes.get_by_id(\"b4025\")\n",
    "pgi_gene"
   ]
  },
  {
   "cell_type": "code",
   "execution_count": 27,
   "metadata": {},
   "outputs": [
    {
     "data": {
      "text/plain": [
       "frozenset({<Reaction PGI at 0x1357c23e0b8>})"
      ]
     },
     "execution_count": 27,
     "metadata": {},
     "output_type": "execute_result"
    }
   ],
   "source": [
    "pgi_gene.reactions"
   ]
  },
  {
   "cell_type": "code",
   "execution_count": 28,
   "metadata": {},
   "outputs": [
    {
     "data": {
      "text/plain": [
       "frozenset({<Gene eggs at 0x1357bf2ac50>, <Gene spam at 0x1357bf2ac88>})"
      ]
     },
     "execution_count": 28,
     "metadata": {},
     "output_type": "execute_result"
    }
   ],
   "source": [
    "pgi.gene_reaction_rule = \"(spam or eggs)\"\n",
    "pgi.genes"
   ]
  },
  {
   "cell_type": "code",
   "execution_count": 29,
   "metadata": {},
   "outputs": [
    {
     "data": {
      "text/plain": [
       "frozenset()"
      ]
     },
     "execution_count": 29,
     "metadata": {},
     "output_type": "execute_result"
    }
   ],
   "source": [
    "pgi_gene.reactions"
   ]
  },
  {
   "cell_type": "code",
   "execution_count": 30,
   "metadata": {},
   "outputs": [
    {
     "data": {
      "text/html": [
       "\n",
       "        <table>\n",
       "            <tr>\n",
       "                <td><strong>Gene identifier</strong></td><td>spam</td>\n",
       "            </tr><tr>\n",
       "                <td><strong>Name</strong></td><td></td>\n",
       "            </tr><tr>\n",
       "                <td><strong>Memory address</strong></td>\n",
       "                <td>0x01357bf2ac88</td>\n",
       "            </tr><tr>\n",
       "                <td><strong>Functional</strong></td><td>True</td>\n",
       "            </tr><tr>\n",
       "                <td><strong>In 1 reaction(s)</strong></td><td>\n",
       "                    PGI</td>\n",
       "            </tr>\n",
       "        </table>"
      ],
      "text/plain": [
       "<Gene spam at 0x1357bf2ac88>"
      ]
     },
     "execution_count": 30,
     "metadata": {},
     "output_type": "execute_result"
    }
   ],
   "source": [
    "model.genes.get_by_id(\"spam\")"
   ]
  },
  {
   "cell_type": "code",
   "execution_count": 31,
   "metadata": {},
   "outputs": [
    {
     "name": "stdout",
     "output_type": "stream",
     "text": [
      "after 1 KO: -1000 < flux_PGI < 1000\n",
      "after 2 KO:     0 < flux_PGI <    0\n"
     ]
    }
   ],
   "source": [
    "cobra.manipulation.delete_model_genes(\n",
    "    model, [\"spam\"], cumulative_deletions=True)\n",
    "print(\"after 1 KO: %4d < flux_PGI < %4d\" % (pgi.lower_bound, pgi.upper_bound))\n",
    "\n",
    "cobra.manipulation.delete_model_genes(\n",
    "    model, [\"eggs\"], cumulative_deletions=True)\n",
    "print(\"after 2 KO:  %4d < flux_PGI < %4d\" % (pgi.lower_bound, pgi.upper_bound))"
   ]
  },
  {
   "cell_type": "code",
   "execution_count": 32,
   "metadata": {},
   "outputs": [
    {
     "name": "stdout",
     "output_type": "stream",
     "text": [
      "-1000 < pgi < 1000\n"
     ]
    }
   ],
   "source": [
    "cobra.manipulation.undelete_model_genes(model)\n",
    "print(pgi.lower_bound, \"< pgi <\", pgi.upper_bound)"
   ]
  },
  {
   "cell_type": "code",
   "execution_count": 33,
   "metadata": {},
   "outputs": [
    {
     "name": "stdout",
     "output_type": "stream",
     "text": [
      "ACALD blocked (bounds: (0, 0)), new growth rate 0.873922\n",
      "ACALDt blocked (bounds: (0, 0)), new growth rate 0.873922\n",
      "ACKr blocked (bounds: (0, 0)), new growth rate 0.873922\n",
      "ACONTa blocked (bounds: (0, 0)), new growth rate -0.000000\n",
      "ACONTb blocked (bounds: (0, 0)), new growth rate -0.000000\n"
     ]
    }
   ],
   "source": [
    "model = cobra.test.create_test_model('textbook')\n",
    "for reaction in model.reactions[:5]:\n",
    "    with model as model:\n",
    "        reaction.knock_out()\n",
    "        model.optimize()\n",
    "        print('%s blocked (bounds: %s), new growth rate %f' %\n",
    "              (reaction.id, str(reaction.bounds), model.objective.value))"
   ]
  },
  {
   "cell_type": "code",
   "execution_count": 35,
   "metadata": {},
   "outputs": [
    {
     "data": {
      "text/plain": [
       "[(-1000.0, 1000.0),\n",
       " (-1000.0, 1000.0),\n",
       " (-1000.0, 1000.0),\n",
       " (-1000.0, 1000.0),\n",
       " (-1000.0, 1000.0)]"
      ]
     },
     "execution_count": 35,
     "metadata": {},
     "output_type": "execute_result"
    }
   ],
   "source": [
    "[reaction.bounds for reaction in model.reactions[:5]]"
   ]
  },
  {
   "cell_type": "code",
   "execution_count": 36,
   "metadata": {},
   "outputs": [
    {
     "name": "stdout",
     "output_type": "stream",
     "text": [
      "original objective:  -1.0*Biomass_Ecoli_core_reverse_2cdba + 1.0*Biomass_Ecoli_core\n",
      "print objective in first context: -1.0*ATPM_reverse_5b752 + 1.0*ATPM\n",
      "print objective in second context: 1.0*ACALD - 1.0*ACALD_reverse_fda2b\n",
      "objective after exiting second context: -1.0*ATPM_reverse_5b752 + 1.0*ATPM\n",
      "back to original objective: -1.0*Biomass_Ecoli_core_reverse_2cdba + 1.0*Biomass_Ecoli_core\n"
     ]
    }
   ],
   "source": [
    "print('original objective: ', model.objective.expression)\n",
    "with model:\n",
    "    model.objective = 'ATPM'\n",
    "    print('print objective in first context:', model.objective.expression)\n",
    "    with model:\n",
    "        model.objective = 'ACALD'\n",
    "        print('print objective in second context:', model.objective.expression)\n",
    "    print('objective after exiting second context:',\n",
    "          model.objective.expression)\n",
    "print('back to original objective:', model.objective.expression)"
   ]
  },
  {
   "cell_type": "code",
   "execution_count": 37,
   "metadata": {},
   "outputs": [],
   "source": [
    "with model as inner:\n",
    "    inner.reactions.PFK.knock_out"
   ]
  },
  {
   "cell_type": "code",
   "execution_count": 38,
   "metadata": {},
   "outputs": [],
   "source": [
    "from __future__ import print_function"
   ]
  },
  {
   "cell_type": "code",
   "execution_count": 39,
   "metadata": {},
   "outputs": [],
   "source": [
    "from cobra import Model, Reaction, Metabolite\n",
    "# Best practise: SBML compliant IDs\n",
    "model = Model('example_model')\n",
    "\n",
    "reaction = Reaction('3OAS140')\n",
    "reaction.name = '3 oxoacyl acyl carrier protein synthase n C140 '\n",
    "reaction.subsystem = 'Cell Envelope Biosynthesis'\n",
    "reaction.lower_bound = 0.  # This is the default\n",
    "reaction.upper_bound = 1000.  # This is the default"
   ]
  },
  {
   "cell_type": "code",
   "execution_count": 41,
   "metadata": {},
   "outputs": [],
   "source": [
    "ACP_c = Metabolite(\n",
    "    'ACP_c',\n",
    "    formula='C11H21N2O7PRS',\n",
    "    name='acyl-carrier-protein',\n",
    "    compartment='c')\n",
    "omrsACP_c = Metabolite(\n",
    "    '3omrsACP_c',\n",
    "    formula='C25H45N2O9PRS',\n",
    "    name='3-Oxotetradecanoyl-acyl-carrier-protein',\n",
    "    compartment='c')\n",
    "co2_c = Metabolite('co2_c', formula='CO2', name='CO2', compartment='c')\n",
    "malACP_c = Metabolite(\n",
    "    'malACP_c',\n",
    "    formula='C14H22N2O10PRS',\n",
    "    name='Malonyl-acyl-carrier-protein',\n",
    "    compartment='c')\n",
    "h_c = Metabolite('h_c', formula='H', name='H', compartment='c')\n",
    "ddcaACP_c = Metabolite(\n",
    "    'ddcaACP_c',\n",
    "    formula='C23H43N2O8PRS',\n",
    "    name='Dodecanoyl-ACP-n-C120ACP',\n",
    "    compartment='c')"
   ]
  },
  {
   "cell_type": "code",
   "execution_count": 42,
   "metadata": {},
   "outputs": [
    {
     "data": {
      "text/plain": [
       "'ddcaACP_c + h_c + malACP_c --> 3omrsACP_c + ACP_c + co2_c'"
      ]
     },
     "execution_count": 42,
     "metadata": {},
     "output_type": "execute_result"
    }
   ],
   "source": [
    "reaction.add_metabolites({\n",
    "    malACP_c: -1.0,\n",
    "    h_c: -1.0,\n",
    "    ddcaACP_c: -1.0,\n",
    "    co2_c: 1.0,\n",
    "    ACP_c: 1.0,\n",
    "    omrsACP_c: 1.0\n",
    "})\n",
    "\n",
    "reaction.reaction  # This gives a string representation of the reaction"
   ]
  },
  {
   "cell_type": "code",
   "execution_count": 43,
   "metadata": {},
   "outputs": [
    {
     "data": {
      "text/plain": [
       "frozenset({<Gene STM1197 at 0x1357bec6278>, <Gene STM2378 at 0x1357bec6a58>})"
      ]
     },
     "execution_count": 43,
     "metadata": {},
     "output_type": "execute_result"
    }
   ],
   "source": [
    "reaction.gene_reaction_rule = '( STM2378 or STM1197 )'\n",
    "reaction.genes"
   ]
  },
  {
   "cell_type": "code",
   "execution_count": 44,
   "metadata": {},
   "outputs": [
    {
     "name": "stdout",
     "output_type": "stream",
     "text": [
      "0 reactions initially\n",
      "0 metabolites initially\n",
      "0 genes initially\n"
     ]
    }
   ],
   "source": [
    "print('%i reactions initially' % len(model.reactions))\n",
    "print('%i metabolites initially' % len(model.metabolites))\n",
    "print('%i genes initially' % len(model.genes))"
   ]
  },
  {
   "cell_type": "code",
   "execution_count": 45,
   "metadata": {},
   "outputs": [
    {
     "name": "stdout",
     "output_type": "stream",
     "text": [
      "1 reaction\n",
      "6 metabolites\n",
      "2 genes\n"
     ]
    }
   ],
   "source": [
    "model.add_reactions([reaction])\n",
    "\n",
    "# Now there are things in the model\n",
    "print('%i reaction' % len(model.reactions))\n",
    "print('%i metabolites' % len(model.metabolites))\n",
    "print('%i genes' % len(model.genes))"
   ]
  },
  {
   "cell_type": "code",
   "execution_count": 46,
   "metadata": {},
   "outputs": [
    {
     "name": "stdout",
     "output_type": "stream",
     "text": [
      "Reactions\n",
      "---------\n",
      "3OAS140 : ddcaACP_c + h_c + malACP_c --> 3omrsACP_c + ACP_c + co2_c\n",
      "\n",
      "Metabolites\n",
      "-----------\n",
      " malACP_c : C14H22N2O10PRS\n",
      "      h_c : H\n",
      "ddcaACP_c : C23H43N2O8PRS\n",
      "    co2_c : CO2\n",
      "    ACP_c : C11H21N2O7PRS\n",
      "3omrsACP_c : C25H45N2O9PRS\n",
      "\n",
      "Genes\n",
      "-----\n",
      "STM2378 is associated with reactions: {3OAS140}\n",
      "STM1197 is associated with reactions: {3OAS140}\n"
     ]
    }
   ],
   "source": [
    "# Iterate through the the objects in the model\n",
    "print(\"Reactions\")\n",
    "print(\"---------\")\n",
    "for x in model.reactions:\n",
    "    print(\"%s : %s\" % (x.id, x.reaction))\n",
    "\n",
    "print(\"\")\n",
    "print(\"Metabolites\")\n",
    "print(\"-----------\")\n",
    "for x in model.metabolites:\n",
    "    print('%9s : %s' % (x.id, x.formula))\n",
    "\n",
    "print(\"\")\n",
    "print(\"Genes\")\n",
    "print(\"-----\")\n",
    "for x in model.genes:\n",
    "    associated_ids = (i.id for i in x.reactions)\n",
    "    print(\"%s is associated with reactions: %s\" %\n",
    "          (x.id, \"{\" + \", \".join(associated_ids) + \"}\"))"
   ]
  },
  {
   "cell_type": "code",
   "execution_count": 47,
   "metadata": {},
   "outputs": [],
   "source": [
    "model.objective = '3OAS140'"
   ]
  },
  {
   "cell_type": "code",
   "execution_count": 48,
   "metadata": {},
   "outputs": [
    {
     "name": "stdout",
     "output_type": "stream",
     "text": [
      "-1.0*3OAS140_reverse_65ddc + 1.0*3OAS140\n",
      "max\n"
     ]
    }
   ],
   "source": [
    "print(model.objective.expression)\n",
    "print(model.objective.direction)"
   ]
  },
  {
   "cell_type": "code",
   "execution_count": 49,
   "metadata": {},
   "outputs": [
    {
     "name": "stdout",
     "output_type": "stream",
     "text": [
      "mini test files: \n",
      "mini.json, mini.mat, mini.pickle, mini.yml, mini_cobra.xml, mini_fbc1.xml, mini_fbc2.xml, mini_fbc2.xml.bz2, mini_fbc2.xml.gz\n"
     ]
    }
   ],
   "source": [
    "import cobra.test\n",
    "import os\n",
    "from os.path import join\n",
    "\n",
    "data_dir = cobra.test.data_dir\n",
    "\n",
    "print(\"mini test files: \")\n",
    "print(\", \".join(i for i in os.listdir(data_dir) if i.startswith(\"mini\")))\n",
    "\n",
    "textbook_model = cobra.test.create_test_model(\"textbook\")\n",
    "ecoli_model = cobra.test.create_test_model(\"ecoli\")\n",
    "salmonella_model = cobra.test.create_test_model(\"salmonella\")"
   ]
  },
  {
   "cell_type": "code",
   "execution_count": 50,
   "metadata": {},
   "outputs": [
    {
     "data": {
      "text/html": [
       "\n",
       "        <table>\n",
       "            <tr>\n",
       "                <td><strong>Name</strong></td>\n",
       "                <td>mini_textbook</td>\n",
       "            </tr><tr>\n",
       "                <td><strong>Memory address</strong></td>\n",
       "                <td>0x01357c78ecf8</td>\n",
       "            </tr><tr>\n",
       "                <td><strong>Number of metabolites</strong></td>\n",
       "                <td>23</td>\n",
       "            </tr><tr>\n",
       "                <td><strong>Number of reactions</strong></td>\n",
       "                <td>18</td>\n",
       "            </tr><tr>\n",
       "                <td><strong>Objective expression</strong></td>\n",
       "                <td>-1.0*ATPM_reverse_5b752 - 1.0*PFK_reverse_d24a6 + 1.0*PFK + 1.0*ATPM</td>\n",
       "            </tr><tr>\n",
       "                <td><strong>Compartments</strong></td>\n",
       "                <td>cytosol, extracellular</td>\n",
       "            </tr>\n",
       "          </table>"
      ],
      "text/plain": [
       "<Model mini_textbook at 0x1357c78ecf8>"
      ]
     },
     "execution_count": 50,
     "metadata": {},
     "output_type": "execute_result"
    }
   ],
   "source": [
    "cobra.io.read_sbml_model(join(data_dir, \"mini_fbc2.xml\"))"
   ]
  },
  {
   "cell_type": "code",
   "execution_count": 51,
   "metadata": {},
   "outputs": [],
   "source": [
    "cobra.io.write_sbml_model(textbook_model, \"test_fbc2.xml\")"
   ]
  },
  {
   "cell_type": "code",
   "execution_count": 52,
   "metadata": {},
   "outputs": [
    {
     "data": {
      "text/html": [
       "\n",
       "        <table>\n",
       "            <tr>\n",
       "                <td><strong>Name</strong></td>\n",
       "                <td>mini_textbook</td>\n",
       "            </tr><tr>\n",
       "                <td><strong>Memory address</strong></td>\n",
       "                <td>0x01357d5dd518</td>\n",
       "            </tr><tr>\n",
       "                <td><strong>Number of metabolites</strong></td>\n",
       "                <td>23</td>\n",
       "            </tr><tr>\n",
       "                <td><strong>Number of reactions</strong></td>\n",
       "                <td>18</td>\n",
       "            </tr><tr>\n",
       "                <td><strong>Objective expression</strong></td>\n",
       "                <td>-1.0*ATPM_reverse_5b752 - 1.0*PFK_reverse_d24a6 + 1.0*PFK + 1.0*ATPM</td>\n",
       "            </tr><tr>\n",
       "                <td><strong>Compartments</strong></td>\n",
       "                <td>cytosol, extracellular</td>\n",
       "            </tr>\n",
       "          </table>"
      ],
      "text/plain": [
       "<Model mini_textbook at 0x1357d5dd518>"
      ]
     },
     "execution_count": 52,
     "metadata": {},
     "output_type": "execute_result"
    }
   ],
   "source": [
    "cobra.io.load_json_model(join(data_dir, \"mini.json\"))"
   ]
  },
  {
   "cell_type": "code",
   "execution_count": 53,
   "metadata": {},
   "outputs": [],
   "source": [
    "cobra.io.save_json_model(textbook_model, \"test.json\")"
   ]
  },
  {
   "cell_type": "code",
   "execution_count": 96,
   "metadata": {},
   "outputs": [
    {
     "data": {
      "text/html": [
       "\n",
       "        <table>\n",
       "            <tr>\n",
       "                <td><strong>Name</strong></td>\n",
       "                <td>iNF517</td>\n",
       "            </tr><tr>\n",
       "                <td><strong>Memory address</strong></td>\n",
       "                <td>0x01357f954cc0</td>\n",
       "            </tr><tr>\n",
       "                <td><strong>Number of metabolites</strong></td>\n",
       "                <td>650</td>\n",
       "            </tr><tr>\n",
       "                <td><strong>Number of reactions</strong></td>\n",
       "                <td>754</td>\n",
       "            </tr><tr>\n",
       "                <td><strong>Objective expression</strong></td>\n",
       "                <td>-1.0*BIOMASS_LLA_reverse_0796e + 1.0*BIOMASS_LLA</td>\n",
       "            </tr><tr>\n",
       "                <td><strong>Compartments</strong></td>\n",
       "                <td>cytosol, extracellular space</td>\n",
       "            </tr>\n",
       "          </table>"
      ],
      "text/plain": [
       "<Model iNF517 at 0x1357f954cc0>"
      ]
     },
     "execution_count": 96,
     "metadata": {},
     "output_type": "execute_result"
    }
   ],
   "source": [
    "plantarum = cobra.io.load_json_model(join(\"iNF517.json\"))\n",
    "plantarum"
   ]
  },
  {
   "cell_type": "code",
   "execution_count": 97,
   "metadata": {},
   "outputs": [],
   "source": [
    "import cobra.test\n",
    "model = cobra.test.create_test_model(\"textbook\")"
   ]
  },
  {
   "cell_type": "code",
   "execution_count": 98,
   "metadata": {},
   "outputs": [
    {
     "name": "stdout",
     "output_type": "stream",
     "text": [
      "<Solution 0.874 at 0x13568b37160>\n"
     ]
    }
   ],
   "source": [
    "solution = model.optimize()\n",
    "print(solution)"
   ]
  },
  {
   "cell_type": "code",
   "execution_count": 99,
   "metadata": {},
   "outputs": [
    {
     "name": "stdout",
     "output_type": "stream",
     "text": [
      "<Solution 0.043 at 0x1357f9f21d0>\n"
     ]
    }
   ],
   "source": [
    "solution2 = plantarum.optimize()\n",
    "print(solution2)"
   ]
  },
  {
   "cell_type": "code",
   "execution_count": 100,
   "metadata": {},
   "outputs": [
    {
     "data": {
      "text/plain": [
       "0.8739215069684307"
      ]
     },
     "execution_count": 100,
     "metadata": {},
     "output_type": "execute_result"
    }
   ],
   "source": [
    "solution.objective_value"
   ]
  },
  {
   "cell_type": "code",
   "execution_count": 101,
   "metadata": {},
   "outputs": [
    {
     "data": {
      "text/plain": [
       "0.042634605443373254"
      ]
     },
     "execution_count": 101,
     "metadata": {},
     "output_type": "execute_result"
    }
   ],
   "source": [
    "solution2.objective_value"
   ]
  },
  {
   "cell_type": "code",
   "execution_count": 102,
   "metadata": {},
   "outputs": [
    {
     "name": "stdout",
     "output_type": "stream",
     "text": [
      "Wall time: 0 ns\n"
     ]
    },
    {
     "data": {
      "text/plain": [
       "0.8739215069684307"
      ]
     },
     "execution_count": 102,
     "metadata": {},
     "output_type": "execute_result"
    }
   ],
   "source": [
    "%%time\n",
    "model.optimize().objective_value"
   ]
  },
  {
   "cell_type": "code",
   "execution_count": 103,
   "metadata": {},
   "outputs": [
    {
     "name": "stdout",
     "output_type": "stream",
     "text": [
      "Wall time: 0 ns\n"
     ]
    },
    {
     "data": {
      "text/plain": [
       "0.8739215069684307"
      ]
     },
     "execution_count": 103,
     "metadata": {},
     "output_type": "execute_result"
    }
   ],
   "source": [
    "%%time\n",
    "model.slim_optimize()"
   ]
  },
  {
   "cell_type": "code",
   "execution_count": 104,
   "metadata": {},
   "outputs": [
    {
     "name": "stdout",
     "output_type": "stream",
     "text": [
      "IN FLUXES        OUT FLUXES    OBJECTIVES\n",
      "---------------  ------------  ----------------------\n",
      "o2_e      21.8   h2o_e  29.2   Biomass_Ecol...  0.874\n",
      "glc__D_e  10     co2_e  22.8\n",
      "nh4_e      4.77  h_e    17.5\n",
      "pi_e       3.21\n"
     ]
    }
   ],
   "source": [
    "model.summary()"
   ]
  },
  {
   "cell_type": "code",
   "execution_count": 105,
   "metadata": {},
   "outputs": [
    {
     "name": "stdout",
     "output_type": "stream",
     "text": [
      "IN FLUXES            OUT FLUXES          OBJECTIVES\n",
      "-------------------  ------------------  -------------------\n",
      "glc__D_e   1.26      h_e       2.95      BIOMASS_LLA  0.0426\n",
      "h2o_e      0.364     for_e     1.78\n",
      "glu__L_e   0.05      etoh_e    1.02\n",
      "ser__L_e   0.04      ac_e      0.83\n",
      "ala__L_e   0.0346    lac__L_e  0.4\n",
      "pi_e       0.0294    co2_e     0.247\n",
      "thr__L_e   0.0224    diact_e   0.053\n",
      "arg__L_e   0.02      pro__L_e  0.03\n",
      "leu__L_e   0.0158    ins_e     0.00539\n",
      "lys__L_e   0.0109    nh4_e     0.00378\n",
      "ile__L_e   0.0104    gcald_e   4.26e-07\n",
      "ade_e      0.0101\n",
      "val__L_e   0.01\n",
      "cys__L_e   0.00811\n",
      "phe__L_e   0.00716\n",
      "gua_e      0.00506\n",
      "orot_e     0.00439\n",
      "met__L_e   0.00426\n",
      "his__L_e   0.00322\n",
      "ura_e      0.00207\n",
      "thymd_e    0.00101\n",
      "nac_e      8.53e-05\n",
      "pnto__R_e  8.53e-06\n",
      "4abz_e     4.26e-07\n",
      "thm_e      4.26e-07\n"
     ]
    }
   ],
   "source": [
    "plantarum.summary()"
   ]
  },
  {
   "cell_type": "code",
   "execution_count": 106,
   "metadata": {},
   "outputs": [
    {
     "name": "stdout",
     "output_type": "stream",
     "text": [
      "PRODUCING REACTIONS -- Nicotinamide adenine dinucleotide - reduced (nadh_c)\n",
      "---------------------------------------------------------------------------\n",
      "%       FLUX  RXN ID      REACTION\n",
      "----  ------  ----------  --------------------------------------------------\n",
      "42%    16     GAPD        g3p_c + nad_c + pi_c <=> 13dpg_c + h_c + nadh_c\n",
      "24%     9.28  PDH         coa_c + nad_c + pyr_c --> accoa_c + co2_c + nadh_c\n",
      "13%     5.06  AKGDH       akg_c + coa_c + nad_c --> co2_c + nadh_c + succ...\n",
      "13%     5.06  MDH         mal__L_c + nad_c <=> h_c + nadh_c + oaa_c\n",
      "8%      3.1   Biomass...  1.496 3pg_c + 3.7478 accoa_c + 59.81 atp_c + 0....\n",
      "\n",
      "CONSUMING REACTIONS -- Nicotinamide adenine dinucleotide - reduced (nadh_c)\n",
      "---------------------------------------------------------------------------\n",
      "%       FLUX  RXN ID      REACTION\n",
      "----  ------  ----------  --------------------------------------------------\n",
      "100%   38.5   NADH16      4.0 h_c + nadh_c + q8_c --> 3.0 h_e + nad_c + q...\n"
     ]
    }
   ],
   "source": [
    "model.metabolites.nadh_c.summary()"
   ]
  },
  {
   "cell_type": "code",
   "execution_count": 107,
   "metadata": {},
   "outputs": [
    {
     "name": "stdout",
     "output_type": "stream",
     "text": [
      "PRODUCING REACTIONS -- Nicotinamide adenine dinucleotide - reduced (nadh_c)\n",
      "---------------------------------------------------------------------------\n",
      "%      FLUX  RXN ID    REACTION\n",
      "---  ------  --------  --------------------------------------------------\n",
      "98%  2.31    GAPD      g3p_c + nad_c + pi_c <=> 13dpg_c + h_c + nadh_c\n",
      "2%   0.053   ACTD      actn__R_c + nad_c <=> diact_c + h_c + nadh_c\n",
      "\n",
      "CONSUMING REACTIONS -- Nicotinamide adenine dinucleotide - reduced (nadh_c)\n",
      "---------------------------------------------------------------------------\n",
      "%      FLUX  RXN ID    REACTION\n",
      "---  ------  --------  --------------------------------------------------\n",
      "43%  1.02    ALCD2x    etoh_c + nad_c <=> acald_c + h_c + nadh_c\n",
      "38%  0.895   ACALD     acald_c + coa_c + nad_c <=> accoa_c + h_c + nadh_c\n",
      "17%  0.4     LDH_L     lac__L_c + nad_c <=> h_c + nadh_c + pyr_c\n",
      "1%   0.0137  G3PD1ir   dhap_c + h_c + nadh_c <=> glyc3p_c + nad_c\n"
     ]
    }
   ],
   "source": [
    "plantarum.metabolites.nadh_c.summary()"
   ]
  },
  {
   "cell_type": "code",
   "execution_count": 108,
   "metadata": {},
   "outputs": [
    {
     "name": "stdout",
     "output_type": "stream",
     "text": [
      "PRODUCING REACTIONS -- ATP (atp_c)\n",
      "----------------------------------\n",
      "%      FLUX  RXN ID      REACTION\n",
      "---  ------  ----------  --------------------------------------------------\n",
      "67%  45.5    ATPS4r      adp_c + 4.0 h_e + pi_c <=> atp_c + h2o_c + 3.0 h_c\n",
      "23%  16      PGK         3pg_c + atp_c <=> 13dpg_c + adp_c\n",
      "7%    5.06   SUCOAS      atp_c + coa_c + succ_c <=> adp_c + pi_c + succoa_c\n",
      "3%    1.76   PYK         adp_c + h_c + pep_c --> atp_c + pyr_c\n",
      "\n",
      "CONSUMING REACTIONS -- ATP (atp_c)\n",
      "----------------------------------\n",
      "%      FLUX  RXN ID      REACTION\n",
      "---  ------  ----------  --------------------------------------------------\n",
      "76%  52.3    Biomass...  1.496 3pg_c + 3.7478 accoa_c + 59.81 atp_c + 0....\n",
      "12%   8.39   ATPM        atp_c + h2o_c --> adp_c + h_c + pi_c\n",
      "11%   7.48   PFK         atp_c + f6p_c --> adp_c + fdp_c + h_c\n",
      "0%    0.223  GLNS        atp_c + glu__L_c + nh4_c --> adp_c + gln__L_c +...\n"
     ]
    }
   ],
   "source": [
    "model.metabolites.atp_c.summary()"
   ]
  },
  {
   "cell_type": "code",
   "execution_count": 109,
   "metadata": {},
   "outputs": [
    {
     "name": "stdout",
     "output_type": "stream",
     "text": [
      "PRODUCING REACTIONS -- ATP C10H12N5O13P3 (atp_c)\n",
      "------------------------------------------------\n",
      "%      FLUX  RXN ID      REACTION\n",
      "---  ------  ----------  --------------------------------------------------\n",
      "51%  2.31    PGK         3pg_c + atp_c <=> 13dpg_c + adp_c\n",
      "23%  1.02    PYK         adp_c + h_c + pep_c --> atp_c + pyr_c\n",
      "18%  0.826   ACKr        ac_c + atp_c <=> actp_c + adp_c\n",
      "3%   0.114   ADADir      atp_c + dcyt_c <=> adp_c + dcmp_c + h_c\n",
      "3%   0.114   CYTK2       atp_c + dcmp_c <=> adp_c + dcdp_c\n",
      "3%   0.114   NDPK7       atp_c + dcdp_c <=> adp_c + dctp_c\n",
      "0%   0.0125  CBMKr_c...  atp_c + co2_c + nh4_c <=> adp_c + cbp_c + 2.0 h_c\n",
      "\n",
      "CONSUMING REACTIONS -- ATP C10H12N5O13P3 (atp_c)\n",
      "------------------------------------------------\n",
      "%      FLUX  RXN ID      REACTION\n",
      "---  ------  ----------  --------------------------------------------------\n",
      "37%  1.68    BIOMASS...  0.0064 CPS_LLA_c + 0.00074 DNA_LLA_c + 0.00015 ...\n",
      "25%  1.11    PFK         atp_c + f6p_c --> adp_c + fdp_c + h_c\n",
      "8%   0.363   NDPK1       atp_c + gdp_c <=> adp_c + gtp_c\n",
      "5%   0.219   ADK1        amp_c + atp_c <=> 2.0 adp_c\n",
      "3%   0.14    NDPK2       atp_c + udp_c <=> adp_c + utp_c\n",
      "3%   0.126   UMPK        atp_c + ump_c --> adp_c + udp_c\n",
      "3%   0.118   CTPS1       atp_c + nh4_c + utp_c --> adp_c + ctp_c + 2.0 h...\n",
      "3%   0.116   URIK1       atp_c + uri_c --> adp_c + h_c + ump_c\n",
      "1%   0.0567  ATPS3r      adp_c + 3.0 h_e + pi_c <=> atp_c + h2o_c + 2.0 h_c\n",
      "1%   0.0548  PROTS_L...  0.087 alatrna_c + 0.042 argtrna_c + 0.047 asntr...\n",
      "1%   0.0531  GLNS        atp_c + glu__L_c + nh4_c --> adp_c + gln__L_c +...\n",
      "1%   0.05    GLUabc      atp_c + glu__L_e + h2o_c --> adp_c + glu__L_c +...\n",
      "1%   0.0389  ACCOAC      accoa_c + atp_c + hco3_c --> adp_c + h_c + malc...\n",
      "1%   0.0294  PIabc       atp_c + h2o_c + pi_e --> adp_c + h_c + 2.0 pi_c\n",
      "1%   0.0252  GLU5K       atp_c + glu__L_c --> adp_c + glu5p_c\n",
      "0%   0.0204  PC          atp_c + hco3_c + pyr_c --> adp_c + h_c + oaa_c ...\n",
      "0%   0.0164  PRPPS       atp_c + r5p_c <=> amp_c + h_c + prpp_c\n",
      "0%   0.0158  LEUTRS_1    atp_c + leu__L_c + trnaleu_c --> amp_c + h_c + ...\n",
      "0%   0.0156  ALATRS_1    ala__L_c + atp_c + trnaala_c --> alatrna_c + am...\n",
      "0%   0.0131  VALTRS_1    atp_c + trnaval_c + val__L_c --> amp_c + h_c + ...\n",
      "0%   0.0118  THRTRS_1    atp_c + thr__L_c + trnathr_c --> amp_c + h_c + ...\n",
      "0%   0.0117  NDPK3       atp_c + cdp_c <=> adp_c + ctp_c\n",
      "0%   0.0117  CYTK1       atp_c + cmp_c <=> adp_c + cdp_c\n",
      "0%   0.0106  GLYTRS_1    atp_c + gly_c + trnagly_c --> amp_c + glytrna_c...\n",
      "0%   0.0106  SERTRS_1    atp_c + ser__L_c + trnaser_c --> amp_c + h_c + ...\n",
      "0%   0.0104  ILETRS_1    atp_c + ile__L_c + trnaile_c --> amp_c + h_c + ...\n",
      "0%   0.0101  LYSTRS_1    atp_c + lys__L_c + trnalys_c --> amp_c + h_c + ...\n"
     ]
    }
   ],
   "source": [
    "plantarum.metabolites.atp_c.summary()"
   ]
  },
  {
   "cell_type": "code",
   "execution_count": 110,
   "metadata": {},
   "outputs": [],
   "source": [
    "biomass_rxn = model.reactions.get_by_id(\"Biomass_Ecoli_core\")"
   ]
  },
  {
   "cell_type": "code",
   "execution_count": 111,
   "metadata": {},
   "outputs": [
    {
     "data": {
      "text/plain": [
       "{<Reaction Biomass_Ecoli_core at 0x1350062cac8>: 1.0}"
      ]
     },
     "execution_count": 111,
     "metadata": {},
     "output_type": "execute_result"
    }
   ],
   "source": [
    "from cobra.util.solver import linear_reaction_coefficients\n",
    "linear_reaction_coefficients(model)"
   ]
  },
  {
   "cell_type": "code",
   "execution_count": 112,
   "metadata": {},
   "outputs": [
    {
     "data": {
      "text/plain": [
       "{<Reaction BIOMASS_LLA at 0x1350024b278>: 1.0}"
      ]
     },
     "execution_count": 112,
     "metadata": {},
     "output_type": "execute_result"
    }
   ],
   "source": [
    "linear_reaction_coefficients(plantarum)"
   ]
  },
  {
   "cell_type": "code",
   "execution_count": 113,
   "metadata": {},
   "outputs": [
    {
     "data": {
      "text/plain": [
       "{<Reaction ATPM at 0x1350062c160>: 1.0}"
      ]
     },
     "execution_count": 113,
     "metadata": {},
     "output_type": "execute_result"
    }
   ],
   "source": [
    "# change the objective to ATPM\n",
    "model.objective = \"ATPM\"\n",
    "\n",
    "# The upper bound should be 1000, so that we get\n",
    "# the actual optimal value\n",
    "model.reactions.get_by_id(\"ATPM\").upper_bound = 1000.\n",
    "linear_reaction_coefficients(model)"
   ]
  },
  {
   "cell_type": "code",
   "execution_count": 114,
   "metadata": {},
   "outputs": [
    {
     "data": {
      "text/plain": [
       "174.99999999999966"
      ]
     },
     "execution_count": 114,
     "metadata": {},
     "output_type": "execute_result"
    }
   ],
   "source": [
    "model.optimize().objective_value"
   ]
  },
  {
   "cell_type": "code",
   "execution_count": 115,
   "metadata": {},
   "outputs": [
    {
     "data": {
      "text/plain": [
       "{<Reaction PFK at 0x13500344470>: 1.0}"
      ]
     },
     "execution_count": 115,
     "metadata": {},
     "output_type": "execute_result"
    }
   ],
   "source": [
    "# change the objective to ATPM\n",
    "plantarum.objective = \"PFK\"\n",
    "\n",
    "# The upper bound should be 1000, so that we get\n",
    "# the actual optimal value\n",
    "plantarum.reactions.get_by_id(\"PFK\").upper_bound = 1000.\n",
    "linear_reaction_coefficients(plantarum)"
   ]
  },
  {
   "cell_type": "code",
   "execution_count": 116,
   "metadata": {},
   "outputs": [
    {
     "data": {
      "text/plain": [
       "7.713333333333322"
      ]
     },
     "execution_count": 116,
     "metadata": {},
     "output_type": "execute_result"
    }
   ],
   "source": [
    "plantarum.optimize().objective_value"
   ]
  },
  {
   "cell_type": "code",
   "execution_count": 117,
   "metadata": {},
   "outputs": [
    {
     "name": "stdout",
     "output_type": "stream",
     "text": [
      "PRODUCING REACTIONS -- ATP C10H12N5O13P3 (atp_c)\n",
      "------------------------------------------------\n",
      "%      FLUX  RXN ID      REACTION\n",
      "---  ------  ----------  --------------------------------------------------\n",
      "54%    4.24  PGK         3pg_c + atp_c <=> 13dpg_c + adp_c\n",
      "27%    2.12  PYK         adp_c + h_c + pep_c --> atp_c + pyr_c\n",
      "19%    1.54  ACKr        ac_c + atp_c <=> actp_c + adp_c\n",
      "0%     0.02  CBMKr_c...  atp_c + co2_c + nh4_c <=> adp_c + cbp_c + 2.0 h_c\n",
      "\n",
      "CONSUMING REACTIONS -- ATP C10H12N5O13P3 (atp_c)\n",
      "------------------------------------------------\n",
      "%      FLUX  RXN ID      REACTION\n",
      "---  ------  ----------  --------------------------------------------------\n",
      "97%    7.71  PFK         atp_c + f6p_c --> adp_c + fdp_c + h_c\n",
      "2%     0.12  FTHFLi      atp_c + for_c + thf_c --> 10fthf_c + adp_c + pi_c\n",
      "1%     0.05  GLU5K       atp_c + glu__L_c --> adp_c + glu5p_c\n",
      "0%     0.02  ASPK        asp__L_c + atp_c <=> 4pasp_c + adp_c\n",
      "0%     0.01  PC          atp_c + hco3_c + pyr_c --> adp_c + h_c + oaa_c ...\n"
     ]
    }
   ],
   "source": [
    "plantarum.metabolites.atp_c.summary()"
   ]
  },
  {
   "cell_type": "code",
   "execution_count": 118,
   "metadata": {},
   "outputs": [],
   "source": [
    "from cobra.flux_analysis import flux_variability_analysis"
   ]
  },
  {
   "cell_type": "code",
   "execution_count": 119,
   "metadata": {},
   "outputs": [
    {
     "data": {
      "text/html": [
       "<div>\n",
       "<style scoped>\n",
       "    .dataframe tbody tr th:only-of-type {\n",
       "        vertical-align: middle;\n",
       "    }\n",
       "\n",
       "    .dataframe tbody tr th {\n",
       "        vertical-align: top;\n",
       "    }\n",
       "\n",
       "    .dataframe thead th {\n",
       "        text-align: right;\n",
       "    }\n",
       "</style>\n",
       "<table border=\"1\" class=\"dataframe\">\n",
       "  <thead>\n",
       "    <tr style=\"text-align: right;\">\n",
       "      <th></th>\n",
       "      <th>maximum</th>\n",
       "      <th>minimum</th>\n",
       "    </tr>\n",
       "  </thead>\n",
       "  <tbody>\n",
       "    <tr>\n",
       "      <th>ACALD</th>\n",
       "      <td>-2.208811e-30</td>\n",
       "      <td>-5.247085e-14</td>\n",
       "    </tr>\n",
       "    <tr>\n",
       "      <th>ACALDt</th>\n",
       "      <td>0.000000e+00</td>\n",
       "      <td>-5.247085e-14</td>\n",
       "    </tr>\n",
       "    <tr>\n",
       "      <th>ACKr</th>\n",
       "      <td>0.000000e+00</td>\n",
       "      <td>-8.024953e-14</td>\n",
       "    </tr>\n",
       "    <tr>\n",
       "      <th>ACONTa</th>\n",
       "      <td>2.000000e+01</td>\n",
       "      <td>2.000000e+01</td>\n",
       "    </tr>\n",
       "    <tr>\n",
       "      <th>ACONTb</th>\n",
       "      <td>2.000000e+01</td>\n",
       "      <td>2.000000e+01</td>\n",
       "    </tr>\n",
       "    <tr>\n",
       "      <th>ACt2r</th>\n",
       "      <td>0.000000e+00</td>\n",
       "      <td>-8.024953e-14</td>\n",
       "    </tr>\n",
       "    <tr>\n",
       "      <th>ADK1</th>\n",
       "      <td>3.410605e-13</td>\n",
       "      <td>0.000000e+00</td>\n",
       "    </tr>\n",
       "    <tr>\n",
       "      <th>AKGDH</th>\n",
       "      <td>2.000000e+01</td>\n",
       "      <td>2.000000e+01</td>\n",
       "    </tr>\n",
       "    <tr>\n",
       "      <th>AKGt2r</th>\n",
       "      <td>0.000000e+00</td>\n",
       "      <td>-2.902643e-14</td>\n",
       "    </tr>\n",
       "    <tr>\n",
       "      <th>ALCD2x</th>\n",
       "      <td>0.000000e+00</td>\n",
       "      <td>-4.547474e-14</td>\n",
       "    </tr>\n",
       "  </tbody>\n",
       "</table>\n",
       "</div>"
      ],
      "text/plain": [
       "             maximum       minimum\n",
       "ACALD  -2.208811e-30 -5.247085e-14\n",
       "ACALDt  0.000000e+00 -5.247085e-14\n",
       "ACKr    0.000000e+00 -8.024953e-14\n",
       "ACONTa  2.000000e+01  2.000000e+01\n",
       "ACONTb  2.000000e+01  2.000000e+01\n",
       "ACt2r   0.000000e+00 -8.024953e-14\n",
       "ADK1    3.410605e-13  0.000000e+00\n",
       "AKGDH   2.000000e+01  2.000000e+01\n",
       "AKGt2r  0.000000e+00 -2.902643e-14\n",
       "ALCD2x  0.000000e+00 -4.547474e-14"
      ]
     },
     "execution_count": 119,
     "metadata": {},
     "output_type": "execute_result"
    }
   ],
   "source": [
    "flux_variability_analysis(model, model.reactions[:10])"
   ]
  },
  {
   "cell_type": "code",
   "execution_count": 120,
   "metadata": {},
   "outputs": [
    {
     "data": {
      "text/html": [
       "<div>\n",
       "<style scoped>\n",
       "    .dataframe tbody tr th:only-of-type {\n",
       "        vertical-align: middle;\n",
       "    }\n",
       "\n",
       "    .dataframe tbody tr th {\n",
       "        vertical-align: top;\n",
       "    }\n",
       "\n",
       "    .dataframe thead th {\n",
       "        text-align: right;\n",
       "    }\n",
       "</style>\n",
       "<table border=\"1\" class=\"dataframe\">\n",
       "  <thead>\n",
       "    <tr style=\"text-align: right;\">\n",
       "      <th></th>\n",
       "      <th>maximum</th>\n",
       "      <th>minimum</th>\n",
       "    </tr>\n",
       "  </thead>\n",
       "  <tbody>\n",
       "    <tr>\n",
       "      <th>ACALD</th>\n",
       "      <td>0.000000e+00</td>\n",
       "      <td>-2.692308</td>\n",
       "    </tr>\n",
       "    <tr>\n",
       "      <th>ACALDt</th>\n",
       "      <td>0.000000e+00</td>\n",
       "      <td>-2.692308</td>\n",
       "    </tr>\n",
       "    <tr>\n",
       "      <th>ACKr</th>\n",
       "      <td>6.635712e-30</td>\n",
       "      <td>-4.117647</td>\n",
       "    </tr>\n",
       "    <tr>\n",
       "      <th>ACONTa</th>\n",
       "      <td>2.000000e+01</td>\n",
       "      <td>8.461538</td>\n",
       "    </tr>\n",
       "    <tr>\n",
       "      <th>ACONTb</th>\n",
       "      <td>2.000000e+01</td>\n",
       "      <td>8.461538</td>\n",
       "    </tr>\n",
       "    <tr>\n",
       "      <th>ACt2r</th>\n",
       "      <td>0.000000e+00</td>\n",
       "      <td>-4.117647</td>\n",
       "    </tr>\n",
       "    <tr>\n",
       "      <th>ADK1</th>\n",
       "      <td>1.750000e+01</td>\n",
       "      <td>0.000000</td>\n",
       "    </tr>\n",
       "    <tr>\n",
       "      <th>AKGDH</th>\n",
       "      <td>2.000000e+01</td>\n",
       "      <td>2.500000</td>\n",
       "    </tr>\n",
       "    <tr>\n",
       "      <th>AKGt2r</th>\n",
       "      <td>2.651196e-16</td>\n",
       "      <td>-1.489362</td>\n",
       "    </tr>\n",
       "    <tr>\n",
       "      <th>ALCD2x</th>\n",
       "      <td>0.000000e+00</td>\n",
       "      <td>-2.333333</td>\n",
       "    </tr>\n",
       "  </tbody>\n",
       "</table>\n",
       "</div>"
      ],
      "text/plain": [
       "             maximum   minimum\n",
       "ACALD   0.000000e+00 -2.692308\n",
       "ACALDt  0.000000e+00 -2.692308\n",
       "ACKr    6.635712e-30 -4.117647\n",
       "ACONTa  2.000000e+01  8.461538\n",
       "ACONTb  2.000000e+01  8.461538\n",
       "ACt2r   0.000000e+00 -4.117647\n",
       "ADK1    1.750000e+01  0.000000\n",
       "AKGDH   2.000000e+01  2.500000\n",
       "AKGt2r  2.651196e-16 -1.489362\n",
       "ALCD2x  0.000000e+00 -2.333333"
      ]
     },
     "execution_count": 120,
     "metadata": {},
     "output_type": "execute_result"
    }
   ],
   "source": [
    "cobra.flux_analysis.flux_variability_analysis(\n",
    "    model, model.reactions[:10], fraction_of_optimum=0.9)"
   ]
  },
  {
   "cell_type": "code",
   "execution_count": 121,
   "metadata": {},
   "outputs": [
    {
     "data": {
      "text/html": [
       "<div>\n",
       "<style scoped>\n",
       "    .dataframe tbody tr th:only-of-type {\n",
       "        vertical-align: middle;\n",
       "    }\n",
       "\n",
       "    .dataframe tbody tr th {\n",
       "        vertical-align: top;\n",
       "    }\n",
       "\n",
       "    .dataframe thead th {\n",
       "        text-align: right;\n",
       "    }\n",
       "</style>\n",
       "<table border=\"1\" class=\"dataframe\">\n",
       "  <thead>\n",
       "    <tr style=\"text-align: right;\">\n",
       "      <th></th>\n",
       "      <th>maximum</th>\n",
       "      <th>minimum</th>\n",
       "    </tr>\n",
       "  </thead>\n",
       "  <tbody>\n",
       "    <tr>\n",
       "      <th>FRD7</th>\n",
       "      <td>980.0</td>\n",
       "      <td>0.0</td>\n",
       "    </tr>\n",
       "    <tr>\n",
       "      <th>SUCDi</th>\n",
       "      <td>1000.0</td>\n",
       "      <td>20.0</td>\n",
       "    </tr>\n",
       "  </tbody>\n",
       "</table>\n",
       "</div>"
      ],
      "text/plain": [
       "       maximum  minimum\n",
       "FRD7     980.0      0.0\n",
       "SUCDi   1000.0     20.0"
      ]
     },
     "execution_count": 121,
     "metadata": {},
     "output_type": "execute_result"
    }
   ],
   "source": [
    "loop_reactions = [model.reactions.FRD7, model.reactions.SUCDi]\n",
    "flux_variability_analysis(model, reaction_list=loop_reactions, loopless=False)"
   ]
  },
  {
   "cell_type": "code",
   "execution_count": 122,
   "metadata": {},
   "outputs": [
    {
     "data": {
      "text/html": [
       "<div>\n",
       "<style scoped>\n",
       "    .dataframe tbody tr th:only-of-type {\n",
       "        vertical-align: middle;\n",
       "    }\n",
       "\n",
       "    .dataframe tbody tr th {\n",
       "        vertical-align: top;\n",
       "    }\n",
       "\n",
       "    .dataframe thead th {\n",
       "        text-align: right;\n",
       "    }\n",
       "</style>\n",
       "<table border=\"1\" class=\"dataframe\">\n",
       "  <thead>\n",
       "    <tr style=\"text-align: right;\">\n",
       "      <th></th>\n",
       "      <th>maximum</th>\n",
       "      <th>minimum</th>\n",
       "    </tr>\n",
       "  </thead>\n",
       "  <tbody>\n",
       "    <tr>\n",
       "      <th>FRD7</th>\n",
       "      <td>0.0</td>\n",
       "      <td>0.0</td>\n",
       "    </tr>\n",
       "    <tr>\n",
       "      <th>SUCDi</th>\n",
       "      <td>20.0</td>\n",
       "      <td>20.0</td>\n",
       "    </tr>\n",
       "  </tbody>\n",
       "</table>\n",
       "</div>"
      ],
      "text/plain": [
       "       maximum  minimum\n",
       "FRD7       0.0      0.0\n",
       "SUCDi     20.0     20.0"
      ]
     },
     "execution_count": 122,
     "metadata": {},
     "output_type": "execute_result"
    }
   ],
   "source": [
    "flux_variability_analysis(model, reaction_list=loop_reactions, loopless=True)"
   ]
  },
  {
   "cell_type": "code",
   "execution_count": 123,
   "metadata": {},
   "outputs": [
    {
     "name": "stdout",
     "output_type": "stream",
     "text": [
      "IN FLUXES                     OUT FLUXES                    OBJECTIVES\n",
      "----------------------------  ----------------------------  ------------\n",
      "id          Flux  Range       id          Flux  Range       ATPM  175\n",
      "--------  ------  ----------  --------  ------  ----------\n",
      "o2_e          60  [55.9, 60]  co2_e         60  [54.2, 60]\n",
      "glc__D_e      10  [9.5, 10]   h2o_e         60  [54.2, 60]\n",
      "nh4_e          0  [0, 0.673]  for_e          0  [0, 5.83]\n",
      "pi_e           0  [0, 0.171]  h_e            0  [0, 5.83]\n",
      "                              ac_e           0  [0, 2.06]\n",
      "                              acald_e        0  [0, 1.35]\n",
      "                              pyr_e          0  [0, 1.35]\n",
      "                              etoh_e         0  [0, 1.17]\n",
      "                              lac__D_e       0  [0, 1.13]\n",
      "                              succ_e         0  [0, 0.875]\n",
      "                              akg_e          0  [0, 0.745]\n",
      "                              glu__L_e       0  [0, 0.673]\n"
     ]
    }
   ],
   "source": [
    "model.optimize()\n",
    "model.summary(fva=0.95)"
   ]
  },
  {
   "cell_type": "code",
   "execution_count": 125,
   "metadata": {},
   "outputs": [],
   "source": [
    "# Doesn't Run\n",
    "# model.metabolites.pyr_c.summary(fva=0.95)"
   ]
  },
  {
   "cell_type": "code",
   "execution_count": 126,
   "metadata": {},
   "outputs": [],
   "source": [
    "model.objective = 'Biomass_Ecoli_core'\n",
    "fba_solution = model.optimize()\n",
    "pfba_solution = cobra.flux_analysis.pfba(model)"
   ]
  },
  {
   "cell_type": "code",
   "execution_count": 127,
   "metadata": {},
   "outputs": [
    {
     "data": {
      "text/plain": [
       "5.551115123125783e-16"
      ]
     },
     "execution_count": 127,
     "metadata": {},
     "output_type": "execute_result"
    }
   ],
   "source": [
    "abs(fba_solution.fluxes[\"Biomass_Ecoli_core\"] - pfba_solution.fluxes[\n",
    "    \"Biomass_Ecoli_core\"])"
   ]
  },
  {
   "cell_type": "code",
   "execution_count": 128,
   "metadata": {},
   "outputs": [],
   "source": [
    "import pandas\n",
    "from time import time\n",
    "\n",
    "import cobra.test\n",
    "from cobra.flux_analysis import (\n",
    "    single_gene_deletion, single_reaction_deletion, double_gene_deletion,\n",
    "    double_reaction_deletion)\n",
    "\n",
    "cobra_model = cobra.test.create_test_model(\"textbook\")\n",
    "ecoli_model = cobra.test.create_test_model(\"ecoli\")"
   ]
  },
  {
   "cell_type": "code",
   "execution_count": 129,
   "metadata": {},
   "outputs": [
    {
     "name": "stdout",
     "output_type": "stream",
     "text": [
      "complete model:  <Solution 0.874 at 0x13501647550>\n",
      "pfk knocked out:  <Solution 0.704 at 0x135016477b8>\n"
     ]
    }
   ],
   "source": [
    "print('complete model: ', cobra_model.optimize())\n",
    "with cobra_model:\n",
    "    cobra_model.reactions.PFK.knock_out()\n",
    "    print('pfk knocked out: ', cobra_model.optimize())"
   ]
  },
  {
   "cell_type": "code",
   "execution_count": 130,
   "metadata": {},
   "outputs": [
    {
     "name": "stdout",
     "output_type": "stream",
     "text": [
      "complete model:  <Solution 0.874 at 0x13501647128>\n",
      "pfkA knocked out:  <Solution 0.874 at 0x135016472b0>\n",
      "pfkB knocked out:  <Solution 0.704 at 0x135016472e8>\n"
     ]
    }
   ],
   "source": [
    "print('complete model: ', cobra_model.optimize())\n",
    "with cobra_model:\n",
    "    cobra_model.genes.b1723.knock_out()\n",
    "    print('pfkA knocked out: ', cobra_model.optimize())\n",
    "    cobra_model.genes.b3916.knock_out()\n",
    "    print('pfkB knocked out: ', cobra_model.optimize())"
   ]
  },
  {
   "cell_type": "code",
   "execution_count": 131,
   "metadata": {},
   "outputs": [],
   "source": [
    "deletion_results = single_gene_deletion(cobra_model)"
   ]
  },
  {
   "cell_type": "code",
   "execution_count": 132,
   "metadata": {},
   "outputs": [
    {
     "data": {
      "text/html": [
       "<div>\n",
       "<style scoped>\n",
       "    .dataframe tbody tr th:only-of-type {\n",
       "        vertical-align: middle;\n",
       "    }\n",
       "\n",
       "    .dataframe tbody tr th {\n",
       "        vertical-align: top;\n",
       "    }\n",
       "\n",
       "    .dataframe thead th {\n",
       "        text-align: right;\n",
       "    }\n",
       "</style>\n",
       "<table border=\"1\" class=\"dataframe\">\n",
       "  <thead>\n",
       "    <tr style=\"text-align: right;\">\n",
       "      <th></th>\n",
       "      <th>growth</th>\n",
       "      <th>status</th>\n",
       "    </tr>\n",
       "    <tr>\n",
       "      <th>ids</th>\n",
       "      <th></th>\n",
       "      <th></th>\n",
       "    </tr>\n",
       "  </thead>\n",
       "  <tbody>\n",
       "    <tr>\n",
       "      <th>(b0474)</th>\n",
       "      <td>0.873922</td>\n",
       "      <td>optimal</td>\n",
       "    </tr>\n",
       "    <tr>\n",
       "      <th>(b1478)</th>\n",
       "      <td>0.873922</td>\n",
       "      <td>optimal</td>\n",
       "    </tr>\n",
       "    <tr>\n",
       "      <th>(b1241)</th>\n",
       "      <td>0.873922</td>\n",
       "      <td>optimal</td>\n",
       "    </tr>\n",
       "    <tr>\n",
       "      <th>(b3115)</th>\n",
       "      <td>0.873922</td>\n",
       "      <td>optimal</td>\n",
       "    </tr>\n",
       "    <tr>\n",
       "      <th>(b1276)</th>\n",
       "      <td>0.873922</td>\n",
       "      <td>optimal</td>\n",
       "    </tr>\n",
       "    <tr>\n",
       "      <th>(b1849)</th>\n",
       "      <td>0.873922</td>\n",
       "      <td>optimal</td>\n",
       "    </tr>\n",
       "    <tr>\n",
       "      <th>(b0118)</th>\n",
       "      <td>0.873922</td>\n",
       "      <td>optimal</td>\n",
       "    </tr>\n",
       "    <tr>\n",
       "      <th>(b0116)</th>\n",
       "      <td>0.782351</td>\n",
       "      <td>optimal</td>\n",
       "    </tr>\n",
       "    <tr>\n",
       "      <th>(b3736)</th>\n",
       "      <td>0.374230</td>\n",
       "      <td>optimal</td>\n",
       "    </tr>\n",
       "    <tr>\n",
       "      <th>(b0727)</th>\n",
       "      <td>0.858307</td>\n",
       "      <td>optimal</td>\n",
       "    </tr>\n",
       "    <tr>\n",
       "      <th>(b0351)</th>\n",
       "      <td>0.873922</td>\n",
       "      <td>optimal</td>\n",
       "    </tr>\n",
       "    <tr>\n",
       "      <th>(s0001)</th>\n",
       "      <td>0.211141</td>\n",
       "      <td>optimal</td>\n",
       "    </tr>\n",
       "    <tr>\n",
       "      <th>(b0726)</th>\n",
       "      <td>0.858307</td>\n",
       "      <td>optimal</td>\n",
       "    </tr>\n",
       "    <tr>\n",
       "      <th>(b0356)</th>\n",
       "      <td>0.873922</td>\n",
       "      <td>optimal</td>\n",
       "    </tr>\n",
       "    <tr>\n",
       "      <th>(b2587)</th>\n",
       "      <td>0.873922</td>\n",
       "      <td>optimal</td>\n",
       "    </tr>\n",
       "    <tr>\n",
       "      <th>(b3735)</th>\n",
       "      <td>0.374230</td>\n",
       "      <td>optimal</td>\n",
       "    </tr>\n",
       "    <tr>\n",
       "      <th>(b3733)</th>\n",
       "      <td>0.374230</td>\n",
       "      <td>optimal</td>\n",
       "    </tr>\n",
       "    <tr>\n",
       "      <th>(b3732)</th>\n",
       "      <td>0.374230</td>\n",
       "      <td>optimal</td>\n",
       "    </tr>\n",
       "    <tr>\n",
       "      <th>(b2296)</th>\n",
       "      <td>0.873922</td>\n",
       "      <td>optimal</td>\n",
       "    </tr>\n",
       "    <tr>\n",
       "      <th>(b3734)</th>\n",
       "      <td>0.374230</td>\n",
       "      <td>optimal</td>\n",
       "    </tr>\n",
       "  </tbody>\n",
       "</table>\n",
       "</div>"
      ],
      "text/plain": [
       "           growth   status\n",
       "ids                       \n",
       "(b0474)  0.873922  optimal\n",
       "(b1478)  0.873922  optimal\n",
       "(b1241)  0.873922  optimal\n",
       "(b3115)  0.873922  optimal\n",
       "(b1276)  0.873922  optimal\n",
       "(b1849)  0.873922  optimal\n",
       "(b0118)  0.873922  optimal\n",
       "(b0116)  0.782351  optimal\n",
       "(b3736)  0.374230  optimal\n",
       "(b0727)  0.858307  optimal\n",
       "(b0351)  0.873922  optimal\n",
       "(s0001)  0.211141  optimal\n",
       "(b0726)  0.858307  optimal\n",
       "(b0356)  0.873922  optimal\n",
       "(b2587)  0.873922  optimal\n",
       "(b3735)  0.374230  optimal\n",
       "(b3733)  0.374230  optimal\n",
       "(b3732)  0.374230  optimal\n",
       "(b2296)  0.873922  optimal\n",
       "(b3734)  0.374230  optimal"
      ]
     },
     "execution_count": 132,
     "metadata": {},
     "output_type": "execute_result"
    }
   ],
   "source": [
    "single_gene_deletion(cobra_model, cobra_model.genes[:20])"
   ]
  },
  {
   "cell_type": "code",
   "execution_count": 133,
   "metadata": {},
   "outputs": [
    {
     "data": {
      "text/html": [
       "<div>\n",
       "<style scoped>\n",
       "    .dataframe tbody tr th:only-of-type {\n",
       "        vertical-align: middle;\n",
       "    }\n",
       "\n",
       "    .dataframe tbody tr th {\n",
       "        vertical-align: top;\n",
       "    }\n",
       "\n",
       "    .dataframe thead th {\n",
       "        text-align: right;\n",
       "    }\n",
       "</style>\n",
       "<table border=\"1\" class=\"dataframe\">\n",
       "  <thead>\n",
       "    <tr style=\"text-align: right;\">\n",
       "      <th></th>\n",
       "      <th>growth</th>\n",
       "      <th>status</th>\n",
       "    </tr>\n",
       "    <tr>\n",
       "      <th>ids</th>\n",
       "      <th></th>\n",
       "      <th></th>\n",
       "    </tr>\n",
       "  </thead>\n",
       "  <tbody>\n",
       "    <tr>\n",
       "      <th>(LLMG_RS08940)</th>\n",
       "      <td>7.713333</td>\n",
       "      <td>optimal</td>\n",
       "    </tr>\n",
       "    <tr>\n",
       "      <th>(LLMG_RS09820)</th>\n",
       "      <td>7.713333</td>\n",
       "      <td>optimal</td>\n",
       "    </tr>\n",
       "    <tr>\n",
       "      <th>(LLMG_RS09160)</th>\n",
       "      <td>7.713333</td>\n",
       "      <td>optimal</td>\n",
       "    </tr>\n",
       "    <tr>\n",
       "      <th>(LLMG_RS02245)</th>\n",
       "      <td>7.713333</td>\n",
       "      <td>optimal</td>\n",
       "    </tr>\n",
       "    <tr>\n",
       "      <th>(LLMG_RS09905)</th>\n",
       "      <td>7.713333</td>\n",
       "      <td>optimal</td>\n",
       "    </tr>\n",
       "    <tr>\n",
       "      <th>(LLMG_RS04745)</th>\n",
       "      <td>7.713333</td>\n",
       "      <td>optimal</td>\n",
       "    </tr>\n",
       "    <tr>\n",
       "      <th>(LLMG_RS11480)</th>\n",
       "      <td>7.713333</td>\n",
       "      <td>optimal</td>\n",
       "    </tr>\n",
       "    <tr>\n",
       "      <th>(LLMG_RS11485)</th>\n",
       "      <td>7.713333</td>\n",
       "      <td>optimal</td>\n",
       "    </tr>\n",
       "    <tr>\n",
       "      <th>(LLMG_RS08925)</th>\n",
       "      <td>7.713333</td>\n",
       "      <td>optimal</td>\n",
       "    </tr>\n",
       "    <tr>\n",
       "      <th>(LLMG_RS07345)</th>\n",
       "      <td>7.713333</td>\n",
       "      <td>optimal</td>\n",
       "    </tr>\n",
       "    <tr>\n",
       "      <th>(LLMG_RS08930)</th>\n",
       "      <td>7.713333</td>\n",
       "      <td>optimal</td>\n",
       "    </tr>\n",
       "    <tr>\n",
       "      <th>(LLMG_RS08820)</th>\n",
       "      <td>7.713333</td>\n",
       "      <td>optimal</td>\n",
       "    </tr>\n",
       "    <tr>\n",
       "      <th>(LLMG_RS08920)</th>\n",
       "      <td>7.713333</td>\n",
       "      <td>optimal</td>\n",
       "    </tr>\n",
       "    <tr>\n",
       "      <th>(LLMG_RS06630)</th>\n",
       "      <td>7.683333</td>\n",
       "      <td>optimal</td>\n",
       "    </tr>\n",
       "    <tr>\n",
       "      <th>(LLMG_RS00675)</th>\n",
       "      <td>NaN</td>\n",
       "      <td>infeasible</td>\n",
       "    </tr>\n",
       "    <tr>\n",
       "      <th>(LLMG_RS10805)</th>\n",
       "      <td>7.713333</td>\n",
       "      <td>optimal</td>\n",
       "    </tr>\n",
       "    <tr>\n",
       "      <th>(LLMG_RS09975)</th>\n",
       "      <td>7.713333</td>\n",
       "      <td>optimal</td>\n",
       "    </tr>\n",
       "    <tr>\n",
       "      <th>(LLMG_RS05745)</th>\n",
       "      <td>5.319011</td>\n",
       "      <td>optimal</td>\n",
       "    </tr>\n",
       "    <tr>\n",
       "      <th>(LLMG_RS12215)</th>\n",
       "      <td>5.964183</td>\n",
       "      <td>optimal</td>\n",
       "    </tr>\n",
       "    <tr>\n",
       "      <th>(LLMG_RS00670)</th>\n",
       "      <td>NaN</td>\n",
       "      <td>infeasible</td>\n",
       "    </tr>\n",
       "  </tbody>\n",
       "</table>\n",
       "</div>"
      ],
      "text/plain": [
       "                  growth      status\n",
       "ids                                 \n",
       "(LLMG_RS08940)  7.713333     optimal\n",
       "(LLMG_RS09820)  7.713333     optimal\n",
       "(LLMG_RS09160)  7.713333     optimal\n",
       "(LLMG_RS02245)  7.713333     optimal\n",
       "(LLMG_RS09905)  7.713333     optimal\n",
       "(LLMG_RS04745)  7.713333     optimal\n",
       "(LLMG_RS11480)  7.713333     optimal\n",
       "(LLMG_RS11485)  7.713333     optimal\n",
       "(LLMG_RS08925)  7.713333     optimal\n",
       "(LLMG_RS07345)  7.713333     optimal\n",
       "(LLMG_RS08930)  7.713333     optimal\n",
       "(LLMG_RS08820)  7.713333     optimal\n",
       "(LLMG_RS08920)  7.713333     optimal\n",
       "(LLMG_RS06630)  7.683333     optimal\n",
       "(LLMG_RS00675)       NaN  infeasible\n",
       "(LLMG_RS10805)  7.713333     optimal\n",
       "(LLMG_RS09975)  7.713333     optimal\n",
       "(LLMG_RS05745)  5.319011     optimal\n",
       "(LLMG_RS12215)  5.964183     optimal\n",
       "(LLMG_RS00670)       NaN  infeasible"
      ]
     },
     "execution_count": 133,
     "metadata": {},
     "output_type": "execute_result"
    }
   ],
   "source": [
    "single_gene_deletion(plantarum, plantarum.genes[:20])"
   ]
  },
  {
   "cell_type": "code",
   "execution_count": 134,
   "metadata": {},
   "outputs": [
    {
     "data": {
      "text/html": [
       "<div>\n",
       "<style scoped>\n",
       "    .dataframe tbody tr th:only-of-type {\n",
       "        vertical-align: middle;\n",
       "    }\n",
       "\n",
       "    .dataframe tbody tr th {\n",
       "        vertical-align: top;\n",
       "    }\n",
       "\n",
       "    .dataframe thead th {\n",
       "        text-align: right;\n",
       "    }\n",
       "</style>\n",
       "<table border=\"1\" class=\"dataframe\">\n",
       "  <thead>\n",
       "    <tr style=\"text-align: right;\">\n",
       "      <th></th>\n",
       "      <th>growth</th>\n",
       "      <th>status</th>\n",
       "    </tr>\n",
       "    <tr>\n",
       "      <th>ids</th>\n",
       "      <th></th>\n",
       "      <th></th>\n",
       "    </tr>\n",
       "  </thead>\n",
       "  <tbody>\n",
       "    <tr>\n",
       "      <th>(ACt2r)</th>\n",
       "      <td>8.739215e-01</td>\n",
       "      <td>optimal</td>\n",
       "    </tr>\n",
       "    <tr>\n",
       "      <th>(ACONTa)</th>\n",
       "      <td>4.931069e-18</td>\n",
       "      <td>optimal</td>\n",
       "    </tr>\n",
       "    <tr>\n",
       "      <th>(ETOHt2r)</th>\n",
       "      <td>8.739215e-01</td>\n",
       "      <td>optimal</td>\n",
       "    </tr>\n",
       "    <tr>\n",
       "      <th>(AKGt2r)</th>\n",
       "      <td>8.739215e-01</td>\n",
       "      <td>optimal</td>\n",
       "    </tr>\n",
       "    <tr>\n",
       "      <th>(ACALDt)</th>\n",
       "      <td>8.739215e-01</td>\n",
       "      <td>optimal</td>\n",
       "    </tr>\n",
       "    <tr>\n",
       "      <th>(ATPM)</th>\n",
       "      <td>9.166475e-01</td>\n",
       "      <td>optimal</td>\n",
       "    </tr>\n",
       "    <tr>\n",
       "      <th>(EX_ac_e)</th>\n",
       "      <td>8.739215e-01</td>\n",
       "      <td>optimal</td>\n",
       "    </tr>\n",
       "    <tr>\n",
       "      <th>(CYTBD)</th>\n",
       "      <td>2.116629e-01</td>\n",
       "      <td>optimal</td>\n",
       "    </tr>\n",
       "    <tr>\n",
       "      <th>(ACKr)</th>\n",
       "      <td>8.739215e-01</td>\n",
       "      <td>optimal</td>\n",
       "    </tr>\n",
       "    <tr>\n",
       "      <th>(ENO)</th>\n",
       "      <td>1.588961e-15</td>\n",
       "      <td>optimal</td>\n",
       "    </tr>\n",
       "    <tr>\n",
       "      <th>(Biomass_Ecoli_core)</th>\n",
       "      <td>0.000000e+00</td>\n",
       "      <td>optimal</td>\n",
       "    </tr>\n",
       "    <tr>\n",
       "      <th>(ADK1)</th>\n",
       "      <td>8.739215e-01</td>\n",
       "      <td>optimal</td>\n",
       "    </tr>\n",
       "    <tr>\n",
       "      <th>(ACALD)</th>\n",
       "      <td>8.739215e-01</td>\n",
       "      <td>optimal</td>\n",
       "    </tr>\n",
       "    <tr>\n",
       "      <th>(CO2t)</th>\n",
       "      <td>4.616696e-01</td>\n",
       "      <td>optimal</td>\n",
       "    </tr>\n",
       "    <tr>\n",
       "      <th>(ATPS4r)</th>\n",
       "      <td>3.742299e-01</td>\n",
       "      <td>optimal</td>\n",
       "    </tr>\n",
       "    <tr>\n",
       "      <th>(ACONTb)</th>\n",
       "      <td>5.461602e-16</td>\n",
       "      <td>optimal</td>\n",
       "    </tr>\n",
       "    <tr>\n",
       "      <th>(D_LACt2)</th>\n",
       "      <td>8.739215e-01</td>\n",
       "      <td>optimal</td>\n",
       "    </tr>\n",
       "    <tr>\n",
       "      <th>(ALCD2x)</th>\n",
       "      <td>8.739215e-01</td>\n",
       "      <td>optimal</td>\n",
       "    </tr>\n",
       "    <tr>\n",
       "      <th>(CS)</th>\n",
       "      <td>4.931069e-18</td>\n",
       "      <td>optimal</td>\n",
       "    </tr>\n",
       "    <tr>\n",
       "      <th>(AKGDH)</th>\n",
       "      <td>8.583074e-01</td>\n",
       "      <td>optimal</td>\n",
       "    </tr>\n",
       "  </tbody>\n",
       "</table>\n",
       "</div>"
      ],
      "text/plain": [
       "                            growth   status\n",
       "ids                                        \n",
       "(ACt2r)               8.739215e-01  optimal\n",
       "(ACONTa)              4.931069e-18  optimal\n",
       "(ETOHt2r)             8.739215e-01  optimal\n",
       "(AKGt2r)              8.739215e-01  optimal\n",
       "(ACALDt)              8.739215e-01  optimal\n",
       "(ATPM)                9.166475e-01  optimal\n",
       "(EX_ac_e)             8.739215e-01  optimal\n",
       "(CYTBD)               2.116629e-01  optimal\n",
       "(ACKr)                8.739215e-01  optimal\n",
       "(ENO)                 1.588961e-15  optimal\n",
       "(Biomass_Ecoli_core)  0.000000e+00  optimal\n",
       "(ADK1)                8.739215e-01  optimal\n",
       "(ACALD)               8.739215e-01  optimal\n",
       "(CO2t)                4.616696e-01  optimal\n",
       "(ATPS4r)              3.742299e-01  optimal\n",
       "(ACONTb)              5.461602e-16  optimal\n",
       "(D_LACt2)             8.739215e-01  optimal\n",
       "(ALCD2x)              8.739215e-01  optimal\n",
       "(CS)                  4.931069e-18  optimal\n",
       "(AKGDH)               8.583074e-01  optimal"
      ]
     },
     "execution_count": 134,
     "metadata": {},
     "output_type": "execute_result"
    }
   ],
   "source": [
    "single_reaction_deletion(cobra_model, cobra_model.reactions[:20])"
   ]
  },
  {
   "cell_type": "code",
   "execution_count": 136,
   "metadata": {},
   "outputs": [
    {
     "data": {
      "text/html": [
       "<div>\n",
       "<style scoped>\n",
       "    .dataframe tbody tr th:only-of-type {\n",
       "        vertical-align: middle;\n",
       "    }\n",
       "\n",
       "    .dataframe tbody tr th {\n",
       "        vertical-align: top;\n",
       "    }\n",
       "\n",
       "    .dataframe thead th {\n",
       "        text-align: right;\n",
       "    }\n",
       "</style>\n",
       "<table border=\"1\" class=\"dataframe\">\n",
       "  <thead>\n",
       "    <tr style=\"text-align: right;\">\n",
       "      <th></th>\n",
       "      <th>growth</th>\n",
       "      <th>status</th>\n",
       "    </tr>\n",
       "    <tr>\n",
       "      <th>ids</th>\n",
       "      <th></th>\n",
       "      <th></th>\n",
       "    </tr>\n",
       "  </thead>\n",
       "  <tbody>\n",
       "    <tr>\n",
       "      <th>(b2465)</th>\n",
       "      <td>0.8739</td>\n",
       "      <td>optimal</td>\n",
       "    </tr>\n",
       "    <tr>\n",
       "      <th>(b2465, b0008)</th>\n",
       "      <td>0.8739</td>\n",
       "      <td>optimal</td>\n",
       "    </tr>\n",
       "    <tr>\n",
       "      <th>(b2935, b2464)</th>\n",
       "      <td>0.8739</td>\n",
       "      <td>optimal</td>\n",
       "    </tr>\n",
       "    <tr>\n",
       "      <th>(b2464, b2465)</th>\n",
       "      <td>0.8739</td>\n",
       "      <td>optimal</td>\n",
       "    </tr>\n",
       "    <tr>\n",
       "      <th>(b2935)</th>\n",
       "      <td>0.8739</td>\n",
       "      <td>optimal</td>\n",
       "    </tr>\n",
       "    <tr>\n",
       "      <th>(b2464)</th>\n",
       "      <td>0.8739</td>\n",
       "      <td>optimal</td>\n",
       "    </tr>\n",
       "    <tr>\n",
       "      <th>(b2935, b2465)</th>\n",
       "      <td>0.8739</td>\n",
       "      <td>optimal</td>\n",
       "    </tr>\n",
       "    <tr>\n",
       "      <th>(b0008)</th>\n",
       "      <td>0.8739</td>\n",
       "      <td>optimal</td>\n",
       "    </tr>\n",
       "    <tr>\n",
       "      <th>(b2464, b3919)</th>\n",
       "      <td>0.7040</td>\n",
       "      <td>optimal</td>\n",
       "    </tr>\n",
       "    <tr>\n",
       "      <th>(b3919)</th>\n",
       "      <td>0.7040</td>\n",
       "      <td>optimal</td>\n",
       "    </tr>\n",
       "    <tr>\n",
       "      <th>(b2935, b3919)</th>\n",
       "      <td>0.7040</td>\n",
       "      <td>optimal</td>\n",
       "    </tr>\n",
       "    <tr>\n",
       "      <th>(b2464, b0008)</th>\n",
       "      <td>0.8739</td>\n",
       "      <td>optimal</td>\n",
       "    </tr>\n",
       "    <tr>\n",
       "      <th>(b2935, b0008)</th>\n",
       "      <td>0.8739</td>\n",
       "      <td>optimal</td>\n",
       "    </tr>\n",
       "    <tr>\n",
       "      <th>(b3919, b0008)</th>\n",
       "      <td>0.7040</td>\n",
       "      <td>optimal</td>\n",
       "    </tr>\n",
       "    <tr>\n",
       "      <th>(b3919, b2465)</th>\n",
       "      <td>0.7040</td>\n",
       "      <td>optimal</td>\n",
       "    </tr>\n",
       "  </tbody>\n",
       "</table>\n",
       "</div>"
      ],
      "text/plain": [
       "                growth   status\n",
       "ids                            \n",
       "(b2465)         0.8739  optimal\n",
       "(b2465, b0008)  0.8739  optimal\n",
       "(b2935, b2464)  0.8739  optimal\n",
       "(b2464, b2465)  0.8739  optimal\n",
       "(b2935)         0.8739  optimal\n",
       "(b2464)         0.8739  optimal\n",
       "(b2935, b2465)  0.8739  optimal\n",
       "(b0008)         0.8739  optimal\n",
       "(b2464, b3919)  0.7040  optimal\n",
       "(b3919)         0.7040  optimal\n",
       "(b2935, b3919)  0.7040  optimal\n",
       "(b2464, b0008)  0.8739  optimal\n",
       "(b2935, b0008)  0.8739  optimal\n",
       "(b3919, b0008)  0.7040  optimal\n",
       "(b3919, b2465)  0.7040  optimal"
      ]
     },
     "execution_count": 136,
     "metadata": {},
     "output_type": "execute_result"
    }
   ],
   "source": [
    "double_gene_deletion(cobra_model, cobra_model.genes[-5:]).round(4)"
   ]
  },
  {
   "cell_type": "code",
   "execution_count": null,
   "metadata": {},
   "outputs": [
    {
     "name": "stdout",
     "output_type": "stream",
     "text": [
      "Double gene deletions for 200 genes completed in 133.72 sec with 2 cores\n"
     ]
    }
   ],
   "source": [
    "start = time()  # start timer()\n",
    "double_gene_deletion(\n",
    "    ecoli_model, ecoli_model.genes[:300], processes=2)\n",
    "t1 = time() - start\n",
    "print(\"Double gene deletions for 200 genes completed in \"\n",
    "      \"%.2f sec with 2 cores\" % t1)\n",
    "\n",
    "start = time()  # start timer()\n",
    "double_gene_deletion(\n",
    "    ecoli_model, ecoli_model.genes[:300], processes=1)\n",
    "t2 = time() - start\n",
    "print(\"Double gene deletions for 200 genes completed in \"\n",
    "      \"%.2f sec with 1 core\" % t2)\n",
    "\n",
    "print(\"Speedup of %.2fx\" % (t2 / t1))"
   ]
  },
  {
   "cell_type": "code",
   "execution_count": null,
   "metadata": {},
   "outputs": [],
   "source": [
    "double_reaction_deletion(cobra_model, cobra_model.reactions[2:7]).round(4)"
   ]
  },
  {
   "cell_type": "code",
   "execution_count": 4,
   "metadata": {},
   "outputs": [],
   "source": [
    "import cobra.test\n",
    "from cobra.flux_analysis import production_envelope\n",
    "\n",
    "model = cobra.test.create_test_model(\"textbook\")"
   ]
  },
  {
   "cell_type": "code",
   "execution_count": 5,
   "metadata": {},
   "outputs": [],
   "source": [
    "prod_env = production_envelope(model, [\"EX_glc__D_e\", \"EX_o2_e\"])"
   ]
  },
  {
   "cell_type": "code",
   "execution_count": 6,
   "metadata": {},
   "outputs": [
    {
     "data": {
      "text/html": [
       "<div>\n",
       "<style scoped>\n",
       "    .dataframe tbody tr th:only-of-type {\n",
       "        vertical-align: middle;\n",
       "    }\n",
       "\n",
       "    .dataframe tbody tr th {\n",
       "        vertical-align: top;\n",
       "    }\n",
       "\n",
       "    .dataframe thead th {\n",
       "        text-align: right;\n",
       "    }\n",
       "</style>\n",
       "<table border=\"1\" class=\"dataframe\">\n",
       "  <thead>\n",
       "    <tr style=\"text-align: right;\">\n",
       "      <th></th>\n",
       "      <th>carbon_source</th>\n",
       "      <th>carbon_yield_maximum</th>\n",
       "      <th>carbon_yield_minimum</th>\n",
       "      <th>flux_maximum</th>\n",
       "      <th>flux_minimum</th>\n",
       "      <th>mass_yield_maximum</th>\n",
       "      <th>mass_yield_minimum</th>\n",
       "      <th>EX_glc__D_e</th>\n",
       "      <th>EX_o2_e</th>\n",
       "    </tr>\n",
       "  </thead>\n",
       "  <tbody>\n",
       "    <tr>\n",
       "      <th>0</th>\n",
       "      <td>EX_glc__D_e</td>\n",
       "      <td>1.442300e-13</td>\n",
       "      <td>0.0</td>\n",
       "      <td>0.000000</td>\n",
       "      <td>0.0</td>\n",
       "      <td>NaN</td>\n",
       "      <td>NaN</td>\n",
       "      <td>-10.0</td>\n",
       "      <td>-60.000000</td>\n",
       "    </tr>\n",
       "    <tr>\n",
       "      <th>1</th>\n",
       "      <td>EX_glc__D_e</td>\n",
       "      <td>1.310050e+00</td>\n",
       "      <td>0.0</td>\n",
       "      <td>0.072244</td>\n",
       "      <td>0.0</td>\n",
       "      <td>NaN</td>\n",
       "      <td>NaN</td>\n",
       "      <td>-10.0</td>\n",
       "      <td>-56.842105</td>\n",
       "    </tr>\n",
       "    <tr>\n",
       "      <th>2</th>\n",
       "      <td>EX_glc__D_e</td>\n",
       "      <td>2.620100e+00</td>\n",
       "      <td>0.0</td>\n",
       "      <td>0.144488</td>\n",
       "      <td>0.0</td>\n",
       "      <td>NaN</td>\n",
       "      <td>NaN</td>\n",
       "      <td>-10.0</td>\n",
       "      <td>-53.684211</td>\n",
       "    </tr>\n",
       "    <tr>\n",
       "      <th>3</th>\n",
       "      <td>EX_glc__D_e</td>\n",
       "      <td>3.930150e+00</td>\n",
       "      <td>0.0</td>\n",
       "      <td>0.216732</td>\n",
       "      <td>0.0</td>\n",
       "      <td>NaN</td>\n",
       "      <td>NaN</td>\n",
       "      <td>-10.0</td>\n",
       "      <td>-50.526316</td>\n",
       "    </tr>\n",
       "    <tr>\n",
       "      <th>4</th>\n",
       "      <td>EX_glc__D_e</td>\n",
       "      <td>5.240200e+00</td>\n",
       "      <td>0.0</td>\n",
       "      <td>0.288975</td>\n",
       "      <td>0.0</td>\n",
       "      <td>NaN</td>\n",
       "      <td>NaN</td>\n",
       "      <td>-10.0</td>\n",
       "      <td>-47.368421</td>\n",
       "    </tr>\n",
       "  </tbody>\n",
       "</table>\n",
       "</div>"
      ],
      "text/plain": [
       "  carbon_source  carbon_yield_maximum  carbon_yield_minimum  flux_maximum  \\\n",
       "0   EX_glc__D_e          1.442300e-13                   0.0      0.000000   \n",
       "1   EX_glc__D_e          1.310050e+00                   0.0      0.072244   \n",
       "2   EX_glc__D_e          2.620100e+00                   0.0      0.144488   \n",
       "3   EX_glc__D_e          3.930150e+00                   0.0      0.216732   \n",
       "4   EX_glc__D_e          5.240200e+00                   0.0      0.288975   \n",
       "\n",
       "   flux_minimum  mass_yield_maximum  mass_yield_minimum  EX_glc__D_e  \\\n",
       "0           0.0                 NaN                 NaN        -10.0   \n",
       "1           0.0                 NaN                 NaN        -10.0   \n",
       "2           0.0                 NaN                 NaN        -10.0   \n",
       "3           0.0                 NaN                 NaN        -10.0   \n",
       "4           0.0                 NaN                 NaN        -10.0   \n",
       "\n",
       "     EX_o2_e  \n",
       "0 -60.000000  \n",
       "1 -56.842105  \n",
       "2 -53.684211  \n",
       "3 -50.526316  \n",
       "4 -47.368421  "
      ]
     },
     "execution_count": 6,
     "metadata": {},
     "output_type": "execute_result"
    }
   ],
   "source": [
    "prod_env.head()"
   ]
  },
  {
   "cell_type": "code",
   "execution_count": 7,
   "metadata": {},
   "outputs": [],
   "source": [
    "prod_env = production_envelope(\n",
    "    model, [\"EX_o2_e\"], objective=\"EX_ac_e\", carbon_sources=\"EX_glc__D_e\")"
   ]
  },
  {
   "cell_type": "code",
   "execution_count": 8,
   "metadata": {},
   "outputs": [
    {
     "data": {
      "text/html": [
       "<div>\n",
       "<style scoped>\n",
       "    .dataframe tbody tr th:only-of-type {\n",
       "        vertical-align: middle;\n",
       "    }\n",
       "\n",
       "    .dataframe tbody tr th {\n",
       "        vertical-align: top;\n",
       "    }\n",
       "\n",
       "    .dataframe thead th {\n",
       "        text-align: right;\n",
       "    }\n",
       "</style>\n",
       "<table border=\"1\" class=\"dataframe\">\n",
       "  <thead>\n",
       "    <tr style=\"text-align: right;\">\n",
       "      <th></th>\n",
       "      <th>carbon_source</th>\n",
       "      <th>carbon_yield_maximum</th>\n",
       "      <th>carbon_yield_minimum</th>\n",
       "      <th>flux_maximum</th>\n",
       "      <th>flux_minimum</th>\n",
       "      <th>mass_yield_maximum</th>\n",
       "      <th>mass_yield_minimum</th>\n",
       "      <th>EX_o2_e</th>\n",
       "    </tr>\n",
       "  </thead>\n",
       "  <tbody>\n",
       "    <tr>\n",
       "      <th>0</th>\n",
       "      <td>EX_glc__D_e</td>\n",
       "      <td>2.385536e-15</td>\n",
       "      <td>0.0</td>\n",
       "      <td>0.000000</td>\n",
       "      <td>0.0</td>\n",
       "      <td>2.345496e-15</td>\n",
       "      <td>0.0</td>\n",
       "      <td>-60.000000</td>\n",
       "    </tr>\n",
       "    <tr>\n",
       "      <th>1</th>\n",
       "      <td>EX_glc__D_e</td>\n",
       "      <td>5.263158e-02</td>\n",
       "      <td>0.0</td>\n",
       "      <td>1.578947</td>\n",
       "      <td>0.0</td>\n",
       "      <td>5.174819e-02</td>\n",
       "      <td>0.0</td>\n",
       "      <td>-56.842105</td>\n",
       "    </tr>\n",
       "    <tr>\n",
       "      <th>2</th>\n",
       "      <td>EX_glc__D_e</td>\n",
       "      <td>1.052632e-01</td>\n",
       "      <td>0.0</td>\n",
       "      <td>3.157895</td>\n",
       "      <td>0.0</td>\n",
       "      <td>1.034964e-01</td>\n",
       "      <td>0.0</td>\n",
       "      <td>-53.684211</td>\n",
       "    </tr>\n",
       "    <tr>\n",
       "      <th>3</th>\n",
       "      <td>EX_glc__D_e</td>\n",
       "      <td>1.578947e-01</td>\n",
       "      <td>0.0</td>\n",
       "      <td>4.736842</td>\n",
       "      <td>0.0</td>\n",
       "      <td>1.552446e-01</td>\n",
       "      <td>0.0</td>\n",
       "      <td>-50.526316</td>\n",
       "    </tr>\n",
       "    <tr>\n",
       "      <th>4</th>\n",
       "      <td>EX_glc__D_e</td>\n",
       "      <td>2.105263e-01</td>\n",
       "      <td>0.0</td>\n",
       "      <td>6.315789</td>\n",
       "      <td>0.0</td>\n",
       "      <td>2.069927e-01</td>\n",
       "      <td>0.0</td>\n",
       "      <td>-47.368421</td>\n",
       "    </tr>\n",
       "  </tbody>\n",
       "</table>\n",
       "</div>"
      ],
      "text/plain": [
       "  carbon_source  carbon_yield_maximum  carbon_yield_minimum  flux_maximum  \\\n",
       "0   EX_glc__D_e          2.385536e-15                   0.0      0.000000   \n",
       "1   EX_glc__D_e          5.263158e-02                   0.0      1.578947   \n",
       "2   EX_glc__D_e          1.052632e-01                   0.0      3.157895   \n",
       "3   EX_glc__D_e          1.578947e-01                   0.0      4.736842   \n",
       "4   EX_glc__D_e          2.105263e-01                   0.0      6.315789   \n",
       "\n",
       "   flux_minimum  mass_yield_maximum  mass_yield_minimum    EX_o2_e  \n",
       "0           0.0        2.345496e-15                 0.0 -60.000000  \n",
       "1           0.0        5.174819e-02                 0.0 -56.842105  \n",
       "2           0.0        1.034964e-01                 0.0 -53.684211  \n",
       "3           0.0        1.552446e-01                 0.0 -50.526316  \n",
       "4           0.0        2.069927e-01                 0.0 -47.368421  "
      ]
     },
     "execution_count": 8,
     "metadata": {},
     "output_type": "execute_result"
    }
   ],
   "source": [
    "prod_env.head()"
   ]
  },
  {
   "cell_type": "code",
   "execution_count": 9,
   "metadata": {},
   "outputs": [],
   "source": [
    "%matplotlib inline\n",
    "import matplotlib\n",
    "import matplotlib.pyplot as plt"
   ]
  },
  {
   "cell_type": "code",
   "execution_count": 10,
   "metadata": {},
   "outputs": [
    {
     "data": {
      "image/png": "[encoded data removed]",
      "text/plain": [
       "<Figure size 432x288 with 1 Axes>"
      ]
     },
     "metadata": {},
     "output_type": "display_data"
    }
   ],
   "source": [
    "prod_env.plot(\n",
    "    kind='line', x='EX_o2_e', y='carbon_yield_maximum');"
   ]
  },
  {
   "cell_type": "code",
   "execution_count": null,
   "metadata": {},
   "outputs": [],
   "source": []
  }
 ],
 "metadata": {
  "kernelspec": {
   "display_name": "Python 3",
   "language": "python",
   "name": "python3"
  },
  "language_info": {
   "codemirror_mode": {
    "name": "ipython",
    "version": 3
   },
   "file_extension": ".py",
   "mimetype": "text/x-python",
   "name": "python",
   "nbconvert_exporter": "python",
   "pygments_lexer": "ipython3",
   "version": "3.6.5"
  }
 },
 "nbformat": 4,
 "nbformat_minor": 2
}
