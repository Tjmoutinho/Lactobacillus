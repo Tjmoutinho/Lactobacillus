{
 "cells": [
  {
   "cell_type": "markdown",
   "metadata": {},
   "source": [
    "## Mackinac: A bridge between ModelSEED and COBRApy\n",
    "\n",
    "Mackinac provides support for creating a COBRA model directly from a ModelSEED model. The COBRA model contains all of the information from the ModelSEED model, including metabolite data and gene annotations. In addition, Mackinac provides direct access to many of the functions available from the ModelSEED web service."
   ]
  },
  {
   "cell_type": "code",
   "execution_count": 1,
   "metadata": {},
   "outputs": [],
   "source": [
    "import mackinac"
   ]
  },
  {
   "cell_type": "markdown",
   "metadata": {},
   "source": [
    "You create draft models from genomes available in the [Pathosystems Resource Integration Center](https://www.patricbrc.org/portal/portal/patric/Home) (PATRIC). If you are not a [registered PATRIC user](http://enews.patricbrc.org/faqs/workspace-faqs/registration-faqs/), you must complete a [new user registration](https://user.patricbrc.org/register/) to work with the ModelSEED web service.\n",
    "\n",
    "Before using ModelSEED functions, you must first get an authentication token with your PATRIC username and password. The `get_token()` function stores the authentication token in the `.patric_config` file in your home directory. You can use the token until it expires. \n",
    "\n",
    "Change `username` in the cell below to your PATRIC username and enter your password when prompted. The returned user ID identifies your ModelSEED workspace. You only need to get a token the first time you use this notebook."
   ]
  },
  {
   "cell_type": "code",
   "execution_count": 2,
   "metadata": {},
   "outputs": [
    {
     "name": "stdout",
     "output_type": "stream",
     "text": [
      "patric password: ········\n"
     ]
    },
    {
     "data": {
      "text/plain": [
       "u'tjmoutinho@patricbrc.org'"
      ]
     },
     "execution_count": 2,
     "metadata": {},
     "output_type": "execute_result"
    }
   ],
   "source": [
    "mackinac.get_token('tjmoutinho')"
   ]
  },
  {
   "cell_type": "markdown",
   "metadata": {},
   "source": [
    "There are four main functions to reconstruct a metabolic model using the ModelSEED web service for analysis in cobrapy. \n",
    "\n",
    "First, reconstruct a draft model for an organism with `reconstruct_modelseed_model()`. You need to provide a PATRIC genome ID to identify the organism. You can [search for genomes](https://www.patricbrc.org/portal/portal/patric/Genomes) on the PATRIC website from the thousands of bacterial organisms available. After a model is reconstructed, you refer to it by ID. By default, the ID of the model is the genome ID. You can give a model a different ID with the `model_id` parameter. The returned statistics provide a summary of the model.\n",
    "\n",
    "Note that it takes a minute or two for the ModelSEED web service to run a function and return a result."
   ]
  },
  {
   "cell_type": "code",
   "execution_count": null,
   "metadata": {},
   "outputs": [],
   "source": [
    "mackinac.reconstruct_modelseed_model('226186.12')"
   ]
  },
  {
   "cell_type": "markdown",
   "metadata": {},
   "source": [
    "Second, gap fill the model using the ModelSEED algorithm with `gapfill_modelseed_model()`. By default the ModelSEED model is gap filled on complete media. Use the `media_reference` parameter to specify a different media. ModelSEED provides over 500 media in the `/chenry/public/modelsupport/media` folder (see the workspace notebook for directions on how to show all of the available media). This step is optional if you want to use other gap fill algorithms in cobrapy. Note that the number of reactions and compounds in the returned metadata has increased after gap filling."
   ]
  },
  {
   "cell_type": "code",
   "execution_count": 4,
   "metadata": {},
   "outputs": [
    {
     "data": {
      "text/plain": [
       "{'fba_count': 0,\n",
       " 'gapfilled_reactions': 0,\n",
       " 'gene_associated_reactions': 1034,\n",
       " 'genome_ref': u'/mmundy@patricbrc.org/modelseed/226186.12/genome',\n",
       " 'id': u'226186.12',\n",
       " 'integrated_gapfills': 1,\n",
       " 'name': u'Bacteroides thetaiotaomicron VPI-5482',\n",
       " 'num_biomass_compounds': 85,\n",
       " 'num_biomasses': 1,\n",
       " 'num_compartments': 2,\n",
       " 'num_compounds': 1253,\n",
       " 'num_genes': 739,\n",
       " 'num_reactions': 1129,\n",
       " 'ref': u'/mmundy@patricbrc.org/modelseed/226186.12',\n",
       " 'rundate': u'2017-01-20T17:39:47',\n",
       " 'source': u'ModelSEED',\n",
       " 'source_id': u'226186.12',\n",
       " 'template_ref': u'/chenry/public/modelsupport/templates/GramNegative.modeltemplate',\n",
       " 'type': u'GenomeScale',\n",
       " 'unintegrated_gapfills': 0}"
      ]
     },
     "execution_count": 4,
     "metadata": {},
     "output_type": "execute_result"
    }
   ],
   "source": [
    "mackinac.gapfill_modelseed_model('226186.12')"
   ]
  },
  {
   "cell_type": "markdown",
   "metadata": {},
   "source": [
    "Third, run a simulation using the ModelSEED flux balance analysis algorithm with `optimize_modelseed_model()`. Use the `media_reference` parameter to specify a different media for the simulation. This step is optional if you want to run the analysis in cobrapy."
   ]
  },
  {
   "cell_type": "code",
   "execution_count": 5,
   "metadata": {},
   "outputs": [
    {
     "data": {
      "text/plain": [
       "99.9203"
      ]
     },
     "execution_count": 5,
     "metadata": {},
     "output_type": "execute_result"
    }
   ],
   "source": [
    "mackinac.optimize_modelseed_model('226186.12')"
   ]
  },
  {
   "cell_type": "markdown",
   "metadata": {},
   "source": [
    "Finally, create a COBRA model from the ModelSEED model with `create_cobra_model_from_modelseed_model()`. Now you can analyze the model using all of the functionality in cobrapy. "
   ]
  },
  {
   "cell_type": "code",
   "execution_count": 6,
   "metadata": {},
   "outputs": [
    {
     "data": {
      "text/plain": [
       "u'226186.12'"
      ]
     },
     "execution_count": 6,
     "metadata": {},
     "output_type": "execute_result"
    }
   ],
   "source": [
    "model = mackinac.create_cobra_model_from_modelseed_model('226186.12')\n",
    "model.id"
   ]
  }
 ],
 "metadata": {
  "kernelspec": {
   "display_name": "Python 2",
   "language": "python",
   "name": "python2"
  },
  "language_info": {
   "codemirror_mode": {
    "name": "ipython",
    "version": 2
   },
   "file_extension": ".py",
   "mimetype": "text/x-python",
   "name": "python",
   "nbconvert_exporter": "python",
   "pygments_lexer": "ipython2",
   "version": "2.7.12"
  }
 },
 "nbformat": 4,
 "nbformat_minor": 1
}
