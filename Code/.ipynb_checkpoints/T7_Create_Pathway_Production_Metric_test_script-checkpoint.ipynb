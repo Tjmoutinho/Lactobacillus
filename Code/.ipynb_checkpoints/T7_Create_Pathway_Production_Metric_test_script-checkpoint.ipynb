{
 "cells": [
  {
   "cell_type": "code",
   "execution_count": 62,
   "metadata": {},
   "outputs": [],
   "source": [
    "from __future__ import print_function\n",
    "\n",
    "import cobra\n",
    "import cobra.test\n",
    "# import mackinac\n",
    "import numpy as np\n",
    "import csv\n",
    "import glob\n",
    "import pickle\n",
    "import pandas as pd\n",
    "import time\n",
    "import sys\n",
    "from collections import defaultdict\n",
    "from cobra.flux_analysis import gapfill\n",
    "from cobra.flux_analysis import pfba\n",
    "\n",
    "# Set default logger to python logger to avoid warnings given when adding reactions and/or metaboites \n",
    "# because \"cobra.core.model\" doesn't innately have a logger.\n",
    "import logging\n",
    "logging.basicConfig()\n",
    "logger = logging.getLogger('logger')"
   ]
  },
  {
   "cell_type": "code",
   "execution_count": 2,
   "metadata": {},
   "outputs": [],
   "source": [
    "def set_media(model, media, universal, verbose=False):\n",
    "\n",
    "    # Find and close all exchange reactions in the model\n",
    "    model_rxns = [rxn.id for rxn in model.reactions]\n",
    "    for rxn in model_rxns:\n",
    "        if rxn.startswith('EX_') and rxn.endswith('_e'):\n",
    "            model.reactions.get_by_id(rxn).lower_bound = 0.0\n",
    "\n",
    "    # Check for existence of exchange reactions for the media metabolites in the model\n",
    "    for metabolite in media:\n",
    "        met = metabolite[1]+'_e'\n",
    "        if 'EX_'+met in model_rxns:\n",
    "            model.reactions.get_by_id('EX_'+met).lower_bound = -1000.\n",
    "        else:\n",
    "            # Create exchange reaction and add to model\n",
    "            if verbose:\n",
    "                print(\"added exchange rxn for \" + met)\n",
    "            new_exchange = cobra.Reaction('EX_'+met)\n",
    "            new_exchange.name = met + ' exchange'\n",
    "            met_obj = universal.metabolites.get_by_id(met)\n",
    "            new_exchange.add_metabolites({met_obj:-1})\n",
    "            new_exchange.lower_bound = -1000.\n",
    "            new_exchange.upper_bound = 1000.\n",
    "            model.add_reaction(new_exchange)\n",
    "            model.repair()"
   ]
  },
  {
   "cell_type": "code",
   "execution_count": null,
   "metadata": {},
   "outputs": [],
   "source": [
    "# Read in list of genome IDs\n",
    "with open('../Data/20_species_1023_genomes.csv') as csvfile:\n",
    "    genome_ids_list = []\n",
    "    for line in csvfile:\n",
    "        genome_ids_list.append(line.strip())\n",
    "len(genome_ids_list)"
   ]
  },
  {
   "cell_type": "code",
   "execution_count": null,
   "metadata": {},
   "outputs": [],
   "source": [
    "# Initialize functions\n",
    "# Initialize global variables\n",
    "# Set media cpds\n",
    "# Open model\n",
    "# Add water transporter and fix name\n",
    "# loop: Change media\n",
    "    # turn off all exchanges\n",
    "    # Turn on correct exchanges, add if missing\n",
    "    \n",
    "    # Loop: Set demand reaction\n",
    "        # Check for production\n",
    "        # Gapfill with probanno\n",
    "        # Determine the reactions that were added to gapfill and identify the likelihoods\n",
    "        # Optimize and find solution\n",
    "        # Average likelihoods to create metric for media condition and specific demand reaction\n",
    "        # save information in data structure\n"
   ]
  },
  {
   "cell_type": "code",
   "execution_count": 18,
   "metadata": {},
   "outputs": [
    {
     "name": "stdout",
     "output_type": "stream",
     "text": [
      "Starting Loop\n",
      "0...gapfilling...optimizing...Average Likelihood of: cpd00117 is 0.32239418829432986\n",
      "1...gapfilling...optimizing...Average Likelihood of: cpd00186 is 0.40811404675637747\n",
      "2...gapfilling...optimizing...Average Likelihood of: cpd00637 is 0.3539055920939708\n",
      "3...gapfilling...optimizing...Average Likelihood of: cpd00550 is 0.3876222618910973\n",
      "4...gapfilling...optimizing...Average Likelihood of: cpd00033 is 0.25864420133992655\n",
      "5...gapfilling...optimizing...Average Likelihood of: cpd00035 is 0.2617434799782508\n",
      "6...gapfilling...optimizing...Average Likelihood of: cpd00051 is 0.30615169412786564\n",
      "7...gapfilling...optimizing...Average Likelihood of: cpd00132 is 0.37908217357377966\n",
      "8...gapfilling...optimizing...Average Likelihood of: cpd00041 is 0.3919271330103651\n",
      "9...gapfilling..."
     ]
    },
    {
     "name": "stderr",
     "output_type": "stream",
     "text": [
      "No handlers could be found for logger \"cobra.core.model\"\n"
     ]
    },
    {
     "name": "stdout",
     "output_type": "stream",
     "text": [
      "optimizing...Average Likelihood of: cpd00084 is 0.40759115411391483\n",
      "10...gapfilling...optimizing...Average Likelihood of: cpd00023 is 0.3770658617850227\n",
      "11...gapfilling...optimizing...Average Likelihood of: cpd00053 is 0.24679149221825047\n",
      "12...gapfilling...optimizing...Average Likelihood of: cpd00119 is 0.34746531593017904\n",
      "13...gapfilling...optimizing...Average Likelihood of: cpd00322 is 0.3048953761712908\n",
      "14...gapfilling...optimizing...Average Likelihood of: cpd00107 is 0.35867506074632505\n",
      "15...gapfilling...optimizing...Average Likelihood of: cpd00039 is 0.38470369962458417\n",
      "16...gapfilling...optimizing...Average Likelihood of: cpd00060 is 0.3625340412746876\n",
      "17...gapfilling...optimizing...Average Likelihood of: cpd00066 is 0.37888939227146257\n",
      "18...gapfilling...optimizing...Average Likelihood of: cpd00129 is 0.3553058212741118\n",
      "19...gapfilling...optimizing...Average Likelihood of: cpd00054 is 0.2855063409092786\n",
      "20...gapfilling...optimizing...Average Likelihood of: cpd00161 is 0.396418896014934\n",
      "21...gapfilling...optimizing...Average Likelihood of: cpd00065 is 0.38664620586239773\n",
      "22...gapfilling...optimizing...Average Likelihood of: cpd00069 is 0.3976185204163214\n",
      "23...gapfilling...optimizing...Average Likelihood of: cpd00156 is 0.317618970729169Time to complete:505.108682565mins\n"
     ]
    }
   ],
   "source": [
    "t = time.time()\n",
    "counter = 0\n",
    "\n",
    "universal = cobra.io.load_json_model(\"../Data/GramPosUni.json\")\n",
    "genome_id = '220668.9'\n",
    "model = cobra.io.read_sbml_model('../gap_models/'+ genome_id +'.xml')\n",
    "likelihoods = pickle.load(open('../likelihoods/'+ genome_id +'.probs'))\n",
    "\n",
    "# Ensure free water exhange\n",
    "model.reactions.get_by_id('rxn05319_c').name = \"Water transport\"\n",
    "model.reactions.get_by_id('rxn05319_c').bounds = (-1000., 1000.)\n",
    "\n",
    "# Create specific Media List\n",
    "media_list = bsm + M9_sources\n",
    "set_media(model, media_list, universal, verbose=False)\n",
    "\n",
    "# Run through each amino acid to check for production\n",
    "aa_like = {}\n",
    "sys.stdout.write('Starting Loop')\n",
    "for aa_list in aas:\n",
    "    sys.stdout.write('\\n'+ str(counter))\n",
    "    aa = aa_list[1]+'_c'\n",
    "    # Add Demand Reaction for metabolite\n",
    "    metabolite = model.metabolites.get_by_id(aa)\n",
    "    demand = model.add_boundary(metabolite, type='demand')\n",
    "    model.objective = demand\n",
    "    # Gapfill\n",
    "    sys.stdout.write('...gapfilling...')\n",
    "    gaps_to_fill = gapfill(model, universal, demand_reactions=False) # Update to probannopy gapfill function; use Gurobi\n",
    "    # Fill the gaps\n",
    "    rxns_to_add = []\n",
    "    for gap in gaps_to_fill:\n",
    "        model.add_reactions(gap) ### I NEED TO REMOVE THESE REACTIONS\n",
    "    # Optimize with full pathway\n",
    "    sys.stdout.write('optimizing...')\n",
    "    solution = model.optimize()\n",
    "    # Find reactions that carry flux and their likelihood score\n",
    "    df = solution.fluxes.to_frame()\n",
    "    active = df.loc[(abs(df['fluxes'])) > 0.1]\n",
    "    like_list = []\n",
    "    for rxn in list(active.index):\n",
    "        if rxn.startswith('rxn'):\n",
    "            try:\n",
    "                like_list.append(likelihoods[rxn])\n",
    "            except:\n",
    "                pass\n",
    "    avg_like = np.mean(like_list)\n",
    "    sys.stdout.write('Average Likelihood of: ' + aa_list[1] + ' is ' + str(avg_like))\n",
    "    aa_like[aa_list[1]] = avg_like\n",
    "    model.remove_reactions([demand])\n",
    "    # ADD REMOVAL OF GAPS\n",
    "    counter += 1\n",
    "\n",
    "elapsed = time.time() - t\n",
    "print(\"Time to complete:\" + str(elapsed/60) + \"mins\")"
   ]
  },
  {
   "cell_type": "code",
   "execution_count": 23,
   "metadata": {},
   "outputs": [
    {
     "data": {
      "text/plain": [
       "{'cpd00023': 0.3770658617850227,\n",
       " 'cpd00033': 0.25864420133992655,\n",
       " 'cpd00035': 0.2617434799782508,\n",
       " 'cpd00039': 0.38470369962458417,\n",
       " 'cpd00041': 0.3919271330103651,\n",
       " 'cpd00051': 0.30615169412786564,\n",
       " 'cpd00053': 0.24679149221825047,\n",
       " 'cpd00054': 0.2855063409092786,\n",
       " 'cpd00060': 0.3625340412746876,\n",
       " 'cpd00065': 0.38664620586239773,\n",
       " 'cpd00066': 0.37888939227146257,\n",
       " 'cpd00069': 0.3976185204163214,\n",
       " 'cpd00084': 0.40759115411391483,\n",
       " 'cpd00107': 0.35867506074632505,\n",
       " 'cpd00117': 0.32239418829432986,\n",
       " 'cpd00119': 0.34746531593017904,\n",
       " 'cpd00129': 0.3553058212741118,\n",
       " 'cpd00132': 0.37908217357377966,\n",
       " 'cpd00156': 0.317618970729169,\n",
       " 'cpd00161': 0.396418896014934,\n",
       " 'cpd00186': 0.40811404675637747,\n",
       " 'cpd00322': 0.3048953761712908,\n",
       " 'cpd00550': 0.3876222618910973,\n",
       " 'cpd00637': 0.3539055920939708}"
      ]
     },
     "execution_count": 23,
     "metadata": {},
     "output_type": "execute_result"
    }
   ],
   "source": [
    "aa_like"
   ]
  },
  {
   "cell_type": "code",
   "execution_count": 22,
   "metadata": {},
   "outputs": [],
   "source": [
    "# There are no demand or exchange reactions in the universal reaction bag\n",
    "for rxn in universal.reactions:\n",
    "    if rxn.id.startswith('DM'):\n",
    "        print('DM in reaction bag')\n",
    "    elif rxn.id.startswith('EX'):\n",
    "        print('EX in reaction bag')"
   ]
  },
  {
   "cell_type": "code",
   "execution_count": 25,
   "metadata": {},
   "outputs": [
    {
     "data": {
      "text/plain": [
       "[[<Reaction rxn00898_c at 0x7eff87546350>,\n",
       "  <Reaction rxn02186_c at 0x7eff87546410>]]"
      ]
     },
     "execution_count": 25,
     "metadata": {},
     "output_type": "execute_result"
    }
   ],
   "source": [
    "gaps_to_fill"
   ]
  },
  {
   "cell_type": "code",
   "execution_count": 28,
   "metadata": {},
   "outputs": [
    {
     "name": "stdout",
     "output_type": "stream",
     "text": [
      "0.0\n",
      "0.0\n"
     ]
    }
   ],
   "source": [
    "print(likelihoods['rxn00898_c'])\n",
    "print(likelihoods['rxn02186_c'])"
   ]
  },
  {
   "cell_type": "code",
   "execution_count": 33,
   "metadata": {},
   "outputs": [
    {
     "name": "stdout",
     "output_type": "stream",
     "text": [
      "0.2733090489303243\n",
      "975\n",
      "18\n"
     ]
    }
   ],
   "source": [
    "all_likes = []\n",
    "passed_rxns = []\n",
    "counter = 0\n",
    "pass_counter = 0\n",
    "for rxn in model.reactions:\n",
    "    if rxn.id.startswith('rxn'):\n",
    "        try:\n",
    "            all_likes.append(likelihoods[rxn.id])\n",
    "            counter += 1\n",
    "        except:\n",
    "            passed_rxns.append(rxn.id)\n",
    "            pass_counter += 1\n",
    "            pass\n",
    "global_avg = np.mean(all_likes)\n",
    "\n",
    "print(global_avg)\n",
    "print(counter)\n",
    "print(pass_counter)"
   ]
  },
  {
   "cell_type": "code",
   "execution_count": null,
   "metadata": {},
   "outputs": [],
   "source": []
  },
  {
   "cell_type": "code",
   "execution_count": 34,
   "metadata": {},
   "outputs": [
    {
     "data": {
      "text/plain": [
       "['rxn02374_c',\n",
       " 'rxn05319_c',\n",
       " 'rxn04457_c',\n",
       " 'rxn02916_c',\n",
       " 'rxn03012_c',\n",
       " 'rxn10571_c',\n",
       " 'rxn04132_c',\n",
       " 'rxn05195_c',\n",
       " 'rxn05468_c',\n",
       " 'rxn04133_c',\n",
       " 'rxn05467_c',\n",
       " u'rxn12215_c',\n",
       " u'rxn05522_c',\n",
       " u'rxn08688_c',\n",
       " u'rxn05238_c',\n",
       " u'rxn02976_c',\n",
       " u'rxn08764_c',\n",
       " u'rxn13022_c']"
      ]
     },
     "execution_count": 34,
     "metadata": {},
     "output_type": "execute_result"
    }
   ],
   "source": [
    "passed_rxns"
   ]
  },
  {
   "cell_type": "code",
   "execution_count": 43,
   "metadata": {},
   "outputs": [
    {
     "name": "stdout",
     "output_type": "stream",
     "text": [
      "R03314\n",
      "Water transport\n",
      "R06605\n",
      "R04175\n",
      "R04336\n",
      "Mg2+-importing ATPase\n",
      "R06063\n",
      "ATP phosphohydrolase (ferric-ion-transporting)\n",
      "TRANS-RXNAVI-26568.ce\n",
      "R06064\n",
      "CO2 transporter via diffusion\n",
      "5-methyltetrahydropteroyltri-l-glutamate synthesis\n",
      "citrate transport in via Co complex\n",
      "Hydrogen sulfide oxidation\n",
      "TRANS-RXNBWI-115353.ce\n",
      "R04269\n",
      "ketol-acid reductoisomerase (2-Acetolactate)\n",
      "3-isopropylmalate dehydrogenase\n"
     ]
    }
   ],
   "source": [
    "print(model.reactions.get_by_id('rxn02374_c').name)\n",
    "print(model.reactions.get_by_id('rxn05319_c').name)\n",
    "print(model.reactions.get_by_id('rxn04457_c').name)\n",
    "print(model.reactions.get_by_id('rxn02916_c').name)\n",
    "print(model.reactions.get_by_id('rxn03012_c').name)\n",
    "print(model.reactions.get_by_id('rxn10571_c').name)\n",
    "print(model.reactions.get_by_id('rxn04132_c').name)\n",
    "print(model.reactions.get_by_id('rxn05195_c').name)\n",
    "print(model.reactions.get_by_id('rxn05468_c').name)\n",
    "print(model.reactions.get_by_id('rxn04133_c').name)\n",
    "print(model.reactions.get_by_id('rxn05467_c').name)\n",
    "print(model.reactions.get_by_id('rxn12215_c').name)\n",
    "print(model.reactions.get_by_id('rxn05522_c').name)\n",
    "print(model.reactions.get_by_id('rxn08688_c').name)\n",
    "print(model.reactions.get_by_id('rxn05238_c').name)\n",
    "print(model.reactions.get_by_id('rxn02976_c').name)\n",
    "print(model.reactions.get_by_id('rxn08764_c').name)\n",
    "print(model.reactions.get_by_id('rxn13022_c').name)"
   ]
  },
  {
   "cell_type": "code",
   "execution_count": 44,
   "metadata": {},
   "outputs": [
    {
     "name": "stdout",
     "output_type": "stream",
     "text": [
      "R03314\n",
      "R06605\n",
      "R04175\n",
      "R04336\n",
      "R06063\n",
      "TRANS-RXNAVI-26568.ce\n",
      "R06064\n",
      "TRANS-RXNBWI-115353.ce\n",
      "R04269\n"
     ]
    }
   ],
   "source": [
    "print(model.reactions.get_by_id('rxn02374_c').name)\n",
    "# print(model.reactions.get_by_id('rxn05319_c').name)\n",
    "print(model.reactions.get_by_id('rxn04457_c').name)\n",
    "print(model.reactions.get_by_id('rxn02916_c').name)\n",
    "print(model.reactions.get_by_id('rxn03012_c').name)\n",
    "# print(model.reactions.get_by_id('rxn10571_c').name)\n",
    "print(model.reactions.get_by_id('rxn04132_c').name)\n",
    "# print(model.reactions.get_by_id('rxn05195_c').name)\n",
    "print(model.reactions.get_by_id('rxn05468_c').name)\n",
    "print(model.reactions.get_by_id('rxn04133_c').name)\n",
    "# print(model.reactions.get_by_id('rxn05467_c').name)\n",
    "# print(model.reactions.get_by_id('rxn12215_c').name)\n",
    "# print(model.reactions.get_by_id('rxn05522_c').name)\n",
    "# print(model.reactions.get_by_id('rxn08688_c').name)\n",
    "print(model.reactions.get_by_id('rxn05238_c').name)\n",
    "print(model.reactions.get_by_id('rxn02976_c').name)\n",
    "# print(model.reactions.get_by_id('rxn08764_c').name)\n",
    "# print(model.reactions.get_by_id('rxn13022_c').name)"
   ]
  },
  {
   "cell_type": "code",
   "execution_count": 58,
   "metadata": {},
   "outputs": [
    {
     "data": {
      "text/html": [
       "\n",
       "        <table>\n",
       "            <tr>\n",
       "                <td><strong>Reaction identifier</strong></td><td>rxn02374_c</td>\n",
       "            </tr><tr>\n",
       "                <td><strong>Name</strong></td><td>R03314</td>\n",
       "            </tr><tr>\n",
       "                <td><strong>Memory address</strong></td>\n",
       "                <td>0x07effa8ae0810</td>\n",
       "            </tr><tr>\n",
       "                <td><strong>Stoichiometry</strong></td>\n",
       "                <td>\n",
       "                    <p style='text-align:right'>cpd00858_c --> cpd00001_c + cpd00067_c + cpd02431_c</p>\n",
       "                    <p style='text-align:right'>L-Glutamate5-semialdehyde --> H2O + H+ + 1-Pyrroline-5-carboxylate</p>\n",
       "                </td>\n",
       "            </tr><tr>\n",
       "                <td><strong>GPR</strong></td><td></td>\n",
       "            </tr><tr>\n",
       "                <td><strong>Lower bound</strong></td><td>0.0</td>\n",
       "            </tr><tr>\n",
       "                <td><strong>Upper bound</strong></td><td>1000.0</td>\n",
       "            </tr>\n",
       "        </table>\n",
       "        "
      ],
      "text/plain": [
       "<Reaction rxn02374_c at 0x7effa8ae0810>"
      ]
     },
     "execution_count": 58,
     "metadata": {},
     "output_type": "execute_result"
    }
   ],
   "source": [
    "model.reactions.get_by_id('rxn02374_c')"
   ]
  },
  {
   "cell_type": "code",
   "execution_count": 57,
   "metadata": {},
   "outputs": [
    {
     "data": {
      "text/html": [
       "\n",
       "        <table>\n",
       "            <tr>\n",
       "                <td><strong>Reaction identifier</strong></td><td>rxn04457_c</td>\n",
       "            </tr><tr>\n",
       "                <td><strong>Name</strong></td><td>R06605</td>\n",
       "            </tr><tr>\n",
       "                <td><strong>Memory address</strong></td>\n",
       "                <td>0x07effa4ffb350</td>\n",
       "            </tr><tr>\n",
       "                <td><strong>Stoichiometry</strong></td>\n",
       "                <td>\n",
       "                    <p style='text-align:right'>cpd09027_c --> cpd00011_c + cpd01567_c</p>\n",
       "                    <p style='text-align:right'>5-Hydroxy-2-oxo-4-ureido-2,5-dihydro-1H-imidazole-5-carboxylate --> CO2 + (R)-Allantoin</p>\n",
       "                </td>\n",
       "            </tr><tr>\n",
       "                <td><strong>GPR</strong></td><td></td>\n",
       "            </tr><tr>\n",
       "                <td><strong>Lower bound</strong></td><td>0.0</td>\n",
       "            </tr><tr>\n",
       "                <td><strong>Upper bound</strong></td><td>1000.0</td>\n",
       "            </tr>\n",
       "        </table>\n",
       "        "
      ],
      "text/plain": [
       "<Reaction rxn04457_c at 0x7effa4ffb350>"
      ]
     },
     "execution_count": 57,
     "metadata": {},
     "output_type": "execute_result"
    }
   ],
   "source": [
    "model.reactions.get_by_id('rxn04457_c')"
   ]
  },
  {
   "cell_type": "code",
   "execution_count": 47,
   "metadata": {},
   "outputs": [
    {
     "data": {
      "text/html": [
       "\n",
       "        <table>\n",
       "            <tr>\n",
       "                <td><strong>Reaction identifier</strong></td><td>rxn02916_c</td>\n",
       "            </tr><tr>\n",
       "                <td><strong>Name</strong></td><td>R04175</td>\n",
       "            </tr><tr>\n",
       "                <td><strong>Memory address</strong></td>\n",
       "                <td>0x07effa913bd50</td>\n",
       "            </tr><tr>\n",
       "                <td><strong>Stoichiometry</strong></td>\n",
       "                <td>\n",
       "                    <p style='text-align:right'>cpd02074_c --> cpd00001_c + cpd00067_c + cpd00922_c</p>\n",
       "                    <p style='text-align:right'>2-Oxo-6-aminocaproate --> H2O + H+ + delta1-Piperideine-2-carboxylate</p>\n",
       "                </td>\n",
       "            </tr><tr>\n",
       "                <td><strong>GPR</strong></td><td></td>\n",
       "            </tr><tr>\n",
       "                <td><strong>Lower bound</strong></td><td>0.0</td>\n",
       "            </tr><tr>\n",
       "                <td><strong>Upper bound</strong></td><td>1000.0</td>\n",
       "            </tr>\n",
       "        </table>\n",
       "        "
      ],
      "text/plain": [
       "<Reaction rxn02916_c at 0x7effa913bd50>"
      ]
     },
     "execution_count": 47,
     "metadata": {},
     "output_type": "execute_result"
    }
   ],
   "source": [
    "model.reactions.get_by_id('rxn02916_c')"
   ]
  },
  {
   "cell_type": "code",
   "execution_count": 48,
   "metadata": {},
   "outputs": [
    {
     "data": {
      "text/html": [
       "\n",
       "        <table>\n",
       "            <tr>\n",
       "                <td><strong>Reaction identifier</strong></td><td>rxn03012_c</td>\n",
       "            </tr><tr>\n",
       "                <td><strong>Name</strong></td><td>R04336</td>\n",
       "            </tr><tr>\n",
       "                <td><strong>Memory address</strong></td>\n",
       "                <td>0x07effa94f68d0</td>\n",
       "            </tr><tr>\n",
       "                <td><strong>Stoichiometry</strong></td>\n",
       "                <td>\n",
       "                    <p style='text-align:right'>cpd02414_c --> cpd00001_c + cpd00067_c + cpd02465_c</p>\n",
       "                    <p style='text-align:right'>L-2-Amino-6-oxopimelate --> H2O + H+ + tetrahydrodipicolinate</p>\n",
       "                </td>\n",
       "            </tr><tr>\n",
       "                <td><strong>GPR</strong></td><td></td>\n",
       "            </tr><tr>\n",
       "                <td><strong>Lower bound</strong></td><td>0.0</td>\n",
       "            </tr><tr>\n",
       "                <td><strong>Upper bound</strong></td><td>1000.0</td>\n",
       "            </tr>\n",
       "        </table>\n",
       "        "
      ],
      "text/plain": [
       "<Reaction rxn03012_c at 0x7effa94f68d0>"
      ]
     },
     "execution_count": 48,
     "metadata": {},
     "output_type": "execute_result"
    }
   ],
   "source": [
    "model.reactions.get_by_id('rxn03012_c')"
   ]
  },
  {
   "cell_type": "code",
   "execution_count": 49,
   "metadata": {},
   "outputs": [
    {
     "data": {
      "text/html": [
       "\n",
       "        <table>\n",
       "            <tr>\n",
       "                <td><strong>Reaction identifier</strong></td><td>rxn04132_c</td>\n",
       "            </tr><tr>\n",
       "                <td><strong>Name</strong></td><td>R06063</td>\n",
       "            </tr><tr>\n",
       "                <td><strong>Memory address</strong></td>\n",
       "                <td>0x07effa8c2a8d0</td>\n",
       "            </tr><tr>\n",
       "                <td><strong>Stoichiometry</strong></td>\n",
       "                <td>\n",
       "                    <p style='text-align:right'>cpd00001_c + cpd08625_c --> cpd00011_c + cpd00067_c + cpd01567_c</p>\n",
       "                    <p style='text-align:right'>H2O + 5-Hydroxyisourate --> CO2 + H+ + (R)-Allantoin</p>\n",
       "                </td>\n",
       "            </tr><tr>\n",
       "                <td><strong>GPR</strong></td><td></td>\n",
       "            </tr><tr>\n",
       "                <td><strong>Lower bound</strong></td><td>0.0</td>\n",
       "            </tr><tr>\n",
       "                <td><strong>Upper bound</strong></td><td>1000.0</td>\n",
       "            </tr>\n",
       "        </table>\n",
       "        "
      ],
      "text/plain": [
       "<Reaction rxn04132_c at 0x7effa8c2a8d0>"
      ]
     },
     "execution_count": 49,
     "metadata": {},
     "output_type": "execute_result"
    }
   ],
   "source": [
    "model.reactions.get_by_id('rxn04132_c')"
   ]
  },
  {
   "cell_type": "code",
   "execution_count": 50,
   "metadata": {},
   "outputs": [
    {
     "data": {
      "text/html": [
       "\n",
       "        <table>\n",
       "            <tr>\n",
       "                <td><strong>Reaction identifier</strong></td><td>rxn05468_c</td>\n",
       "            </tr><tr>\n",
       "                <td><strong>Name</strong></td><td>TRANS-RXNAVI-26568.ce</td>\n",
       "            </tr><tr>\n",
       "                <td><strong>Memory address</strong></td>\n",
       "                <td>0x07effab166150</td>\n",
       "            </tr><tr>\n",
       "                <td><strong>Stoichiometry</strong></td>\n",
       "                <td>\n",
       "                    <p style='text-align:right'>cpd00007_e <=> cpd00007_c</p>\n",
       "                    <p style='text-align:right'>O2 <=> O2</p>\n",
       "                </td>\n",
       "            </tr><tr>\n",
       "                <td><strong>GPR</strong></td><td></td>\n",
       "            </tr><tr>\n",
       "                <td><strong>Lower bound</strong></td><td>-1000.0</td>\n",
       "            </tr><tr>\n",
       "                <td><strong>Upper bound</strong></td><td>1000.0</td>\n",
       "            </tr>\n",
       "        </table>\n",
       "        "
      ],
      "text/plain": [
       "<Reaction rxn05468_c at 0x7effab166150>"
      ]
     },
     "execution_count": 50,
     "metadata": {},
     "output_type": "execute_result"
    }
   ],
   "source": [
    "model.reactions.get_by_id('rxn05468_c')"
   ]
  },
  {
   "cell_type": "code",
   "execution_count": 51,
   "metadata": {},
   "outputs": [
    {
     "data": {
      "text/html": [
       "\n",
       "        <table>\n",
       "            <tr>\n",
       "                <td><strong>Reaction identifier</strong></td><td>rxn04133_c</td>\n",
       "            </tr><tr>\n",
       "                <td><strong>Name</strong></td><td>R06064</td>\n",
       "            </tr><tr>\n",
       "                <td><strong>Memory address</strong></td>\n",
       "                <td>0x07effaabbc5d0</td>\n",
       "            </tr><tr>\n",
       "                <td><strong>Stoichiometry</strong></td>\n",
       "                <td>\n",
       "                    <p style='text-align:right'>cpd00001_c + cpd08625_c --> cpd00011_c + cpd00067_c + cpd01092_c</p>\n",
       "                    <p style='text-align:right'>H2O + 5-Hydroxyisourate --> CO2 + H+ + Allantoin</p>\n",
       "                </td>\n",
       "            </tr><tr>\n",
       "                <td><strong>GPR</strong></td><td></td>\n",
       "            </tr><tr>\n",
       "                <td><strong>Lower bound</strong></td><td>0.0</td>\n",
       "            </tr><tr>\n",
       "                <td><strong>Upper bound</strong></td><td>1000.0</td>\n",
       "            </tr>\n",
       "        </table>\n",
       "        "
      ],
      "text/plain": [
       "<Reaction rxn04133_c at 0x7effaabbc5d0>"
      ]
     },
     "execution_count": 51,
     "metadata": {},
     "output_type": "execute_result"
    }
   ],
   "source": [
    "model.reactions.get_by_id('rxn04133_c')"
   ]
  },
  {
   "cell_type": "code",
   "execution_count": 52,
   "metadata": {},
   "outputs": [
    {
     "data": {
      "text/html": [
       "\n",
       "        <table>\n",
       "            <tr>\n",
       "                <td><strong>Reaction identifier</strong></td><td>rxn05238_c</td>\n",
       "            </tr><tr>\n",
       "                <td><strong>Name</strong></td><td>TRANS-RXNBWI-115353.ce</td>\n",
       "            </tr><tr>\n",
       "                <td><strong>Memory address</strong></td>\n",
       "                <td>0x07effa33fb090</td>\n",
       "            </tr><tr>\n",
       "                <td><strong>Stoichiometry</strong></td>\n",
       "                <td>\n",
       "                    <p style='text-align:right'>cpd00048_e <=> cpd00048_c</p>\n",
       "                    <p style='text-align:right'>Sulfate <=> Sulfate</p>\n",
       "                </td>\n",
       "            </tr><tr>\n",
       "                <td><strong>GPR</strong></td><td></td>\n",
       "            </tr><tr>\n",
       "                <td><strong>Lower bound</strong></td><td>-1000.0</td>\n",
       "            </tr><tr>\n",
       "                <td><strong>Upper bound</strong></td><td>1000.0</td>\n",
       "            </tr>\n",
       "        </table>\n",
       "        "
      ],
      "text/plain": [
       "<Reaction rxn05238_c at 0x7effa33fb090>"
      ]
     },
     "execution_count": 52,
     "metadata": {},
     "output_type": "execute_result"
    }
   ],
   "source": [
    "model.reactions.get_by_id('rxn05238_c')"
   ]
  },
  {
   "cell_type": "code",
   "execution_count": 53,
   "metadata": {},
   "outputs": [
    {
     "data": {
      "text/html": [
       "\n",
       "        <table>\n",
       "            <tr>\n",
       "                <td><strong>Reaction identifier</strong></td><td>rxn02976_c</td>\n",
       "            </tr><tr>\n",
       "                <td><strong>Name</strong></td><td>R04269</td>\n",
       "            </tr><tr>\n",
       "                <td><strong>Memory address</strong></td>\n",
       "                <td>0x07eff9658de90</td>\n",
       "            </tr><tr>\n",
       "                <td><strong>Stoichiometry</strong></td>\n",
       "                <td>\n",
       "                    <p style='text-align:right'>cpd00024_c + cpd02273_c <=> cpd00023_c + cpd03591_c</p>\n",
       "                    <p style='text-align:right'>2-Oxoglutarate + L-threo-3-Methylaspartate <=> L-Glutamate + Methyloxaloacetate</p>\n",
       "                </td>\n",
       "            </tr><tr>\n",
       "                <td><strong>GPR</strong></td><td></td>\n",
       "            </tr><tr>\n",
       "                <td><strong>Lower bound</strong></td><td>-1000.0</td>\n",
       "            </tr><tr>\n",
       "                <td><strong>Upper bound</strong></td><td>1000.0</td>\n",
       "            </tr>\n",
       "        </table>\n",
       "        "
      ],
      "text/plain": [
       "<Reaction rxn02976_c at 0x7eff9658de90>"
      ]
     },
     "execution_count": 53,
     "metadata": {},
     "output_type": "execute_result"
    }
   ],
   "source": [
    "model.reactions.get_by_id('rxn02976_c')"
   ]
  },
  {
   "cell_type": "code",
   "execution_count": null,
   "metadata": {},
   "outputs": [],
   "source": [
    "# turn off O2 exchange\n",
    "model.reactions.get_by_id('EX_cpd00007_e').lower_bound = 0."
   ]
  },
  {
   "cell_type": "code",
   "execution_count": 8,
   "metadata": {},
   "outputs": [],
   "source": [
    "# Basal Synthetic Media\n",
    "bsm = [\n",
    "    ['H+','cpd00067'],\n",
    "    ['H2O','cpd00001'],\n",
    "    ['CO2','cpd00011'],\n",
    "    ['O2','cpd00007'],\n",
    "    ['N2','cpd00528'], \n",
    "#     ['H2','cpd11640'], # Only with no O2\n",
    "    \n",
    "    ['K+','cpd00205'],\n",
    "    ['Na+','cpd00971'],\n",
    "    ['Mg','cpd00254'],\n",
    "    ['Mn2+','cpd00030'],\n",
    "    ['Fe2+','cpd10515'], # Iron ion in heme\n",
    "    ['Ca2+','cpd00063'], # Calcium pantothenate;cpd19112\n",
    "    \n",
    "    ['Vitamin B12r','cpd00423'], # C62H91CoN13O14P : cobalamin;cpd03424;cpd00730 : not present in any exchange reactions\n",
    "    ['Cobinamide','cpd03422'], #EXs : related to cobalamin (B12) Added to ensure cells have access to B12\n",
    "    ['BIOT','cpd00104'], # C10H15N2O3S : biotin B7\n",
    "    ['PAN','cpd00644'], # C9H16NO5 : Pantothenate B5\n",
    "    ['Folate','cpd00393'], # C19H17N7O6 : B9\n",
    "    ['Niacin','cpd00218'], # C6H4NO2 : B3\n",
    "    ['Pyridoxal','cpd00215'], # C8H9NO3 : B6\n",
    "    ['Riboflavin','cpd00220'], # C17H19N4O6 : B2\n",
    "    ['thiamin','cpd00305'], # C12H17N4OS : B1\n",
    "    \n",
    "#     ['Phosphate','cpd00009'], # HO4P : In M9 Defaults\n",
    "    \n",
    "    ['Thioglycolate','cpd01415'], # C2H3O2S : not present in any exchange reactions\n",
    "#     ['Sulfate','cpd00048'], # O4S : In M9 Defaults\n",
    "    \n",
    "    ['Acetate','cpd00029'], # C2H3O2 : not present in any exchange reactions\n",
    "    ['Citrate','cpd00137'], # C6H5O7 : Consider removing. \n",
    "#     ['Polysorbate 60','cpd24450'], # C35H68O10 : Almost tween 80 : not present in any reactions\n",
    "#     ['Ethyl acetate','cpd00633'], # C4H8O2 : not present in any exchange reactions, only present in one reaction at all\n",
    "    \n",
    "    ['ABEE','cpd00443'] # C7H6NO2 : aminobenzoate : not present in any exchange reactions\n",
    "]\n",
    "\n",
    "# Potentially add to BSM (from M9 media)\n",
    "M9_ions = [\n",
    "    ['Cl-','cpd00099'],\n",
    "    ['Co2+','cpd00149'],\n",
    "    ['Cu2+','cpd00058'],\n",
    "    ['Fe3','cpd10516'],\n",
    "#     ['Sodium molybdate','cpd11145'], # This doesn't connect to anything\n",
    "    ['Ni2+','cpd00244'],\n",
    "    ['Selenate','cpd03396'],\n",
    "    ['Selenite','cpd03387'],\n",
    "    ['Zn2+','cpd00034']\n",
    "]\n",
    "\n",
    "# Enviromental Metabolites with Exchange reactions\n",
    "[\n",
    "#     ['CO2','cpd00011'], #EXs : \n",
    "#     ['Ca2+','cpd00063'], #EXs : \n",
    "#     ['Cd2+','cpd01012'], #EXs : Removed because toxic\n",
    "#     ['chromate','cpd11595'], #EXs : Removed because toxic\n",
    "#     ['Cl-','cpd00099'], #EXs : \n",
    "#     ['Co2+','cpd00149'], #EXs : In M9\n",
    "#     ['Cu2+','cpd00058'], #EXs : In M9\n",
    "#     ['Fe2+','cpd10515'], #EXs : \n",
    "#     ['H+','cpd00067'], #EXs : \n",
    "#     ['H2','cpd11640'], #EXs : \n",
    "#     ['H2O','cpd00001'], #EXs : \n",
    "#     ['Hg2+','cpd00531'], #EXs : Removed because toxic\n",
    "#     ['K+','cpd00205'], #EXs : \n",
    "#     ['Mg','cpd00254'], #EXs : \n",
    "#     ['Mn2+','cpd00030'], #EXs : \n",
    "#     ['Na+','cpd00971'], #EXs : \n",
    "#     ['Ni2+','cpd00244'], #EXs : In M9\n",
    "#     ['O2','cpd00007'], #EXs : \n",
    "#     ['Pb','cpd04097'], #EXs : Removed because toxic\n",
    "#     ['Zn2+','cpd00034'], #EXs : In M9\n",
    "#     ['fe3','cpd10516'] #EXs : In M9\n",
    "]\n",
    "\n",
    "# M9 Base : https://www.ncbi.nlm.nih.gov/pmc/articles/PMC4932939/\n",
    "# [\n",
    "#     ['Ca2+','cpd00063'],\n",
    "#     ['Cl-','cpd00099'],\n",
    "#     ['CO2','cpd00011'],\n",
    "#     ['Co2+','cpd00149'],\n",
    "#     ['Cu2+','cpd00058'],\n",
    "#     ['Fe2+','cpd10515'],\n",
    "#     ['Fe3','cpd10516'],\n",
    "#     ['H+','cpd00067'],\n",
    "#     ['H2O','cpd00001'],\n",
    "#     ['K+','cpd00205'],\n",
    "#     ['Mg','cpd00254'],\n",
    "#     ['Mn2+','cpd00030'],\n",
    "#     ['Sodium molybdate','cpd11145'],\n",
    "#     ['Na+','cpd00971'],\n",
    "#     ['Ni2+','cpd00244'],\n",
    "#     ['Selenate','cpd03396'],\n",
    "#     ['Selenite','cpd03387'],\n",
    "#     ['Zn2+','cpd00034']\n",
    "# ]\n",
    "\n",
    "# M9 default carbon, nitrogen, phosphorous, and sulfur sources\n",
    "M9_sources = [\n",
    "    ['D-Glucose','cpd00027'],\n",
    "    ['NH3','cpd00013'], # this is actually NH4 : ammonium\n",
    "    ['Phosphate','cpd00009'],\n",
    "    ['Sulfate','cpd00048']\n",
    "]\n",
    "\n",
    "# Vitamins\n",
    "vit_k = [\n",
    "#     ['BIOT','cpd00104'], #EXs : Biotin\n",
    "#     ['Cobinamide','cpd03422'], #EXs : related to cobalamin (B12)\n",
    "#     ['Folate','cpd00393'], #EXs : \n",
    "    ['Menaquinone 7','cpd11606'], #EXs : Vitamine K2 : Add when there is no O2\n",
    "#     ['Niacin','cpd00218'], #EXs : \n",
    "#     ['PAN','cpd00644'], #EXs : Pantothenate\n",
    "#     ['Pyridoxal','cpd00215'], #EXs : \n",
    "#     ['Riboflavin','cpd00220'], #EXs : \n",
    "#     ['Thiamin','cpd00305'] #EXs : \n",
    "]\n",
    "\n",
    "# For aerobic simulations, O2 was added with a lower bound of −20 and to 0 for anaerobic simulations."
   ]
  },
  {
   "cell_type": "code",
   "execution_count": 61,
   "metadata": {},
   "outputs": [
    {
     "data": {
      "text/plain": [
       "[['H+', 'cpd00067'],\n",
       " ['H2O', 'cpd00001'],\n",
       " ['CO2', 'cpd00011'],\n",
       " ['O2', 'cpd00007'],\n",
       " ['N2', 'cpd00528'],\n",
       " ['K+', 'cpd00205'],\n",
       " ['Na+', 'cpd00971'],\n",
       " ['Mg', 'cpd00254'],\n",
       " ['Mn2+', 'cpd00030'],\n",
       " ['Fe2+', 'cpd10515'],\n",
       " ['Ca2+', 'cpd00063'],\n",
       " ['Vitamin B12r', 'cpd00423'],\n",
       " ['Cobinamide', 'cpd03422'],\n",
       " ['BIOT', 'cpd00104'],\n",
       " ['PAN', 'cpd00644'],\n",
       " ['Folate', 'cpd00393'],\n",
       " ['Niacin', 'cpd00218'],\n",
       " ['Pyridoxal', 'cpd00215'],\n",
       " ['Riboflavin', 'cpd00220'],\n",
       " ['thiamin', 'cpd00305'],\n",
       " ['Thioglycolate', 'cpd01415'],\n",
       " ['Acetate', 'cpd00029'],\n",
       " ['Citrate', 'cpd00137'],\n",
       " ['ABEE', 'cpd00443'],\n",
       " ['D-Glucose', 'cpd00027'],\n",
       " ['NH3', 'cpd00013'],\n",
       " ['Phosphate', 'cpd00009'],\n",
       " ['Sulfate', 'cpd00048']]"
      ]
     },
     "execution_count": 61,
     "metadata": {},
     "output_type": "execute_result"
    }
   ],
   "source": [
    "bsm + M9_sources"
   ]
  },
  {
   "cell_type": "code",
   "execution_count": null,
   "metadata": {},
   "outputs": [],
   "source": [
    "# Carbon Sources from all Exchanges and additional interesting sources\n",
    "[\n",
    "    ['4-Hydroxybenzoate','cpd00136'], #EXs : found in coconuts\n",
    "    ['2-keto-3-deoxygluconate','cpd00176'], #EXs : degraded pectin product\n",
    "    ['Amylotriose','cpd01262'], #EXs : \n",
    "    ['CELB','cpd00158'], #EXs : Cellobiose\n",
    "    ['D-Fructose','cpd00082'], #EXs : \n",
    "    ['D-Glucose','cpd00027'], #EXs : \n",
    "    ['D-Mannitol','cpd00314'], #EXs : sweetener the is poorly absorbed in the gut\n",
    "    ['D-Mannose','cpd00138'], #EXs : related to mucin\n",
    "    ['Ribose','cpd00105'], #EXs : \n",
    "    ['Dextrin','cpd11594'], #EXs : \n",
    "    ['Dulcose','cpd01171'], #EXs : Galactitol\n",
    "    ['GLCN','cpd00222'], #EXs : Gluconate \n",
    "    ['GLUM','cpd00276'], #EXs : Glucosamine\n",
    "    ['Galactose','cpd00108'], #EXs : \n",
    "    ['L-Arabinose','cpd00224'], #EXs : \n",
    "    ['L-Inositol','cpd00121'], #EXs : \n",
    "    ['L-Lactate','cpd00159'], #EXs : \n",
    "    ['L-Malate','cpd00130'], #EXs : \n",
    "    ['Glycerol','cpd00100'], #EXs : \n",
    "    ['LACT','cpd00208'], #EXs : lactose\n",
    "    ['Maltohexaose','cpd01329'], #EXs : \n",
    "    ['Maltose','cpd00179'], #EXs : \n",
    "    ['Melibiose','cpd03198'], #EXs : \n",
    "    ['Palmitate','cpd00214'], #EXs : \n",
    "    ['Propionate','cpd00141'], #EXs : \n",
    "    ['Salicin','cpd01030'], #EXs : \n",
    "    ['Sorbitol','cpd00588'], #EXs : \n",
    "    ['Stachyose','cpd01133'], #EXs : \n",
    "    ['Succinate','cpd00036'], #EXs : \n",
    "    ['Sucrose','cpd00076'], #EXs : \n",
    "    ['TRHL','cpd00794'], #EXs : Trehalose\n",
    "    ['Ursin','cpd03696'], #EXs : Arbutin\n",
    "    ['Xylose','cpd00154'], #EXs : \n",
    "    ['hexadecenoate','cpd15237'] #EXs : \n",
    "]\n",
    "\n",
    "# Nitrogen Sources\n",
    "[\n",
    "#     ['NH3','cpd00013'], #EXs : \n",
    "    ['Allantoin','cpd01092'], #EXs : degradation product of purines\n",
    "    ['BET','cpd00540'], #EXs : Betaine\n",
    "    ['Choline','cpd00098'], #EXs : Found in milk\n",
    "    ['GABA','cpd00281'], #EXs : Could also be a carbon source\n",
    "    ['Nitrate','cpd00209'], #EXs : \n",
    "    ['Nitrite','cpd00075'], #EXs : \n",
    "    ['Spermidine','cpd00264'], #EXs : \n",
    "    ['Urea','cpd00073'], #EXs : \n",
    "    ['crotonobetaine','cpd08305'] #EXs : \n",
    "]\n",
    "\n",
    "# Sulfur Sources\n",
    "[\n",
    "    ['H2S2O3','cpd00268'], #EXs : Thiosulfate\n",
    "    ['Isethionate','cpd03048'], #EXs : C2H5O4S\n",
    "#     ['Sulfate','cpd00048'], #EXs : O4S\n",
    "    ['Sulfite','cpd00081'], #EXs : HO3S\n",
    "    ['Sulfoacetate','cpd09878'], #EXs : C2H2O5S\n",
    "    ['ethanesulfonate','cpd11579'], #EXs : C2H5O3S\n",
    "    ['methanesulfonate','cpd08023'] #EXs : CH3O3S\n",
    "]\n",
    "\n",
    "# Phosphorus Sources\n",
    "[\n",
    "    ['Phosphate','cpd00009'] #EX :\n",
    "]"
   ]
  },
  {
   "cell_type": "code",
   "execution_count": 7,
   "metadata": {},
   "outputs": [],
   "source": [
    "# Amino Acid related metabolites\n",
    "aas = [\n",
    "    ['D-Alanine','cpd00117'], #EXs : \n",
    "    ['D-Glutamate','cpd00186'], #EXs : \n",
    "    ['D-Methionine','cpd00637'], #EXs : \n",
    "    ['D-Serine','cpd00550'], #EXs : \n",
    "    ['Glycine','cpd00033'], #EXs : 1\n",
    "    ['L-Alanine','cpd00035'], #EXs : 2\n",
    "    ['L-Arginine','cpd00051'], #EXs : 3\n",
    "    ['L-Asparagine','cpd00132'], #EXs : 4\n",
    "    ['L-Aspartate','cpd00041'], #EXs : 5\n",
    "\n",
    "    ['L-Cysteine','cpd00084'], #EXs : 7\n",
    "    ['L-Glutamate','cpd00023'], #EXs : 8\n",
    "    ['L-Glutamine','cpd00053'], #EXs : 9\n",
    "    ['L-Histidine','cpd00119'], #EXs : 10\n",
    "    ['L-Isoleucine','cpd00322'], #EXs : 11\n",
    "    ['L-Leucine','cpd00107'], #EXs : 12\n",
    "    ['L-Lysine','cpd00039'], #EXs : 13\n",
    "    ['L-Methionine','cpd00060'], #EXs : 14\n",
    "    ['L-Phenylalanine','cpd00066'], #EXs : 15\n",
    "    ['L-Proline','cpd00129'], #EXs : 16\n",
    "    ['L-Serine','cpd00054'], #EXs : 17\n",
    "    ['L-Threonine','cpd00161'], #EXs : 18\n",
    "    ['L-Tryptophan','cpd00065'], #EXs : 19\n",
    "    ['L-Tyrosine','cpd00069'], #EXs : 20\n",
    "    ['L-Valine','cpd00156'] #EXs : 21\n",
    "]\n",
    "# Explore leave one out with core amino acids. \n",
    "\n",
    "# Dimers, and other amino acid related mets\n",
    "aa_related = [\n",
    "    ['2-Oxoglutarate','cpd00024'], #EXs : \n",
    "    ['Ala-Gln','cpd11587'], #EXs : \n",
    "    ['Ala-His','cpd11584'], #EXs : \n",
    "    ['Ala-Leu','cpd11583'], #EXs : \n",
    "    ['ala-L-asp-L','cpd11593'], #EXs : \n",
    "    ['ala-L-glu-L','cpd11586'], #EXs : \n",
    "    ['ala-L-Thr-L','cpd11582'], #EXs : \n",
    "    ['Aminoethanol','cpd00162'], #EXs : Ethanolamine\n",
    "    ['Carnitine','cpd00266'], #EXs : \n",
    "    ['Chorismate','cpd00216'], #EXs : \n",
    "    ['L-Cysteate','cpd00395'], #EXs : \n",
    "    ['Cys-Gly','cpd01017'], #EXs : \n",
    "    ['Gly-Cys','cpd15603'], #EXs : \n",
    "    ['Gly-Gln','cpd11580'], #EXs : \n",
    "    ['Gly-Leu','cpd15604'], #EXs : \n",
    "    ['Gly-Met','cpd11591'], #EXs : \n",
    "    ['Gly-Phe','cpd15605'], #EXs : \n",
    "    ['Gly-Tyr','cpd15606'], #EXs : \n",
    "    ['gly-asn-L','cpd11581'], #EXs : \n",
    "    ['gly-asp-L','cpd11589'], #EXs : \n",
    "    ['gly-glu-L','cpd11592'], #EXs : \n",
    "    ['gly-pro-L','cpd11588'], #EXs : \n",
    "    ['L-Methionine S-oxide','cpd01914'], #EXs :\n",
    "    ['L-alanylglycine','cpd11585'], #EXs : \n",
    "    ['L-methionine R-oxide','cpd11576'], #EXs : \n",
    "    ['met-L-ala-L','cpd11590'], #EXs :\n",
    "    ['S-Adenosyl-L-methionine','cpd00017'], #EXs : \n",
    "    ['S-Methyl-L-methionine','cpd02027'], #EXs : \n",
    "    ['S-Ribosylhomocysteine','cpd02227'], #EXs : \n",
    "    ['N-Acetyl-D-glucosamine','cpd00122'], #EXs : \n",
    "    ['N-Acetyl-D-mannosamine','cpd00492'], #EXs : \n",
    "    ['Ornithine','cpd00064'], #EXs : \n",
    "    ['Putrescine','cpd00118'], #EXs : \n",
    "    ['Taurine','cpd00210'], #EXs : \n",
    "    ['meso-2,6-Diaminopimelate','cpd00516'] #EXs : related to lysine\n",
    "]"
   ]
  },
  {
   "cell_type": "code",
   "execution_count": null,
   "metadata": {},
   "outputs": [],
   "source": [
    "# DNA/RNA related metabolites\n",
    "[\n",
    "    ['35ccmp','cpd00696'], #EXs : \n",
    "    ['AMP','cpd00018'], #EXs : \n",
    "    ['Adenosine','cpd00182'], #EXs : \n",
    "    ['Adenosine 3-5-bisphosphate','cpd00045'], #EXs : \n",
    "    ['Cytosine','cpd00307'], #EXs : \n",
    "    ['Deoxyadenosine','cpd00438'], #EXs : \n",
    "    ['Deoxycytidine','cpd00654'], #EXs : \n",
    "    ['Deoxyguanosine','cpd00277'], #EXs : \n",
    "    ['Deoxyinosine','cpd03279'], #EXs : \n",
    "    ['Deoxyuridine','cpd00412'], #EXs : \n",
    "    ['GMP','cpd00126'], #EXs : \n",
    "    ['GTP','cpd00038'], #EXs : \n",
    "    ['Guanosine','cpd00311'], #EXs : \n",
    "    ['Inosine','cpd00246'], #EXs : \n",
    "    ['HYXN','cpd00226'], #EXs : Hypoxanthine\n",
    "    ['Nicotinamide ribonucleotide','cpd00355'], #EXs : \n",
    "    ['TTP','cpd00357'], #EXs : Deoxythymidine triphosphate\n",
    "    ['Thymidine','cpd00184'], #EXs : \n",
    "    ['Thyminose','cpd01242'], #EXs : deoxyribose\n",
    "    ['Uracil','cpd00092'], #EXs : \n",
    "    ['Uridine','cpd00249'], #EXs : \n",
    "    ['XAN','cpd00309'], #EXs : Xanthine\n",
    "    ['Xanthosine','cpd01217'], #EXs : \n",
    "    ['dATP','cpd00115'], #EXs : \n",
    "    ['dGTP','cpd00241'], #EXs : \n",
    "    ['dTMP','cpd00298'] #EXs : \n",
    "]\n",
    "\n",
    "# Check to see if these metabolites are used in pathways? Should I add some of these to media? "
   ]
  },
  {
   "cell_type": "code",
   "execution_count": null,
   "metadata": {},
   "outputs": [],
   "source": [
    "# Production\n",
    "# H2O2 -- cpd00025\n",
    "# Acetate -- cpd00029\n",
    "# Butyrate -- cpd00211\n",
    "# isobutyrate -- cpd01711\n",
    "# GABA -- cpd00281\n",
    "# ethanol -- cpd00363\n",
    "# Propionate -- cpd00141\n",
    "# formate -- cpd00047\n",
    "# Valerate -- cpd00597\n",
    "# Isovaleric acid -- cpd05178 (wrong eqn)\n",
    "# sulforaphane -- \n",
    "# https://www.ncbi.nlm.nih.gov/pmc/articles/PMC5541232/\n",
    "# thiamin -- cpd00305\n",
    "# Pyridoxal phosphate (B6) -- cpd00016\n",
    "# BIOT (biotin, B7) -- cpd00104\n",
    "# (CH3)3NO (TMAO) -- cpd00811\n",
    "# Indole-3-(carb)aldehyde -- cpd05401\n",
    "# https://www.ncbi.nlm.nih.gov/pmc/articles/PMC4337795/\n",
    "# Acetaldehyde -- cpd00071\n",
    "# Deoxycholate -- cpd02733\n",
    "# Chorismate -- cpd00216\n",
    "# Hexanoate -- cpd01113\n",
    "# \n",
    "\n",
    "# Consumption\n",
    "# Galactose -- cpd00108; cpd01112\n",
    "# L-galactose -- cpd01257\n",
    "# lactose -- cpd00208\n",
    "# beta-lactose -- cpd01354\n",
    "# sucrose -- cpd00076\n",
    "# trehalose (TRHL) -- cpd00794\n",
    "# maltose -- cpd00179\n",
    "# D-Mannose -- cpd00138\n",
    "# D-Fructose -- cpd00082\n",
    "# Inulin -- cpd27312\n",
    "# ethanol -- cpd00363\n",
    "# Carnitine -- cpd00266\n",
    "# Citrate -- cpd00137\n",
    "# GLUM (D-glucosamine) -- cpd00276\n",
    "# \n"
   ]
  },
  {
   "cell_type": "code",
   "execution_count": 92,
   "metadata": {},
   "outputs": [
    {
     "name": "stdout",
     "output_type": "stream",
     "text": [
      "Starting Loop\n",
      "0...gapfilling...optimizing...Average Likelihood of: cpd00156 is 0.4529859296342513\n",
      "Time to complete:24.4370933652mins\n",
      "\n",
      "\n"
     ]
    },
    {
     "ename": "NameError",
     "evalue": "name 'gaps_to_add' is not defined",
     "output_type": "error",
     "traceback": [
      "\u001b[0;31m---------------------------------------------------------------------------\u001b[0m",
      "\u001b[0;31mNameError\u001b[0m                                 Traceback (most recent call last)",
      "\u001b[0;32m<ipython-input-92-3f4535dab49e>\u001b[0m in \u001b[0;36m<module>\u001b[0;34m()\u001b[0m\n\u001b[1;32m     62\u001b[0m \u001b[0;32mprint\u001b[0m\u001b[0;34m(\u001b[0m\u001b[0;34m\"\\nTime to complete:\"\u001b[0m \u001b[0;34m+\u001b[0m \u001b[0mstr\u001b[0m\u001b[0;34m(\u001b[0m\u001b[0melapsed\u001b[0m\u001b[0;34m/\u001b[0m\u001b[0;36m60\u001b[0m\u001b[0;34m)\u001b[0m \u001b[0;34m+\u001b[0m \u001b[0;34m\"mins\"\u001b[0m\u001b[0;34m)\u001b[0m\u001b[0;34m\u001b[0m\u001b[0m\n\u001b[1;32m     63\u001b[0m \u001b[0;32mprint\u001b[0m\u001b[0;34m(\u001b[0m\u001b[0;34m'\\n'\u001b[0m\u001b[0;34m)\u001b[0m\u001b[0;34m\u001b[0m\u001b[0m\n\u001b[0;32m---> 64\u001b[0;31m \u001b[0;32mprint\u001b[0m\u001b[0;34m(\u001b[0m\u001b[0mgaps_to_add\u001b[0m\u001b[0;34m)\u001b[0m\u001b[0;34m\u001b[0m\u001b[0m\n\u001b[0m\u001b[1;32m     65\u001b[0m \u001b[0;32mprint\u001b[0m\u001b[0;34m(\u001b[0m\u001b[0mlike_list\u001b[0m\u001b[0;34m)\u001b[0m\u001b[0;34m\u001b[0m\u001b[0m\n",
      "\u001b[0;31mNameError\u001b[0m: name 'gaps_to_add' is not defined"
     ]
    }
   ],
   "source": [
    "# Using pFBA\n",
    "\n",
    "t = time.time()\n",
    "counter = 0\n",
    "\n",
    "universal = cobra.io.load_json_model(\"../Data/GramPosUni.json\")\n",
    "genome_id = '220668.9'\n",
    "model = cobra.io.read_sbml_model('../gap_models/'+ genome_id +'.xml')\n",
    "likelihoods = pickle.load(open('../likelihoods/'+ genome_id +'.probs'))\n",
    "\n",
    "# Ensure free water exhange\n",
    "model.reactions.get_by_id('rxn05319_c').name = \"Water transport\"\n",
    "model.reactions.get_by_id('rxn05319_c').bounds = (-1000., 1000.)\n",
    "\n",
    "# Create specific Media List\n",
    "media_list = bsm + M9_sources\n",
    "set_media(model, media_list, universal, verbose=False)\n",
    "\n",
    "# Run through each amino acid to check for production\n",
    "aa_like = {}\n",
    "sys.stdout.write('Starting Loop')\n",
    "# for aa_list in aas[0:1]:\n",
    "\n",
    "sys.stdout.write('\\n'+ str(counter))\n",
    "# aa = aa_list[1]+'_c'\n",
    "aa = 'cpd00186_c'\n",
    "# Add Demand Reaction for metabolite\n",
    "metabolite = model.metabolites.get_by_id(aa)\n",
    "demand = model.add_boundary(metabolite, type='demand')\n",
    "model.objective = demand\n",
    "# Gapfill\n",
    "sys.stdout.write('...gapfilling...')\n",
    "gaps_to_fill = gapfill(model, universal, demand_reactions=False) # Update to probannopy gapfill function; use Gurobi\n",
    "# Fill the gaps\n",
    "rxns_to_add = []\n",
    "for gap in gaps_to_fill:\n",
    "    model.add_reactions(gap) ### I NEED TO REMOVE THESE REACTIONS\n",
    "# Optimize with full pathway\n",
    "sys.stdout.write('optimizing...')\n",
    "solution = pfba(model, objective = demand)\n",
    "# Find reactions that carry flux and their likelihood score\n",
    "df = solution.fluxes.to_frame()\n",
    "active = df.loc[(abs(df['fluxes'])) > 0.1]\n",
    "like_list = []\n",
    "rxns_w_likes = []\n",
    "for rxn in list(active.index):\n",
    "    if rxn.startswith('rxn'):\n",
    "        try:\n",
    "            like_list.append(likelihoods[rxn])\n",
    "            rxns_w_likes.append\n",
    "        except:\n",
    "            pass\n",
    "avg_like = np.mean(like_list)\n",
    "sys.stdout.write('Average Likelihood of: ' + aa_list[1] + ' is ' + str(avg_like))\n",
    "aa_like[aa_list[1]] = avg_like\n",
    "# Remove demand and filled gaps\n",
    "model.remove_reactions([demand])\n",
    "model.remove_reactions(gaps_to_fill[0]) # This might not work when multiple reactions are added... \n",
    "counter += 1\n",
    "\n",
    "elapsed = time.time() - t\n",
    "print(\"\\nTime to complete:\" + str(elapsed/60) + \"mins\")\n",
    "print('\\n')\n",
    "print(gaps_to_fill)\n",
    "print(like_list)"
   ]
  },
  {
   "cell_type": "code",
   "execution_count": null,
   "metadata": {},
   "outputs": [],
   "source": [
    "print(gaps_to_fill)\n",
    "print(rxns_w_likes)\n",
    "print(like_list)\n",
    "# print(likelihoods['rxn00904_c'])"
   ]
  },
  {
   "cell_type": "code",
   "execution_count": null,
   "metadata": {},
   "outputs": [],
   "source": [
    "active"
   ]
  },
  {
   "cell_type": "code",
   "execution_count": 91,
   "metadata": {},
   "outputs": [
    {
     "data": {
      "text/plain": [
       "{}"
      ]
     },
     "execution_count": 91,
     "metadata": {},
     "output_type": "execute_result"
    }
   ],
   "source": [
    "model.reactions.get_by_id('rxn05528_c').check_mass_balance()"
   ]
  },
  {
   "cell_type": "code",
   "execution_count": 87,
   "metadata": {},
   "outputs": [],
   "source": [
    "like_list = []\n",
    "rxns_w_likes = []\n",
    "for rxn in list(active.index):\n",
    "    if rxn.startswith('rxn'):\n",
    "        try:\n",
    "            like_list.append(likelihoods[rxn])\n",
    "            rxns_w_likes.append(rxn)\n",
    "        except:\n",
    "            pass"
   ]
  },
  {
   "cell_type": "code",
   "execution_count": 84,
   "metadata": {},
   "outputs": [
    {
     "name": "stdout",
     "output_type": "stream",
     "text": [
      "0.00167266590947\n"
     ]
    }
   ],
   "source": [
    "print(likelihoods['rxn10481_c'])"
   ]
  },
  {
   "cell_type": "code",
   "execution_count": 69,
   "metadata": {},
   "outputs": [],
   "source": [
    "model.remove_reactions(gaps_to_fill[0])"
   ]
  },
  {
   "cell_type": "code",
   "execution_count": null,
   "metadata": {},
   "outputs": [],
   "source": [
    "# model.solver = 'gurobi'"
   ]
  }
 ],
 "metadata": {
  "kernelspec": {
   "display_name": "Python 2",
   "language": "python",
   "name": "python2"
  },
  "language_info": {
   "codemirror_mode": {
    "name": "ipython",
    "version": 2
   },
   "file_extension": ".py",
   "mimetype": "text/x-python",
   "name": "python",
   "nbconvert_exporter": "python",
   "pygments_lexer": "ipython2",
   "version": "2.7.12"
  }
 },
 "nbformat": 4,
 "nbformat_minor": 2
}
