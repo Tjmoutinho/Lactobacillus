{
 "cells": [
  {
   "cell_type": "code",
   "execution_count": 1,
   "metadata": {},
   "outputs": [],
   "source": [
    "import pickle\n",
    "import numpy as np\n",
    "import matplotlib.pyplot as plt\n",
    "import glob\n",
    "import time\n",
    "import sys\n",
    "import cobra\n",
    "import random"
   ]
  },
  {
   "cell_type": "code",
   "execution_count": null,
   "metadata": {},
   "outputs": [],
   "source": [
    "universal = cobra.io.load_json_model(\"../Data/GramPosUni.json\")"
   ]
  },
  {
   "cell_type": "code",
   "execution_count": 9,
   "metadata": {},
   "outputs": [],
   "source": [
    "likelihoods = pickle.load(open('../likelihoods/220668.9.probs'))\n",
    "\n",
    "rxns_w_like = []\n",
    "for rxn in universal.reactions:\n",
    "    try:\n",
    "        likelihoods[str(rxn.id)]\n",
    "        rxns_w_like.append(rxn.id)\n",
    "    except:\n",
    "        pass\n",
    "rxns_w_like = set(rxns_w_like)\n"
   ]
  },
  {
   "cell_type": "code",
   "execution_count": 10,
   "metadata": {},
   "outputs": [
    {
     "data": {
      "text/plain": [
       "6161"
      ]
     },
     "execution_count": 10,
     "metadata": {},
     "output_type": "execute_result"
    }
   ],
   "source": [
    "len(rxns_w_like)"
   ]
  },
  {
   "cell_type": "code",
   "execution_count": 21,
   "metadata": {},
   "outputs": [
    {
     "name": "stdout",
     "output_type": "stream",
     "text": [
      "24.0seconds to complete\n"
     ]
    }
   ],
   "source": [
    "# Generate 'robust' dataset\n",
    "t = time.time()\n",
    "\n",
    "genome_ids = glob.glob('../metabolic_output/*.data')\n",
    "genome_ids = [x.replace(\"../metabolic_output/\",\"\").replace(\".data\",\"\") for x in genome_ids]\n",
    "\n",
    "ID_list = []\n",
    "# Write header to file\n",
    "for prod_ind in list(range(0,35)):\n",
    "    ID = str(str(prod_ind))\n",
    "    ID_list.append(ID)\n",
    "\n",
    "output_file = '../Data/stand_whole_path_avg_robust.tsv'  \n",
    "\n",
    "output_file = open(output_file, 'w')\n",
    "header = 'genomes\\t' + '\\t'.join(ID_list) + '\\n'\n",
    "output_file.write(header)\n",
    "\n",
    "for genome_id in genome_ids:\n",
    "    # Set up model\n",
    "    model = cobra.io.read_sbml_model('../gap_models/'+ genome_id +'.xml')\n",
    "    likelihoods = pickle.load(open('../likelihoods/'+ genome_id +'.probs'))\n",
    "    # Ensure free diffusion of water\n",
    "    model.reactions.get_by_id('rxn05319_c').name = \"Water transport\"\n",
    "    model.reactions.get_by_id('rxn05319_c').bounds = (-1000., 1000.)\n",
    "    ### Set Up Model: remove low likelihood reactions\n",
    "    low_like_model = []\n",
    "    for rxn in model.reactions:\n",
    "        if rxn.id.startswith('rxn'):\n",
    "            try:\n",
    "                if likelihoods[rxn.id] <= 0.1:\n",
    "                    low_like_model.append(rxn.id)\n",
    "            except:\n",
    "                pass\n",
    "    model_rxns_to_remove = [model.reactions.get_by_id(rxn) for rxn in low_like_model]\n",
    "    model.remove_reactions(model_rxns_to_remove)\n",
    "\n",
    "    model_rxns = set([rxn.id for rxn in model.reactions])\n",
    "    \n",
    "    model_rxns_w_like = rxns_w_like.intersection(model_rxns)\n",
    "    gapfiller_rxns_w_like = rxns_w_like.difference(model_rxns_w_like)\n",
    "    \n",
    "    file_name = \"../metabolic_output/%s.data\" % (genome_id)\n",
    "    total_dataset_dict = pickle.load(open(file_name, \"rb\"))\n",
    "    # Write row name\n",
    "    output_file.write(genome_id + '\\t')\n",
    "    # Write whole_path_like to rows\n",
    "    for prod_ind in list(range(0,35)):\n",
    "        robust_output =[]\n",
    "        for carb_ind in list(range(0,32)):\n",
    "            ID = str(genome_id + ':' + str(carb_ind) + '.0.' + str(prod_ind))\n",
    "            if ID != str(genome_id + ':16.0.25'):\n",
    "                gaps = len(total_dataset_dict[ID]['gaps_w_flux'])\n",
    "                path = len(total_dataset_dict[ID]['path_w_flux'])\n",
    "                likes = []\n",
    "                for i in list(range(0,99)):\n",
    "                    for rxn in random.sample(gapfiller_rxns_w_like, gaps):\n",
    "                        likes.append(likelihoods[str(rxn)])\n",
    "                    for rxn in random.sample(model_rxns_w_like, path):\n",
    "                        likes.append(likelihoods[str(rxn)])\n",
    "                stand_factor = np.mean(likes)\n",
    "                stand_out = total_dataset_dict[ID]['whole_path_like']/stand_factor\n",
    "                robust_output.append(round(stand_out,4))\n",
    "        robust_avg = np.median(robust_output) # Median rather than mean\n",
    "        if prod_ind != 34:\n",
    "            output_file.write(str(round(robust_avg,4))+'\\t')\n",
    "        elif prod_ind == 34:\n",
    "            output_file.write(str(round(robust_avg,4))+'\\n')\n",
    "        else:\n",
    "            print('ERROR')\n",
    "\n",
    "output_file.close()\n",
    "\n",
    "print(str(round(time.time() - t)) + 'seconds to complete')"
   ]
  },
  {
   "cell_type": "code",
   "execution_count": 18,
   "metadata": {},
   "outputs": [
    {
     "data": {
      "text/plain": [
       "0.95975"
      ]
     },
     "execution_count": 18,
     "metadata": {},
     "output_type": "execute_result"
    }
   ],
   "source": [
    "robust_avg"
   ]
  },
  {
   "cell_type": "code",
   "execution_count": 19,
   "metadata": {},
   "outputs": [
    {
     "data": {
      "text/plain": [
       "0.36476566326912674"
      ]
     },
     "execution_count": 19,
     "metadata": {},
     "output_type": "execute_result"
    }
   ],
   "source": [
    "stand_factor"
   ]
  }
 ],
 "metadata": {
  "kernelspec": {
   "display_name": "Python 2",
   "language": "python",
   "name": "python2"
  },
  "language_info": {
   "codemirror_mode": {
    "name": "ipython",
    "version": 2
   },
   "file_extension": ".py",
   "mimetype": "text/x-python",
   "name": "python",
   "nbconvert_exporter": "python",
   "pygments_lexer": "ipython2",
   "version": "2.7.12"
  }
 },
 "nbformat": 4,
 "nbformat_minor": 2
}
