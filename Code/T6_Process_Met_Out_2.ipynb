{
 "cells": [
  {
   "cell_type": "code",
   "execution_count": 5,
   "metadata": {},
   "outputs": [],
   "source": [
    "import pickle\n",
    "import numpy as np\n",
    "import matplotlib.pyplot as plt\n",
    "import glob"
   ]
  },
  {
   "cell_type": "code",
   "execution_count": 7,
   "metadata": {},
   "outputs": [],
   "source": [
    "genome_ids = glob.glob('../metabolic_output/*.data')\n",
    "genome_ids = [x.replace(\"../metabolic_output/\",\"\").replace(\".data\",\"\") for x in genome_ids]\n",
    "\n",
    "# Write header to file\n",
    "for carb_ind in list(range(0,32)):\n",
    "    for prod_ind in list(range(0,35)):\n",
    "        ID = str(str(carb_ind) + '.0.' + str(prod_ind))\n",
    "\n",
    "output_file = '../Data/whole_path_avg.tsv'        \n",
    "\n",
    "output_file = open(output_file, 'w')\n",
    "header = 'genomes\\t' + '\\t'.join(ID) + '\\n'\n",
    "output_file.write(header)\n",
    "\n",
    "for genome_id in genome_ids:\n",
    "    file_name = \"../metabolic_output/%s.data\" % (genome_id)\n",
    "    total_dataset_dict = pickle.load(open(file_name, \"rb\"))\n",
    "    # Write row name\n",
    "    output_file.write(genome_id + '\\t')\n",
    "    # Write whole_path_like to rows\n",
    "    for carb_ind in list(range(0,32)):\n",
    "        for prod_ind in list(range(0,35)):\n",
    "            ID = str(genome_id + ':' + str(carb_ind) + '.0.' + str(prod_ind))\n",
    "            if ID != str(genome_id + ':31.0.34'):\n",
    "                output_file.write(str(total_dataset_dict[ID]['whole_path_like'])+'\\t')\n",
    "            elif ID == str(genome_id + ':31.0.34'):\n",
    "                output_file.write(str(total_dataset_dict[ID]['whole_path_like'])+'\\n')\n",
    "            else:\n",
    "                print('ERROR')\n",
    "output_file.close()"
   ]
  },
  {
   "cell_type": "code",
   "execution_count": null,
   "metadata": {},
   "outputs": [],
   "source": []
  }
 ],
 "metadata": {
  "kernelspec": {
   "display_name": "Python 2",
   "language": "python",
   "name": "python2"
  },
  "language_info": {
   "codemirror_mode": {
    "name": "ipython",
    "version": 2
   },
   "file_extension": ".py",
   "mimetype": "text/x-python",
   "name": "python",
   "nbconvert_exporter": "python",
   "pygments_lexer": "ipython2",
   "version": "2.7.12"
  }
 },
 "nbformat": 4,
 "nbformat_minor": 2
}
