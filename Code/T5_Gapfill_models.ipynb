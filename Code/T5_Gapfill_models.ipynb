{
 "cells": [
  {
   "cell_type": "code",
   "execution_count": 1,
   "metadata": {},
   "outputs": [
    {
     "name": "stdout",
     "output_type": "stream",
     "text": [
      "0.13.0\n"
     ]
    }
   ],
   "source": [
    "import cobra\n",
    "print cobra.__version__\n",
    "from cobra.flux_analysis import gapfill\n",
    "import glob\n",
    "import time\n",
    "import pickle\n",
    "import copy"
   ]
  },
  {
   "cell_type": "code",
   "execution_count": null,
   "metadata": {},
   "outputs": [],
   "source": [
    "model_paths = glob.glob('../gap_models/*.xml')\n",
    "gap_models_ids = [x.replace(\"../gap_models/\",\"\").replace(\".xml\",\"\") for x in model_paths]"
   ]
  },
  {
   "cell_type": "code",
   "execution_count": null,
   "metadata": {},
   "outputs": [],
   "source": [
    "t = time.time()\n",
    "model = cobra.io.read_sbml_model('../gap_models/1051650.8.xml')\n",
    "with model as model_x:\n",
    "    gaps = findGapFilled(model_x)\n",
    "    for rxn in gaps:\n",
    "        model_x.remove_reactions([rxn])\n",
    "#     print(model_x.optimize().objective_value)\n",
    "    solution = gapfill(model, universal, demand_reactions=False)\n",
    "    for reaction in solution[0]:\n",
    "        print(reaction.id)\n",
    "        \n",
    "elapsed = time.time() - t\n",
    "print \"Time to complete:\", elapsed/60, \"mins\""
   ]
  }
 ],
 "metadata": {
  "kernelspec": {
   "display_name": "Python 2",
   "language": "python",
   "name": "python2"
  },
  "language_info": {
   "codemirror_mode": {
    "name": "ipython",
    "version": 2
   },
   "file_extension": ".py",
   "mimetype": "text/x-python",
   "name": "python",
   "nbconvert_exporter": "python",
   "pygments_lexer": "ipython2",
   "version": "2.7.12"
  }
 },
 "nbformat": 4,
 "nbformat_minor": 2
}
