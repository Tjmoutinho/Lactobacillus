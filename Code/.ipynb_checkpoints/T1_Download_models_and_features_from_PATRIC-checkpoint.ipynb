{
 "cells": [
  {
   "cell_type": "code",
   "execution_count": 2,
   "metadata": {},
   "outputs": [],
   "source": [
    "from __future__ import print_function\n",
    "\n",
    "import cobra\n",
    "import cobra.test\n",
    "import mackinac\n",
    "import numpy as np\n",
    "import csv\n",
    "import glob\n",
    "import pickle\n",
    "import pandas as pd"
   ]
  },
  {
   "cell_type": "code",
   "execution_count": 3,
   "metadata": {},
   "outputs": [
    {
     "name": "stdout",
     "output_type": "stream",
     "text": [
      "patric password: ········\n"
     ]
    },
    {
     "data": {
      "text/plain": [
       "u'tjmoutinho@patricbrc.org'"
      ]
     },
     "execution_count": 3,
     "metadata": {},
     "output_type": "execute_result"
    }
   ],
   "source": [
    "mackinac.get_token('tjmoutinho')"
   ]
  },
  {
   "cell_type": "code",
   "execution_count": 6,
   "metadata": {},
   "outputs": [],
   "source": [
    "# Read in list of all genomes on PATRIC and list of existing models in folder\n",
    "with open('../Data/genome_ids_all.csv') as csvfile:\n",
    "    genome_ids_list = []\n",
    "    for line in csvfile:\n",
    "        genome_ids_list.append(line.strip())\n",
    "# genome_ids_list\n",
    "models = glob.glob('../models/*.xml')\n",
    "models = [x.replace(\"../models/\",\"\").replace(\".xml\",\"\") for x in models]\n",
    "# len(genome_ids_list)"
   ]
  },
  {
   "cell_type": "code",
   "execution_count": 3,
   "metadata": {},
   "outputs": [
    {
     "data": {
      "text/plain": [
       "1507"
      ]
     },
     "execution_count": 3,
     "metadata": {},
     "output_type": "execute_result"
    }
   ],
   "source": [
    "len(genome_ids_list)"
   ]
  },
  {
   "cell_type": "code",
   "execution_count": 4,
   "metadata": {},
   "outputs": [
    {
     "data": {
      "text/plain": [
       "True"
      ]
     },
     "execution_count": 4,
     "metadata": {},
     "output_type": "execute_result"
    }
   ],
   "source": [
    "# Check for duplicates\n",
    "len(models) == len(set(models))"
   ]
  },
  {
   "cell_type": "code",
   "execution_count": null,
   "metadata": {},
   "outputs": [],
   "source": [
    "# Download additional models and convert to cobra model, then save to sbml\n",
    "failed_genome_index = []\n",
    "for j in range(10):\n",
    "    for genome_id in genome_ids_list:\n",
    "        if not genome_id in models:\n",
    "            try:\n",
    "                model_file_name = \"../models/%s.xml\" % (genome_id)\n",
    "                mackinac.create_patric_model(genome_id,genome_id)\n",
    "                model = mackinac.create_cobra_model_from_patric_model(genome_id)\n",
    "                cobra.io.write_sbml_model(model, model_file_name)\n",
    "                genome_ids_list.remove(genome_id)\n",
    "            except:\n",
    "                failed_genome_index.append(genome_id)\n",
    "                pass"
   ]
  },
  {
   "cell_type": "code",
   "execution_count": null,
   "metadata": {},
   "outputs": [],
   "source": [
    "# Download fasta files\n",
    "\n",
    "# Check for existing fasta files by name\n",
    "fasta_file_paths = glob.glob('../fastas/*.faa')\n",
    "fasta_genome_ids = [x.replace(\"../fastas/\",\"\").replace(\".faa\",\"\") for x in fasta_file_paths]\n",
    "# Loop to make all missing Fasta Files\n",
    "failed_genome_fasta_index = []\n",
    "for genome_id in genome_ids_list:\n",
    "    if not genome_id in fasta_genome_ids:\n",
    "        try:\n",
    "            feature_list = mackinac.get_genome_features(genome_id, annotation='PATRIC')\n",
    "            file_name = \"../fastas/%s.faa\" % (genome_id)\n",
    "            feats = mackinac.features_to_protein_fasta_file(feature_list, file_name)\n",
    "            #print(\"Number of Features in genome \" + str(x) + \": \" + str(feats))\n",
    "        except:\n",
    "            failed_genome_fasta_index.append(genome_id)\n",
    "            pass"
   ]
  },
  {
   "cell_type": "code",
   "execution_count": null,
   "metadata": {},
   "outputs": [],
   "source": [
    "# Download features files\n",
    "\n",
    "# Check for existing fasta files by name\n",
    "feature_file_paths = glob.glob('../features/*.feats')\n",
    "feature_genome_ids = [x.replace(\"../features/\",\"\").replace(\".feats\",\"\") for x in feature_file_paths]\n",
    "# Loop to make all missing Fasta Files\n",
    "missing_feat_files = []\n",
    "for genome_id in genome_ids_list:\n",
    "    if not genome_id in feature_genome_ids:\n",
    "        try:\n",
    "            feature_list = mackinac.get_genome_features(genome_id, annotation='PATRIC')\n",
    "            file_name = \"../features/%s.feats\" % (genome_id)\n",
    "            pickle.dump(feature_list, open(file_name, \"wb\"))\n",
    "        except:\n",
    "            missing_feat_files.append(genome_id)\n",
    "            pass"
   ]
  },
  {
   "cell_type": "code",
   "execution_count": null,
   "metadata": {},
   "outputs": [],
   "source": [
    "# Download Gapfilled Reaction Objects\n",
    "\n",
    "# Check for existing gapfill object files by name\n",
    "gf_file_paths = glob.glob('../gapfilled/*.gf')\n",
    "existing_gf_ids = [x.replace(\"../gapfilled/\",\"\").replace(\".gf\",\"\") for x in gf_file_paths]\n",
    "# Loop to make all missing Fasta Files\n",
    "failed_genome_gf_index = []\n",
    "for genome_id in genome_ids_list:\n",
    "    if not genome_id in existing_gf_ids:\n",
    "        try:\n",
    "            gf_solutions = mackinac.get_patric_gapfill_solutions(genome_id)\n",
    "            file_name = \"../gapfilled/%s.gf\" % (genome_id)\n",
    "            pickle.dump(gf_solutions, open(file_name, \"wb\"))\n",
    "        except:\n",
    "            failed_genome_gf_index.append(genome_id)\n",
    "            pass"
   ]
  },
  {
   "cell_type": "code",
   "execution_count": null,
   "metadata": {},
   "outputs": [],
   "source": [
    "failed_genome_gf_index"
   ]
  },
  {
   "cell_type": "code",
   "execution_count": 2,
   "metadata": {},
   "outputs": [
    {
     "name": "stdout",
     "output_type": "stream",
     "text": [
      "Contents of /chenry/public/modelsupport/templates:\n",
      "-rr chenry    \t  27225828\t2016-06-23T15:25:46Z\tmodeltemplate\t/chenry/public/modelsupport/templates/Core.modeltemplate\n",
      "-rr chenry    \t  19776723\t2016-06-27T21:31:36Z\tmodeltemplate\t/chenry/public/modelsupport/templates/newplant.modeltemplate\n",
      "-rr chenry    \t  73533708\t2016-09-08T07:17:41Z\tmodeltemplate\t/chenry/public/modelsupport/templates/FullBiomass.modeltemplate\n",
      "-rr chenry    \t  26559014\t2016-11-16T06:52:49Z\tmodeltemplate\t/chenry/public/modelsupport/templates/GramNegative.modeltemplate\n",
      "-rr chenry    \t  26564644\t2016-11-16T06:55:11Z\tmodeltemplate\t/chenry/public/modelsupport/templates/GramPositive.modeltemplate\n",
      "-rr seaver    \t  20808794\t2017-04-14T19:34:42Z\tmodeltemplate\t/chenry/public/modelsupport/templates/plant.modeltemplate\n",
      "-rr chenry    \t  26564644\t2017-08-10T15:30:06Z\tmodeltemplate\t/chenry/public/modelsupport/templates/GramPosModelTemplate\n",
      "-rr chenry    \t  26559014\t2017-08-10T15:30:25Z\tmodeltemplate\t/chenry/public/modelsupport/templates/GramNegModelTemplate\n",
      "-rr chenry    \t  27225828\t2017-08-10T15:31:17Z\tmodeltemplate\t/chenry/public/modelsupport/templates/CoreModelTemplate\n",
      "-rr seaver    \t  20713372\t2017-08-11T19:29:36Z\tmodeltemplate\t/chenry/public/modelsupport/templates/PlantModelTemplate\n"
     ]
    }
   ],
   "source": [
    "mackinac.list_workspace_objects('/chenry/public/modelsupport/templates', print_output=True)"
   ]
  },
  {
   "cell_type": "code",
   "execution_count": 6,
   "metadata": {},
   "outputs": [],
   "source": [
    "universal = mackinac.create_universal_model('/chenry/public/modelsupport/templates/GramPosModelTemplate')"
   ]
  },
  {
   "cell_type": "code",
   "execution_count": 7,
   "metadata": {},
   "outputs": [
    {
     "data": {
      "text/html": [
       "\n",
       "        <table>\n",
       "            <tr>\n",
       "                <td><strong>Name</strong></td>\n",
       "                <td>GramPositive.modeltemplate</td>\n",
       "            </tr><tr>\n",
       "                <td><strong>Memory address</strong></td>\n",
       "                <td>0x07f2fcc7c0110</td>\n",
       "            </tr><tr>\n",
       "                <td><strong>Number of metabolites</strong></td>\n",
       "                <td>6884</td>\n",
       "            </tr><tr>\n",
       "                <td><strong>Number of reactions</strong></td>\n",
       "                <td>8657</td>\n",
       "            </tr><tr>\n",
       "                <td><strong>Objective expression</strong></td>\n",
       "                <td>0</td>\n",
       "            </tr><tr>\n",
       "                <td><strong>Compartments</strong></td>\n",
       "                <td>c, e</td>\n",
       "            </tr>\n",
       "          </table>"
      ],
      "text/plain": [
       "<Model GramPositive.modeltemplate at 0x7f2fcc7c0110>"
      ]
     },
     "execution_count": 7,
     "metadata": {},
     "output_type": "execute_result"
    }
   ],
   "source": [
    "universal"
   ]
  },
  {
   "cell_type": "code",
   "execution_count": 79,
   "metadata": {},
   "outputs": [],
   "source": [
    "cobra.io.save_json_model(universal, \"../Data/GramPosUni.json\")"
   ]
  },
  {
   "cell_type": "code",
   "execution_count": 72,
   "metadata": {},
   "outputs": [],
   "source": [
    "neg = mackinac.create_universal_model('/chenry/public/modelsupport/templates/GramNegModelTemplate')"
   ]
  },
  {
   "cell_type": "code",
   "execution_count": 73,
   "metadata": {},
   "outputs": [
    {
     "data": {
      "text/html": [
       "\n",
       "        <table>\n",
       "            <tr>\n",
       "                <td><strong>Name</strong></td>\n",
       "                <td>GramNegative.modeltemplate</td>\n",
       "            </tr><tr>\n",
       "                <td><strong>Memory address</strong></td>\n",
       "                <td>0x07f2fcba4c1d0</td>\n",
       "            </tr><tr>\n",
       "                <td><strong>Number of metabolites</strong></td>\n",
       "                <td>6884</td>\n",
       "            </tr><tr>\n",
       "                <td><strong>Number of reactions</strong></td>\n",
       "                <td>8657</td>\n",
       "            </tr><tr>\n",
       "                <td><strong>Objective expression</strong></td>\n",
       "                <td>0</td>\n",
       "            </tr><tr>\n",
       "                <td><strong>Compartments</strong></td>\n",
       "                <td>c, e</td>\n",
       "            </tr>\n",
       "          </table>"
      ],
      "text/plain": [
       "<Model GramNegative.modeltemplate at 0x7f2fcba4c1d0>"
      ]
     },
     "execution_count": 73,
     "metadata": {},
     "output_type": "execute_result"
    }
   ],
   "source": [
    "neg"
   ]
  },
  {
   "cell_type": "code",
   "execution_count": 8,
   "metadata": {},
   "outputs": [],
   "source": [
    "core = mackinac.create_universal_model('/chenry/public/modelsupport/templates/CoreModelTemplate')"
   ]
  },
  {
   "cell_type": "code",
   "execution_count": 56,
   "metadata": {},
   "outputs": [
    {
     "data": {
      "text/html": [
       "\n",
       "        <table>\n",
       "            <tr>\n",
       "                <td><strong>Name</strong></td>\n",
       "                <td>Core</td>\n",
       "            </tr><tr>\n",
       "                <td><strong>Memory address</strong></td>\n",
       "                <td>0x07f2fcc344d90</td>\n",
       "            </tr><tr>\n",
       "                <td><strong>Number of metabolites</strong></td>\n",
       "                <td>6896</td>\n",
       "            </tr><tr>\n",
       "                <td><strong>Number of reactions</strong></td>\n",
       "                <td>8671</td>\n",
       "            </tr><tr>\n",
       "                <td><strong>Objective expression</strong></td>\n",
       "                <td>0</td>\n",
       "            </tr><tr>\n",
       "                <td><strong>Compartments</strong></td>\n",
       "                <td>c, e</td>\n",
       "            </tr>\n",
       "          </table>"
      ],
      "text/plain": [
       "<Model Core at 0x7f2fcc344d90>"
      ]
     },
     "execution_count": 56,
     "metadata": {},
     "output_type": "execute_result"
    }
   ],
   "source": [
    "core\n",
    "# type(core)"
   ]
  },
  {
   "cell_type": "code",
   "execution_count": 64,
   "metadata": {},
   "outputs": [],
   "source": [
    "rxns = core.reactions\n",
    "# str(rxns[0].id)"
   ]
  },
  {
   "cell_type": "code",
   "execution_count": 61,
   "metadata": {},
   "outputs": [
    {
     "data": {
      "text/plain": [
       "{'rxn14412_c',\n",
       " 'rxn14414_c',\n",
       " 'rxn14416_c',\n",
       " 'rxn14418_c',\n",
       " 'rxn14419_c',\n",
       " 'rxn14420_c',\n",
       " 'rxn14421_c',\n",
       " 'rxn14422_c',\n",
       " 'rxn14423_c',\n",
       " 'rxn14424_c',\n",
       " 'rxn14425_c',\n",
       " 'rxn14426_c',\n",
       " 'rxn14427_c',\n",
       " 'rxn14428_c'}"
      ]
     },
     "execution_count": 61,
     "metadata": {},
     "output_type": "execute_result"
    }
   ],
   "source": [
    "core_ids_set = set()\n",
    "for rxn in core.reactions:\n",
    "    core_ids_set |= (set([str(rxn.id)]))\n",
    "    \n",
    "pos_ids_set = set()\n",
    "for rxn in universal.reactions:\n",
    "    pos_ids_set |= (set([str(rxn.id)]))\n",
    "    \n",
    "diff_ids = core_ids_set ^ pos_ids_set\n",
    "diff_ids"
   ]
  },
  {
   "cell_type": "code",
   "execution_count": null,
   "metadata": {},
   "outputs": [],
   "source": [
    "\n",
    "\n",
    "\n",
    "\n",
    "\n",
    "\n",
    "\n",
    "\n",
    "\n",
    "\n",
    "\n",
    "\n",
    "\n",
    "\n",
    "\n",
    "\n",
    "\n",
    "\n",
    "\n",
    "\n",
    "\n",
    "\n",
    "\n",
    "\n",
    "\n",
    "\n",
    "\n",
    "\n",
    "\n",
    "\n",
    "\n",
    "\n",
    "\n",
    "\n",
    "\n",
    "\n",
    "\n"
   ]
  }
 ],
 "metadata": {
  "kernelspec": {
   "display_name": "Mackinac_Python27",
   "language": "python",
   "name": "mackinac_python27"
  },
  "language_info": {
   "codemirror_mode": {
    "name": "ipython",
    "version": 2
   },
   "file_extension": ".py",
   "mimetype": "text/x-python",
   "name": "python",
   "nbconvert_exporter": "python",
   "pygments_lexer": "ipython2",
   "version": "2.7.12"
  }
 },
 "nbformat": 4,
 "nbformat_minor": 2
}
